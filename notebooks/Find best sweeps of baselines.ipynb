{
 "cells": [
  {
   "cell_type": "code",
   "execution_count": 113,
   "metadata": {},
   "outputs": [],
   "source": [
    "import wandb\n",
    "import numpy as np"
   ]
  },
  {
   "cell_type": "code",
   "execution_count": 115,
   "metadata": {},
   "outputs": [
    {
     "name": "stderr",
     "output_type": "stream",
     "text": [
      "\u001b[34m\u001b[1mwandb\u001b[0m: Sorting runs by -summary_metrics.val_accuracy\n"
     ]
    },
    {
     "name": "stdout",
     "output_type": "stream",
     "text": [
      "Found 478 sweeps.\n"
     ]
    },
    {
     "name": "stderr",
     "output_type": "stream",
     "text": [
      "\u001b[34m\u001b[1mwandb\u001b[0m: Sorting runs by -summary_metrics.val_accuracy\n",
      "\u001b[34m\u001b[1mwandb\u001b[0m: Sorting runs by -summary_metrics.val_accuracy\n",
      "\u001b[34m\u001b[1mwandb\u001b[0m: Sorting runs by -summary_metrics.val_accuracy\n",
      "\u001b[34m\u001b[1mwandb\u001b[0m: Sorting runs by -summary_metrics.val_accuracy\n",
      "\u001b[34m\u001b[1mwandb\u001b[0m: Sorting runs by -summary_metrics.val_accuracy\n",
      "\u001b[34m\u001b[1mwandb\u001b[0m: Sorting runs by -summary_metrics.val_accuracy\n",
      "\u001b[34m\u001b[1mwandb\u001b[0m: Sorting runs by -summary_metrics.val_accuracy\n",
      "\u001b[34m\u001b[1mwandb\u001b[0m: Sorting runs by -summary_metrics.val_accuracy\n",
      "\u001b[34m\u001b[1mwandb\u001b[0m: Sorting runs by -summary_metrics.val_accuracy\n",
      "\u001b[34m\u001b[1mwandb\u001b[0m: Sorting runs by -summary_metrics.val_accuracy\n",
      "\u001b[34m\u001b[1mwandb\u001b[0m: Sorting runs by -summary_metrics.val_accuracy\n",
      "\u001b[34m\u001b[1mwandb\u001b[0m: Sorting runs by -summary_metrics.val_accuracy\n",
      "\u001b[34m\u001b[1mwandb\u001b[0m: Sorting runs by -summary_metrics.val_accuracy\n",
      "\u001b[34m\u001b[1mwandb\u001b[0m: Sorting runs by -summary_metrics.val_accuracy\n",
      "\u001b[34m\u001b[1mwandb\u001b[0m: Sorting runs by -summary_metrics.val_accuracy\n",
      "\u001b[34m\u001b[1mwandb\u001b[0m: Sorting runs by -summary_metrics.val_accuracy\n",
      "\u001b[34m\u001b[1mwandb\u001b[0m: Sorting runs by -summary_metrics.val_accuracy\n",
      "\u001b[34m\u001b[1mwandb\u001b[0m: Sorting runs by -summary_metrics.val_accuracy\n",
      "\u001b[34m\u001b[1mwandb\u001b[0m: Sorting runs by -summary_metrics.val_accuracy\n",
      "\u001b[34m\u001b[1mwandb\u001b[0m: Sorting runs by -summary_metrics.val_accuracy\n",
      "\u001b[34m\u001b[1mwandb\u001b[0m: Sorting runs by -summary_metrics.val_accuracy\n",
      "\u001b[34m\u001b[1mwandb\u001b[0m: Sorting runs by -summary_metrics.val_accuracy\n",
      "\u001b[34m\u001b[1mwandb\u001b[0m: Sorting runs by -summary_metrics.val_accuracy\n",
      "\u001b[34m\u001b[1mwandb\u001b[0m: Sorting runs by -summary_metrics.val_accuracy\n",
      "\u001b[34m\u001b[1mwandb\u001b[0m: Sorting runs by -summary_metrics.val_accuracy\n",
      "\u001b[34m\u001b[1mwandb\u001b[0m: Sorting runs by -summary_metrics.val_accuracy\n",
      "\u001b[34m\u001b[1mwandb\u001b[0m: Sorting runs by -summary_metrics.val_accuracy\n",
      "\u001b[34m\u001b[1mwandb\u001b[0m: Sorting runs by -summary_metrics.val_accuracy\n",
      "\u001b[34m\u001b[1mwandb\u001b[0m: Sorting runs by -summary_metrics.val_accuracy\n",
      "\u001b[34m\u001b[1mwandb\u001b[0m: Sorting runs by -summary_metrics.val_accuracy\n",
      "\u001b[34m\u001b[1mwandb\u001b[0m: Sorting runs by -summary_metrics.val_accuracy\n",
      "\u001b[34m\u001b[1mwandb\u001b[0m: Sorting runs by -summary_metrics.val_accuracy\n",
      "\u001b[34m\u001b[1mwandb\u001b[0m: Sorting runs by -summary_metrics.val_accuracy\n",
      "\u001b[34m\u001b[1mwandb\u001b[0m: Sorting runs by -summary_metrics.val_accuracy\n",
      "\u001b[34m\u001b[1mwandb\u001b[0m: Sorting runs by -summary_metrics.val_accuracy\n",
      "\u001b[34m\u001b[1mwandb\u001b[0m: Sorting runs by -summary_metrics.val_accuracy\n",
      "\u001b[34m\u001b[1mwandb\u001b[0m: Sorting runs by -summary_metrics.val_accuracy\n",
      "\u001b[34m\u001b[1mwandb\u001b[0m: Sorting runs by -summary_metrics.val_accuracy\n",
      "\u001b[34m\u001b[1mwandb\u001b[0m: Sorting runs by -summary_metrics.val_accuracy\n",
      "\u001b[34m\u001b[1mwandb\u001b[0m: Sorting runs by -summary_metrics.val_accuracy\n",
      "\u001b[34m\u001b[1mwandb\u001b[0m: Sorting runs by -summary_metrics.val_accuracy\n",
      "\u001b[34m\u001b[1mwandb\u001b[0m: Sorting runs by -summary_metrics.val_accuracy\n",
      "\u001b[34m\u001b[1mwandb\u001b[0m: Sorting runs by -summary_metrics.val_accuracy\n",
      "\u001b[34m\u001b[1mwandb\u001b[0m: Sorting runs by -summary_metrics.val_accuracy\n",
      "\u001b[34m\u001b[1mwandb\u001b[0m: Sorting runs by -summary_metrics.val_accuracy\n",
      "\u001b[34m\u001b[1mwandb\u001b[0m: Sorting runs by -summary_metrics.val_accuracy\n",
      "\u001b[34m\u001b[1mwandb\u001b[0m: Sorting runs by -summary_metrics.val_accuracy\n",
      "\u001b[34m\u001b[1mwandb\u001b[0m: Sorting runs by -summary_metrics.val_accuracy\n",
      "\u001b[34m\u001b[1mwandb\u001b[0m: Sorting runs by -summary_metrics.val_accuracy\n",
      "\u001b[34m\u001b[1mwandb\u001b[0m: Sorting runs by -summary_metrics.val_accuracy\n",
      "\u001b[34m\u001b[1mwandb\u001b[0m: Sorting runs by -summary_metrics.val_accuracy\n",
      "\u001b[34m\u001b[1mwandb\u001b[0m: Sorting runs by -summary_metrics.val_accuracy\n",
      "\u001b[34m\u001b[1mwandb\u001b[0m: Sorting runs by -summary_metrics.val_accuracy\n",
      "\u001b[34m\u001b[1mwandb\u001b[0m: Sorting runs by -summary_metrics.val_accuracy\n",
      "\u001b[34m\u001b[1mwandb\u001b[0m: Sorting runs by -summary_metrics.val_accuracy\n",
      "\u001b[34m\u001b[1mwandb\u001b[0m: Sorting runs by -summary_metrics.val_accuracy\n",
      "\u001b[34m\u001b[1mwandb\u001b[0m: Sorting runs by -summary_metrics.val_accuracy\n",
      "\u001b[34m\u001b[1mwandb\u001b[0m: Sorting runs by -summary_metrics.val_accuracy\n",
      "\u001b[34m\u001b[1mwandb\u001b[0m: Sorting runs by -summary_metrics.val_accuracy\n",
      "\u001b[34m\u001b[1mwandb\u001b[0m: Sorting runs by -summary_metrics.val_accuracy\n",
      "\u001b[34m\u001b[1mwandb\u001b[0m: Sorting runs by -summary_metrics.val_accuracy\n",
      "\u001b[34m\u001b[1mwandb\u001b[0m: Sorting runs by -summary_metrics.val_accuracy\n",
      "\u001b[34m\u001b[1mwandb\u001b[0m: Sorting runs by -summary_metrics.val_accuracy\n",
      "\u001b[34m\u001b[1mwandb\u001b[0m: Sorting runs by -summary_metrics.val_accuracy\n",
      "\u001b[34m\u001b[1mwandb\u001b[0m: Sorting runs by -summary_metrics.val_accuracy\n",
      "\u001b[34m\u001b[1mwandb\u001b[0m: Sorting runs by -summary_metrics.val_accuracy\n",
      "\u001b[34m\u001b[1mwandb\u001b[0m: Sorting runs by -summary_metrics.val_accuracy\n",
      "\u001b[34m\u001b[1mwandb\u001b[0m: Sorting runs by -summary_metrics.val_accuracy\n",
      "\u001b[34m\u001b[1mwandb\u001b[0m: Sorting runs by -summary_metrics.val_accuracy\n",
      "\u001b[34m\u001b[1mwandb\u001b[0m: Sorting runs by -summary_metrics.val_accuracy\n",
      "\u001b[34m\u001b[1mwandb\u001b[0m: Sorting runs by -summary_metrics.val_accuracy\n",
      "\u001b[34m\u001b[1mwandb\u001b[0m: Sorting runs by -summary_metrics.val_accuracy\n",
      "\u001b[34m\u001b[1mwandb\u001b[0m: Sorting runs by -summary_metrics.val_accuracy\n",
      "\u001b[34m\u001b[1mwandb\u001b[0m: Sorting runs by -summary_metrics.val_accuracy\n",
      "\u001b[34m\u001b[1mwandb\u001b[0m: Sorting runs by -summary_metrics.val_accuracy\n",
      "\u001b[34m\u001b[1mwandb\u001b[0m: Sorting runs by -summary_metrics.val_accuracy\n",
      "\u001b[34m\u001b[1mwandb\u001b[0m: Sorting runs by -summary_metrics.val_accuracy\n",
      "\u001b[34m\u001b[1mwandb\u001b[0m: Sorting runs by -summary_metrics.val_accuracy\n",
      "\u001b[34m\u001b[1mwandb\u001b[0m: Sorting runs by -summary_metrics.val_accuracy\n",
      "\u001b[34m\u001b[1mwandb\u001b[0m: Sorting runs by -summary_metrics.val_accuracy\n",
      "\u001b[34m\u001b[1mwandb\u001b[0m: Sorting runs by -summary_metrics.val_accuracy\n",
      "\u001b[34m\u001b[1mwandb\u001b[0m: Sorting runs by -summary_metrics.val_accuracy\n",
      "\u001b[34m\u001b[1mwandb\u001b[0m: Sorting runs by -summary_metrics.val_accuracy\n",
      "\u001b[34m\u001b[1mwandb\u001b[0m: Sorting runs by -summary_metrics.val_accuracy\n",
      "\u001b[34m\u001b[1mwandb\u001b[0m: Sorting runs by -summary_metrics.val_accuracy\n",
      "\u001b[34m\u001b[1mwandb\u001b[0m: Sorting runs by -summary_metrics.val_accuracy\n",
      "\u001b[34m\u001b[1mwandb\u001b[0m: Sorting runs by -summary_metrics.val_accuracy\n",
      "\u001b[34m\u001b[1mwandb\u001b[0m: Sorting runs by -summary_metrics.val_accuracy\n",
      "\u001b[34m\u001b[1mwandb\u001b[0m: Sorting runs by -summary_metrics.val_accuracy\n",
      "\u001b[34m\u001b[1mwandb\u001b[0m: Sorting runs by -summary_metrics.val_accuracy\n",
      "\u001b[34m\u001b[1mwandb\u001b[0m: Sorting runs by -summary_metrics.val_accuracy\n",
      "\u001b[34m\u001b[1mwandb\u001b[0m: Sorting runs by -summary_metrics.val_accuracy\n",
      "\u001b[34m\u001b[1mwandb\u001b[0m: Sorting runs by -summary_metrics.val_accuracy\n",
      "\u001b[34m\u001b[1mwandb\u001b[0m: Sorting runs by -summary_metrics.val_accuracy\n",
      "\u001b[34m\u001b[1mwandb\u001b[0m: Sorting runs by -summary_metrics.val_accuracy\n",
      "\u001b[34m\u001b[1mwandb\u001b[0m: Sorting runs by -summary_metrics.val_accuracy\n",
      "\u001b[34m\u001b[1mwandb\u001b[0m: Sorting runs by -summary_metrics.val_accuracy\n",
      "\u001b[34m\u001b[1mwandb\u001b[0m: Sorting runs by -summary_metrics.val_accuracy\n",
      "\u001b[34m\u001b[1mwandb\u001b[0m: Sorting runs by -summary_metrics.val_accuracy\n",
      "\u001b[34m\u001b[1mwandb\u001b[0m: Sorting runs by -summary_metrics.val_accuracy\n",
      "\u001b[34m\u001b[1mwandb\u001b[0m: Sorting runs by -summary_metrics.val_accuracy\n",
      "\u001b[34m\u001b[1mwandb\u001b[0m: Sorting runs by -summary_metrics.val_accuracy\n",
      "\u001b[34m\u001b[1mwandb\u001b[0m: Sorting runs by -summary_metrics.val_accuracy\n",
      "\u001b[34m\u001b[1mwandb\u001b[0m: Sorting runs by -summary_metrics.val_accuracy\n",
      "\u001b[34m\u001b[1mwandb\u001b[0m: Sorting runs by -summary_metrics.val_accuracy\n",
      "\u001b[34m\u001b[1mwandb\u001b[0m: Sorting runs by -summary_metrics.val_accuracy\n",
      "\u001b[34m\u001b[1mwandb\u001b[0m: Sorting runs by -summary_metrics.val_accuracy\n",
      "\u001b[34m\u001b[1mwandb\u001b[0m: Sorting runs by -summary_metrics.val_accuracy\n",
      "\u001b[34m\u001b[1mwandb\u001b[0m: Sorting runs by -summary_metrics.val_accuracy\n",
      "\u001b[34m\u001b[1mwandb\u001b[0m: Sorting runs by -summary_metrics.val_accuracy\n",
      "\u001b[34m\u001b[1mwandb\u001b[0m: Sorting runs by -summary_metrics.val_accuracy\n",
      "\u001b[34m\u001b[1mwandb\u001b[0m: Sorting runs by -summary_metrics.val_accuracy\n",
      "\u001b[34m\u001b[1mwandb\u001b[0m: Sorting runs by -summary_metrics.val_accuracy\n",
      "\u001b[34m\u001b[1mwandb\u001b[0m: Sorting runs by -summary_metrics.val_accuracy\n",
      "\u001b[34m\u001b[1mwandb\u001b[0m: Sorting runs by -summary_metrics.val_accuracy\n",
      "\u001b[34m\u001b[1mwandb\u001b[0m: Sorting runs by -summary_metrics.val_accuracy\n",
      "\u001b[34m\u001b[1mwandb\u001b[0m: Sorting runs by -summary_metrics.val_accuracy\n",
      "\u001b[34m\u001b[1mwandb\u001b[0m: Sorting runs by -summary_metrics.val_accuracy\n",
      "\u001b[34m\u001b[1mwandb\u001b[0m: Sorting runs by -summary_metrics.val_accuracy\n",
      "\u001b[34m\u001b[1mwandb\u001b[0m: Sorting runs by -summary_metrics.val_accuracy\n",
      "\u001b[34m\u001b[1mwandb\u001b[0m: Sorting runs by -summary_metrics.val_accuracy\n",
      "\u001b[34m\u001b[1mwandb\u001b[0m: Sorting runs by -summary_metrics.val_accuracy\n",
      "\u001b[34m\u001b[1mwandb\u001b[0m: Sorting runs by -summary_metrics.val_accuracy\n",
      "\u001b[34m\u001b[1mwandb\u001b[0m: Sorting runs by -summary_metrics.val_accuracy\n",
      "\u001b[34m\u001b[1mwandb\u001b[0m: Sorting runs by -summary_metrics.val_accuracy\n",
      "\u001b[34m\u001b[1mwandb\u001b[0m: Sorting runs by -summary_metrics.val_accuracy\n",
      "\u001b[34m\u001b[1mwandb\u001b[0m: Sorting runs by -summary_metrics.val_accuracy\n",
      "\u001b[34m\u001b[1mwandb\u001b[0m: Sorting runs by -summary_metrics.val_accuracy\n",
      "\u001b[34m\u001b[1mwandb\u001b[0m: Sorting runs by -summary_metrics.val_accuracy\n",
      "\u001b[34m\u001b[1mwandb\u001b[0m: Sorting runs by -summary_metrics.val_accuracy\n",
      "\u001b[34m\u001b[1mwandb\u001b[0m: Sorting runs by -summary_metrics.val_accuracy\n",
      "\u001b[34m\u001b[1mwandb\u001b[0m: Sorting runs by -summary_metrics.val_accuracy\n",
      "\u001b[34m\u001b[1mwandb\u001b[0m: Sorting runs by -summary_metrics.val_accuracy\n",
      "\u001b[34m\u001b[1mwandb\u001b[0m: Sorting runs by -summary_metrics.val_accuracy\n",
      "\u001b[34m\u001b[1mwandb\u001b[0m: Sorting runs by -summary_metrics.val_accuracy\n",
      "\u001b[34m\u001b[1mwandb\u001b[0m: Sorting runs by -summary_metrics.val_accuracy\n",
      "\u001b[34m\u001b[1mwandb\u001b[0m: Sorting runs by -summary_metrics.val_accuracy\n",
      "\u001b[34m\u001b[1mwandb\u001b[0m: Sorting runs by -summary_metrics.val_accuracy\n",
      "\u001b[34m\u001b[1mwandb\u001b[0m: Sorting runs by -summary_metrics.val_accuracy\n",
      "\u001b[34m\u001b[1mwandb\u001b[0m: Sorting runs by -summary_metrics.val_accuracy\n",
      "\u001b[34m\u001b[1mwandb\u001b[0m: Sorting runs by -summary_metrics.val_accuracy\n",
      "\u001b[34m\u001b[1mwandb\u001b[0m: Sorting runs by -summary_metrics.val_accuracy\n",
      "\u001b[34m\u001b[1mwandb\u001b[0m: Sorting runs by -summary_metrics.val_accuracy\n",
      "\u001b[34m\u001b[1mwandb\u001b[0m: Sorting runs by -summary_metrics.val_accuracy\n",
      "\u001b[34m\u001b[1mwandb\u001b[0m: Sorting runs by -summary_metrics.val_accuracy\n",
      "\u001b[34m\u001b[1mwandb\u001b[0m: Sorting runs by -summary_metrics.val_accuracy\n",
      "\u001b[34m\u001b[1mwandb\u001b[0m: Sorting runs by -summary_metrics.val_accuracy\n",
      "\u001b[34m\u001b[1mwandb\u001b[0m: Sorting runs by -summary_metrics.val_accuracy\n",
      "\u001b[34m\u001b[1mwandb\u001b[0m: Sorting runs by -summary_metrics.val_accuracy\n",
      "\u001b[34m\u001b[1mwandb\u001b[0m: Sorting runs by -summary_metrics.val_accuracy\n",
      "\u001b[34m\u001b[1mwandb\u001b[0m: Sorting runs by -summary_metrics.val_accuracy\n",
      "\u001b[34m\u001b[1mwandb\u001b[0m: Sorting runs by -summary_metrics.val_accuracy\n",
      "\u001b[34m\u001b[1mwandb\u001b[0m: Sorting runs by -summary_metrics.val_accuracy\n",
      "\u001b[34m\u001b[1mwandb\u001b[0m: Sorting runs by -summary_metrics.val_accuracy\n",
      "\u001b[34m\u001b[1mwandb\u001b[0m: Sorting runs by -summary_metrics.val_accuracy\n",
      "\u001b[34m\u001b[1mwandb\u001b[0m: Sorting runs by -summary_metrics.val_accuracy\n",
      "\u001b[34m\u001b[1mwandb\u001b[0m: Sorting runs by -summary_metrics.val_accuracy\n",
      "\u001b[34m\u001b[1mwandb\u001b[0m: Sorting runs by -summary_metrics.val_accuracy\n",
      "\u001b[34m\u001b[1mwandb\u001b[0m: Sorting runs by -summary_metrics.val_accuracy\n",
      "\u001b[34m\u001b[1mwandb\u001b[0m: Sorting runs by -summary_metrics.val_accuracy\n",
      "\u001b[34m\u001b[1mwandb\u001b[0m: Sorting runs by -summary_metrics.val_accuracy\n",
      "\u001b[34m\u001b[1mwandb\u001b[0m: Sorting runs by -summary_metrics.val_accuracy\n",
      "\u001b[34m\u001b[1mwandb\u001b[0m: Sorting runs by -summary_metrics.val_accuracy\n",
      "\u001b[34m\u001b[1mwandb\u001b[0m: Sorting runs by -summary_metrics.val_accuracy\n",
      "\u001b[34m\u001b[1mwandb\u001b[0m: Sorting runs by -summary_metrics.val_accuracy\n",
      "\u001b[34m\u001b[1mwandb\u001b[0m: Sorting runs by -summary_metrics.val_accuracy\n",
      "\u001b[34m\u001b[1mwandb\u001b[0m: Sorting runs by -summary_metrics.val_accuracy\n",
      "\u001b[34m\u001b[1mwandb\u001b[0m: Sorting runs by -summary_metrics.val_accuracy\n",
      "\u001b[34m\u001b[1mwandb\u001b[0m: Sorting runs by -summary_metrics.val_accuracy\n",
      "\u001b[34m\u001b[1mwandb\u001b[0m: Sorting runs by -summary_metrics.val_accuracy\n",
      "\u001b[34m\u001b[1mwandb\u001b[0m: Sorting runs by -summary_metrics.val_accuracy\n",
      "\u001b[34m\u001b[1mwandb\u001b[0m: Sorting runs by -summary_metrics.val_accuracy\n",
      "\u001b[34m\u001b[1mwandb\u001b[0m: Sorting runs by -summary_metrics.val_accuracy\n",
      "\u001b[34m\u001b[1mwandb\u001b[0m: Sorting runs by -summary_metrics.val_accuracy\n",
      "\u001b[34m\u001b[1mwandb\u001b[0m: Sorting runs by -summary_metrics.val_accuracy\n",
      "\u001b[34m\u001b[1mwandb\u001b[0m: Sorting runs by -summary_metrics.val_accuracy\n",
      "\u001b[34m\u001b[1mwandb\u001b[0m: Sorting runs by -summary_metrics.val_accuracy\n",
      "\u001b[34m\u001b[1mwandb\u001b[0m: Sorting runs by -summary_metrics.val_accuracy\n",
      "\u001b[34m\u001b[1mwandb\u001b[0m: Sorting runs by -summary_metrics.val_accuracy\n",
      "\u001b[34m\u001b[1mwandb\u001b[0m: Sorting runs by -summary_metrics.val_accuracy\n",
      "\u001b[34m\u001b[1mwandb\u001b[0m: Sorting runs by -summary_metrics.val_accuracy\n",
      "\u001b[34m\u001b[1mwandb\u001b[0m: Sorting runs by -summary_metrics.val_accuracy\n",
      "\u001b[34m\u001b[1mwandb\u001b[0m: Sorting runs by -summary_metrics.val_accuracy\n",
      "\u001b[34m\u001b[1mwandb\u001b[0m: Sorting runs by -summary_metrics.val_accuracy\n",
      "\u001b[34m\u001b[1mwandb\u001b[0m: Sorting runs by -summary_metrics.val_accuracy\n",
      "\u001b[34m\u001b[1mwandb\u001b[0m: Sorting runs by -summary_metrics.val_accuracy\n",
      "\u001b[34m\u001b[1mwandb\u001b[0m: Sorting runs by -summary_metrics.val_accuracy\n",
      "\u001b[34m\u001b[1mwandb\u001b[0m: Sorting runs by -summary_metrics.val_accuracy\n",
      "\u001b[34m\u001b[1mwandb\u001b[0m: Sorting runs by -summary_metrics.val_accuracy\n",
      "\u001b[34m\u001b[1mwandb\u001b[0m: Sorting runs by -summary_metrics.val_accuracy\n",
      "\u001b[34m\u001b[1mwandb\u001b[0m: Sorting runs by -summary_metrics.val_accuracy\n",
      "\u001b[34m\u001b[1mwandb\u001b[0m: Sorting runs by -summary_metrics.val_accuracy\n",
      "\u001b[34m\u001b[1mwandb\u001b[0m: Sorting runs by -summary_metrics.val_accuracy\n",
      "\u001b[34m\u001b[1mwandb\u001b[0m: Sorting runs by -summary_metrics.val_accuracy\n",
      "\u001b[34m\u001b[1mwandb\u001b[0m: Sorting runs by -summary_metrics.val_accuracy\n",
      "\u001b[34m\u001b[1mwandb\u001b[0m: Sorting runs by -summary_metrics.val_accuracy\n",
      "\u001b[34m\u001b[1mwandb\u001b[0m: Sorting runs by -summary_metrics.val_accuracy\n",
      "\u001b[34m\u001b[1mwandb\u001b[0m: Sorting runs by -summary_metrics.val_accuracy\n",
      "\u001b[34m\u001b[1mwandb\u001b[0m: Sorting runs by -summary_metrics.val_accuracy\n",
      "\u001b[34m\u001b[1mwandb\u001b[0m: Sorting runs by -summary_metrics.val_accuracy\n",
      "\u001b[34m\u001b[1mwandb\u001b[0m: Sorting runs by -summary_metrics.val_accuracy\n",
      "\u001b[34m\u001b[1mwandb\u001b[0m: Sorting runs by -summary_metrics.val_accuracy\n",
      "\u001b[34m\u001b[1mwandb\u001b[0m: Sorting runs by -summary_metrics.val_accuracy\n",
      "\u001b[34m\u001b[1mwandb\u001b[0m: Sorting runs by -summary_metrics.val_accuracy\n",
      "\u001b[34m\u001b[1mwandb\u001b[0m: Sorting runs by -summary_metrics.val_accuracy\n",
      "\u001b[34m\u001b[1mwandb\u001b[0m: Sorting runs by -summary_metrics.val_accuracy\n",
      "\u001b[34m\u001b[1mwandb\u001b[0m: Sorting runs by -summary_metrics.val_accuracy\n",
      "\u001b[34m\u001b[1mwandb\u001b[0m: Sorting runs by -summary_metrics.val_accuracy\n",
      "\u001b[34m\u001b[1mwandb\u001b[0m: Sorting runs by -summary_metrics.val_accuracy\n",
      "\u001b[34m\u001b[1mwandb\u001b[0m: Sorting runs by -summary_metrics.val_accuracy\n",
      "\u001b[34m\u001b[1mwandb\u001b[0m: Sorting runs by -summary_metrics.val_accuracy\n",
      "\u001b[34m\u001b[1mwandb\u001b[0m: Sorting runs by -summary_metrics.val_accuracy\n",
      "\u001b[34m\u001b[1mwandb\u001b[0m: Sorting runs by -summary_metrics.val_accuracy\n",
      "\u001b[34m\u001b[1mwandb\u001b[0m: Sorting runs by -summary_metrics.val_accuracy\n",
      "\u001b[34m\u001b[1mwandb\u001b[0m: Sorting runs by -summary_metrics.val_accuracy\n",
      "\u001b[34m\u001b[1mwandb\u001b[0m: Sorting runs by -summary_metrics.val_accuracy\n",
      "\u001b[34m\u001b[1mwandb\u001b[0m: Sorting runs by -summary_metrics.val_accuracy\n",
      "\u001b[34m\u001b[1mwandb\u001b[0m: Sorting runs by -summary_metrics.val_accuracy\n",
      "\u001b[34m\u001b[1mwandb\u001b[0m: Sorting runs by -summary_metrics.val_accuracy\n",
      "\u001b[34m\u001b[1mwandb\u001b[0m: Sorting runs by -summary_metrics.val_accuracy\n",
      "\u001b[34m\u001b[1mwandb\u001b[0m: Sorting runs by -summary_metrics.val_accuracy\n",
      "\u001b[34m\u001b[1mwandb\u001b[0m: Sorting runs by -summary_metrics.val_accuracy\n",
      "\u001b[34m\u001b[1mwandb\u001b[0m: Sorting runs by -summary_metrics.val_accuracy\n",
      "\u001b[34m\u001b[1mwandb\u001b[0m: Sorting runs by -summary_metrics.val_accuracy\n",
      "\u001b[34m\u001b[1mwandb\u001b[0m: Sorting runs by -summary_metrics.val_accuracy\n",
      "\u001b[34m\u001b[1mwandb\u001b[0m: Sorting runs by -summary_metrics.val_accuracy\n",
      "\u001b[34m\u001b[1mwandb\u001b[0m: Sorting runs by -summary_metrics.val_accuracy\n",
      "\u001b[34m\u001b[1mwandb\u001b[0m: Sorting runs by -summary_metrics.val_accuracy\n",
      "\u001b[34m\u001b[1mwandb\u001b[0m: Sorting runs by -summary_metrics.val_accuracy\n",
      "\u001b[34m\u001b[1mwandb\u001b[0m: Sorting runs by -summary_metrics.val_accuracy\n",
      "\u001b[34m\u001b[1mwandb\u001b[0m: Sorting runs by -summary_metrics.val_accuracy\n",
      "\u001b[34m\u001b[1mwandb\u001b[0m: Sorting runs by -summary_metrics.val_accuracy\n",
      "\u001b[34m\u001b[1mwandb\u001b[0m: Sorting runs by -summary_metrics.val_accuracy\n",
      "\u001b[34m\u001b[1mwandb\u001b[0m: Sorting runs by -summary_metrics.val_accuracy\n",
      "\u001b[34m\u001b[1mwandb\u001b[0m: Sorting runs by -summary_metrics.val_accuracy\n",
      "\u001b[34m\u001b[1mwandb\u001b[0m: Sorting runs by -summary_metrics.val_accuracy\n",
      "\u001b[34m\u001b[1mwandb\u001b[0m: Sorting runs by -summary_metrics.val_accuracy\n",
      "\u001b[34m\u001b[1mwandb\u001b[0m: Sorting runs by -summary_metrics.val_accuracy\n",
      "\u001b[34m\u001b[1mwandb\u001b[0m: Sorting runs by -summary_metrics.val_accuracy\n",
      "\u001b[34m\u001b[1mwandb\u001b[0m: Sorting runs by -summary_metrics.val_accuracy\n",
      "\u001b[34m\u001b[1mwandb\u001b[0m: Sorting runs by -summary_metrics.val_accuracy\n",
      "\u001b[34m\u001b[1mwandb\u001b[0m: Sorting runs by -summary_metrics.val_accuracy\n",
      "\u001b[34m\u001b[1mwandb\u001b[0m: Sorting runs by -summary_metrics.val_accuracy\n",
      "\u001b[34m\u001b[1mwandb\u001b[0m: Sorting runs by -summary_metrics.val_accuracy\n",
      "\u001b[34m\u001b[1mwandb\u001b[0m: Sorting runs by -summary_metrics.val_accuracy\n",
      "\u001b[34m\u001b[1mwandb\u001b[0m: Sorting runs by -summary_metrics.val_accuracy\n",
      "\u001b[34m\u001b[1mwandb\u001b[0m: Sorting runs by -summary_metrics.val_accuracy\n",
      "\u001b[34m\u001b[1mwandb\u001b[0m: Sorting runs by -summary_metrics.val_accuracy\n",
      "\u001b[34m\u001b[1mwandb\u001b[0m: Sorting runs by -summary_metrics.val_accuracy\n",
      "\u001b[34m\u001b[1mwandb\u001b[0m: Sorting runs by -summary_metrics.val_accuracy\n",
      "\u001b[34m\u001b[1mwandb\u001b[0m: Sorting runs by -summary_metrics.val_accuracy\n",
      "\u001b[34m\u001b[1mwandb\u001b[0m: Sorting runs by -summary_metrics.val_accuracy\n",
      "\u001b[34m\u001b[1mwandb\u001b[0m: Sorting runs by -summary_metrics.val_accuracy\n",
      "\u001b[34m\u001b[1mwandb\u001b[0m: Sorting runs by -summary_metrics.val_accuracy\n",
      "\u001b[34m\u001b[1mwandb\u001b[0m: Sorting runs by -summary_metrics.val_accuracy\n",
      "\u001b[34m\u001b[1mwandb\u001b[0m: Sorting runs by -summary_metrics.val_accuracy\n",
      "\u001b[34m\u001b[1mwandb\u001b[0m: Sorting runs by -summary_metrics.val_accuracy\n",
      "\u001b[34m\u001b[1mwandb\u001b[0m: Sorting runs by -summary_metrics.val_accuracy\n",
      "\u001b[34m\u001b[1mwandb\u001b[0m: Sorting runs by -summary_metrics.val_accuracy\n",
      "\u001b[34m\u001b[1mwandb\u001b[0m: Sorting runs by -summary_metrics.val_accuracy\n",
      "\u001b[34m\u001b[1mwandb\u001b[0m: Sorting runs by -summary_metrics.val_accuracy\n",
      "\u001b[34m\u001b[1mwandb\u001b[0m: Sorting runs by -summary_metrics.val_accuracy\n",
      "\u001b[34m\u001b[1mwandb\u001b[0m: Sorting runs by -summary_metrics.val_accuracy\n",
      "\u001b[34m\u001b[1mwandb\u001b[0m: Sorting runs by -summary_metrics.val_accuracy\n",
      "\u001b[34m\u001b[1mwandb\u001b[0m: Sorting runs by -summary_metrics.val_accuracy\n",
      "\u001b[34m\u001b[1mwandb\u001b[0m: Sorting runs by -summary_metrics.val_accuracy\n",
      "\u001b[34m\u001b[1mwandb\u001b[0m: Sorting runs by -summary_metrics.val_accuracy\n",
      "\u001b[34m\u001b[1mwandb\u001b[0m: Sorting runs by -summary_metrics.val_accuracy\n",
      "\u001b[34m\u001b[1mwandb\u001b[0m: Sorting runs by -summary_metrics.val_accuracy\n",
      "\u001b[34m\u001b[1mwandb\u001b[0m: Sorting runs by -summary_metrics.val_accuracy\n",
      "\u001b[34m\u001b[1mwandb\u001b[0m: Sorting runs by -summary_metrics.val_accuracy\n",
      "\u001b[34m\u001b[1mwandb\u001b[0m: Sorting runs by -summary_metrics.val_accuracy\n",
      "\u001b[34m\u001b[1mwandb\u001b[0m: Sorting runs by -summary_metrics.val_accuracy\n",
      "\u001b[34m\u001b[1mwandb\u001b[0m: Sorting runs by -summary_metrics.val_accuracy\n",
      "\u001b[34m\u001b[1mwandb\u001b[0m: Sorting runs by -summary_metrics.val_accuracy\n",
      "\u001b[34m\u001b[1mwandb\u001b[0m: Sorting runs by -summary_metrics.val_accuracy\n",
      "\u001b[34m\u001b[1mwandb\u001b[0m: Sorting runs by -summary_metrics.val_accuracy\n",
      "\u001b[34m\u001b[1mwandb\u001b[0m: Sorting runs by -summary_metrics.val_accuracy\n",
      "\u001b[34m\u001b[1mwandb\u001b[0m: Sorting runs by -summary_metrics.val_accuracy\n",
      "\u001b[34m\u001b[1mwandb\u001b[0m: Sorting runs by -summary_metrics.val_accuracy\n",
      "\u001b[34m\u001b[1mwandb\u001b[0m: Sorting runs by -summary_metrics.val_accuracy\n",
      "\u001b[34m\u001b[1mwandb\u001b[0m: Sorting runs by -summary_metrics.val_accuracy\n",
      "\u001b[34m\u001b[1mwandb\u001b[0m: Sorting runs by -summary_metrics.val_accuracy\n",
      "\u001b[34m\u001b[1mwandb\u001b[0m: Sorting runs by -summary_metrics.val_accuracy\n",
      "\u001b[34m\u001b[1mwandb\u001b[0m: Sorting runs by -summary_metrics.val_accuracy\n",
      "\u001b[34m\u001b[1mwandb\u001b[0m: Sorting runs by -summary_metrics.val_accuracy\n",
      "\u001b[34m\u001b[1mwandb\u001b[0m: Sorting runs by -summary_metrics.val_accuracy\n",
      "\u001b[34m\u001b[1mwandb\u001b[0m: Sorting runs by -summary_metrics.val_accuracy\n",
      "\u001b[34m\u001b[1mwandb\u001b[0m: Sorting runs by -summary_metrics.val_accuracy\n",
      "\u001b[34m\u001b[1mwandb\u001b[0m: Sorting runs by -summary_metrics.val_accuracy\n",
      "\u001b[34m\u001b[1mwandb\u001b[0m: Sorting runs by -summary_metrics.val_accuracy\n",
      "\u001b[34m\u001b[1mwandb\u001b[0m: Sorting runs by -summary_metrics.val_accuracy\n",
      "\u001b[34m\u001b[1mwandb\u001b[0m: Sorting runs by -summary_metrics.val_accuracy\n",
      "\u001b[34m\u001b[1mwandb\u001b[0m: Sorting runs by -summary_metrics.val_accuracy\n",
      "\u001b[34m\u001b[1mwandb\u001b[0m: Sorting runs by -summary_metrics.val_accuracy\n",
      "\u001b[34m\u001b[1mwandb\u001b[0m: Sorting runs by -summary_metrics.val_accuracy\n",
      "\u001b[34m\u001b[1mwandb\u001b[0m: Sorting runs by -summary_metrics.val_accuracy\n",
      "\u001b[34m\u001b[1mwandb\u001b[0m: Sorting runs by -summary_metrics.val_accuracy\n",
      "\u001b[34m\u001b[1mwandb\u001b[0m: Sorting runs by -summary_metrics.val_accuracy\n",
      "\u001b[34m\u001b[1mwandb\u001b[0m: Sorting runs by -summary_metrics.val_accuracy\n",
      "\u001b[34m\u001b[1mwandb\u001b[0m: Sorting runs by -summary_metrics.val_accuracy\n",
      "\u001b[34m\u001b[1mwandb\u001b[0m: Sorting runs by -summary_metrics.val_accuracy\n",
      "\u001b[34m\u001b[1mwandb\u001b[0m: Sorting runs by -summary_metrics.val_accuracy\n",
      "\u001b[34m\u001b[1mwandb\u001b[0m: Sorting runs by -summary_metrics.val_accuracy\n",
      "\u001b[34m\u001b[1mwandb\u001b[0m: Sorting runs by -summary_metrics.val_accuracy\n",
      "\u001b[34m\u001b[1mwandb\u001b[0m: Sorting runs by -summary_metrics.val_accuracy\n",
      "\u001b[34m\u001b[1mwandb\u001b[0m: Sorting runs by -summary_metrics.val_accuracy\n",
      "\u001b[34m\u001b[1mwandb\u001b[0m: Sorting runs by -summary_metrics.val_accuracy\n",
      "\u001b[34m\u001b[1mwandb\u001b[0m: Sorting runs by -summary_metrics.val_accuracy\n",
      "\u001b[34m\u001b[1mwandb\u001b[0m: Sorting runs by -summary_metrics.val_accuracy\n",
      "\u001b[34m\u001b[1mwandb\u001b[0m: Sorting runs by -summary_metrics.val_accuracy\n",
      "\u001b[34m\u001b[1mwandb\u001b[0m: Sorting runs by -summary_metrics.val_accuracy\n",
      "\u001b[34m\u001b[1mwandb\u001b[0m: Sorting runs by -summary_metrics.val_accuracy\n",
      "\u001b[34m\u001b[1mwandb\u001b[0m: Sorting runs by -summary_metrics.val_accuracy\n",
      "\u001b[34m\u001b[1mwandb\u001b[0m: Sorting runs by -summary_metrics.val_accuracy\n",
      "\u001b[34m\u001b[1mwandb\u001b[0m: Sorting runs by -summary_metrics.val_accuracy\n",
      "\u001b[34m\u001b[1mwandb\u001b[0m: Sorting runs by -summary_metrics.val_accuracy\n",
      "\u001b[34m\u001b[1mwandb\u001b[0m: Sorting runs by -summary_metrics.val_accuracy\n",
      "\u001b[34m\u001b[1mwandb\u001b[0m: Sorting runs by -summary_metrics.val_accuracy\n",
      "\u001b[34m\u001b[1mwandb\u001b[0m: Sorting runs by -summary_metrics.val_accuracy\n",
      "\u001b[34m\u001b[1mwandb\u001b[0m: Sorting runs by -summary_metrics.val_accuracy\n",
      "\u001b[34m\u001b[1mwandb\u001b[0m: Sorting runs by -summary_metrics.val_accuracy\n",
      "\u001b[34m\u001b[1mwandb\u001b[0m: Sorting runs by -summary_metrics.val_accuracy\n",
      "\u001b[34m\u001b[1mwandb\u001b[0m: Sorting runs by -summary_metrics.val_accuracy\n",
      "\u001b[34m\u001b[1mwandb\u001b[0m: Sorting runs by -summary_metrics.val_accuracy\n",
      "\u001b[34m\u001b[1mwandb\u001b[0m: Sorting runs by -summary_metrics.val_accuracy\n",
      "\u001b[34m\u001b[1mwandb\u001b[0m: Sorting runs by -summary_metrics.val_accuracy\n",
      "\u001b[34m\u001b[1mwandb\u001b[0m: Sorting runs by -summary_metrics.val_accuracy\n",
      "\u001b[34m\u001b[1mwandb\u001b[0m: Sorting runs by -summary_metrics.val_accuracy\n",
      "\u001b[34m\u001b[1mwandb\u001b[0m: Sorting runs by -summary_metrics.val_accuracy\n",
      "\u001b[34m\u001b[1mwandb\u001b[0m: Sorting runs by -summary_metrics.val_accuracy\n",
      "\u001b[34m\u001b[1mwandb\u001b[0m: Sorting runs by -summary_metrics.val_accuracy\n",
      "\u001b[34m\u001b[1mwandb\u001b[0m: Sorting runs by -summary_metrics.val_accuracy\n",
      "\u001b[34m\u001b[1mwandb\u001b[0m: Sorting runs by -summary_metrics.val_accuracy\n",
      "\u001b[34m\u001b[1mwandb\u001b[0m: Sorting runs by -summary_metrics.val_accuracy\n",
      "\u001b[34m\u001b[1mwandb\u001b[0m: Sorting runs by -summary_metrics.val_accuracy\n",
      "\u001b[34m\u001b[1mwandb\u001b[0m: Sorting runs by -summary_metrics.val_accuracy\n",
      "\u001b[34m\u001b[1mwandb\u001b[0m: Sorting runs by -summary_metrics.val_accuracy\n",
      "\u001b[34m\u001b[1mwandb\u001b[0m: Sorting runs by -summary_metrics.val_accuracy\n",
      "\u001b[34m\u001b[1mwandb\u001b[0m: Sorting runs by -summary_metrics.val_accuracy\n",
      "\u001b[34m\u001b[1mwandb\u001b[0m: Sorting runs by -summary_metrics.val_accuracy\n",
      "\u001b[34m\u001b[1mwandb\u001b[0m: Sorting runs by -summary_metrics.val_accuracy\n",
      "\u001b[34m\u001b[1mwandb\u001b[0m: Sorting runs by -summary_metrics.val_accuracy\n",
      "\u001b[34m\u001b[1mwandb\u001b[0m: Sorting runs by -summary_metrics.val_accuracy\n",
      "\u001b[34m\u001b[1mwandb\u001b[0m: Sorting runs by -summary_metrics.val_accuracy\n",
      "\u001b[34m\u001b[1mwandb\u001b[0m: Sorting runs by -summary_metrics.val_accuracy\n",
      "\u001b[34m\u001b[1mwandb\u001b[0m: Sorting runs by -summary_metrics.val_accuracy\n",
      "\u001b[34m\u001b[1mwandb\u001b[0m: Sorting runs by -summary_metrics.val_accuracy\n",
      "\u001b[34m\u001b[1mwandb\u001b[0m: Sorting runs by -summary_metrics.val_accuracy\n",
      "\u001b[34m\u001b[1mwandb\u001b[0m: Sorting runs by -summary_metrics.val_accuracy\n",
      "\u001b[34m\u001b[1mwandb\u001b[0m: Sorting runs by -summary_metrics.val_accuracy\n",
      "\u001b[34m\u001b[1mwandb\u001b[0m: Sorting runs by -summary_metrics.val_accuracy\n",
      "\u001b[34m\u001b[1mwandb\u001b[0m: Sorting runs by -summary_metrics.val_accuracy\n",
      "\u001b[34m\u001b[1mwandb\u001b[0m: Sorting runs by -summary_metrics.val_accuracy\n",
      "\u001b[34m\u001b[1mwandb\u001b[0m: Sorting runs by -summary_metrics.val_accuracy\n",
      "\u001b[34m\u001b[1mwandb\u001b[0m: Sorting runs by -summary_metrics.val_accuracy\n",
      "\u001b[34m\u001b[1mwandb\u001b[0m: Sorting runs by -summary_metrics.val_accuracy\n",
      "\u001b[34m\u001b[1mwandb\u001b[0m: Sorting runs by -summary_metrics.val_accuracy\n",
      "\u001b[34m\u001b[1mwandb\u001b[0m: Sorting runs by -summary_metrics.val_accuracy\n",
      "\u001b[34m\u001b[1mwandb\u001b[0m: Sorting runs by -summary_metrics.val_accuracy\n",
      "\u001b[34m\u001b[1mwandb\u001b[0m: Sorting runs by -summary_metrics.val_accuracy\n",
      "\u001b[34m\u001b[1mwandb\u001b[0m: Sorting runs by -summary_metrics.val_accuracy\n",
      "\u001b[34m\u001b[1mwandb\u001b[0m: Sorting runs by -summary_metrics.val_accuracy\n",
      "\u001b[34m\u001b[1mwandb\u001b[0m: Sorting runs by -summary_metrics.val_accuracy\n",
      "\u001b[34m\u001b[1mwandb\u001b[0m: Sorting runs by -summary_metrics.val_accuracy\n",
      "\u001b[34m\u001b[1mwandb\u001b[0m: Sorting runs by -summary_metrics.val_accuracy\n",
      "\u001b[34m\u001b[1mwandb\u001b[0m: Sorting runs by -summary_metrics.val_accuracy\n",
      "\u001b[34m\u001b[1mwandb\u001b[0m: Sorting runs by -summary_metrics.val_accuracy\n",
      "\u001b[34m\u001b[1mwandb\u001b[0m: Sorting runs by -summary_metrics.val_accuracy\n",
      "\u001b[34m\u001b[1mwandb\u001b[0m: Sorting runs by -summary_metrics.val_accuracy\n",
      "\u001b[34m\u001b[1mwandb\u001b[0m: Sorting runs by -summary_metrics.val_accuracy\n",
      "\u001b[34m\u001b[1mwandb\u001b[0m: Sorting runs by -summary_metrics.val_accuracy\n",
      "\u001b[34m\u001b[1mwandb\u001b[0m: Sorting runs by -summary_metrics.val_accuracy\n",
      "\u001b[34m\u001b[1mwandb\u001b[0m: Sorting runs by -summary_metrics.val_accuracy\n",
      "\u001b[34m\u001b[1mwandb\u001b[0m: Sorting runs by -summary_metrics.val_accuracy\n",
      "\u001b[34m\u001b[1mwandb\u001b[0m: Sorting runs by -summary_metrics.val_accuracy\n",
      "\u001b[34m\u001b[1mwandb\u001b[0m: Sorting runs by -summary_metrics.val_accuracy\n",
      "\u001b[34m\u001b[1mwandb\u001b[0m: Sorting runs by -summary_metrics.val_accuracy\n",
      "\u001b[34m\u001b[1mwandb\u001b[0m: Sorting runs by -summary_metrics.val_accuracy\n",
      "\u001b[34m\u001b[1mwandb\u001b[0m: Sorting runs by -summary_metrics.val_accuracy\n",
      "\u001b[34m\u001b[1mwandb\u001b[0m: Sorting runs by -summary_metrics.val_accuracy\n",
      "\u001b[34m\u001b[1mwandb\u001b[0m: Sorting runs by -summary_metrics.val_accuracy\n",
      "\u001b[34m\u001b[1mwandb\u001b[0m: Sorting runs by -summary_metrics.val_accuracy\n",
      "\u001b[34m\u001b[1mwandb\u001b[0m: Sorting runs by -summary_metrics.val_accuracy\n",
      "\u001b[34m\u001b[1mwandb\u001b[0m: Sorting runs by -summary_metrics.val_accuracy\n",
      "\u001b[34m\u001b[1mwandb\u001b[0m: Sorting runs by -summary_metrics.val_accuracy\n",
      "\u001b[34m\u001b[1mwandb\u001b[0m: Sorting runs by -summary_metrics.val_accuracy\n",
      "\u001b[34m\u001b[1mwandb\u001b[0m: Sorting runs by -summary_metrics.val_accuracy\n",
      "\u001b[34m\u001b[1mwandb\u001b[0m: Sorting runs by -summary_metrics.val_accuracy\n",
      "\u001b[34m\u001b[1mwandb\u001b[0m: Sorting runs by -summary_metrics.val_accuracy\n",
      "\u001b[34m\u001b[1mwandb\u001b[0m: Sorting runs by -summary_metrics.val_accuracy\n",
      "\u001b[34m\u001b[1mwandb\u001b[0m: Sorting runs by -summary_metrics.val_accuracy\n",
      "\u001b[34m\u001b[1mwandb\u001b[0m: Sorting runs by -summary_metrics.val_accuracy\n",
      "\u001b[34m\u001b[1mwandb\u001b[0m: Sorting runs by -summary_metrics.val_accuracy\n",
      "\u001b[34m\u001b[1mwandb\u001b[0m: Sorting runs by -summary_metrics.val_accuracy\n",
      "\u001b[34m\u001b[1mwandb\u001b[0m: Sorting runs by -summary_metrics.val_accuracy\n",
      "\u001b[34m\u001b[1mwandb\u001b[0m: Sorting runs by -summary_metrics.val_accuracy\n",
      "\u001b[34m\u001b[1mwandb\u001b[0m: Sorting runs by -summary_metrics.val_accuracy\n",
      "\u001b[34m\u001b[1mwandb\u001b[0m: Sorting runs by -summary_metrics.val_accuracy\n",
      "\u001b[34m\u001b[1mwandb\u001b[0m: Sorting runs by -summary_metrics.val_accuracy\n",
      "\u001b[34m\u001b[1mwandb\u001b[0m: Sorting runs by -summary_metrics.val_accuracy\n",
      "\u001b[34m\u001b[1mwandb\u001b[0m: Sorting runs by -summary_metrics.val_accuracy\n",
      "\u001b[34m\u001b[1mwandb\u001b[0m: Sorting runs by -summary_metrics.val_accuracy\n",
      "\u001b[34m\u001b[1mwandb\u001b[0m: Sorting runs by -summary_metrics.val_accuracy\n",
      "\u001b[34m\u001b[1mwandb\u001b[0m: Sorting runs by -summary_metrics.val_accuracy\n",
      "\u001b[34m\u001b[1mwandb\u001b[0m: Sorting runs by -summary_metrics.val_accuracy\n",
      "\u001b[34m\u001b[1mwandb\u001b[0m: Sorting runs by -summary_metrics.val_accuracy\n",
      "\u001b[34m\u001b[1mwandb\u001b[0m: Sorting runs by -summary_metrics.val_accuracy\n",
      "\u001b[34m\u001b[1mwandb\u001b[0m: Sorting runs by -summary_metrics.val_accuracy\n",
      "\u001b[34m\u001b[1mwandb\u001b[0m: Sorting runs by -summary_metrics.val_accuracy\n",
      "\u001b[34m\u001b[1mwandb\u001b[0m: Sorting runs by -summary_metrics.val_accuracy\n",
      "\u001b[34m\u001b[1mwandb\u001b[0m: Sorting runs by -summary_metrics.val_accuracy\n",
      "\u001b[34m\u001b[1mwandb\u001b[0m: Sorting runs by -summary_metrics.val_accuracy\n",
      "\u001b[34m\u001b[1mwandb\u001b[0m: Sorting runs by -summary_metrics.val_accuracy\n",
      "\u001b[34m\u001b[1mwandb\u001b[0m: Sorting runs by -summary_metrics.val_accuracy\n",
      "\u001b[34m\u001b[1mwandb\u001b[0m: Sorting runs by -summary_metrics.val_accuracy\n",
      "\u001b[34m\u001b[1mwandb\u001b[0m: Sorting runs by -summary_metrics.val_accuracy\n",
      "\u001b[34m\u001b[1mwandb\u001b[0m: Sorting runs by -summary_metrics.val_accuracy\n",
      "\u001b[34m\u001b[1mwandb\u001b[0m: Sorting runs by -summary_metrics.val_accuracy\n",
      "\u001b[34m\u001b[1mwandb\u001b[0m: Sorting runs by -summary_metrics.val_accuracy\n",
      "\u001b[34m\u001b[1mwandb\u001b[0m: Sorting runs by -summary_metrics.val_accuracy\n",
      "\u001b[34m\u001b[1mwandb\u001b[0m: Sorting runs by -summary_metrics.val_accuracy\n",
      "\u001b[34m\u001b[1mwandb\u001b[0m: Sorting runs by -summary_metrics.val_accuracy\n",
      "\u001b[34m\u001b[1mwandb\u001b[0m: Sorting runs by -summary_metrics.val_accuracy\n",
      "\u001b[34m\u001b[1mwandb\u001b[0m: Sorting runs by -summary_metrics.val_accuracy\n",
      "\u001b[34m\u001b[1mwandb\u001b[0m: Sorting runs by -summary_metrics.val_accuracy\n",
      "\u001b[34m\u001b[1mwandb\u001b[0m: Sorting runs by -summary_metrics.val_accuracy\n",
      "\u001b[34m\u001b[1mwandb\u001b[0m: Sorting runs by -summary_metrics.val_accuracy\n",
      "\u001b[34m\u001b[1mwandb\u001b[0m: Sorting runs by -summary_metrics.val_accuracy\n",
      "\u001b[34m\u001b[1mwandb\u001b[0m: Sorting runs by -summary_metrics.val_accuracy\n",
      "\u001b[34m\u001b[1mwandb\u001b[0m: Sorting runs by -summary_metrics.val_accuracy\n",
      "\u001b[34m\u001b[1mwandb\u001b[0m: Sorting runs by -summary_metrics.val_accuracy\n",
      "\u001b[34m\u001b[1mwandb\u001b[0m: Sorting runs by -summary_metrics.val_accuracy\n",
      "\u001b[34m\u001b[1mwandb\u001b[0m: Sorting runs by -summary_metrics.val_accuracy\n",
      "\u001b[34m\u001b[1mwandb\u001b[0m: Sorting runs by -summary_metrics.val_accuracy\n",
      "\u001b[34m\u001b[1mwandb\u001b[0m: Sorting runs by -summary_metrics.val_accuracy\n",
      "\u001b[34m\u001b[1mwandb\u001b[0m: Sorting runs by -summary_metrics.val_accuracy\n",
      "\u001b[34m\u001b[1mwandb\u001b[0m: Sorting runs by -summary_metrics.val_accuracy\n",
      "\u001b[34m\u001b[1mwandb\u001b[0m: Sorting runs by -summary_metrics.val_accuracy\n",
      "\u001b[34m\u001b[1mwandb\u001b[0m: Sorting runs by -summary_metrics.val_accuracy\n",
      "\u001b[34m\u001b[1mwandb\u001b[0m: Sorting runs by -summary_metrics.val_accuracy\n",
      "\u001b[34m\u001b[1mwandb\u001b[0m: Sorting runs by -summary_metrics.val_accuracy\n",
      "\u001b[34m\u001b[1mwandb\u001b[0m: Sorting runs by -summary_metrics.val_accuracy\n",
      "\u001b[34m\u001b[1mwandb\u001b[0m: Sorting runs by -summary_metrics.val_accuracy\n",
      "\u001b[34m\u001b[1mwandb\u001b[0m: Sorting runs by -summary_metrics.val_accuracy\n",
      "\u001b[34m\u001b[1mwandb\u001b[0m: Sorting runs by -summary_metrics.val_accuracy\n",
      "\u001b[34m\u001b[1mwandb\u001b[0m: Sorting runs by -summary_metrics.val_accuracy\n",
      "\u001b[34m\u001b[1mwandb\u001b[0m: Sorting runs by -summary_metrics.val_accuracy\n",
      "\u001b[34m\u001b[1mwandb\u001b[0m: Sorting runs by -summary_metrics.val_accuracy\n",
      "\u001b[34m\u001b[1mwandb\u001b[0m: Sorting runs by -summary_metrics.val_accuracy\n",
      "\u001b[34m\u001b[1mwandb\u001b[0m: Sorting runs by -summary_metrics.val_accuracy\n",
      "\u001b[34m\u001b[1mwandb\u001b[0m: Sorting runs by -summary_metrics.val_accuracy\n",
      "\u001b[34m\u001b[1mwandb\u001b[0m: Sorting runs by -summary_metrics.val_accuracy\n",
      "\u001b[34m\u001b[1mwandb\u001b[0m: Sorting runs by -summary_metrics.val_accuracy\n",
      "\u001b[34m\u001b[1mwandb\u001b[0m: Sorting runs by -summary_metrics.val_accuracy\n",
      "\u001b[34m\u001b[1mwandb\u001b[0m: Sorting runs by -summary_metrics.val_accuracy\n",
      "\u001b[34m\u001b[1mwandb\u001b[0m: Sorting runs by -summary_metrics.val_accuracy\n",
      "\u001b[34m\u001b[1mwandb\u001b[0m: Sorting runs by -summary_metrics.val_accuracy\n",
      "\u001b[34m\u001b[1mwandb\u001b[0m: Sorting runs by -summary_metrics.val_accuracy\n",
      "\u001b[34m\u001b[1mwandb\u001b[0m: Sorting runs by -summary_metrics.val_accuracy\n",
      "\u001b[34m\u001b[1mwandb\u001b[0m: Sorting runs by -summary_metrics.val_accuracy\n",
      "\u001b[34m\u001b[1mwandb\u001b[0m: Sorting runs by -summary_metrics.val_accuracy\n",
      "\u001b[34m\u001b[1mwandb\u001b[0m: Sorting runs by -summary_metrics.val_accuracy\n",
      "\u001b[34m\u001b[1mwandb\u001b[0m: Sorting runs by -summary_metrics.val_accuracy\n",
      "\u001b[34m\u001b[1mwandb\u001b[0m: Sorting runs by -summary_metrics.val_accuracy\n",
      "\u001b[34m\u001b[1mwandb\u001b[0m: Sorting runs by -summary_metrics.val_accuracy\n",
      "\u001b[34m\u001b[1mwandb\u001b[0m: Sorting runs by -summary_metrics.val_accuracy\n",
      "\u001b[34m\u001b[1mwandb\u001b[0m: Sorting runs by -summary_metrics.val_accuracy\n",
      "\u001b[34m\u001b[1mwandb\u001b[0m: Sorting runs by -summary_metrics.val_accuracy\n",
      "\u001b[34m\u001b[1mwandb\u001b[0m: Sorting runs by -summary_metrics.val_accuracy\n",
      "\u001b[34m\u001b[1mwandb\u001b[0m: Sorting runs by -summary_metrics.val_accuracy\n",
      "\u001b[34m\u001b[1mwandb\u001b[0m: Sorting runs by -summary_metrics.val_accuracy\n",
      "\u001b[34m\u001b[1mwandb\u001b[0m: Sorting runs by -summary_metrics.val_accuracy\n",
      "\u001b[34m\u001b[1mwandb\u001b[0m: Sorting runs by -summary_metrics.val_accuracy\n",
      "\u001b[34m\u001b[1mwandb\u001b[0m: Sorting runs by -summary_metrics.val_accuracy\n",
      "\u001b[34m\u001b[1mwandb\u001b[0m: Sorting runs by -summary_metrics.val_accuracy\n",
      "\u001b[34m\u001b[1mwandb\u001b[0m: Sorting runs by -summary_metrics.val_accuracy\n"
     ]
    },
    {
     "name": "stdout",
     "output_type": "stream",
     "text": [
      "{'val': 0, 'test': 0, 'session_id': '37115675', 'epochs': 'Not specified', 'run count': 100}\n",
      "{'val': 0.24444444477558136, 'test': 0.1111111119389534, 'session_id': '657775947', 'sweep': \"['657775947']\", 'lr': '2.28e-03', 'b': '128', 'lyr': '[32, 16]', 'unit_drop': '0.31234328794567745', 'wt_drop': '0.12954738404788496', 'epochs': 100, 'run count': 100}\n",
      "{'val': 0.8333333730697632, 'test': 0.7472222447395325, 'session_id': '653123929', 'sweep': \"['653123929']\", 'lr': '3.15e-03', 'b': '128', 'lyr': '[128, 128, 64, 32]', 'unit_drop': '0.01758293653312709', 'wt_drop': '0.26413946279529943', 'epochs': 100, 'run count': 100}\n",
      "{'val': 0.7888889312744141, 'test': 0.6055555939674377, 'session_id': '564425777', 'sweep': \"['564425777']\", 'lr': '4.78e-04', 'b': '64', 'lyr': '[64, 32]', 'unit_drop': '0.463859227018195', 'wt_drop': '0.4105029219207545', 'epochs': 100, 'run count': 100}\n",
      "{'val': 0.5333333611488342, 'test': 0.49722224473953247, 'session_id': '510390912', 'sweep': \"['510390912']\", 'lr': '2.86e-03', 'b': '64', 'lyr': '[128, 64]', 'unit_drop': '0.34563617518452877', 'wt_drop': '0.43980039353899986', 'epochs': 100, 'run count': 100}\n",
      "{'val': 0.20000000298023224, 'test': 0.14444445073604584, 'session_id': '649324898', 'sweep': \"['649324898']\", 'lr': '4.67e-03', 'b': '128', 'lyr': '[64, 32]', 'unit_drop': '0.30146090410187387', 'wt_drop': '0.37905498313109254', 'epochs': 100, 'run count': 100}\n",
      "{'val': 0.699999988079071, 'test': 0.5124653577804565, 'session_id': '565216523', 'sweep': \"['565216523']\", 'lr': '7.63e-04', 'b': '128', 'lyr': '[128, 128, 64, 32]', 'unit_drop': '0.15686444681318812', 'wt_drop': '0.30879834189927957', 'epochs': 100, 'run count': 100}\n",
      "{'val': 0.21666666865348816, 'test': 0.12742382287979126, 'session_id': '676024666', 'sweep': \"['676024666']\", 'lr': '3.95e-03', 'b': '64', 'lyr': '[64, 32]', 'unit_drop': '0.43696199320401735', 'wt_drop': '0.34052301629712994', 'epochs': 100, 'run count': 100}\n",
      "{'val': 0.5222222208976746, 'test': 0.4027777910232544, 'session_id': '571006300', 'sweep': \"['571006300']\", 'lr': '1.45e-03', 'b': '64', 'lyr': '[32, 16]', 'unit_drop': '0.16690003137867843', 'wt_drop': '0.4413509653752417', 'epochs': 100, 'run count': 100}\n",
      "{'val': 0.6077348589897156, 'test': 0.5900276899337769, 'session_id': '588483711', 'sweep': \"['588483711']\", 'lr': '8.57e-03', 'b': '128', 'lyr': '[32, 16]', 'unit_drop': '0.05703233315506112', 'wt_drop': '0.20291781935882547', 'epochs': 100, 'run count': 100}\n",
      "{'val': 0.4333333373069763, 'test': 0.31767958402633667, 'session_id': '551888519', 'sweep': \"['551888519']\", 'lr': '1.63e-03', 'b': '128', 'lyr': '[64, 32]', 'unit_drop': '0.4481973400545969', 'wt_drop': '0.16564696940741624', 'epochs': 100, 'run count': 100}\n",
      "{'val': 0.5055555701255798, 'test': 0.375, 'session_id': '575302108', 'sweep': \"['575302108']\", 'lr': '1.13e-03', 'b': '128', 'lyr': '[64, 32]', 'unit_drop': '0.09306600583024845', 'wt_drop': '0.0650854269640776', 'epochs': 100, 'run count': 100}\n",
      "{'val': 0.27222222089767456, 'test': 0.18611112236976624, 'session_id': '567878987', 'sweep': \"['567878987']\", 'lr': '4.18e-03', 'b': '64', 'lyr': '[64, 32]', 'unit_drop': '0.1511749521999861', 'wt_drop': '0.3253786056306446', 'epochs': 100, 'run count': 100}\n",
      "{'val': 0.5222222208976746, 'test': 0.3888888955116272, 'session_id': '506773185', 'sweep': \"['506773185']\", 'lr': '3.02e-03', 'b': '64', 'lyr': '[64, 32]', 'unit_drop': '0.4151021868814044', 'wt_drop': '0.1826244259539739', 'epochs': 100, 'run count': 100}\n",
      "{'val': 0.3333333432674408, 'test': 0.2686980664730072, 'session_id': '570008444', 'sweep': \"['570008444']\", 'lr': '3.33e-03', 'b': '128', 'lyr': '[128, 64]', 'unit_drop': '0.14658248204213203', 'wt_drop': '0.20169142773684812', 'epochs': 100, 'run count': 100}\n",
      "{'val': 0.4000000059604645, 'test': 0.2944444417953491, 'session_id': '685816006', 'sweep': \"['685816006']\", 'lr': '4.12e-03', 'b': '128', 'lyr': '[64, 32]', 'unit_drop': '0.26605885318218764', 'wt_drop': '0.14938324968651295', 'epochs': 100, 'run count': 100}\n",
      "{'val': 0.3222222328186035, 'test': 0.25207754969596863, 'session_id': '605800963', 'sweep': \"['605800963']\", 'lr': '1.29e-03', 'b': '64', 'lyr': '[128, 64]', 'unit_drop': '0.08763205551519948', 'wt_drop': '0.3943429019298205', 'epochs': 100, 'run count': 100}\n",
      "{'val': 0.4000000059604645, 'test': 0.15833333134651184, 'session_id': '682049099', 'sweep': \"['682049099']\", 'lr': '4.13e-03', 'b': '128', 'lyr': '[64, 32]', 'unit_drop': '0.02359174688145388', 'wt_drop': '0.33653398475874313', 'epochs': 100, 'run count': 100}\n",
      "{'val': 0.7666667103767395, 'test': 0.7027778029441833, 'session_id': '573261515', 'sweep': \"['573261515']\", 'lr': '1.59e-03', 'b': '128', 'lyr': '[64, 32]', 'unit_drop': '0.14987847410517074', 'wt_drop': '0.3166310100143545', 'epochs': 100, 'run count': 100}\n",
      "{'val': 0.20000000298023224, 'test': 0.15833333134651184, 'session_id': '652989442', 'sweep': \"['652989442']\", 'lr': '7.75e-03', 'b': '64', 'lyr': '[128, 64, 32]', 'unit_drop': '0.29548033780365346', 'wt_drop': '0.1937464173595184', 'epochs': 100, 'run count': 100}\n",
      "{'val': 0.5668202638626099, 'test': 0.5204819440841675, 'session_id': '583136567', 'sweep': \"['583136567']\", 'lr': '1.40e-03', 'b': '128', 'lyr': '[128, 64]', 'unit_drop': '0.019136212415995113', 'wt_drop': '0.02268179465015008', 'epochs': 100, 'run count': 100}\n",
      "{'val': 0.694444477558136, 'test': 0.6565096974372864, 'session_id': '501929610', 'sweep': \"['501929610']\", 'lr': '3.84e-03', 'b': '64', 'lyr': '[64, 32]', 'unit_drop': '0.2719951361673724', 'wt_drop': '0.3414485955989173', 'epochs': 100, 'run count': 100}\n",
      "{'val': 0.1990521401166916, 'test': 0.09927361458539963, 'session_id': '673171528', 'sweep': \"['673171528']\", 'lr': '4.77e-03', 'b': '128', 'lyr': '[128, 64, 32]', 'unit_drop': '0.07789525550616522', 'wt_drop': '0.0829773664105194', 'epochs': 100, 'run count': 100}\n",
      "{'val': 0.6166666746139526, 'test': 0.6277778148651123, 'session_id': '662974315', 'sweep': \"['662974315']\", 'lr': '5.82e-03', 'b': '64', 'lyr': '[64, 32]', 'unit_drop': '0.1281372732692722', 'wt_drop': '0.3201553272765545', 'epochs': 100, 'run count': 100}\n",
      "{'val': 0.5745856761932373, 'test': 0.45277780294418335, 'session_id': '502376461', 'sweep': \"['502376461']\", 'lr': '7.97e-03', 'b': '128', 'lyr': '[64, 32]', 'unit_drop': '0.010791663186548728', 'wt_drop': '0.03579252653912335', 'epochs': 100, 'run count': 100}\n",
      "{'val': 0.6574586033821106, 'test': 0.5472222566604614, 'session_id': '507990552', 'sweep': \"['507990552']\", 'lr': '4.94e-03', 'b': '128', 'lyr': '[64, 32]', 'unit_drop': '0.3548865964609072', 'wt_drop': '0.32243431721584587', 'epochs': 100, 'run count': 100}\n",
      "{'val': 0.6666666865348816, 'test': 0.6398891806602478, 'session_id': '576001843', 'sweep': \"['576001843']\", 'lr': '4.35e-03', 'b': '64', 'lyr': '[128, 64, 32]', 'unit_drop': '0.0024857162195807136', 'wt_drop': '0.01078750240347226', 'epochs': 100, 'run count': 100}\n",
      "{'val': 0.7611111402511597, 'test': 0.7305555939674377, 'session_id': '617381605', 'sweep': \"['617381605']\", 'lr': '8.86e-03', 'b': '64', 'lyr': '[32, 16]', 'unit_drop': '0.18866240203890644', 'wt_drop': '0.2753331585536769', 'epochs': 100, 'run count': 100}\n",
      "{'val': 0.5555555820465088, 'test': 0.3888888955116272, 'session_id': '510093797', 'sweep': \"['510093797']\", 'lr': '3.61e-03', 'b': '128', 'lyr': '[64, 32]', 'unit_drop': '0.36466719331909137', 'wt_drop': '0.174269459065723', 'epochs': 100, 'run count': 100}\n",
      "{'val': 0.894444465637207, 'test': 0.8694444894790649, 'session_id': '524691284', 'sweep': \"['524691284']\", 'lr': '2.64e-03', 'b': '128', 'lyr': '[128, 64, 32]', 'unit_drop': '0.13553991613891225', 'wt_drop': '0.4768809132390137', 'epochs': 100, 'run count': 100}\n",
      "{'val': 0.42222222685813904, 'test': 0.26243093609809875, 'session_id': '605606109', 'sweep': \"['605606109']\", 'lr': '5.35e-04', 'b': '64', 'lyr': '[64, 32]', 'unit_drop': '0.02598563531095333', 'wt_drop': '0.0024348102874179323', 'epochs': 100, 'run count': 100}\n",
      "{'val': 0.3055555522441864, 'test': 0.17499999701976776, 'session_id': '601904502', 'sweep': \"['601904502']\", 'lr': '2.32e-03', 'b': '128', 'lyr': '[32, 16]', 'unit_drop': '0.009730790184574956', 'wt_drop': '0.05945472456154682', 'epochs': 100, 'run count': 100}\n",
      "{'val': 0.25, 'test': 0.09166666865348816, 'session_id': '617388117', 'sweep': \"['617388117']\", 'lr': '6.64e-03', 'b': '64', 'lyr': '[32, 16]', 'unit_drop': '0.4930003298383578', 'wt_drop': '0.25936907199872095', 'epochs': 100, 'run count': 100}\n",
      "{'val': 0.6888889074325562, 'test': 0.6055555939674377, 'session_id': '505695962', 'sweep': \"['505695962']\", 'lr': '1.52e-03', 'b': '128', 'lyr': '[128, 64]', 'unit_drop': '0.159715766048802', 'wt_drop': '0.2912797648020449', 'epochs': 100, 'run count': 100}\n",
      "{'val': 0.40291261672973633, 'test': 0.3602941334247589, 'session_id': '559192380', 'sweep': \"['559192380']\", 'lr': '2.88e-03', 'b': '128', 'lyr': '[64, 32]', 'unit_drop': '0.035075181855825144', 'wt_drop': '0.15221843439700006', 'epochs': 100, 'run count': 100}\n",
      "{'val': 0.23333333432674408, 'test': 0.17499999701976776, 'session_id': '591430494', 'sweep': \"['591430494']\", 'lr': '5.56e-03', 'b': '64', 'lyr': '[64, 32]', 'unit_drop': '0.12277537459871074', 'wt_drop': '0.007905957403161634', 'epochs': 100, 'run count': 100}\n",
      "{'val': 0.5722222328186035, 'test': 0.4305555522441864, 'session_id': '569739027', 'sweep': \"['569739027']\", 'lr': '3.75e-04', 'b': '128', 'lyr': '[64, 32]', 'unit_drop': '0.10527772693899196', 'wt_drop': '0.04559682589306463', 'epochs': 100, 'run count': 100}\n",
      "{'val': 0.7888889312744141, 'test': 0.6861111521720886, 'session_id': '672207947', 'sweep': \"['672207947']\", 'lr': '5.79e-03', 'b': '64', 'lyr': '[128, 64, 32]', 'unit_drop': '0.0410995857875624', 'wt_drop': '0.4220102183969972', 'epochs': 100, 'run count': 100}\n",
      "{'val': 0.2777777910232544, 'test': 0.16388888657093048, 'session_id': '584544569', 'sweep': \"['584544569']\", 'lr': '1.71e-03', 'b': '128', 'lyr': '[32, 16]', 'unit_drop': '0.038146749482195375', 'wt_drop': '0.35230210957909364', 'epochs': 100, 'run count': 100}\n",
      "{'val': 0.5444444417953491, 'test': 0.5, 'session_id': '712178511', 'sweep': \"['712178511']\", 'lr': '1.05e-03', 'b': '128', 'lyr': '[128, 64]', 'unit_drop': '0.2736772082472837', 'wt_drop': '0.3096948423338285', 'epochs': 100, 'run count': 100}\n",
      "{'val': 0.37222224473953247, 'test': 0.29722222685813904, 'session_id': '649938038', 'sweep': \"['649938038']\", 'lr': '6.07e-03', 'b': '128', 'lyr': '[32, 16]', 'unit_drop': '0.4431585812217492', 'wt_drop': '0.11784501851448126', 'epochs': 100, 'run count': 100}\n",
      "{'val': 0.7611111402511597, 'test': 0.7416666746139526, 'session_id': '657080632', 'sweep': \"['657080632']\", 'lr': '7.43e-03', 'b': '128', 'lyr': '[64, 32]', 'unit_drop': '0.06345948722566558', 'wt_drop': '0.2553909149402952', 'epochs': 100, 'run count': 100}\n",
      "{'val': 0.8388888835906982, 'test': 0.8055555820465088, 'session_id': '501574836', 'sweep': \"['501574836']\", 'lr': '7.46e-03', 'b': '64', 'lyr': '[128, 64]', 'unit_drop': '0.2681655363261115', 'wt_drop': '0.2646820494961129', 'epochs': 100, 'run count': 100}\n",
      "{'val': 0.20000000298023224, 'test': 0.14404430985450745, 'session_id': '686909240', 'sweep': \"['686909240']\", 'lr': '8.73e-03', 'b': '64', 'lyr': '[128, 64]', 'unit_drop': '0.034313449753798964', 'wt_drop': '0.3613734557879604', 'epochs': 100, 'run count': 100}\n",
      "{'val': 0.7611111402511597, 'test': 0.7458564043045044, 'session_id': '561472633', 'sweep': \"['561472633']\", 'lr': '1.29e-03', 'b': '128', 'lyr': '[128, 64, 32]', 'unit_drop': '0.2772801071699849', 'wt_drop': '0.2634796385800959', 'epochs': 100, 'run count': 100}\n",
      "{'val': 0.7222222685813904, 'test': 0.6232686638832092, 'session_id': '510514474', 'sweep': \"['510514474']\", 'lr': '2.88e-03', 'b': '64', 'lyr': '[128, 64]', 'unit_drop': '0.18334227358246252', 'wt_drop': '0.32163667044289407', 'epochs': 100, 'run count': 100}\n",
      "{'val': 0.644444465637207, 'test': 0.574999988079071, 'session_id': '576095926', 'sweep': \"['576095926']\", 'lr': '4.47e-03', 'b': '64', 'lyr': '[64, 32]', 'unit_drop': '0.015306860632307184', 'wt_drop': '0.26372437038503044', 'epochs': 100, 'run count': 100}\n",
      "{'val': 0.49444445967674255, 'test': 0.4376731216907501, 'session_id': '508356957', 'sweep': \"['508356957']\", 'lr': '4.27e-04', 'b': '64', 'lyr': '[64, 32]', 'unit_drop': '0.1177412745470534', 'wt_drop': '0.3244432708229405', 'epochs': 100, 'run count': 100}\n",
      "{'val': 0.46961328387260437, 'test': 0.40443211793899536, 'session_id': '571684733', 'sweep': \"['571684733']\", 'lr': '6.98e-04', 'b': '64', 'lyr': '[64, 32]', 'unit_drop': '0.3882650537622585', 'wt_drop': '0.15134859444387405', 'epochs': 100, 'run count': 100}\n",
      "{'val': 0.27619048953056335, 'test': 0.2679900825023651, 'session_id': '698260532', 'sweep': \"['698260532']\", 'lr': '4.30e-04', 'b': '128', 'lyr': '[128, 64]', 'unit_drop': '0.040470240637242416', 'wt_drop': '0.1978975347713348', 'epochs': 100, 'run count': 100}\n",
      "{'val': 0.41111111640930176, 'test': 0.29722222685813904, 'session_id': '555042467', 'sweep': \"['555042467']\", 'lr': '4.56e-04', 'b': '128', 'lyr': '[128, 128, 64, 32]', 'unit_drop': '0.019536519142282497', 'wt_drop': '0.3994040004206721', 'epochs': 100, 'run count': 100}\n",
      "{'val': 0.6888889074325562, 'test': 0.5888888835906982, 'session_id': '595806300', 'sweep': \"['595806300']\", 'lr': '1.31e-03', 'b': '64', 'lyr': '[64, 32]', 'unit_drop': '0.08510395197531206', 'wt_drop': '0.23692964111728151', 'epochs': 100, 'run count': 100}\n",
      "{'val': 0.43888890743255615, 'test': 0.3583333492279053, 'session_id': '570236381', 'sweep': \"['570236381']\", 'lr': '1.66e-03', 'b': '64', 'lyr': '[64, 32]', 'unit_drop': '0.3584493468631362', 'wt_drop': '0.1469223031940448', 'epochs': 100, 'run count': 100}\n",
      "{'val': 0.21666666865348816, 'test': 0.11666666716337204, 'session_id': '617395455', 'sweep': \"['617395455']\", 'lr': '5.73e-03', 'b': '128', 'lyr': '[128, 64, 32]', 'unit_drop': '0.4376580961598589', 'wt_drop': '0.2785844415658908', 'epochs': 100, 'run count': 100}\n",
      "{'val': 0.6277778148651123, 'test': 0.5916666984558105, 'session_id': '503324629', 'sweep': \"['503324629']\", 'lr': '6.47e-04', 'b': '128', 'lyr': '[128, 64]', 'unit_drop': '0.09749213032579652', 'wt_drop': '0.16091683148852126', 'epochs': 100, 'run count': 100}\n",
      "{'val': 0.8333333730697632, 'test': 0.7722222208976746, 'session_id': '683257169', 'sweep': \"['683257169']\", 'lr': '1.80e-03', 'b': '64', 'lyr': '[128, 64]', 'unit_drop': '0.34834227940814383', 'wt_drop': '0.4453824427336981', 'epochs': 100, 'run count': 100}\n",
      "{'val': 0.6388888955116272, 'test': 0.6740331649780273, 'session_id': '501876401', 'sweep': \"['501876401']\", 'lr': '7.28e-04', 'b': '128', 'lyr': '[64, 32]', 'unit_drop': '0.19922895562245407', 'wt_drop': '0.06696500629643604', 'epochs': 100, 'run count': 100}\n",
      "{'val': 0.19900497794151306, 'test': 0.08037824928760529, 'session_id': '637154333', 'sweep': \"['637154333']\", 'lr': '1.27e-03', 'b': '128', 'lyr': '[128, 64]', 'unit_drop': '0.23925827890585932', 'wt_drop': '0.08688293036279748', 'epochs': 100, 'run count': 100}\n",
      "{'val': 0.2666666805744171, 'test': 0.22500000894069672, 'session_id': '603224878', 'sweep': \"['603224878']\", 'lr': '5.68e-03', 'b': '128', 'lyr': '[128, 64, 32]', 'unit_drop': '0.092616987536437', 'wt_drop': '0.28887000748190184', 'epochs': 100, 'run count': 100}\n",
      "{'val': 0.430939257144928, 'test': 0.32500001788139343, 'session_id': '507691036', 'sweep': \"['507691036']\", 'lr': '1.07e-03', 'b': '128', 'lyr': '[128, 64]', 'unit_drop': '0.19868787321162085', 'wt_drop': '0.23367358837251123', 'epochs': 100, 'run count': 100}\n",
      "{'val': 0.5611111521720886, 'test': 0.5524861812591553, 'session_id': '541010698', 'sweep': \"['541010698']\", 'lr': '8.01e-04', 'b': '128', 'lyr': '[128, 64, 32]', 'unit_drop': '0.3271411960700533', 'wt_drop': '0.1502544152848544', 'epochs': 100, 'run count': 100}\n",
      "{'val': 0.3777777850627899, 'test': 0.3232044279575348, 'session_id': '541290571', 'sweep': \"['541290571']\", 'lr': '4.36e-04', 'b': '128', 'lyr': '[128, 64]', 'unit_drop': '0.4487210456771892', 'wt_drop': '0.48207658699661615', 'epochs': 100, 'run count': 100}\n",
      "{'val': 0.2611111104488373, 'test': 0.15555556118488312, 'session_id': '680150733', 'sweep': \"['680150733']\", 'lr': '4.32e-03', 'b': '64', 'lyr': '[128, 64]', 'unit_drop': '0.30068191262066146', 'wt_drop': '0.4537548314178239', 'epochs': 100, 'run count': 100}\n",
      "{'val': 0.7900552749633789, 'test': 0.7055555582046509, 'session_id': '580095655', 'sweep': \"['580095655']\", 'lr': '8.23e-03', 'b': '64', 'lyr': '[64, 32]', 'unit_drop': '0.029378018403469708', 'wt_drop': '0.3234925071717733', 'epochs': 100, 'run count': 100}\n",
      "{'val': 0.6611111164093018, 'test': 0.5638889074325562, 'session_id': '658854537', 'sweep': \"['658854537']\", 'lr': '1.17e-03', 'b': '64', 'lyr': '[128, 64]', 'unit_drop': '0.12740826608689604', 'wt_drop': '0.29955022110380536', 'epochs': 100, 'run count': 100}\n",
      "{'val': 0.215469628572464, 'test': 0.09166666865348816, 'session_id': '603978471', 'sweep': \"['603978471']\", 'lr': '4.18e-04', 'b': '128', 'lyr': '[128, 64, 32]', 'unit_drop': '0.01494542072720828', 'wt_drop': '0.0445556608226057', 'epochs': 100, 'run count': 100}\n",
      "{'val': 0.7555555701255798, 'test': 0.75, 'session_id': '679702884', 'sweep': \"['679702884']\", 'lr': '1.09e-03', 'b': '64', 'lyr': '[128, 64]', 'unit_drop': '0.1315027378984227', 'wt_drop': '0.19886735378630932', 'epochs': 100, 'run count': 100}\n",
      "{'val': 0.7555555701255798, 'test': 0.7063711881637573, 'session_id': '637669270', 'sweep': \"['637669270']\", 'lr': '5.89e-04', 'b': '128', 'lyr': '[64, 32]', 'unit_drop': '0.1950630871273568', 'wt_drop': '0.24943897707995677', 'epochs': 100, 'run count': 100}\n",
      "{'val': 0.20192308723926544, 'test': 0.15180723369121552, 'session_id': '588655112', 'sweep': \"['588655112']\", 'lr': '6.93e-03', 'b': '64', 'lyr': '[128, 64]', 'unit_drop': '0.44062541945337497', 'wt_drop': '0.08066444599460337', 'epochs': 100, 'run count': 100}\n",
      "{'val': 0.6500000357627869, 'test': 0.6416667103767395, 'session_id': '511573879', 'sweep': \"['511573879']\", 'lr': '5.21e-04', 'b': '128', 'lyr': '[64, 32]', 'unit_drop': '0.08387383546068933', 'wt_drop': '0.02156424288187514', 'epochs': 100, 'run count': 100}\n",
      "{'val': 0.23756906390190125, 'test': 0.20221605896949768, 'session_id': '599320182', 'sweep': \"['599320182']\", 'lr': '8.28e-03', 'b': '128', 'lyr': '[128, 64]', 'unit_drop': '0.05527854096967211', 'wt_drop': '0.011817769732103025', 'epochs': 100, 'run count': 100}\n",
      "{'val': 0.23333333432674408, 'test': 0.11080332100391388, 'session_id': '670395999', 'sweep': \"['670395999']\", 'lr': '3.58e-03', 'b': '64', 'lyr': '[32, 16]', 'unit_drop': '0.16611883190901372', 'wt_drop': '0.2908728210648665', 'epochs': 100, 'run count': 100}\n",
      "{'val': 0.4055555760860443, 'test': 0.30277779698371887, 'session_id': '551834174', 'sweep': \"['551834174']\", 'lr': '3.67e-03', 'b': '128', 'lyr': '[64, 32]', 'unit_drop': '0.21191699854097168', 'wt_drop': '0.46547874576917225', 'epochs': 100, 'run count': 100}\n",
      "{'val': 0.20555555820465088, 'test': 0.16388888657093048, 'session_id': '665722301', 'sweep': \"['665722301']\", 'lr': '3.51e-03', 'b': '64', 'lyr': '[128, 64]', 'unit_drop': '0.14911233843260624', 'wt_drop': '0.028865045654206056', 'epochs': 100, 'run count': 100}\n",
      "{'val': 0.5611111521720886, 'test': 0.5083333253860474, 'session_id': '563710064', 'sweep': \"['563710064']\", 'lr': '2.50e-03', 'b': '64', 'lyr': '[64, 32]', 'unit_drop': '0.03683454342676229', 'wt_drop': '0.07277738744120393', 'epochs': 100, 'run count': 100}\n",
      "{'val': 0.23888888955116272, 'test': 0.15235456824302673, 'session_id': '609517556', 'sweep': \"['609517556']\", 'lr': '2.49e-03', 'b': '64', 'lyr': '[32, 16]', 'unit_drop': '0.14895845405203612', 'wt_drop': '0.3326700149402166', 'epochs': 100, 'run count': 100}\n",
      "{'val': 0.3777777850627899, 'test': 0.32777777314186096, 'session_id': '611638995', 'sweep': \"['611638995']\", 'lr': '7.13e-04', 'b': '128', 'lyr': '[128, 64]', 'unit_drop': '0.3846888361029726', 'wt_drop': '0.26961958375715867', 'epochs': 100, 'run count': 100}\n",
      "{'val': 0.43888890743255615, 'test': 0.3638888895511627, 'session_id': '508563988', 'sweep': \"['508563988']\", 'lr': '1.30e-03', 'b': '128', 'lyr': '[128, 64]', 'unit_drop': '0.2815363796599613', 'wt_drop': '0.12699832339230288', 'epochs': 100, 'run count': 100}\n",
      "{'val': 0.9222222566604614, 'test': 0.8259668946266174, 'session_id': '509958730', 'sweep': \"['509958730']\", 'lr': '2.88e-03', 'b': '128', 'lyr': '[128, 64]', 'unit_drop': '0.32322807372745493', 'wt_drop': '0.28541910800146075', 'epochs': 100, 'run count': 100}\n",
      "{'val': 0.21666666865348816, 'test': 0.125, 'session_id': '560866155', 'sweep': \"['560866155']\", 'lr': '6.31e-03', 'b': '128', 'lyr': '[128, 64]', 'unit_drop': '0.4464119446172719', 'wt_drop': '0.4477758190135556', 'epochs': 100, 'run count': 100}\n",
      "{'val': 0.30000001192092896, 'test': 0.13573406636714935, 'session_id': '660064796', 'sweep': \"['660064796']\", 'lr': '5.33e-03', 'b': '64', 'lyr': '[64, 32]', 'unit_drop': '0.17715785014929314', 'wt_drop': '0.46605535239988777', 'epochs': 100, 'run count': 100}\n",
      "{'val': 0.5055555701255798, 'test': 0.4764542877674103, 'session_id': '584983136', 'sweep': \"['584983136']\", 'lr': '6.84e-03', 'b': '64', 'lyr': '[64, 32]', 'unit_drop': '0.05258417337689264', 'wt_drop': '0.16391200796775968', 'epochs': 100, 'run count': 100}\n",
      "{'val': 0.694444477558136, 'test': 0.6194444298744202, 'session_id': '682051855', 'sweep': \"['682051855']\", 'lr': '2.09e-03', 'b': '64', 'lyr': '[64, 32]', 'unit_drop': '0.23801875496216013', 'wt_drop': '0.15222179347282017', 'epochs': 100, 'run count': 100}\n",
      "{'val': 0.46666666865348816, 'test': 0.46388891339302063, 'session_id': '582867147', 'sweep': \"['582867147']\", 'lr': '2.93e-03', 'b': '128', 'lyr': '[128, 128, 64, 32]', 'unit_drop': '0.025517965205829773', 'wt_drop': '0.3081492867460905', 'epochs': 100, 'run count': 100}\n",
      "{'val': 0.4444444477558136, 'test': 0.3083333373069763, 'session_id': '598564173', 'sweep': \"['598564173']\", 'lr': '1.34e-03', 'b': '128', 'lyr': '[128, 64, 32]', 'unit_drop': '0.0282281936272899', 'wt_drop': '0.04593556857058162', 'epochs': 100, 'run count': 100}\n",
      "{'val': 0.41111111640930176, 'test': 0.3861111104488373, 'session_id': '566096665', 'sweep': \"['566096665']\", 'lr': '2.27e-03', 'b': '128', 'lyr': '[128, 64, 32]', 'unit_drop': '0.0568633501489727', 'wt_drop': '0.3357618682921933', 'epochs': 100, 'run count': 100}\n",
      "{'val': 0.25555557012557983, 'test': 0.1666666716337204, 'session_id': '603592541', 'sweep': \"['603592541']\", 'lr': '6.93e-03', 'b': '128', 'lyr': '[128, 64, 32]', 'unit_drop': '0.4184729585870597', 'wt_drop': '0.2353056318999785', 'epochs': 100, 'run count': 100}\n",
      "{'val': 0.75, 'test': 0.6759002804756165, 'session_id': '623587006', 'sweep': \"['623587006']\", 'lr': '9.05e-04', 'b': '128', 'lyr': '[128, 64]', 'unit_drop': '0.30169254815356344', 'wt_drop': '0.25594789198756845', 'epochs': 100, 'run count': 100}\n",
      "{'val': 0.4833333492279053, 'test': 0.39722222089767456, 'session_id': '581026088', 'sweep': \"['581026088']\", 'lr': '9.82e-03', 'b': '128', 'lyr': '[32, 16]', 'unit_drop': '0.20750057067858224', 'wt_drop': '0.44753001128382475', 'epochs': 100, 'run count': 100}\n",
      "{'val': 0.3444444537162781, 'test': 0.22500000894069672, 'session_id': '683253712', 'sweep': \"['683253712']\", 'lr': '5.21e-03', 'b': '128', 'lyr': '[64, 32]', 'unit_drop': '0.022256333556813612', 'wt_drop': '0.15041217852958932', 'epochs': 100, 'run count': 100}\n",
      "{'val': 0.7111111283302307, 'test': 0.7638888955116272, 'session_id': '653122667', 'sweep': \"['653122667']\", 'lr': '3.97e-04', 'b': '128', 'lyr': '[128, 64]', 'unit_drop': '0.24901329480586337', 'wt_drop': '0.019408170209646636', 'epochs': 100, 'run count': 100}\n",
      "{'val': 0.2222222238779068, 'test': 0.17222222685813904, 'session_id': '591548033', 'sweep': \"['591548033']\", 'lr': '2.85e-03', 'b': '128', 'lyr': '[32, 16]', 'unit_drop': '0.06564273683819782', 'wt_drop': '0.2817770325901051', 'epochs': 100, 'run count': 100}\n",
      "{'val': 0.2611111104488373, 'test': 0.20000000298023224, 'session_id': '576411246', 'sweep': \"['576411246']\", 'lr': '6.68e-03', 'b': '128', 'lyr': '[32, 16]', 'unit_drop': '0.27809566090786686', 'wt_drop': '0.0899310102013145', 'epochs': 100, 'run count': 100}\n",
      "{'val': 0.6666666865348816, 'test': 0.574999988079071, 'session_id': '637998955', 'sweep': \"['637998955']\", 'lr': '5.14e-04', 'b': '128', 'lyr': '[128, 64, 32]', 'unit_drop': '0.06806147871193591', 'wt_drop': '0.4191539109429635', 'epochs': 100, 'run count': 100}\n",
      "{'val': 0.19889503717422485, 'test': 0.14722222089767456, 'session_id': '577665023', 'sweep': \"['577665023']\", 'lr': '5.67e-03', 'b': '128', 'lyr': '[32, 16]', 'unit_drop': '0.3250406702471083', 'wt_drop': '0.27709915830312537', 'epochs': 100, 'run count': 100}\n",
      "{'val': 0.5277777910232544, 'test': 0.5, 'session_id': '699155265', 'sweep': \"['699155265']\", 'lr': '6.47e-04', 'b': '128', 'lyr': '[128, 64]', 'unit_drop': '0.2233864905393962', 'wt_drop': '0.2556915817787727', 'epochs': 100, 'run count': 100}\n",
      "{'val': 0.18232044577598572, 'test': 0.1805555671453476, 'session_id': '585900296', 'sweep': \"['585900296']\", 'lr': '3.98e-03', 'b': '64', 'lyr': '[128, 128, 64, 32]', 'unit_drop': '0.029403206367083937', 'wt_drop': '0.13242695847851554', 'epochs': 100, 'run count': 100}\n",
      "{'val': 0.4888888895511627, 'test': 0.3232044279575348, 'session_id': '572606382', 'sweep': \"['572606382']\", 'lr': '9.13e-03', 'b': '64', 'lyr': '[128, 64, 32]', 'unit_drop': '0.28016007672268795', 'wt_drop': '0.006368400301998589', 'epochs': 100, 'run count': 100}\n",
      "{'val': 0.6666666269302368, 'test': 0.5485436916351318, 'session_id': '557225279', 'sweep': \"['557225279']\", 'lr': '2.36e-03', 'b': '128', 'lyr': '[128, 64]', 'unit_drop': '0.1534336033267214', 'wt_drop': '0.3580799132350808', 'epochs': 100, 'run count': 100}\n",
      "{'val': 0.15555556118488312, 'test': 0.1527777761220932, 'session_id': '582838758', 'sweep': \"['582838758']\", 'lr': '6.02e-04', 'b': '128', 'lyr': '[64, 32]', 'unit_drop': '0.07743123436623361', 'wt_drop': '0.10423258917325062', 'epochs': 100, 'run count': 100}\n",
      "{'val': 0.6585366129875183, 'test': 0.5108433961868286, 'session_id': '587339481', 'sweep': \"['587339481']\", 'lr': '5.10e-04', 'b': '64', 'lyr': '[64, 32]', 'unit_drop': '0.4019774816469771', 'wt_drop': '0.1306482520900641', 'epochs': 100, 'run count': 100}\n",
      "{'val': 0.5611111521720886, 'test': 0.46388891339302063, 'session_id': '562122508', 'sweep': \"['562122508']\", 'lr': '2.54e-04', 'b': '128', 'lyr': '[128, 64]', 'unit_drop': '0.09290056782332856', 'wt_drop': '0.14762057658828265', 'epochs': 100, 'run count': 100}\n",
      "{'val': 0.20000000298023224, 'test': 0.13611111044883728, 'session_id': '650079244', 'sweep': \"['650079244']\", 'lr': '1.43e-03', 'b': '128', 'lyr': '[128, 128, 64, 32]', 'unit_drop': '0.16554313440963137', 'wt_drop': '0.05627142173597016', 'epochs': 100, 'run count': 92}\n",
      "{'val': 0.20000000298023224, 'test': 0.13055555522441864, 'session_id': '658020691', 'sweep': \"['658020691']\", 'lr': '1.44e-03', 'b': '128', 'lyr': '[128, 64]', 'unit_drop': '0.06334336389847683', 'wt_drop': '0.3194551926897039', 'epochs': 100, 'run count': 100}\n",
      "{'val': 0.2541436553001404, 'test': 0.22714680433273315, 'session_id': '557227804', 'sweep': \"['557227804']\", 'lr': '5.64e-04', 'b': '128', 'lyr': '[128, 64]', 'unit_drop': '0.0008436160939589432', 'wt_drop': '0.4971216689571125', 'epochs': 100, 'run count': 100}\n",
      "{'val': 0.33888888359069824, 'test': 0.21111111342906952, 'session_id': '592348507', 'sweep': \"['592348507']\", 'lr': '6.84e-03', 'b': '128', 'lyr': '[128, 64]', 'unit_drop': '0.3257324177494714', 'wt_drop': '0.33427651618886756', 'epochs': 100, 'run count': 100}\n",
      "{'val': 0.2326732575893402, 'test': 0.16461916267871857, 'session_id': '658533763', 'sweep': \"['658533763']\", 'lr': '4.55e-03', 'b': '128', 'lyr': '[128, 64, 32]', 'unit_drop': '0.4735053371999178', 'wt_drop': '0.0899096402886293', 'epochs': 100, 'run count': 100}\n",
      "{'val': 0.3166666626930237, 'test': 0.2083333432674408, 'session_id': '559382012', 'sweep': \"['559382012']\", 'lr': '9.85e-04', 'b': '128', 'lyr': '[64, 32]', 'unit_drop': '0.1272636624521506', 'wt_drop': '0.37830818026391033', 'epochs': 100, 'run count': 100}\n",
      "{'val': 0.2777777910232544, 'test': 0.1805555671453476, 'session_id': '676503588', 'sweep': \"['676503588']\", 'lr': '8.66e-03', 'b': '128', 'lyr': '[64, 32]', 'unit_drop': '0.19771734245766423', 'wt_drop': '0.06685901217399182', 'epochs': 100, 'run count': 100}\n",
      "{'val': 0.5444444417953491, 'test': 0.4570637047290802, 'session_id': '661328410', 'sweep': \"['661328410']\", 'lr': '3.05e-04', 'b': '128', 'lyr': '[128, 128, 64, 32]', 'unit_drop': '0.2494810868464352', 'wt_drop': '0.2963503578815075', 'epochs': 100, 'run count': 100}\n",
      "{'val': 0.21666666865348816, 'test': 0.13573406636714935, 'session_id': '672206735', 'sweep': \"['672206735']\", 'lr': '4.30e-03', 'b': '128', 'lyr': '[128, 64]', 'unit_drop': '0.49919059447933806', 'wt_drop': '0.40412610575869623', 'epochs': 100, 'run count': 100}\n",
      "{'val': 0.5111111402511597, 'test': 0.40443211793899536, 'session_id': '603425659', 'sweep': \"['603425659']\", 'lr': '5.90e-03', 'b': '64', 'lyr': '[128, 64]', 'unit_drop': '0.04887580089841259', 'wt_drop': '0.3335046768939036', 'epochs': 100, 'run count': 100}\n",
      "{'val': 0.4555555582046509, 'test': 0.39722222089767456, 'session_id': '596779487', 'sweep': \"['596779487']\", 'lr': '6.48e-03', 'b': '128', 'lyr': '[32, 16]', 'unit_drop': '0.13217572488327134', 'wt_drop': '0.1676971641990555', 'epochs': 100, 'run count': 100}\n",
      "{'val': 0.2596685290336609, 'test': 0.14444445073604584, 'session_id': '651770380', 'sweep': \"['651770380']\", 'lr': '4.04e-03', 'b': '64', 'lyr': '[128, 128, 64, 32]', 'unit_drop': '0.13633855500747927', 'wt_drop': '0.13282564352221726', 'epochs': 100, 'run count': 100}\n",
      "{'val': 0.28176796436309814, 'test': 0.24376730620861053, 'session_id': '598137246', 'sweep': \"['598137246']\", 'lr': '6.65e-03', 'b': '64', 'lyr': '[128, 128, 64, 32]', 'unit_drop': '0.02145519784031036', 'wt_drop': '0.09941040714538708', 'epochs': 100, 'run count': 100}\n",
      "{'val': 0.694444477558136, 'test': 0.6094182729721069, 'session_id': '647595665', 'sweep': \"['647595665']\", 'lr': '7.92e-04', 'b': '128', 'lyr': '[128, 64]', 'unit_drop': '0.3681703079674352', 'wt_drop': '0.3187335294746161', 'epochs': 100, 'run count': 100}\n",
      "{'val': 0.23333333432674408, 'test': 0.125, 'session_id': '658518486', 'sweep': \"['658518486']\", 'lr': '6.94e-03', 'b': '64', 'lyr': '[128, 64]', 'unit_drop': '0.14419912182367217', 'wt_drop': '0.028526583289116392', 'epochs': 100, 'run count': 100}\n",
      "{'val': 0.6222222447395325, 'test': 0.5583333373069763, 'session_id': '667004159', 'sweep': \"['667004159']\", 'lr': '7.42e-03', 'b': '128', 'lyr': '[128, 64, 32]', 'unit_drop': '0.14255504489342363', 'wt_drop': '0.3125319406781989', 'epochs': 100, 'run count': 100}\n",
      "{'val': 0.20000000298023224, 'test': 0, 'session_id': '555749369', 'sweep': \"['555749369']\", 'lr': '3.12e-03', 'b': '64', 'lyr': '[128, 64]', 'unit_drop': '0.0953432121612348', 'wt_drop': '0.10975511624168682', 'epochs': 100, 'run count': 46}\n",
      "{'val': 0.3922652006149292, 'test': 0.2750000059604645, 'session_id': '595808594', 'sweep': \"['595808594']\", 'lr': '2.81e-03', 'b': '128', 'lyr': '[128, 64, 32]', 'unit_drop': '0.09366701914999082', 'wt_drop': '0.20679107516351475', 'epochs': 100, 'run count': 100}\n",
      "{'val': 0.27222222089767456, 'test': 0.1805555671453476, 'session_id': '644386884', 'sweep': \"['644386884']\", 'lr': '7.99e-04', 'b': '128', 'lyr': '[128, 64, 32]', 'unit_drop': '0.019653413429954417', 'wt_drop': '0.07237796440085464', 'epochs': 100, 'run count': 100}\n",
      "{'val': 0.6388888955116272, 'test': 0.569444477558136, 'session_id': '646016204', 'sweep': \"['646016204']\", 'lr': '6.40e-03', 'b': '128', 'lyr': '[64, 32]', 'unit_drop': '0.025172945175333417', 'wt_drop': '0.309758110162599', 'epochs': 100, 'run count': 100}\n",
      "{'val': 0.2944444417953491, 'test': 0.23268696665763855, 'session_id': '556321897', 'sweep': \"['556321897']\", 'lr': '7.94e-03', 'b': '64', 'lyr': '[128, 64, 32]', 'unit_drop': '0.4735392150988665', 'wt_drop': '0.09054603440106762', 'epochs': 100, 'run count': 100}\n",
      "{'val': 0.21052630245685577, 'test': 0.14805825054645538, 'session_id': '671164733', 'sweep': \"['671164733']\", 'lr': '1.31e-03', 'b': '128', 'lyr': '[128, 128, 64, 32]', 'unit_drop': '0.2471420524833833', 'wt_drop': '0.10952485914029868', 'epochs': 100, 'run count': 100}\n",
      "{'val': 0.25, 'test': 0.21944445371627808, 'session_id': '663866413', 'sweep': \"['663866413']\", 'lr': '2.61e-03', 'b': '128', 'lyr': '[128, 64]', 'unit_drop': '0.4404405483744194', 'wt_drop': '0.05977979426652391', 'epochs': 100, 'run count': 100}\n",
      "{'val': 0.6022099852561951, 'test': 0.5055555701255798, 'session_id': '651770794', 'sweep': \"['651770794']\", 'lr': '1.65e-03', 'b': '64', 'lyr': '[64, 32]', 'unit_drop': '0.016420807126829473', 'wt_drop': '0.43562497011220885', 'epochs': 100, 'run count': 100}\n",
      "{'val': 0.35555556416511536, 'test': 0.2750000059604645, 'session_id': '509904120', 'sweep': \"['509904120']\", 'lr': '7.83e-03', 'b': '128', 'lyr': '[64, 32]', 'unit_drop': '0.09502146735377526', 'wt_drop': '0.1323486996414705', 'epochs': 100, 'run count': 100}\n",
      "{'val': 0.23333333432674408, 'test': 0.22500000894069672, 'session_id': '640198011', 'sweep': \"['640198011']\", 'lr': '1.69e-03', 'b': '128', 'lyr': '[32, 16]', 'unit_drop': '0.15120463630153447', 'wt_drop': '0.47429749159312856', 'epochs': 100, 'run count': 100}\n",
      "{'val': 0.699999988079071, 'test': 0.6243094205856323, 'session_id': '506809539', 'sweep': \"['506809539']\", 'lr': '2.33e-03', 'b': '64', 'lyr': '[128, 64]', 'unit_drop': '0.04503050610025133', 'wt_drop': '0.480574725287579', 'epochs': 100, 'run count': 100}\n",
      "{'val': 0.3333333432674408, 'test': 0.3361111283302307, 'session_id': '657391037', 'sweep': \"['657391037']\", 'lr': '9.44e-03', 'b': '128', 'lyr': '[64, 32]', 'unit_drop': '0.0575422492466221', 'wt_drop': '0.08248701291740462', 'epochs': 100, 'run count': 100}\n",
      "{'val': 0.2801932394504547, 'test': 0.22358721494674683, 'session_id': '642884591', 'sweep': \"['642884591']\", 'lr': '4.65e-03', 'b': '128', 'lyr': '[64, 32]', 'unit_drop': '0.20192944420259337', 'wt_drop': '0.22810201877755443', 'epochs': 100, 'run count': 100}\n",
      "{'val': 0.14917127788066864, 'test': 0.0914127379655838, 'session_id': '595183197', 'sweep': \"['595183197']\", 'lr': '6.13e-03', 'b': '128', 'lyr': '[128, 64, 32]', 'unit_drop': '0.14986338399854665', 'wt_drop': '0.3218478561593781', 'epochs': 100, 'run count': 100}\n",
      "{'val': 0.45000001788139343, 'test': 0.42105263471603394, 'session_id': '584944065', 'sweep': \"['584944065']\", 'lr': '8.01e-04', 'b': '128', 'lyr': '[128, 64]', 'unit_drop': '0.016827462722103004', 'wt_drop': '0.29333072428001555', 'epochs': 100, 'run count': 100}\n",
      "{'val': 0.5833333730697632, 'test': 0.49444445967674255, 'session_id': '623339221', 'sweep': \"['623339221']\", 'lr': '9.12e-03', 'b': '128', 'lyr': '[128, 64, 32]', 'unit_drop': '0.015638080567103807', 'wt_drop': '0.16550405990876288', 'epochs': 100, 'run count': 100}\n",
      "{'val': 0.4611111283302307, 'test': 0.40166205167770386, 'session_id': '569645690', 'sweep': \"['569645690']\", 'lr': '8.54e-04', 'b': '128', 'lyr': '[64, 32]', 'unit_drop': '0.02492764568505712', 'wt_drop': '0.29465181458919526', 'epochs': 100, 'run count': 100}\n",
      "{'val': 0.6166666746139526, 'test': 0.5124653577804565, 'session_id': '578674360', 'sweep': \"['578674360']\", 'lr': '5.19e-03', 'b': '128', 'lyr': '[128, 64, 32]', 'unit_drop': '0.204103877187575', 'wt_drop': '0.2686446601117111', 'epochs': 100, 'run count': 100}\n",
      "{'val': 0.550000011920929, 'test': 0.3888888955116272, 'session_id': '510859641', 'sweep': \"['510859641']\", 'lr': '7.57e-04', 'b': '64', 'lyr': '[64, 32]', 'unit_drop': '0.057574821721189495', 'wt_drop': '0.2567437662281721', 'epochs': 100, 'run count': 100}\n",
      "{'val': 0.6888889074325562, 'test': 0.5388889312744141, 'session_id': '603576132', 'sweep': \"['603576132']\", 'lr': '6.99e-03', 'b': '128', 'lyr': '[128, 128, 64, 32]', 'unit_drop': '0.003505040728528086', 'wt_drop': '0.0260088257844035', 'epochs': 100, 'run count': 100}\n",
      "{'val': 0.20603014528751373, 'test': 0.1307506114244461, 'session_id': '594090967', 'sweep': \"['594090967']\", 'lr': '3.05e-03', 'b': '64', 'lyr': '[128, 64]', 'unit_drop': '0.03713259223406745', 'wt_drop': '0.21252181575816487', 'epochs': 100, 'run count': 100}\n",
      "{'val': 0.641791045665741, 'test': 0.5463414788246155, 'session_id': '660513003', 'sweep': \"['660513003']\", 'lr': '6.65e-03', 'b': '64', 'lyr': '[128, 64, 32]', 'unit_drop': '0.1593542415554609', 'wt_drop': '0.28336251418103836', 'epochs': 100, 'run count': 100}\n",
      "{'val': 0.8055555820465088, 'test': 0.8111111521720886, 'session_id': '563176332', 'sweep': \"['563176332']\", 'lr': '6.83e-04', 'b': '128', 'lyr': '[128, 64]', 'unit_drop': '0.2684502886848832', 'wt_drop': '0.3960410748934007', 'epochs': 100, 'run count': 100}\n",
      "{'val': 0.1944444477558136, 'test': 0.12222222238779068, 'session_id': '657389972', 'sweep': \"['657389972']\", 'lr': '3.14e-03', 'b': '128', 'lyr': '[128, 64]', 'unit_drop': '0.0975668034138153', 'wt_drop': '0.0062736537746279075', 'epochs': 100, 'run count': 100}\n",
      "{'val': 0.5388889312744141, 'test': 0.5277777910232544, 'session_id': '584196534', 'sweep': \"['584196534']\", 'lr': '2.84e-03', 'b': '64', 'lyr': '[128, 64, 32]', 'unit_drop': '0.06691399302307816', 'wt_drop': '0.06466662260137412', 'epochs': 100, 'run count': 100}\n",
      "{'val': 0.6333333253860474, 'test': 0.49584487080574036, 'session_id': '593270603', 'sweep': \"['593270603']\", 'lr': '3.80e-03', 'b': '128', 'lyr': '[128, 128, 64, 32]', 'unit_drop': '0.28531745699376254', 'wt_drop': '0.05722069837332966', 'epochs': 100, 'run count': 100}\n",
      "{'val': 0.5444444417953491, 'test': 0.45277780294418335, 'session_id': '552410386', 'sweep': \"['552410386']\", 'lr': '2.80e-03', 'b': '64', 'lyr': '[64, 32]', 'unit_drop': '0.4024499368790509', 'wt_drop': '0.2295548857305053', 'epochs': 100, 'run count': 100}\n",
      "{'val': 0.28333333134651184, 'test': 0.12465373426675797, 'session_id': '652092676', 'sweep': \"['652092676']\", 'lr': '9.10e-03', 'b': '64', 'lyr': '[64, 32]', 'unit_drop': '0.1375821081793303', 'wt_drop': '0.10711401665094168', 'epochs': 100, 'run count': 100}\n",
      "{'val': 0.5166666507720947, 'test': 0.38055557012557983, 'session_id': '595263154', 'sweep': \"['595263154']\", 'lr': '1.70e-03', 'b': '128', 'lyr': '[128, 64]', 'unit_drop': '0.06641430744502574', 'wt_drop': '0.08235015684812075', 'epochs': 100, 'run count': 100}\n",
      "{'val': 0.4055555760860443, 'test': 0.30000001192092896, 'session_id': '557304694', 'sweep': \"['557304694']\", 'lr': '2.43e-03', 'b': '64', 'lyr': '[128, 128, 64, 32]', 'unit_drop': '0.21063925662324584', 'wt_drop': '0.13376998522832306', 'epochs': 100, 'run count': 100}\n",
      "{'val': 0.7388889193534851, 'test': 0.7527778148651123, 'session_id': '637671554', 'sweep': \"['637671554']\", 'lr': '6.88e-03', 'b': '64', 'lyr': '[128, 64, 32]', 'unit_drop': '0.2086694190379157', 'wt_drop': '0.46411679153062496', 'epochs': 100, 'run count': 100}\n",
      "{'val': 0.4554455280303955, 'test': 0.32608693838119507, 'session_id': '613599811', 'sweep': \"['613599811']\", 'lr': '5.26e-03', 'b': '64', 'lyr': '[128, 64]', 'unit_drop': '0.23259235554334903', 'wt_drop': '0.2458231255998213', 'epochs': 100, 'run count': 100}\n",
      "{'val': 0.3222222328186035, 'test': 0.24166667461395264, 'session_id': '679700458', 'sweep': \"['679700458']\", 'lr': '1.42e-03', 'b': '128', 'lyr': '[128, 64, 32]', 'unit_drop': '0.04651651340965107', 'wt_drop': '0.006172395778977213', 'epochs': 100, 'run count': 100}\n",
      "{'val': 0.28155338764190674, 'test': 0.1456310749053955, 'session_id': '669861524', 'sweep': \"['669861524']\", 'lr': '9.91e-03', 'b': '128', 'lyr': '[64, 32]', 'unit_drop': '0.07594785717056574', 'wt_drop': '0.046845903640002795', 'epochs': 100, 'run count': 100}\n",
      "{'val': 0.34951457381248474, 'test': 0.3046683073043823, 'session_id': '642278925', 'sweep': \"['642278925']\", 'lr': '7.09e-03', 'b': '128', 'lyr': '[128, 64, 32]', 'unit_drop': '0.006091254519227096', 'wt_drop': '0.30798307012286563', 'epochs': 100, 'run count': 100}\n",
      "{'val': 0.18888889253139496, 'test': 0.17222222685813904, 'session_id': '612536911', 'sweep': \"['612536911']\", 'lr': '2.86e-03', 'b': '128', 'lyr': '[64, 32]', 'unit_drop': '0.17990560941843436', 'wt_drop': '0.4944321125065059', 'epochs': 100, 'run count': 100}\n",
      "{'val': 0.6740331649780273, 'test': 0.591160237789154, 'session_id': '506773892', 'sweep': \"['506773892']\", 'lr': '4.00e-04', 'b': '64', 'lyr': '[128, 64, 32]', 'unit_drop': '0.06419520356797848', 'wt_drop': '0.10112148808088613', 'epochs': 100, 'run count': 100}\n",
      "{'val': 0.17222222685813904, 'test': 0.11666666716337204, 'session_id': '675477919', 'sweep': \"['675477919']\", 'lr': '1.33e-03', 'b': '128', 'lyr': '[128, 64, 32]', 'unit_drop': '0.34744183105659665', 'wt_drop': '0.3358405860946774', 'epochs': 100, 'run count': 100}\n",
      "{'val': 0.5166666507720947, 'test': 0.43888890743255615, 'session_id': '564607188', 'sweep': \"['564607188']\", 'lr': '6.76e-03', 'b': '64', 'lyr': '[128, 64]', 'unit_drop': '0.16663040032358478', 'wt_drop': '0.2573263150323663', 'epochs': 100, 'run count': 100}\n",
      "{'val': 0.9166666865348816, 'test': 0.8476454019546509, 'session_id': '590168385', 'sweep': \"['590168385']\", 'lr': '5.52e-03', 'b': '128', 'lyr': '[128, 64, 32]', 'unit_drop': '0.15562114628975798', 'wt_drop': '0.03784800918323156', 'epochs': 100, 'run count': 100}\n",
      "{'val': 0.2611111104488373, 'test': 0.17222222685813904, 'session_id': '639251932', 'sweep': \"['639251932']\", 'lr': '9.36e-03', 'b': '128', 'lyr': '[32, 16]', 'unit_drop': '0.23722464491888048', 'wt_drop': '0.31913078941645606', 'epochs': 100, 'run count': 100}\n",
      "{'val': 0.5777778029441833, 'test': 0.48895028233528137, 'session_id': '571137446', 'sweep': \"['571137446']\", 'lr': '1.02e-03', 'b': '128', 'lyr': '[128, 128, 64, 32]', 'unit_drop': '0.17303742381426512', 'wt_drop': '0.4350721640694451', 'epochs': 100, 'run count': 100}\n",
      "{'val': 0.42222222685813904, 'test': 0.33888888359069824, 'session_id': '531134090', 'sweep': \"['531134090']\", 'lr': '3.02e-03', 'b': '128', 'lyr': '[64, 32]', 'unit_drop': '0.13279485747967146', 'wt_drop': '0.21467995984449265', 'epochs': 100, 'run count': 100}\n",
      "{'val': 0.3499999940395355, 'test': 0.1828254759311676, 'session_id': '550490398', 'sweep': \"['550490398']\", 'lr': '8.67e-03', 'b': '128', 'lyr': '[32, 16]', 'unit_drop': '0.05604057191456291', 'wt_drop': '0.46420991833852904', 'epochs': 100, 'run count': 100}\n",
      "{'val': 0.3499999940395355, 'test': 0.2714681327342987, 'session_id': '550851591', 'sweep': \"['550851591']\", 'lr': '4.66e-03', 'b': '128', 'lyr': '[64, 32]', 'unit_drop': '0.39655867294367625', 'wt_drop': '0.21546244499355577', 'epochs': 100, 'run count': 83}\n",
      "{'val': 0.6666666865348816, 'test': 0.5277777910232544, 'session_id': '566458505', 'sweep': \"['566458505']\", 'lr': '1.25e-03', 'b': '128', 'lyr': '[128, 128, 64, 32]', 'unit_drop': '0.28277325856121105', 'wt_drop': '0.059068701198666806', 'epochs': 100, 'run count': 100}\n",
      "{'val': 0.5222222208976746, 'test': 0.4194444417953491, 'session_id': '580095647', 'sweep': \"['580095647']\", 'lr': '1.42e-03', 'b': '128', 'lyr': '[128, 128, 64, 32]', 'unit_drop': '0.21775012990112985', 'wt_drop': '0.14706340589300215', 'epochs': 100, 'run count': 100}\n",
      "{'val': 0.9111111164093018, 'test': 0.8638889193534851, 'session_id': '596584192', 'sweep': \"['596584192']\", 'lr': '6.18e-03', 'b': '64', 'lyr': '[64, 32]', 'unit_drop': '0.3403197648887273', 'wt_drop': '0.4106929062006924', 'epochs': 100, 'run count': 100}\n",
      "{'val': 0.350710928440094, 'test': 0.3187347948551178, 'session_id': '652094917', 'sweep': \"['652094917']\", 'lr': '3.84e-03', 'b': '128', 'lyr': '[64, 32]', 'unit_drop': '0.00581317148993421', 'wt_drop': '0.2939670825718382', 'epochs': 100, 'run count': 100}\n",
      "{'val': 0.17777778208255768, 'test': 0.10000000149011612, 'session_id': '557615965', 'sweep': \"['557615965']\", 'lr': '6.78e-03', 'b': '64', 'lyr': '[32, 16]', 'unit_drop': '0.47861426555338416', 'wt_drop': '0.4579531714883016', 'epochs': 100, 'run count': 100}\n",
      "{'val': 0.30582523345947266, 'test': 0.38669949769973755, 'session_id': '644051974', 'sweep': \"['644051974']\", 'lr': '2.84e-03', 'b': '128', 'lyr': '[64, 32]', 'unit_drop': '0.21852962360019168', 'wt_drop': '0.402170747787096', 'epochs': 100, 'run count': 100}\n",
      "{'val': 0.6218905448913574, 'test': 0.5485436916351318, 'session_id': '652737867', 'sweep': \"['652737867']\", 'lr': '3.35e-04', 'b': '128', 'lyr': '[128, 64]', 'unit_drop': '0.09025107034282154', 'wt_drop': '0.18255001209910893', 'epochs': 100, 'run count': 100}\n",
      "{'val': 0.36407768726348877, 'test': 0.41707316040992737, 'session_id': '664914611', 'sweep': \"['664914611']\", 'lr': '7.77e-04', 'b': '128', 'lyr': '[128, 128, 64, 32]', 'unit_drop': '0.00574491273751665', 'wt_drop': '0.4827436330766035', 'epochs': 100, 'run count': 100}\n",
      "{'val': 0.4611111283302307, 'test': 0.2944444417953491, 'session_id': '647595671', 'sweep': \"['647595671']\", 'lr': '4.56e-04', 'b': '128', 'lyr': '[128, 64]', 'unit_drop': '0.13041785825961066', 'wt_drop': '0.39509659863045254', 'epochs': 100, 'run count': 100}\n",
      "{'val': 0.5645932555198669, 'test': 0.3927710950374603, 'session_id': '657914280', 'sweep': \"['657914280']\", 'lr': '6.66e-03', 'b': '128', 'lyr': '[64, 32]', 'unit_drop': '5.1065265503358326e-05', 'wt_drop': '0.3712639384676266', 'epochs': 100, 'run count': 100}\n",
      "{'val': 0.1990521401166916, 'test': 0.08653846383094788, 'session_id': '670728674', 'sweep': \"['670728674']\", 'lr': '9.26e-03', 'b': '128', 'lyr': '[64, 32]', 'unit_drop': '0.3681227759071856', 'wt_drop': '0.07878533310257396', 'epochs': 100, 'run count': 100}\n",
      "{'val': 0.5055555701255798, 'test': 0.4321329593658447, 'session_id': '511595995', 'sweep': \"['511595995']\", 'lr': '3.94e-04', 'b': '128', 'lyr': '[128, 64, 32]', 'unit_drop': '0.16009261823152993', 'wt_drop': '0.04626421336947073', 'epochs': 100, 'run count': 100}\n",
      "{'val': 0.5666666626930237, 'test': 0.5027624368667603, 'session_id': '654532828', 'sweep': \"['654532828']\", 'lr': '3.47e-03', 'b': '128', 'lyr': '[64, 32]', 'unit_drop': '0.3031800399655828', 'wt_drop': '0.31647177749758376', 'epochs': 100, 'run count': 100}\n",
      "{'val': 0.43888890743255615, 'test': 0.29722222685813904, 'session_id': '609894681', 'sweep': \"['609894681']\", 'lr': '3.84e-03', 'b': '128', 'lyr': '[128, 128, 64, 32]', 'unit_drop': '0.037429655827704744', 'wt_drop': '0.3159308423063095', 'epochs': 100, 'run count': 100}\n",
      "{'val': 0.22777777910232544, 'test': 0.15000000596046448, 'session_id': '560027980', 'sweep': \"['560027980']\", 'lr': '4.65e-03', 'b': '128', 'lyr': '[64, 32]', 'unit_drop': '0.4566406145501359', 'wt_drop': '0.1938826125549969', 'epochs': 100, 'run count': 100}\n",
      "{'val': 0.8277778029441833, 'test': 0.7666667103767395, 'session_id': '503109347', 'sweep': \"['503109347']\", 'lr': '2.47e-03', 'b': '64', 'lyr': '[64, 32]', 'unit_drop': '0.3297980006405793', 'wt_drop': '0.1521055222744936', 'epochs': 100, 'run count': 100}\n",
      "{'val': 0.5359116196632385, 'test': 0.45000001788139343, 'session_id': '592657427', 'sweep': \"['592657427']\", 'lr': '4.10e-03', 'b': '128', 'lyr': '[128, 64]', 'unit_drop': '0.00961242464743972', 'wt_drop': '0.4204713624732926', 'epochs': 100, 'run count': 100}\n",
      "{'val': 0.3444444537162781, 'test': 0.19722223281860352, 'session_id': '712919665', 'sweep': \"['712919665']\", 'lr': '8.35e-04', 'b': '128', 'lyr': '[128, 64, 32]', 'unit_drop': '0.05458761907303433', 'wt_drop': '0.35129649756218106', 'epochs': 100, 'run count': 100}\n",
      "{'val': 0.5277777910232544, 'test': 0.3628808856010437, 'session_id': '653551965', 'sweep': \"['653551965']\", 'lr': '9.95e-03', 'b': '128', 'lyr': '[32, 16]', 'unit_drop': '0.12915035546977377', 'wt_drop': '0.04581158779015465', 'epochs': 100, 'run count': 100}\n",
      "{'val': 0.602870762348175, 'test': 0.5800970792770386, 'session_id': '643592303', 'sweep': \"['643592303']\", 'lr': '2.81e-03', 'b': '128', 'lyr': '[128, 128, 64, 32]', 'unit_drop': '0.003799984714424665', 'wt_drop': '0.4938257709497343', 'epochs': 100, 'run count': 100}\n",
      "{'val': 0.25, 'test': 0.24444444477558136, 'session_id': '592407200', 'sweep': \"['592407200']\", 'lr': '1.56e-03', 'b': '64', 'lyr': '[128, 64, 32]', 'unit_drop': '0.052424293626857466', 'wt_drop': '0.3203141142578884', 'epochs': 100, 'run count': 100}\n",
      "{'val': 0.7802197933197021, 'test': 0.769444465637207, 'session_id': '510214538', 'sweep': \"['510214538']\", 'lr': '4.40e-04', 'b': '64', 'lyr': '[128, 64, 32]', 'unit_drop': '0.30048921487214336', 'wt_drop': '0.3602155541029518', 'epochs': 100, 'run count': 100}\n",
      "{'val': 0.39444446563720703, 'test': 0.3333333432674408, 'session_id': '546716391', 'sweep': \"['546716391']\", 'lr': '2.22e-03', 'b': '64', 'lyr': '[32, 16]', 'unit_drop': '0.4400678636626782', 'wt_drop': '0.1648624507385612', 'epochs': 100, 'run count': 100}\n",
      "{'val': 0.5472636818885803, 'test': 0.508474588394165, 'session_id': '653932505', 'sweep': \"['653932505']\", 'lr': '1.85e-03', 'b': '128', 'lyr': '[64, 32]', 'unit_drop': '0.31278915990841877', 'wt_drop': '0.16923848451446272', 'epochs': 100, 'run count': 100}\n",
      "{'val': 0.6388888955116272, 'test': 0.5388889312744141, 'session_id': '571177441', 'sweep': \"['571177441']\", 'lr': '1.33e-03', 'b': '64', 'lyr': '[128, 128, 64, 32]', 'unit_drop': '0.13896202409924996', 'wt_drop': '0.08866744940737725', 'epochs': 100, 'run count': 100}\n",
      "{'val': 0.2666666805744171, 'test': 0.12188365310430527, 'session_id': '509580400', 'sweep': \"['509580400']\", 'lr': '1.57e-03', 'b': '64', 'lyr': '[128, 64]', 'unit_drop': '0.4923130268812668', 'wt_drop': '0.27773757011612943', 'epochs': 100, 'run count': 100}\n",
      "{'val': 0.5388889312744141, 'test': 0.4792243540287018, 'session_id': '574823092', 'sweep': \"['574823092']\", 'lr': '1.11e-03', 'b': '128', 'lyr': '[64, 32]', 'unit_drop': '0.14397381160769773', 'wt_drop': '0.03654663737231906', 'epochs': 100, 'run count': 100}\n",
      "{'val': 0.37222224473953247, 'test': 0, 'session_id': '507129766', 'sweep': \"['507129766']\", 'lr': '4.95e-03', 'b': '64', 'lyr': '[128, 64]', 'unit_drop': '0.07093970589413184', 'wt_drop': '0.308205707389571', 'epochs': 100, 'run count': 25}\n",
      "{'val': 0.4876847267150879, 'test': 0.4053398072719574, 'session_id': '662219852', 'sweep': \"['662219852']\", 'lr': '1.17e-03', 'b': '64', 'lyr': '[64, 32]', 'unit_drop': '0.14121564842843493', 'wt_drop': '0.4867680965659978', 'epochs': 100, 'run count': 100}\n",
      "{'val': 0.6296296119689941, 'test': 0.5966183543205261, 'session_id': '585035184', 'sweep': \"['585035184']\", 'lr': '6.71e-04', 'b': '128', 'lyr': '[128, 64]', 'unit_drop': '0.08533300383500741', 'wt_drop': '0.06324102802979231', 'epochs': 100, 'run count': 100}\n",
      "{'val': 0.2888889014720917, 'test': 0.16620498895645142, 'session_id': '593552712', 'sweep': \"['593552712']\", 'lr': '1.86e-03', 'b': '128', 'lyr': '[128, 64]', 'unit_drop': '0.06111364021006854', 'wt_drop': '0.37979013838285663', 'epochs': 100, 'run count': 100}\n",
      "{'val': 0.28333333134651184, 'test': 0.23545706272125244, 'session_id': '506540916', 'sweep': \"['506540916']\", 'lr': '2.30e-03', 'b': '64', 'lyr': '[128, 64]', 'unit_drop': '0.4610359759697503', 'wt_drop': '0.3845018279981834', 'epochs': 100, 'run count': 100}\n",
      "{'val': 0.550000011920929, 'test': 0.4305555522441864, 'session_id': '637126541', 'sweep': \"['637126541']\", 'lr': '6.12e-03', 'b': '128', 'lyr': '[128, 64, 32]', 'unit_drop': '0.012556223136092393', 'wt_drop': '0.16661969176588026', 'epochs': 100, 'run count': 100}\n",
      "{'val': 0.5888888835906982, 'test': 0.5611111521720886, 'session_id': '649401936', 'sweep': \"['649401936']\", 'lr': '8.50e-03', 'b': '64', 'lyr': '[128, 64, 32]', 'unit_drop': '0.44732469737717456', 'wt_drop': '0.3814763304100968', 'epochs': 100, 'run count': 100}\n",
      "{'val': 0.28921568393707275, 'test': 0.1108374372124672, 'session_id': '686449092', 'sweep': \"['686449092']\", 'lr': '5.29e-03', 'b': '128', 'lyr': '[128, 128, 64, 32]', 'unit_drop': '0.1684936490670378', 'wt_drop': '0.05597735055226233', 'epochs': 100, 'run count': 100}\n",
      "{'val': 0.6333333253860474, 'test': 0.5888888835906982, 'session_id': '550455111', 'sweep': \"['550455111']\", 'lr': '5.38e-03', 'b': '64', 'lyr': '[128, 64, 32]', 'unit_drop': '0.03197844375358788', 'wt_drop': '0.2047522530574301', 'epochs': 100, 'run count': 100}\n",
      "{'val': 0.2142857164144516, 'test': 0.14143919944763184, 'session_id': '665726618', 'sweep': \"['665726618']\", 'lr': '2.63e-03', 'b': '128', 'lyr': '[128, 64]', 'unit_drop': '0.15676133799783432', 'wt_drop': '0.4199446611960944', 'epochs': 100, 'run count': 100}\n",
      "{'val': 0.25, 'test': 0.18888889253139496, 'session_id': '554037270', 'sweep': \"['554037270']\", 'lr': '6.15e-03', 'b': '128', 'lyr': '[128, 64]', 'unit_drop': '0.05283827622212833', 'wt_drop': '0.4872023758394494', 'epochs': 100, 'run count': 100}\n",
      "{'val': 0.4000000059604645, 'test': 0.29722222685813904, 'session_id': '555040116', 'sweep': \"['555040116']\", 'lr': '9.39e-04', 'b': '64', 'lyr': '[64, 32]', 'unit_drop': '0.2414382536403607', 'wt_drop': '0.26648717408663475', 'epochs': 100, 'run count': 100}\n",
      "{'val': 0.20192308723926544, 'test': 0, 'session_id': '692345336', 'sweep': \"['692345336']\", 'lr': '6.02e-03', 'b': '64', 'lyr': '[32, 16]', 'unit_drop': '0.012578613900950164', 'wt_drop': '0.3886885835920492', 'epochs': 100, 'run count': 75}\n",
      "{'val': 0.42777779698371887, 'test': 0.3333333432674408, 'session_id': '596509886', 'sweep': \"['596509886']\", 'lr': '7.84e-03', 'b': '128', 'lyr': '[32, 16]', 'unit_drop': '0.04085876753593781', 'wt_drop': '0.2975847306187961', 'epochs': 100, 'run count': 100}\n",
      "{'val': 0.8232044577598572, 'test': 0.7916666865348816, 'session_id': '528402271', 'sweep': \"['528402271']\", 'lr': '3.22e-03', 'b': '128', 'lyr': '[32, 16]', 'unit_drop': '0.028394461086997003', 'wt_drop': '0.3895058045575862', 'epochs': 100, 'run count': 95}\n",
      "{'val': 0.5728155374526978, 'test': 0.48905110359191895, 'session_id': '653126877', 'sweep': \"['653126877']\", 'lr': '5.73e-03', 'b': '64', 'lyr': '[128, 128, 64, 32]', 'unit_drop': '0.18232130536342792', 'wt_drop': '0.10361334348123884', 'epochs': 100, 'run count': 100}\n",
      "{'val': 0.6740331649780273, 'test': 0.6138889193534851, 'session_id': '529688779', 'sweep': \"['529688779']\", 'lr': '1.34e-03', 'b': '128', 'lyr': '[64, 32]', 'unit_drop': '0.2090086428505013', 'wt_drop': '0.11012496316514392', 'epochs': 100, 'run count': 100}\n",
      "{'val': 0.36666667461395264, 'test': 0.32777777314186096, 'session_id': '601368107', 'sweep': \"['601368107']\", 'lr': '3.59e-03', 'b': '128', 'lyr': '[128, 64]', 'unit_drop': '0.11270425917836065', 'wt_drop': '0.007958237222514597', 'epochs': 100, 'run count': 100}\n",
      "{'val': 0.25, 'test': 0.20000000298023224, 'session_id': '589755795', 'sweep': \"['589755795']\", 'lr': '3.85e-03', 'b': '128', 'lyr': '[128, 64, 32]', 'unit_drop': '0.3386864054065282', 'wt_drop': '0.22752630140978863', 'epochs': 100, 'run count': 100}\n",
      "{'val': 0.7166666984558105, 'test': 0.5361111164093018, 'session_id': '502115959', 'sweep': \"['502115959']\", 'lr': '3.14e-03', 'b': '128', 'lyr': '[128, 64, 32]', 'unit_drop': '0.1976333043731091', 'wt_drop': '0.4717024014620636', 'epochs': 100, 'run count': 91}\n",
      "{'val': 0.699999988079071, 'test': 0.7166666984558105, 'session_id': '639932847', 'sweep': \"['639932847']\", 'lr': '2.40e-03', 'b': '64', 'lyr': '[128, 64]', 'unit_drop': '0.04233015881487717', 'wt_drop': '0.31243582421641186', 'epochs': 100, 'run count': 94}\n",
      "{'val': 0.2944444417953491, 'test': 0.1939058154821396, 'session_id': '558476282', 'sweep': \"['558476282']\", 'lr': '2.33e-03', 'b': '128', 'lyr': '[64, 32]', 'unit_drop': '0.10729148712908138', 'wt_drop': '0.1511734768319674', 'epochs': 100, 'run count': 100}\n",
      "{'val': 0.6500000357627869, 'test': 0.5457063317298889, 'session_id': '669237515', 'sweep': \"['669237515']\", 'lr': '6.97e-03', 'b': '128', 'lyr': '[128, 128, 64, 32]', 'unit_drop': '0.4197118482219798', 'wt_drop': '0.44126077163787847', 'epochs': 100, 'run count': 100}\n",
      "{'val': 0.31111112236976624, 'test': 0.32500001788139343, 'session_id': '601423209', 'sweep': \"['601423209']\", 'lr': '4.91e-03', 'b': '64', 'lyr': '[64, 32]', 'unit_drop': '0.0733697087803416', 'wt_drop': '0.4163181862613328', 'epochs': 100, 'run count': 100}\n",
      "{'val': 0.699999988079071, 'test': 0.5888888835906982, 'session_id': '589441079', 'sweep': \"['589441079']\", 'lr': '4.21e-03', 'b': '128', 'lyr': '[64, 32]', 'unit_drop': '0.13115060246247806', 'wt_drop': '0.38235447156417024', 'epochs': 100, 'run count': 100}\n",
      "{'val': 0.5611111521720886, 'test': 0.4750000238418579, 'session_id': '686442556', 'sweep': \"['686442556']\", 'lr': '2.43e-03', 'b': '128', 'lyr': '[64, 32]', 'unit_drop': '0.04824706722436101', 'wt_drop': '0.29711137466800047', 'epochs': 100, 'run count': 100}\n",
      "{'val': 0.7333333492279053, 'test': 0.644444465637207, 'session_id': '562536153', 'sweep': \"['562536153']\", 'lr': '6.32e-03', 'b': '64', 'lyr': '[64, 32]', 'unit_drop': '0.28078477726024226', 'wt_drop': '0.029273610176960008', 'epochs': 100, 'run count': 100}\n",
      "{'val': 0.35555556416511536, 'test': 0.2777777910232544, 'session_id': '601841437', 'sweep': \"['601841437']\", 'lr': '3.42e-03', 'b': '128', 'lyr': '[128, 64]', 'unit_drop': '0.1582164868065818', 'wt_drop': '0.42853673467269593', 'epochs': 100, 'run count': 100}\n",
      "{'val': 0.4444444477558136, 'test': 0.3684210479259491, 'session_id': '612534310', 'sweep': \"['612534310']\", 'lr': '2.36e-03', 'b': '64', 'lyr': '[128, 64]', 'unit_drop': '0.037777624711741786', 'wt_drop': '0.2827508531678774', 'epochs': 100, 'run count': 100}\n",
      "{'val': 0.2222222238779068, 'test': 0.14404430985450745, 'session_id': '651769499', 'sweep': \"['651769499']\", 'lr': '4.63e-03', 'b': '64', 'lyr': '[128, 128, 64, 32]', 'unit_drop': '0.1117492560894246', 'wt_drop': '0.45066517264241707', 'epochs': 100, 'run count': 100}\n",
      "{'val': 0.36666667461395264, 'test': 0.2770082950592041, 'session_id': '548379748', 'sweep': \"['548379748']\", 'lr': '1.32e-03', 'b': '128', 'lyr': '[128, 128, 64, 32]', 'unit_drop': '0.05250789213852658', 'wt_drop': '0.4893203552738673', 'epochs': 100, 'run count': 100}\n",
      "{'val': 0.7666667103767395, 'test': 0.7645429372787476, 'session_id': '707923645', 'sweep': \"['707923645']\", 'lr': '1.15e-03', 'b': '128', 'lyr': '[128, 64]', 'unit_drop': '0.21884486585283305', 'wt_drop': '0.3106133073359817', 'epochs': 100, 'run count': 100}\n",
      "{'val': 0.5833333730697632, 'test': 0.5111111402511597, 'session_id': '505845219', 'sweep': \"['505845219']\", 'lr': '2.61e-03', 'b': '64', 'lyr': '[128, 64, 32]', 'unit_drop': '0.19953623680315655', 'wt_drop': '0.1382886116004819', 'epochs': 100, 'run count': 100}\n",
      "{'val': 0.39444446563720703, 'test': 0.2770082950592041, 'session_id': '601805379', 'sweep': \"['601805379']\", 'lr': '9.80e-04', 'b': '128', 'lyr': '[128, 64]', 'unit_drop': '0.05970948687888439', 'wt_drop': '0.06251980171093247', 'epochs': 100, 'run count': 100}\n",
      "{'val': 0.2944444417953491, 'test': 0.19722223281860352, 'session_id': '659491419', 'sweep': \"['659491419']\", 'lr': '3.34e-03', 'b': '128', 'lyr': '[128, 64]', 'unit_drop': '0.28378834553085297', 'wt_drop': '0.4058969370270099', 'epochs': 100, 'run count': 100}\n",
      "{'val': 0.32777777314186096, 'test': 0.236111119389534, 'session_id': '647598519', 'sweep': \"['647598519']\", 'lr': '1.18e-03', 'b': '64', 'lyr': '[128, 64]', 'unit_drop': '0.2538493825234686', 'wt_drop': '0.43707934247812513', 'epochs': 100, 'run count': 100}\n",
      "{'val': 0.6777777671813965, 'test': 0.6500000357627869, 'session_id': '643645390', 'sweep': \"['643645390']\", 'lr': '5.05e-03', 'b': '128', 'lyr': '[32, 16]', 'unit_drop': '0.0375087283406238', 'wt_drop': '0.4776733529548421', 'epochs': 100, 'run count': 100}\n",
      "{'val': 0.701421856880188, 'test': 0.5856079459190369, 'session_id': '663485329', 'sweep': \"['663485329']\", 'lr': '2.19e-03', 'b': '128', 'lyr': '[64, 32]', 'unit_drop': '0.02222697074598251', 'wt_drop': '0.09523782302519929', 'epochs': 100, 'run count': 100}\n",
      "{'val': 0.18333333730697632, 'test': 0.12777778506278992, 'session_id': '602866800', 'sweep': \"['602866800']\", 'lr': '9.21e-03', 'b': '128', 'lyr': '[128, 64]', 'unit_drop': '0.04083427931908834', 'wt_drop': '0.3213378363318577', 'epochs': 100, 'run count': 100}\n",
      "{'val': 0.37222224473953247, 'test': 0.3194444477558136, 'session_id': '580051759', 'sweep': \"['580051759']\", 'lr': '8.68e-03', 'b': '128', 'lyr': '[32, 16]', 'unit_drop': '0.027079357877426435', 'wt_drop': '0.13274312617770762', 'epochs': 100, 'run count': 100}\n",
      "{'val': 0.2248803675174713, 'test': 0.13333334028720856, 'session_id': '696156783', 'sweep': \"['696156783']\", 'lr': '6.42e-03', 'b': '128', 'lyr': '[64, 32]', 'unit_drop': '0.4747283369396653', 'wt_drop': '0.2349147009145772', 'epochs': 100, 'run count': 100}\n",
      "{'val': 0.43888890743255615, 'test': 0.27222222089767456, 'session_id': '575970700', 'sweep': \"['575970700']\", 'lr': '7.92e-03', 'b': '128', 'lyr': '[128, 64]', 'unit_drop': '0.44679979069519343', 'wt_drop': '0.3275288691002525', 'epochs': 100, 'run count': 100}\n",
      "{'val': 0.4888888895511627, 'test': 0.29722222685813904, 'session_id': '670721589', 'sweep': \"['670721589']\", 'lr': '2.81e-04', 'b': '128', 'lyr': '[128, 64]', 'unit_drop': '0.3479162570781403', 'wt_drop': '0.36983266919842533', 'epochs': 100, 'run count': 100}\n",
      "{'val': 0.5776699185371399, 'test': 0.48514851927757263, 'session_id': '652096183', 'sweep': \"['652096183']\", 'lr': '4.98e-03', 'b': '128', 'lyr': '[128, 64]', 'unit_drop': '0.4138673545171664', 'wt_drop': '0.09900186539387767', 'epochs': 100, 'run count': 100}\n",
      "{'val': 0.22966507077217102, 'test': 0.1307506114244461, 'session_id': '671618887', 'sweep': \"['671618887']\", 'lr': '6.41e-03', 'b': '128', 'lyr': '[64, 32]', 'unit_drop': '0.06944406988426477', 'wt_drop': '0.26352164398696193', 'epochs': 100, 'run count': 100}\n",
      "{'val': 0.2888889014720917, 'test': 0.21329639852046967, 'session_id': '691197571', 'sweep': \"['691197571']\", 'lr': '8.30e-03', 'b': '128', 'lyr': '[128, 64]', 'unit_drop': '0.1698923287313313', 'wt_drop': '0.11466769886693225', 'epochs': 100, 'run count': 100}\n",
      "{'val': 0.2222222238779068, 'test': 0.1527777761220932, 'session_id': '712178483', 'sweep': \"['712178483']\", 'lr': '5.59e-03', 'b': '64', 'lyr': '[128, 64]', 'unit_drop': '0.024443453806839377', 'wt_drop': '0.03535522323654611', 'epochs': 100, 'run count': 100}\n",
      "{'val': 0.42777779698371887, 'test': 0.3499999940395355, 'session_id': '707006626', 'sweep': \"['707006626']\", 'lr': '4.53e-03', 'b': '128', 'lyr': '[128, 128, 64, 32]', 'unit_drop': '0.11227916372356356', 'wt_drop': '0.3824385680372824', 'epochs': 100, 'run count': 100}\n",
      "{'val': 0.9000000357627869, 'test': 0.819444477558136, 'session_id': '587344053', 'sweep': \"['587344053']\", 'lr': '1.43e-03', 'b': '128', 'lyr': '[128, 64, 32]', 'unit_drop': '0.16310402396930418', 'wt_drop': '0.040074619702491654', 'epochs': 100, 'run count': 100}\n",
      "{'val': 0.7722222208976746, 'test': 0.694444477558136, 'session_id': '501933264', 'sweep': \"['501933264']\", 'lr': '7.26e-03', 'b': '64', 'lyr': '[32, 16]', 'unit_drop': '0.20942914678523944', 'wt_drop': '0.43861863418312497', 'epochs': 100, 'run count': 100}\n",
      "{'val': 0.5888888835906982, 'test': 0.5638889074325562, 'session_id': '647143225', 'sweep': \"['647143225']\", 'lr': '4.47e-04', 'b': '128', 'lyr': '[128, 128, 64, 32]', 'unit_drop': '0.09675091367875316', 'wt_drop': '0.4387401564160307', 'epochs': 100, 'run count': 100}\n",
      "{'val': 0.46408841013908386, 'test': 0.347222238779068, 'session_id': '569896493', 'sweep': \"['569896493']\", 'lr': '1.92e-03', 'b': '128', 'lyr': '[64, 32]', 'unit_drop': '0.3271486372369049', 'wt_drop': '0.36964489089835734', 'epochs': 100, 'run count': 100}\n",
      "{'val': 0.18888889253139496, 'test': 0.11388888955116272, 'session_id': '657390171', 'sweep': \"['657390171']\", 'lr': '2.92e-03', 'b': '128', 'lyr': '[64, 32]', 'unit_drop': '0.41194958033990253', 'wt_drop': '0.1486187530017387', 'epochs': 100, 'run count': 100}\n",
      "{'val': 0.45000001788139343, 'test': 0.5111111402511597, 'session_id': '504568756', 'sweep': \"['504568756']\", 'lr': '3.09e-03', 'b': '128', 'lyr': '[128, 64, 32]', 'unit_drop': '0.27140864553255795', 'wt_drop': '0.3654575353618727', 'epochs': 100, 'run count': 100}\n",
      "{'val': 0.4166666865348816, 'test': 0.3861111104488373, 'session_id': '580013262', 'sweep': \"['580013262']\", 'lr': '7.74e-03', 'b': '64', 'lyr': '[64, 32]', 'unit_drop': '0.26980052663510024', 'wt_drop': '0.2870504155653162', 'epochs': 100, 'run count': 100}\n",
      "{'val': 0.22777777910232544, 'test': 0.12777778506278992, 'session_id': '576273468', 'sweep': \"['576273468']\", 'lr': '8.66e-03', 'b': '128', 'lyr': '[128, 128, 64, 32]', 'unit_drop': '0.09720197386047824', 'wt_drop': '0.11011297357648214', 'epochs': 100, 'run count': 100}\n",
      "{'val': 0.6666666865348816, 'test': 0.6527777910232544, 'session_id': '502962794', 'sweep': \"['502962794']\", 'lr': '3.91e-04', 'b': '64', 'lyr': '[128, 64]', 'unit_drop': '0.05477885985662462', 'wt_drop': '0.48896517173615417', 'epochs': 100, 'run count': 100}\n",
      "{'val': 0.7722222208976746, 'test': 0.7083333730697632, 'session_id': '512326618', 'sweep': \"['512326618']\", 'lr': '1.80e-03', 'b': '128', 'lyr': '[128, 64]', 'unit_drop': '0.43888786724256057', 'wt_drop': '0.15400185207441883', 'epochs': 100, 'run count': 100}\n",
      "{'val': 0.7111111283302307, 'test': 0.6138889193534851, 'session_id': '512270518', 'sweep': \"['512270518']\", 'lr': '6.04e-03', 'b': '128', 'lyr': '[64, 32]', 'unit_drop': '0.18740810815076905', 'wt_drop': '0.36052882980891066', 'epochs': 100, 'run count': 100}\n",
      "{'val': 0.7611111402511597, 'test': 0.7416666746139526, 'session_id': '512164988', 'sweep': \"['512164988']\", 'lr': '1.50e-03', 'b': '64', 'lyr': '[128, 64]', 'unit_drop': '0.42409684277013726', 'wt_drop': '0.42810400666966136', 'epochs': 100, 'run count': 100}\n",
      "{'val': 0.47777777910232544, 'test': 0.3795013725757599, 'session_id': '571541565', 'sweep': \"['571541565']\", 'lr': '4.11e-03', 'b': '64', 'lyr': '[64, 32]', 'unit_drop': '0.00709543009280994', 'wt_drop': '0.10457922233317196', 'epochs': 100, 'run count': 100}\n",
      "{'val': 0.4000000059604645, 'test': 0.23055556416511536, 'session_id': '575939366', 'sweep': \"['575939366']\", 'lr': '3.63e-03', 'b': '128', 'lyr': '[128, 128, 64, 32]', 'unit_drop': '0.30579646125167004', 'wt_drop': '0.35789816118526585', 'epochs': 100, 'run count': 100}\n",
      "{'val': 0.4888888895511627, 'test': 0.3656509518623352, 'session_id': '603188560', 'sweep': \"['603188560']\", 'lr': '8.95e-03', 'b': '128', 'lyr': '[128, 64, 32]', 'unit_drop': '0.2359031424176643', 'wt_drop': '0.3383102740905956', 'epochs': 100, 'run count': 100}\n",
      "{'val': 0.5436893105506897, 'test': 0.43103447556495667, 'session_id': '547388708', 'sweep': \"['547388708']\", 'lr': '1.32e-03', 'b': '128', 'lyr': '[32, 16]', 'unit_drop': '0.17109182391885164', 'wt_drop': '0.3837674068573804', 'epochs': 100, 'run count': 100}\n",
      "{'val': 0.21666666865348816, 'test': 0.12777778506278992, 'session_id': '657224241', 'sweep': \"['657224241']\", 'lr': '2.67e-03', 'b': '64', 'lyr': '[128, 64, 32]', 'unit_drop': '0.06006327340323836', 'wt_drop': '0.059284444512509915', 'epochs': 100, 'run count': 100}\n",
      "{'val': 0.2888889014720917, 'test': 0.10833333432674408, 'session_id': '560920977', 'sweep': \"['560920977']\", 'lr': '5.19e-03', 'b': '128', 'lyr': '[32, 16]', 'unit_drop': '0.3385717750653273', 'wt_drop': '0.27992180683366175', 'epochs': 100, 'run count': 100}\n",
      "{'val': 0.3535911738872528, 'test': 0.3055555522441864, 'session_id': '573850303', 'sweep': \"['573850303']\", 'lr': '3.53e-03', 'b': '128', 'lyr': '[128, 64]', 'unit_drop': '0.1913787262693154', 'wt_drop': '0.1371788363477532', 'epochs': 100, 'run count': 100}\n",
      "{'val': 0.5333333611488342, 'test': 0.5111111402511597, 'session_id': '645256361', 'sweep': \"['645256361']\", 'lr': '5.38e-03', 'b': '128', 'lyr': '[128, 64]', 'unit_drop': '0.02261308543005519', 'wt_drop': '0.10752097119214732', 'epochs': 100, 'run count': 100}\n",
      "{'val': 0.23888888955116272, 'test': 0.17499999701976776, 'session_id': '593373156', 'sweep': \"['593373156']\", 'lr': '3.87e-03', 'b': '128', 'lyr': '[128, 64, 32]', 'unit_drop': '0.1112284417493219', 'wt_drop': '0.324582534974519', 'epochs': 100, 'run count': 100}\n",
      "{'val': 0.23333333432674408, 'test': 0.19722223281860352, 'session_id': '657009581', 'sweep': \"['657009581']\", 'lr': '4.77e-03', 'b': '64', 'lyr': '[64, 32]', 'unit_drop': '0.22623224125213892', 'wt_drop': '0.378720404943147', 'epochs': 100, 'run count': 100}\n",
      "{'val': 0.30000001192092896, 'test': 0.2666666805744171, 'session_id': '673475020', 'sweep': \"['673475020']\", 'lr': '4.32e-03', 'b': '64', 'lyr': '[128, 128, 64, 32]', 'unit_drop': '0.04080317433503494', 'wt_drop': '0.14084299980709553', 'epochs': 100, 'run count': 100}\n",
      "{'val': 0.5888888835906982, 'test': 0.4611111283302307, 'session_id': '669233895', 'sweep': \"['669233895']\", 'lr': '9.25e-03', 'b': '128', 'lyr': '[32, 16]', 'unit_drop': '0.31016011687959466', 'wt_drop': '0.15666677022096387', 'epochs': 100, 'run count': 100}\n",
      "{'val': 0.35555556416511536, 'test': 0.2222222238779068, 'session_id': '701046700', 'sweep': \"['701046700']\", 'lr': '4.71e-04', 'b': '64', 'lyr': '[64, 32]', 'unit_drop': '0.12090868728021188', 'wt_drop': '0.4459561140990333', 'epochs': 100, 'run count': 100}\n",
      "{'val': 0.33701658248901367, 'test': 0.24166667461395264, 'session_id': '508753256', 'sweep': \"['508753256']\", 'lr': '8.48e-03', 'b': '128', 'lyr': '[128, 128, 64, 32]', 'unit_drop': '0.15150879522066946', 'wt_drop': '0.07211987014009841', 'epochs': 100, 'run count': 100}\n",
      "{'val': 0.9388889074325562, 'test': 0.8583333492279053, 'session_id': '561312435', 'sweep': \"['561312435']\", 'lr': '1.80e-03', 'b': '128', 'lyr': '[32, 16]', 'unit_drop': '0.2021858429453684', 'wt_drop': '0.38464836041882966', 'epochs': 100, 'run count': 100}\n",
      "{'val': 0.4444444477558136, 'test': 0.4166666865348816, 'session_id': '664404274', 'sweep': \"['664404274']\", 'lr': '5.53e-03', 'b': '128', 'lyr': '[64, 32]', 'unit_drop': '0.408789196997438', 'wt_drop': '0.15248967546547704', 'epochs': 100, 'run count': 100}\n",
      "{'val': 0.7555555701255798, 'test': 0.6888889074325562, 'session_id': '674679019', 'sweep': \"['674679019']\", 'lr': '5.21e-03', 'b': '128', 'lyr': '[128, 64]', 'unit_drop': '0.06089219009775165', 'wt_drop': '0.16551914680446234', 'epochs': 100, 'run count': 100}\n",
      "{'val': 0.30000001192092896, 'test': 0.18888889253139496, 'session_id': '599909878', 'sweep': \"['599909878']\", 'lr': '2.69e-03', 'b': '64', 'lyr': '[128, 64]', 'unit_drop': '0.07760145071300412', 'wt_drop': '0.05553005712212922', 'epochs': 100, 'run count': 100}\n",
      "{'val': 0.4555555582046509, 'test': 0.34166666865348816, 'session_id': '577379202', 'sweep': \"['577379202']\", 'lr': '3.68e-03', 'b': '64', 'lyr': '[32, 16]', 'unit_drop': '0.23221506926839525', 'wt_drop': '0.3367922425266639', 'epochs': 100, 'run count': 100}\n",
      "{'val': 0.22777777910232544, 'test': 0.11666666716337204, 'session_id': '562711440', 'sweep': \"['562711440']\", 'lr': '3.40e-04', 'b': '64', 'lyr': '[128, 64]', 'unit_drop': '0.2228466434928934', 'wt_drop': '0.10363206374477409', 'epochs': 100, 'run count': 100}\n",
      "{'val': 0.25555557012557983, 'test': 0.12465373426675797, 'session_id': '603187982', 'sweep': \"['603187982']\", 'lr': '5.00e-03', 'b': '64', 'lyr': '[32, 16]', 'unit_drop': '0.021495042101062345', 'wt_drop': '0.26541261923740894', 'epochs': 100, 'run count': 100}\n",
      "{'val': 0.42222222685813904, 'test': 0.3333333432674408, 'session_id': '573720508', 'sweep': \"['573720508']\", 'lr': '3.21e-03', 'b': '64', 'lyr': '[64, 32]', 'unit_drop': '0.02138926674079311', 'wt_drop': '0.2148462878660456', 'epochs': 100, 'run count': 100}\n",
      "{'val': 0.472222238779068, 'test': 0.35277777910232544, 'session_id': '569792817', 'sweep': \"['569792817']\", 'lr': '1.75e-03', 'b': '128', 'lyr': '[64, 32]', 'unit_drop': '0.1355404298677817', 'wt_drop': '0.38957265220791776', 'epochs': 100, 'run count': 100}\n",
      "{'val': 0.24444444477558136, 'test': 0.1666666716337204, 'session_id': '710502981', 'sweep': \"['710502981']\", 'lr': '6.49e-04', 'b': '128', 'lyr': '[128, 64, 32]', 'unit_drop': '0.04849244020754234', 'wt_drop': '0.45591819068268424', 'epochs': 100, 'run count': 100}\n",
      "{'val': 0.39444446563720703, 'test': 0.26944446563720703, 'session_id': '580043440', 'sweep': \"['580043440']\", 'lr': '7.56e-03', 'b': '64', 'lyr': '[64, 32]', 'unit_drop': '0.05012612736433114', 'wt_drop': '0.4330557274223569', 'epochs': 100, 'run count': 100}\n",
      "{'val': 0.4611111283302307, 'test': 0.4333333373069763, 'session_id': '662351164', 'sweep': \"['662351164']\", 'lr': '6.26e-04', 'b': '128', 'lyr': '[128, 64]', 'unit_drop': '0.03053739748162504', 'wt_drop': '0.057447369423606065', 'epochs': 100, 'run count': 100}\n",
      "{'val': 0.24861879646778107, 'test': 0.11388888955116272, 'session_id': '606353987', 'sweep': \"['606353987']\", 'lr': '9.51e-03', 'b': '64', 'lyr': '[128, 128, 64, 32]', 'unit_drop': '0.10342482931813324', 'wt_drop': '0.3099618506069381', 'epochs': 100, 'run count': 80}\n",
      "{'val': 0.5944444537162781, 'test': 0.4888888895511627, 'session_id': '674275260', 'sweep': \"['674275260']\", 'lr': '6.45e-03', 'b': '64', 'lyr': '[64, 32]', 'unit_drop': '0.02118349610744369', 'wt_drop': '0.4291449808383396', 'epochs': 100, 'run count': 49}\n",
      "{'val': 0.699999988079071, 'test': 0.6055555939674377, 'session_id': '689388034', 'sweep': \"['689388034']\", 'lr': '3.87e-03', 'b': '64', 'lyr': '[128, 128, 64, 32]', 'unit_drop': '0.3665387309015792', 'wt_drop': '0.012670111437253218', 'epochs': 100, 'run count': 100}\n",
      "{'val': 0.7715736031532288, 'test': 0.6870415806770325, 'session_id': '558670888', 'sweep': \"['558670888']\", 'lr': '3.08e-03', 'b': '64', 'lyr': '[128, 64]', 'unit_drop': '0.002576712543045645', 'wt_drop': '0.04152475105726566', 'epochs': 100, 'run count': 100}\n",
      "{'val': 0.5055555701255798, 'test': 0.4792243540287018, 'session_id': '526504941', 'sweep': \"['526504941']\", 'lr': '1.29e-03', 'b': '128', 'lyr': '[64, 32]', 'unit_drop': '0.2997706553727636', 'wt_drop': '0.023179166088690303', 'epochs': 100, 'run count': 100}\n",
      "{'val': 0.32596686482429504, 'test': 0.31111112236976624, 'session_id': '530645663', 'sweep': \"['530645663']\", 'lr': '6.95e-04', 'b': '64', 'lyr': '[128, 128, 64, 32]', 'unit_drop': '0.34880413048188547', 'wt_drop': '0.4862999507143544', 'epochs': 100, 'run count': 100}\n",
      "{'val': 0.5611111521720886, 'test': 0.6398891806602478, 'session_id': '573083539', 'sweep': \"['573083539']\", 'lr': '1.26e-03', 'b': '128', 'lyr': '[128, 64]', 'unit_drop': '0.011560238467999195', 'wt_drop': '0.08066880976618979', 'epochs': 100, 'run count': 100}\n",
      "{'val': 0.5388889312744141, 'test': 0.4333333373069763, 'session_id': '637669284', 'sweep': \"['637669284']\", 'lr': '1.30e-03', 'b': '64', 'lyr': '[128, 64]', 'unit_drop': '0.31524033381901795', 'wt_drop': '0.05772310113254325', 'epochs': 100, 'run count': 100}\n",
      "{'val': 0.4333333373069763, 'test': 0.32686978578567505, 'session_id': '511534603', 'sweep': \"['511534603']\", 'lr': '5.09e-03', 'b': '128', 'lyr': '[128, 64]', 'unit_drop': '0.06490094770764565', 'wt_drop': '0.4366572377562775', 'epochs': 100, 'run count': 100}\n",
      "{'val': 0.21666666865348816, 'test': 0.0969529077410698, 'session_id': '601910964', 'sweep': \"['601910964']\", 'lr': '9.06e-03', 'b': '64', 'lyr': '[32, 16]', 'unit_drop': '0.048593975695877256', 'wt_drop': '0.3944449236996187', 'epochs': 100, 'run count': 100}\n",
      "{'val': 0.23333333432674408, 'test': 0.18611112236976624, 'session_id': '643062797', 'sweep': \"['643062797']\", 'lr': '6.87e-03', 'b': '128', 'lyr': '[64, 32]', 'unit_drop': '0.030829121051126784', 'wt_drop': '0.1860621186761859', 'epochs': 100, 'run count': 100}\n",
      "{'val': 0.9166666865348816, 'test': 0.8416666984558105, 'session_id': '702934964', 'sweep': \"['702934964']\", 'lr': '1.73e-03', 'b': '128', 'lyr': '[128, 64, 32]', 'unit_drop': '0.13297249948403497', 'wt_drop': '0.21498279024658057', 'epochs': 100, 'run count': 100}\n",
      "{'val': 0.27222222089767456, 'test': 0.09166666865348816, 'session_id': '672211004', 'sweep': \"['672211004']\", 'lr': '4.02e-03', 'b': '128', 'lyr': '[128, 64, 32]', 'unit_drop': '0.48738865475670784', 'wt_drop': '0.1258828751348473', 'epochs': 100, 'run count': 100}\n",
      "{'val': 0.8666666746139526, 'test': 0.7888889312744141, 'session_id': '560898462', 'sweep': \"['560898462']\", 'lr': '3.87e-03', 'b': '64', 'lyr': '[64, 32]', 'unit_drop': '0.2626995085555032', 'wt_drop': '0.07229286329537615', 'epochs': 100, 'run count': 100}\n",
      "{'val': 0.49444445967674255, 'test': 0.46666666865348816, 'session_id': '601887677', 'sweep': \"['601887677']\", 'lr': '7.33e-04', 'b': '128', 'lyr': '[128, 64]', 'unit_drop': '0.23278589050783044', 'wt_drop': '0.14390560314337236', 'epochs': 100, 'run count': 100}\n",
      "{'val': 0.3611111342906952, 'test': 0.36944445967674255, 'session_id': '539290504', 'sweep': \"['539290504']\", 'lr': '6.85e-03', 'b': '128', 'lyr': '[32, 16]', 'unit_drop': '0.22151652372882136', 'wt_drop': '0.3003313443511996', 'epochs': 100, 'run count': 100}\n",
      "{'val': 0.8111111521720886, 'test': 0.644444465637207, 'session_id': '653125130', 'sweep': \"['653125130']\", 'lr': '1.11e-03', 'b': '128', 'lyr': '[128, 64]', 'unit_drop': '0.24824407714005745', 'wt_drop': '0.15623324757583884', 'epochs': 100, 'run count': 100}\n",
      "{'val': 0.6077348589897156, 'test': 0.49861493706703186, 'session_id': '553568031', 'sweep': \"['553568031']\", 'lr': '1.36e-03', 'b': '128', 'lyr': '[32, 16]', 'unit_drop': '0.05049617635325532', 'wt_drop': '0.008474202927839791', 'epochs': 100, 'run count': 100}\n",
      "{'val': 0.7777777910232544, 'test': 0.7138888835906982, 'session_id': '652842572', 'sweep': \"['652842572']\", 'lr': '1.20e-03', 'b': '128', 'lyr': '[128, 64, 32]', 'unit_drop': '0.12892990846627717', 'wt_drop': '0.27617504009419613', 'epochs': 100, 'run count': 100}\n",
      "{'val': 0.2944444417953491, 'test': 0.18888889253139496, 'session_id': '588191926', 'sweep': \"['588191926']\", 'lr': '3.49e-03', 'b': '64', 'lyr': '[128, 64, 32]', 'unit_drop': '0.09265302011185078', 'wt_drop': '0.08054219941979557', 'epochs': 100, 'run count': 100}\n",
      "{'val': 0.5888888835906982, 'test': 0.45000001788139343, 'session_id': '582918858', 'sweep': \"['582918858']\", 'lr': '4.25e-03', 'b': '128', 'lyr': '[128, 64]', 'unit_drop': '0.006103691196879701', 'wt_drop': '0.2427466524718198', 'epochs': 100, 'run count': 100}\n",
      "{'val': 0.7292817831039429, 'test': 0.6814404129981995, 'session_id': '569396924', 'sweep': \"['569396924']\", 'lr': '8.58e-04', 'b': '128', 'lyr': '[128, 64]', 'unit_drop': '0.2734516640815372', 'wt_drop': '0.32607255960264364', 'epochs': 100, 'run count': 100}\n",
      "{'val': 0.22777777910232544, 'test': 0.12222222238779068, 'session_id': '612549085', 'sweep': \"['612549085']\", 'lr': '1.02e-03', 'b': '128', 'lyr': '[128, 64, 32]', 'unit_drop': '0.1678444968243763', 'wt_drop': '0.49465035779179184', 'epochs': 100, 'run count': 100}\n",
      "{'val': 0.31111112236976624, 'test': 0.2714681327342987, 'session_id': '616779893', 'sweep': \"['616779893']\", 'lr': '3.18e-03', 'b': '64', 'lyr': '[128, 64]', 'unit_drop': '0.21570546950302832', 'wt_drop': '0.3558474518934931', 'epochs': 100, 'run count': 100}\n",
      "{'val': 0.7277777791023254, 'test': 0.5678670406341553, 'session_id': '503412730', 'sweep': \"['503412730']\", 'lr': '5.68e-03', 'b': '128', 'lyr': '[128, 64, 32]', 'unit_drop': '0.34530021518876575', 'wt_drop': '0.23209516918909212', 'epochs': 100, 'run count': 100}\n",
      "{'val': 0.6888889074325562, 'test': 0.6416667103767395, 'session_id': '557848210', 'sweep': \"['557848210']\", 'lr': '3.37e-03', 'b': '128', 'lyr': '[128, 64]', 'unit_drop': '0.29737171846771915', 'wt_drop': '0.48647426495028206', 'epochs': 100, 'run count': 100}\n",
      "{'val': 0.7000000476837158, 'test': 0.6216867566108704, 'session_id': '611658482', 'sweep': \"['611658482']\", 'lr': '2.28e-03', 'b': '128', 'lyr': '[64, 32]', 'unit_drop': '0.00533709198125204', 'wt_drop': '0.2525390416733226', 'epochs': 100, 'run count': 100}\n",
      "{'val': 0.3611111342906952, 'test': 0.37222224473953247, 'session_id': '511440894', 'sweep': \"['511440894']\", 'lr': '3.59e-03', 'b': '128', 'lyr': '[128, 64, 32]', 'unit_drop': '0.061100121327512136', 'wt_drop': '0.15564965260087932', 'epochs': 100, 'run count': 100}\n",
      "{'val': 0.22596155107021332, 'test': 0.1286407709121704, 'session_id': '674276329', 'sweep': \"['674276329']\", 'lr': '2.42e-03', 'b': '64', 'lyr': '[128, 64]', 'unit_drop': '0.0665621509532463', 'wt_drop': '0.32151046903903036', 'epochs': 100, 'run count': 100}\n",
      "{'val': 0.3055555522441864, 'test': 0.1666666716337204, 'session_id': '716956096', 'sweep': \"['716956096']\", 'lr': '9.69e-03', 'b': '128', 'lyr': '[64, 32]', 'unit_drop': '0.3685392787490462', 'wt_drop': '0.3303569192164213', 'epochs': 100, 'run count': 100}\n",
      "{'val': 0.550000011920929, 'test': 0.49584487080574036, 'session_id': '539497234', 'sweep': \"['539497234']\", 'lr': '8.83e-04', 'b': '128', 'lyr': '[128, 64]', 'unit_drop': '0.47495975026480264', 'wt_drop': '0.1765596720575734', 'epochs': 100, 'run count': 100}\n",
      "{'val': 0.8222222328186035, 'test': 0.8472222685813904, 'session_id': '657391625', 'sweep': \"['657391625']\", 'lr': '6.55e-03', 'b': '64', 'lyr': '[64, 32]', 'unit_drop': '0.09860689123917538', 'wt_drop': '0.30475205404915356', 'epochs': 100, 'run count': 100}\n",
      "{'val': 0.2611111104488373, 'test': 0.1527777761220932, 'session_id': '595718342', 'sweep': \"['595718342']\", 'lr': '2.63e-03', 'b': '128', 'lyr': '[128, 64, 32]', 'unit_drop': '0.05897108840696408', 'wt_drop': '0.1095919513086816', 'epochs': 100, 'run count': 100}\n",
      "{'val': 0.25, 'test': 0.11944444477558136, 'session_id': '565698388', 'sweep': \"['565698388']\", 'lr': '5.16e-03', 'b': '64', 'lyr': '[128, 64]', 'unit_drop': '0.07104043102659519', 'wt_drop': '0.097149147761237', 'epochs': 100, 'run count': 100}\n",
      "{'val': 0.42777779698371887, 'test': 0.39722222089767456, 'session_id': '501021421', 'sweep': \"['501021421']\", 'lr': '2.12e-03', 'b': '128', 'lyr': '[128, 64, 32]', 'unit_drop': '0.34299800221732785', 'wt_drop': '0.0369294704120518', 'epochs': 100, 'run count': 100}\n",
      "{'val': 0.20555555820465088, 'test': 0.11944444477558136, 'session_id': '606802468', 'sweep': \"['606802468']\", 'lr': '8.36e-03', 'b': '64', 'lyr': '[64, 32]', 'unit_drop': '0.0646714307065756', 'wt_drop': '0.4040407287442323', 'epochs': 100, 'run count': 100}\n",
      "{'val': 0.45000001788139343, 'test': 0.41111111640930176, 'session_id': '569299884', 'sweep': \"['569299884']\", 'lr': '5.99e-03', 'b': '128', 'lyr': '[32, 16]', 'unit_drop': '0.05261175712459798', 'wt_drop': '0.2992755624079834', 'epochs': 100, 'run count': 100}\n",
      "{'val': 0.20000000298023224, 'test': 0.13573406636714935, 'session_id': '583279803', 'sweep': \"['583279803']\", 'lr': '6.61e-03', 'b': '128', 'lyr': '[32, 16]', 'unit_drop': '0.17983014262149288', 'wt_drop': '0.15924513990460998', 'epochs': 100, 'run count': 100}\n",
      "{'val': 0.7111111283302307, 'test': 0.6519337296485901, 'session_id': '670395725', 'sweep': \"['670395725']\", 'lr': '6.61e-03', 'b': '64', 'lyr': '[128, 128, 64, 32]', 'unit_drop': '0.06490122386398356', 'wt_drop': '0.48832646228617593', 'epochs': 100, 'run count': 100}\n",
      "{'val': 0.42718446254730225, 'test': 0.33171913027763367, 'session_id': '663876406', 'sweep': \"['663876406']\", 'lr': '5.88e-03', 'b': '128', 'lyr': '[32, 16]', 'unit_drop': '0.056210234303559314', 'wt_drop': '0.1587572656199614', 'epochs': 100, 'run count': 100}\n",
      "{'val': 0.6611111164093018, 'test': 0.6277778148651123, 'session_id': '510517131', 'sweep': \"['510517131']\", 'lr': '8.15e-04', 'b': '128', 'lyr': '[128, 64, 32]', 'unit_drop': '0.03000507370712424', 'wt_drop': '0.3902046378538369', 'epochs': 100, 'run count': 70}\n",
      "{'val': 0.3777777850627899, 'test': 0.24722222983837128, 'session_id': '580163817', 'sweep': \"['580163817']\", 'lr': '8.91e-03', 'b': '64', 'lyr': '[128, 64, 32]', 'unit_drop': '0.049327374872501106', 'wt_drop': '0.4875837955544588', 'epochs': 100, 'run count': 100}\n",
      "{'val': 0.7182320952415466, 'test': 0.7209945321083069, 'session_id': '662348804', 'sweep': \"['662348804']\", 'lr': '1.96e-03', 'b': '128', 'lyr': '[128, 128, 64, 32]', 'unit_drop': '0.1413271610138041', 'wt_drop': '0.416925812459939', 'epochs': 100, 'run count': 100}\n",
      "{'val': 0.19337017834186554, 'test': 0.12742382287979126, 'session_id': '571642389', 'sweep': \"['571642389']\", 'lr': '8.67e-04', 'b': '128', 'lyr': '[64, 32]', 'unit_drop': '0.1817371743983805', 'wt_drop': '0.2040118376935636', 'epochs': 100, 'run count': 100}\n",
      "{'val': 0.6740331649780273, 'test': 0.574999988079071, 'session_id': '506823562', 'sweep': \"['506823562']\", 'lr': '4.30e-04', 'b': '128', 'lyr': '[64, 32]', 'unit_drop': '0.05097307471805418', 'wt_drop': '0.15359394970001178', 'epochs': 100, 'run count': 100}\n",
      "{'val': 0.6055555939674377, 'test': 0.4736841917037964, 'session_id': '552760671', 'sweep': \"['552760671']\", 'lr': '6.30e-04', 'b': '64', 'lyr': '[128, 64]', 'unit_drop': '0.4190734846109761', 'wt_drop': '0.2650978119745611', 'epochs': 100, 'run count': 100}\n",
      "{'val': 0.8666666746139526, 'test': 0.8472222685813904, 'session_id': '552427971', 'sweep': \"['552427971']\", 'lr': '2.62e-03', 'b': '128', 'lyr': '[128, 64, 32]', 'unit_drop': '0.15063861849488497', 'wt_drop': '0.42183696083196526', 'epochs': 100, 'run count': 100}\n",
      "{'val': 0.8888888955116272, 'test': 0.800000011920929, 'session_id': '688678766', 'sweep': \"['688678766']\", 'lr': '1.67e-03', 'b': '64', 'lyr': '[128, 128, 64, 32]', 'unit_drop': '0.4976806644081007', 'wt_drop': '0.25872832431274', 'epochs': 100, 'run count': 100}\n",
      "{'val': 0.2611111104488373, 'test': 0.1666666716337204, 'session_id': '710778377', 'sweep': \"['710778377']\", 'lr': '2.79e-03', 'b': '128', 'lyr': '[32, 16]', 'unit_drop': '0.3450410737465811', 'wt_drop': '0.07948696853924969', 'epochs': 100, 'run count': 100}\n",
      "{'val': 0.39444446563720703, 'test': 0.38333335518836975, 'session_id': '612044635', 'sweep': \"['612044635']\", 'lr': '7.24e-04', 'b': '64', 'lyr': '[128, 64]', 'unit_drop': '0.06020457747894675', 'wt_drop': '0.322387959598059', 'epochs': 100, 'run count': 100}\n",
      "{'val': 0.7222222685813904, 'test': 0.6555555462837219, 'session_id': '661437140', 'sweep': \"['661437140']\", 'lr': '7.63e-03', 'b': '64', 'lyr': '[64, 32]', 'unit_drop': '0.11082944745500496', 'wt_drop': '0.11178125830724488', 'epochs': 100, 'run count': 100}\n",
      "{'val': 0.4833333492279053, 'test': 0.3656509518623352, 'session_id': '572722662', 'sweep': \"['572722662']\", 'lr': '4.51e-04', 'b': '128', 'lyr': '[128, 64]', 'unit_drop': '0.22430135076953212', 'wt_drop': '0.11136846885142648', 'epochs': 100, 'run count': 100}\n",
      "{'val': 0.625, 'test': 0.49394676089286804, 'session_id': '665307545', 'sweep': \"['665307545']\", 'lr': '1.13e-03', 'b': '128', 'lyr': '[128, 64, 32]', 'unit_drop': '0.2776845599764455', 'wt_drop': '0.07096166533470677', 'epochs': 100, 'run count': 100}\n",
      "{'val': 0.1944444477558136, 'test': 0.17777778208255768, 'session_id': '710504563', 'sweep': \"['710504563']\", 'lr': '2.72e-03', 'b': '128', 'lyr': '[128, 64, 32]', 'unit_drop': '0.21535785401736723', 'wt_drop': '0.08221892073280962', 'epochs': 100, 'run count': 100}\n",
      "{'val': 0.7692307829856873, 'test': 0.7166666984558105, 'session_id': '502205092', 'sweep': \"['502205092']\", 'lr': '9.69e-04', 'b': '128', 'lyr': '[64, 32]', 'unit_drop': '0.08094921825465634', 'wt_drop': '0.19348474252469083', 'epochs': 100, 'run count': 100}\n",
      "{'val': 0.20000000298023224, 'test': 0.10277777910232544, 'session_id': '638262558', 'sweep': \"['638262558']\", 'lr': '5.62e-03', 'b': '64', 'lyr': '[32, 16]', 'unit_drop': '0.48298604256237326', 'wt_drop': '0.412097644235679', 'epochs': 100, 'run count': 100}\n",
      "{'val': 0.17777778208255768, 'test': 0.125, 'session_id': '612543999', 'sweep': \"['612543999']\", 'lr': '8.58e-03', 'b': '64', 'lyr': '[128, 64]', 'unit_drop': '0.060886442644969285', 'wt_drop': '0.3095082029346148', 'epochs': 100, 'run count': 100}\n",
      "{'val': 0.7111111283302307, 'test': 0.703601062297821, 'session_id': '591460070', 'sweep': \"['591460070']\", 'lr': '1.13e-03', 'b': '128', 'lyr': '[128, 64, 32]', 'unit_drop': '0.0683286486928299', 'wt_drop': '0.20417595608324648', 'epochs': 100, 'run count': 100}\n",
      "{'val': 0.7555555701255798, 'test': 0.6861111521720886, 'session_id': '540684467', 'sweep': \"['540684467']\", 'lr': '1.76e-03', 'b': '128', 'lyr': '[32, 16]', 'unit_drop': '0.015730153516626433', 'wt_drop': '0.2589788386263416', 'epochs': 100, 'run count': 100}\n",
      "{'val': 0.8166666626930237, 'test': 0.7083333730697632, 'session_id': '604145810', 'sweep': \"['604145810']\", 'lr': '1.46e-03', 'b': '128', 'lyr': '[64, 32]', 'unit_drop': '0.1952818178036701', 'wt_drop': '0.3911554116292996', 'epochs': 100, 'run count': 100}\n",
      "{'val': 0.8333333730697632, 'test': 0.675000011920929, 'session_id': '680156911', 'sweep': \"['680156911']\", 'lr': '3.62e-03', 'b': '64', 'lyr': '[128, 128, 64, 32]', 'unit_drop': '0.17651435884017014', 'wt_drop': '0.1982207007143103', 'epochs': 100, 'run count': 100}\n",
      "{'val': 0.23888888955116272, 'test': 0.13611111044883728, 'session_id': '627823636', 'sweep': \"['627823636']\", 'lr': '9.57e-03', 'b': '128', 'lyr': '[128, 64, 32]', 'unit_drop': '0.1119814519980295', 'wt_drop': '0.3609766377300427', 'epochs': 100, 'run count': 100}\n",
      "{'val': 0.48076924681663513, 'test': 0.46043166518211365, 'session_id': '662358771', 'sweep': \"['662358771']\", 'lr': '4.88e-03', 'b': '128', 'lyr': '[64, 32]', 'unit_drop': '0.15881094547762242', 'wt_drop': '0.3283852314331151', 'epochs': 100, 'run count': 100}\n",
      "{'val': 0.5027624368667603, 'test': 0.31855955719947815, 'session_id': '566307038', 'sweep': \"['566307038']\", 'lr': '2.28e-03', 'b': '128', 'lyr': '[128, 64, 32]', 'unit_drop': '0.2383225298179112', 'wt_drop': '0.34745359129305786', 'epochs': 100, 'run count': 100}\n",
      "{'val': 0.46666666865348816, 'test': 0.39444446563720703, 'session_id': '598635821', 'sweep': \"['598635821']\", 'lr': '6.51e-03', 'b': '128', 'lyr': '[128, 64]', 'unit_drop': '0.0470461721900749', 'wt_drop': '0.3078033293526259', 'epochs': 100, 'run count': 100}\n",
      "{'val': 0.6166666746139526, 'test': 0.48753461241722107, 'session_id': '502666254', 'sweep': \"['502666254']\", 'lr': '5.89e-03', 'b': '128', 'lyr': '[64, 32]', 'unit_drop': '0.03837301243026531', 'wt_drop': '0.33963530521179647', 'epochs': 100, 'run count': 100}\n",
      "{'val': 0.41111111640930176, 'test': 0.30277779698371887, 'session_id': '657016267', 'sweep': \"['657016267']\", 'lr': '2.85e-03', 'b': '128', 'lyr': '[128, 64, 32]', 'unit_drop': '0.06404891126146944', 'wt_drop': '0.27101196816514134', 'epochs': 100, 'run count': 100}\n",
      "{'val': 0.5611111521720886, 'test': 0.41111111640930176, 'session_id': '570305847', 'sweep': \"['570305847']\", 'lr': '2.63e-03', 'b': '64', 'lyr': '[32, 16]', 'unit_drop': '0.10234353106121467', 'wt_drop': '0.2081558814430151', 'epochs': 100, 'run count': 100}\n",
      "{'val': 0.2611111104488373, 'test': 0.22160664200782776, 'session_id': '539487468', 'sweep': \"['539487468']\", 'lr': '1.86e-03', 'b': '64', 'lyr': '[128, 128, 64, 32]', 'unit_drop': '0.19046094234939603', 'wt_drop': '0.25957880526044497', 'epochs': 100, 'run count': 100}\n",
      "{'val': 0.7388889193534851, 'test': 0.6703600883483887, 'session_id': '502199136', 'sweep': \"['502199136']\", 'lr': '3.61e-04', 'b': '128', 'lyr': '[128, 64]', 'unit_drop': '0.18312885903236648', 'wt_drop': '0.011827964665133806', 'epochs': 100, 'run count': 100}\n",
      "{'val': 0.48076924681663513, 'test': 0.3214285969734192, 'session_id': '623347352', 'sweep': \"['623347352']\", 'lr': '3.93e-03', 'b': '64', 'lyr': '[128, 64, 32]', 'unit_drop': '0.03267514042100228', 'wt_drop': '0.07398526164948138', 'epochs': 100, 'run count': 100}\n",
      "{'val': 0.6833333373069763, 'test': 0.6055555939674377, 'session_id': '562052595', 'sweep': \"['562052595']\", 'lr': '1.44e-03', 'b': '128', 'lyr': '[128, 64, 32]', 'unit_drop': '0.09541262361566112', 'wt_drop': '0.40985292926793154', 'epochs': 100, 'run count': 100}\n",
      "{'val': 0.15555556118488312, 'test': 0.08611111342906952, 'session_id': '652842495', 'sweep': \"['652842495']\", 'lr': '2.75e-03', 'b': '64', 'lyr': '[128, 128, 64, 32]', 'unit_drop': '0.44938887164597463', 'wt_drop': '0.35152993168449675', 'epochs': 100, 'run count': 100}\n",
      "{'val': 0.35555556416511536, 'test': 0.32777777314186096, 'session_id': '660510593', 'sweep': \"['660510593']\", 'lr': '1.99e-03', 'b': '128', 'lyr': '[32, 16]', 'unit_drop': '0.19181571208199263', 'wt_drop': '0.025207406763427476', 'epochs': 100, 'run count': 100}\n",
      "{'val': 0.5809524059295654, 'test': 0.46078431606292725, 'session_id': '560926639', 'sweep': \"['560926639']\", 'lr': '4.75e-03', 'b': '128', 'lyr': '[64, 32]', 'unit_drop': '0.28814123088559723', 'wt_drop': '0.1411729436588316', 'epochs': 100, 'run count': 100}\n",
      "{'val': 0.2142857164144516, 'test': 0.1568627506494522, 'session_id': '657915168', 'sweep': \"['657915168']\", 'lr': '3.12e-03', 'b': '64', 'lyr': '[64, 32]', 'unit_drop': '0.37244097317846686', 'wt_drop': '0.4615624845516705', 'epochs': 100, 'run count': 100}\n",
      "{'val': 0.4754902124404907, 'test': 0.4682926833629608, 'session_id': '605859367', 'sweep': \"['605859367']\", 'lr': '4.04e-03', 'b': '64', 'lyr': '[128, 64]', 'unit_drop': '0.1813855023291618', 'wt_drop': '0.4916866667177233', 'epochs': 100, 'run count': 100}\n",
      "{'val': 0.6388888955116272, 'test': 0.6083333492279053, 'session_id': '581153070', 'sweep': \"['581153070']\", 'lr': '4.57e-03', 'b': '64', 'lyr': '[64, 32]', 'unit_drop': '0.27162625278736113', 'wt_drop': '0.47719113409997904', 'epochs': 100, 'run count': 100}\n",
      "{'val': 0.18333333730697632, 'test': 0.15833333134651184, 'session_id': '626027944', 'sweep': \"['626027944']\", 'lr': '9.67e-03', 'b': '64', 'lyr': '[128, 64, 32]', 'unit_drop': '0.2044253948487758', 'wt_drop': '0.16657888686186556', 'epochs': 100, 'run count': 100}\n",
      "{'val': 0.33888888359069824, 'test': 0.20441989600658417, 'session_id': '605688822', 'sweep': \"['605688822']\", 'lr': '7.32e-03', 'b': '128', 'lyr': '[128, 64, 32]', 'unit_drop': '0.0006929714098111717', 'wt_drop': '0.215791839837619', 'epochs': 100, 'run count': 100}\n",
      "{'val': 0.21111111342906952, 'test': 0.13611111044883728, 'session_id': '663479824', 'sweep': \"['663479824']\", 'lr': '9.84e-03', 'b': '64', 'lyr': '[128, 64]', 'unit_drop': '0.2648424552482335', 'wt_drop': '0.02801753256966505', 'epochs': 100, 'run count': 100}\n",
      "{'val': 0.7055555582046509, 'test': 0.6805555820465088, 'session_id': '605883133', 'sweep': \"['605883133']\", 'lr': '1.71e-03', 'b': '64', 'lyr': '[128, 64]', 'unit_drop': '0.06633438980980572', 'wt_drop': '0.09824701843783318', 'epochs': 100, 'run count': 100}\n",
      "{'val': 0.18888889253139496, 'test': 0.12777778506278992, 'session_id': '614571626', 'sweep': \"['614571626']\", 'lr': '4.21e-03', 'b': '128', 'lyr': '[64, 32]', 'unit_drop': '0.26321731339696514', 'wt_drop': '0.4818045287436122', 'epochs': 100, 'run count': 100}\n",
      "{'val': 0.28333333134651184, 'test': 0.2222222238779068, 'session_id': '560578599', 'sweep': \"['560578599']\", 'lr': '1.09e-03', 'b': '128', 'lyr': '[128, 128, 64, 32]', 'unit_drop': '0.3019077561949041', 'wt_drop': '0.07365461168009468', 'epochs': 100, 'run count': 100}\n",
      "{'val': 0.7166666984558105, 'test': 0.6277778148651123, 'session_id': '704298735', 'sweep': \"['704298735']\", 'lr': '1.20e-03', 'b': '128', 'lyr': '[128, 64, 32]', 'unit_drop': '0.0732870867692122', 'wt_drop': '0.007919500477430175', 'epochs': 100, 'run count': 100}\n",
      "{'val': 0.3867403566837311, 'test': 0.2527777850627899, 'session_id': '569718097', 'sweep': \"['569718097']\", 'lr': '4.33e-03', 'b': '128', 'lyr': '[128, 128, 64, 32]', 'unit_drop': '0.008533305831255389', 'wt_drop': '0.4346008359803909', 'epochs': 100, 'run count': 100}\n",
      "{'val': 0.20555555820465088, 'test': 0.0833333358168602, 'session_id': '556665481', 'sweep': \"['556665481']\", 'lr': '1.52e-03', 'b': '128', 'lyr': '[64, 32]', 'unit_drop': '0.4728029611470741', 'wt_drop': '0.4799894125622848', 'epochs': 100, 'run count': 100}\n",
      "{'val': 0.4833333492279053, 'test': 0.2548476457595825, 'session_id': '510917254', 'sweep': \"['510917254']\", 'lr': '1.36e-03', 'b': '128', 'lyr': '[32, 16]', 'unit_drop': '0.11235558686822043', 'wt_drop': '0.31855326463621453', 'epochs': 100, 'run count': 100}\n",
      "{'val': 0.8777778148651123, 'test': 0.8753462433815002, 'session_id': '527048992', 'sweep': \"['527048992']\", 'lr': '1.24e-03', 'b': '128', 'lyr': '[128, 64, 32]', 'unit_drop': '0.4521018031421315', 'wt_drop': '0.4870459918845769', 'epochs': 100, 'run count': 100}\n",
      "{'val': 0.42222222685813904, 'test': 0.31388890743255615, 'session_id': '644947716', 'sweep': \"['644947716']\", 'lr': '9.04e-04', 'b': '128', 'lyr': '[128, 64]', 'unit_drop': '0.0016606784356364424', 'wt_drop': '0.4824106396108015', 'epochs': 100, 'run count': 100}\n",
      "{'val': 0.42222222685813904, 'test': 0.375, 'session_id': '597028938', 'sweep': \"['597028938']\", 'lr': '4.13e-03', 'b': '64', 'lyr': '[64, 32]', 'unit_drop': '0.04607207173184813', 'wt_drop': '0.14280957172806696', 'epochs': 100, 'run count': 100}\n",
      "{'val': 0.46078431606292725, 'test': 0.356435626745224, 'session_id': '647603932', 'sweep': \"['647603932']\", 'lr': '3.04e-03', 'b': '64', 'lyr': '[128, 64, 32]', 'unit_drop': '0.12894857039870922', 'wt_drop': '0.18978288685069175', 'epochs': 100, 'run count': 100}\n",
      "{'val': 0.43627452850341797, 'test': 0.4213075339794159, 'session_id': '662033243', 'sweep': \"['662033243']\", 'lr': '2.47e-04', 'b': '128', 'lyr': '[64, 32]', 'unit_drop': '0.007946742665939588', 'wt_drop': '0.3931198823893056', 'epochs': 100, 'run count': 100}\n",
      "{'val': 0.3611111342906952, 'test': 0.2686980664730072, 'session_id': '686441799', 'sweep': \"['686441799']\", 'lr': '1.39e-03', 'b': '128', 'lyr': '[128, 128, 64, 32]', 'unit_drop': '0.22753446158524504', 'wt_drop': '0.11501063659562012', 'epochs': 100, 'run count': 100}\n",
      "{'val': 0.9722222685813904, 'test': 0.9194444417953491, 'session_id': '502608215', 'sweep': \"['502608215']\", 'lr': '3.47e-03', 'b': '128', 'lyr': '[64, 32]', 'unit_drop': '0.2058725301930661', 'wt_drop': '0.19423640039625195', 'epochs': 100, 'run count': 100}\n",
      "{'val': 0.800000011920929, 'test': 0.7944444417953491, 'session_id': '505407318', 'sweep': \"['505407318']\", 'lr': '1.05e-03', 'b': '128', 'lyr': '[128, 64, 32]', 'unit_drop': '0.24922334626941328', 'wt_drop': '0.12081252119130254', 'epochs': 100, 'run count': 100}\n",
      "{'val': 0.32777777314186096, 'test': 0.2944444417953491, 'session_id': '657785850', 'sweep': \"['657785850']\", 'lr': '2.86e-03', 'b': '128', 'lyr': '[64, 32]', 'unit_drop': '0.4719703722722766', 'wt_drop': '0.22557072092382424', 'epochs': 100, 'run count': 100}\n",
      "{'val': 0.3777777850627899, 'test': 0.3166666626930237, 'session_id': '639117196', 'sweep': \"['639117196']\", 'lr': '2.06e-03', 'b': '64', 'lyr': '[128, 64]', 'unit_drop': '0.0565433511941586', 'wt_drop': '0.3000063522522133', 'epochs': 100, 'run count': 100}\n",
      "{'val': 0.6055555939674377, 'test': 0.6083333492279053, 'session_id': '607063420', 'sweep': \"['607063420']\", 'lr': '5.89e-03', 'b': '128', 'lyr': '[64, 32]', 'unit_drop': '0.03864439754044202', 'wt_drop': '0.07356649662490056', 'epochs': 100, 'run count': 100}\n",
      "{'val': 0.24444444477558136, 'test': 0.14166666567325592, 'session_id': '556344224', 'sweep': \"['556344224']\", 'lr': '4.52e-04', 'b': '64', 'lyr': '[32, 16]', 'unit_drop': '0.3900354411054079', 'wt_drop': '0.08607822699067258', 'epochs': 100, 'run count': 100}\n",
      "{'val': 0.254807710647583, 'test': 0.14355230331420898, 'session_id': '692345003', 'sweep': \"['692345003']\", 'lr': '1.30e-03', 'b': '64', 'lyr': '[128, 64]', 'unit_drop': '0.18320687537744385', 'wt_drop': '0.3129679744633775', 'epochs': 100, 'run count': 100}\n",
      "{'val': 0.24309393763542175, 'test': 0.13611111044883728, 'session_id': '715923832', 'sweep': \"['715923832']\", 'lr': '7.18e-03', 'b': '128', 'lyr': '[128, 64]', 'unit_drop': '0.3827972252687372', 'wt_drop': '0.18322525156483296', 'epochs': 100, 'run count': 100}\n",
      "{'val': 0.3055555522441864, 'test': 0.3019390404224396, 'session_id': '601273921', 'sweep': \"['601273921']\", 'lr': '3.74e-03', 'b': '128', 'lyr': '[64, 32]', 'unit_drop': '0.07761915702739458', 'wt_drop': '0.47764637441772', 'epochs': 100, 'run count': 100}\n",
      "{'val': 0.5833333730697632, 'test': 0.47777777910232544, 'session_id': '575135986', 'sweep': \"['575135986']\", 'lr': '6.90e-04', 'b': '64', 'lyr': '[64, 32]', 'unit_drop': '0.002415110877344029', 'wt_drop': '0.03379660889866365', 'epochs': 100, 'run count': 100}\n",
      "{'val': 0.961326003074646, 'test': 0.9583333730697632, 'session_id': '645413759', 'sweep': \"['645413759']\", 'lr': '3.40e-03', 'b': '128', 'lyr': '[128, 64]', 'unit_drop': '0.01800096977375104', 'wt_drop': '0.3856611107357169', 'epochs': 100, 'run count': 100}\n",
      "{'val': 0.5611111521720886, 'test': 0.6055555939674377, 'session_id': '657082055', 'sweep': \"['657082055']\", 'lr': '8.33e-03', 'b': '128', 'lyr': '[128, 64]', 'unit_drop': '0.3342954839939467', 'wt_drop': '0.4928423845342727', 'epochs': 100, 'run count': 100}\n",
      "{'val': 0.5643564462661743, 'test': 0.47380954027175903, 'session_id': '638056634', 'sweep': \"['638056634']\", 'lr': '8.39e-03', 'b': '128', 'lyr': '[64, 32]', 'unit_drop': '0.14614322077552122', 'wt_drop': '0.025996183135812923', 'epochs': 100, 'run count': 100}\n",
      "{'val': 0.2666666805744171, 'test': 0.11666666716337204, 'session_id': '603452291', 'sweep': \"['603452291']\", 'lr': '1.47e-04', 'b': '128', 'lyr': '[32, 16]', 'unit_drop': '0.3718659577007999', 'wt_drop': '0.4248416227026505', 'epochs': 100, 'run count': 100}\n",
      "{'val': 0.23888888955116272, 'test': 0.1527777761220932, 'session_id': '652091264', 'sweep': \"['652091264']\", 'lr': '8.99e-04', 'b': '128', 'lyr': '[32, 16]', 'unit_drop': '0.045998286214827655', 'wt_drop': '0.1574534411938193', 'epochs': 100, 'run count': 100}\n",
      "{'val': 0.5277777910232544, 'test': 0.42222222685813904, 'session_id': '639117826', 'sweep': \"['639117826']\", 'lr': '1.24e-03', 'b': '128', 'lyr': '[64, 32]', 'unit_drop': '0.034383587160282', 'wt_drop': '0.40785498406844534', 'epochs': 100, 'run count': 100}\n",
      "{'val': 0.4000000059604645, 'test': 0.2666666805744171, 'session_id': '613968705', 'sweep': \"['613968705']\", 'lr': '9.05e-03', 'b': '128', 'lyr': '[128, 64]', 'unit_drop': '0.021123299044531307', 'wt_drop': '0.05098569945692977', 'epochs': 100, 'run count': 100}\n",
      "{'val': 0.4833333492279053, 'test': 0.347222238779068, 'session_id': '688580172', 'sweep': \"['688580172']\", 'lr': '4.51e-03', 'b': '64', 'lyr': '[128, 64]', 'unit_drop': '0.0023480555482324195', 'wt_drop': '0.0900935155295558', 'epochs': 100, 'run count': 100}\n",
      "{'val': 0.5, 'test': 0.4194444417953491, 'session_id': '652737678', 'sweep': \"['652737678']\", 'lr': '8.36e-03', 'b': '128', 'lyr': '[128, 64, 32]', 'unit_drop': '0.03006784320828476', 'wt_drop': '0.021413546909854145', 'epochs': 100, 'run count': 100}\n",
      "{'val': 0.8578431606292725, 'test': 0.8102189898490906, 'session_id': '647155122', 'sweep': \"['647155122']\", 'lr': '5.92e-03', 'b': '64', 'lyr': '[128, 64]', 'unit_drop': '0.44449054526068155', 'wt_drop': '0.4946170019490432', 'epochs': 100, 'run count': 100}\n",
      "{'val': 0.6888889074325562, 'test': 0.5583333373069763, 'session_id': '651770186', 'sweep': \"['651770186']\", 'lr': '5.93e-03', 'b': '128', 'lyr': '[64, 32]', 'unit_drop': '0.21024741402114455', 'wt_drop': '0.3209093690815679', 'epochs': 100, 'run count': 100}\n",
      "{'val': 0.3777777850627899, 'test': 0.2686980664730072, 'session_id': '662359728', 'sweep': \"['662359728']\", 'lr': '1.85e-03', 'b': '128', 'lyr': '[64, 32]', 'unit_drop': '0.3776745670634972', 'wt_drop': '0.04087664760826054', 'epochs': 100, 'run count': 100}\n",
      "{'val': 0.6722222566604614, 'test': 0.5861111283302307, 'session_id': '644026238', 'sweep': \"['644026238']\", 'lr': '1.71e-03', 'b': '128', 'lyr': '[128, 64, 32]', 'unit_drop': '0.01966466274101009', 'wt_drop': '0.16638231831471423', 'epochs': 100, 'run count': 100}\n",
      "{'val': 0.7900552749633789, 'test': 0.675000011920929, 'session_id': '501940850', 'sweep': \"['501940850']\", 'lr': '5.89e-03', 'b': '128', 'lyr': '[64, 32]', 'unit_drop': '0.06069533404934746', 'wt_drop': '0.1926499945716561', 'epochs': 100, 'run count': 100}\n",
      "{'val': 0.6277778148651123, 'test': 0.5638889074325562, 'session_id': '546641574', 'sweep': \"['546641574']\", 'lr': '3.56e-03', 'b': '128', 'lyr': '[128, 64, 32]', 'unit_drop': '0.14280241834800567', 'wt_drop': '0.40716678420849256', 'epochs': 100, 'run count': 100}\n",
      "{'val': 0.5, 'test': 0.41111111640930176, 'session_id': '645086975', 'sweep': \"['645086975']\", 'lr': '2.40e-03', 'b': '128', 'lyr': '[64, 32]', 'unit_drop': '0.10201667092963984', 'wt_drop': '0.3222235870230037', 'epochs': 100, 'run count': 100}\n",
      "{'val': 0.32777777314186096, 'test': 0.22714680433273315, 'session_id': '603763073', 'sweep': \"['603763073']\", 'lr': '8.39e-03', 'b': '128', 'lyr': '[64, 32]', 'unit_drop': '0.011296419764929289', 'wt_drop': '0.009136276512673958', 'epochs': 100, 'run count': 100}\n",
      "{'val': 0.2222222238779068, 'test': 0.12465373426675797, 'session_id': '657078119', 'sweep': \"['657078119']\", 'lr': '1.78e-03', 'b': '64', 'lyr': '[128, 64, 32]', 'unit_drop': '0.03898000015863462', 'wt_drop': '0.46300067998406186', 'epochs': 100, 'run count': 100}\n",
      "{'val': 0.4555555582046509, 'test': 0.375, 'session_id': '581150104', 'sweep': \"['581150104']\", 'lr': '2.80e-03', 'b': '64', 'lyr': '[64, 32]', 'unit_drop': '0.014048691770846111', 'wt_drop': '0.2887443111888344', 'epochs': 100, 'run count': 100}\n",
      "{'val': 0.5277777910232544, 'test': 0.3656509518623352, 'session_id': '545446482', 'sweep': \"['545446482']\", 'lr': '5.63e-03', 'b': '64', 'lyr': '[128, 64]', 'unit_drop': '0.34666605419606006', 'wt_drop': '0.19962194586406443', 'epochs': 100, 'run count': 100}\n",
      "{'val': 0.2666666805744171, 'test': 0.17499999701976776, 'session_id': '601705404', 'sweep': \"['601705404']\", 'lr': '2.29e-03', 'b': '128', 'lyr': '[64, 32]', 'unit_drop': '0.06605989061229972', 'wt_drop': '0.4573190086584239', 'epochs': 100, 'run count': 100}\n",
      "{'val': 0.7944444417953491, 'test': 0.6861111521720886, 'session_id': '698762886', 'sweep': \"['698762886']\", 'lr': '2.02e-03', 'b': '64', 'lyr': '[32, 16]', 'unit_drop': '0.3780751895872101', 'wt_drop': '0.007142261836805774', 'epochs': 100, 'run count': 100}\n",
      "{'val': 0.19337017834186554, 'test': 0.15833333134651184, 'session_id': '662361096', 'sweep': \"['662361096']\", 'lr': '9.60e-03', 'b': '64', 'lyr': '[128, 64]', 'unit_drop': '0.2692875856254575', 'wt_drop': '0.09234938269851956', 'epochs': 100, 'run count': 100}\n",
      "{'val': 0.5611111521720886, 'test': 0.5166666507720947, 'session_id': '581597734', 'sweep': \"['581597734']\", 'lr': '4.31e-03', 'b': '128', 'lyr': '[32, 16]', 'unit_drop': '0.32048720642031236', 'wt_drop': '0.11605094218716666', 'epochs': 100, 'run count': 100}\n",
      "{'val': 0.5111111402511597, 'test': 0.5416666865348816, 'session_id': '504853580', 'sweep': \"['504853580']\", 'lr': '8.89e-04', 'b': '64', 'lyr': '[64, 32]', 'unit_drop': '0.25897440089923873', 'wt_drop': '0.1975441067386579', 'epochs': 100, 'run count': 100}\n",
      "{'val': 0.7833333611488342, 'test': 0.7894736528396606, 'session_id': '502793808', 'sweep': \"['502793808']\", 'lr': '9.31e-03', 'b': '64', 'lyr': '[64, 32]', 'unit_drop': '0.18945690470191817', 'wt_drop': '0.1542620397954968', 'epochs': 100, 'run count': 100}\n",
      "{'val': 0.27222222089767456, 'test': 0.236111119389534, 'session_id': '614556106', 'sweep': \"['614556106']\", 'lr': '4.05e-03', 'b': '128', 'lyr': '[32, 16]', 'unit_drop': '0.11734794513198038', 'wt_drop': '0.49276888345178177', 'epochs': 100, 'run count': 100}\n",
      "{'val': 0.32777777314186096, 'test': 0.24166667461395264, 'session_id': '638862121', 'sweep': \"['638862121']\", 'lr': '4.30e-03', 'b': '128', 'lyr': '[64, 32]', 'unit_drop': '0.03206690607859014', 'wt_drop': '0.2738615525383281', 'epochs': 100, 'run count': 100}\n",
      "{'val': 0.47663548588752747, 'test': 0.359413206577301, 'session_id': '595273803', 'sweep': \"['595273803']\", 'lr': '9.06e-04', 'b': '128', 'lyr': '[128, 128, 64, 32]', 'unit_drop': '0.26039516763750287', 'wt_drop': '0.10684043093486768', 'epochs': 100, 'run count': 100}\n",
      "{'val': 0.5277777910232544, 'test': 0.3638888895511627, 'session_id': '511194579', 'sweep': \"['511194579']\", 'lr': '2.95e-03', 'b': '64', 'lyr': '[64, 32]', 'unit_drop': '0.024110073682440503', 'wt_drop': '0.007222490529930126', 'epochs': 100, 'run count': 100}\n",
      "{'val': 0.31111112236976624, 'test': 0.2638888955116272, 'session_id': '594320795', 'sweep': \"['594320795']\", 'lr': '2.14e-04', 'b': '128', 'lyr': '[64, 32]', 'unit_drop': '0.003157124756312635', 'wt_drop': '0.19446829188679032', 'epochs': 100, 'run count': 100}\n",
      "{'val': 0.2611111104488373, 'test': 0.215469628572464, 'session_id': '560809202', 'sweep': \"['560809202']\", 'lr': '2.40e-04', 'b': '128', 'lyr': '[128, 64]', 'unit_drop': '0.011101643991551556', 'wt_drop': '0.3876012994639578', 'epochs': 100, 'run count': 100}\n",
      "{'val': 0.6722222566604614, 'test': 0.6371191143989563, 'session_id': '645689073', 'sweep': \"['645689073']\", 'lr': '2.93e-03', 'b': '128', 'lyr': '[64, 32]', 'unit_drop': '0.2878293019441934', 'wt_drop': '0.4303177046976436', 'epochs': 100, 'run count': 100}\n",
      "{'val': 0.43478259444236755, 'test': 0.323184996843338, 'session_id': '613091721', 'sweep': \"['613091721']\", 'lr': '9.14e-04', 'b': '128', 'lyr': '[64, 32]', 'unit_drop': '0.24677991704289187', 'wt_drop': '0.4023242921629474', 'epochs': 100, 'run count': 100}\n",
      "{'val': 0.6280193328857422, 'test': 0.497560977935791, 'session_id': '652094901', 'sweep': \"['652094901']\", 'lr': '1.29e-03', 'b': '128', 'lyr': '[32, 16]', 'unit_drop': '0.21724178693299223', 'wt_drop': '0.09834572981205504', 'epochs': 100, 'run count': 100}\n",
      "{'val': 0.23888888955116272, 'test': 0.16944444179534912, 'session_id': '657776356', 'sweep': \"['657776356']\", 'lr': '3.72e-03', 'b': '128', 'lyr': '[128, 64]', 'unit_drop': '0.23475706882003083', 'wt_drop': '0.4887926610639801', 'epochs': 100, 'run count': 100}\n",
      "{'val': 0.6333333253860474, 'test': 0.5472222566604614, 'session_id': '627823695', 'sweep': \"['627823695']\", 'lr': '5.67e-03', 'b': '128', 'lyr': '[128, 64]', 'unit_drop': '0.3380226274022799', 'wt_drop': '0.057921286087003254', 'epochs': 100, 'run count': 100}\n",
      "{'val': 0.21111111342906952, 'test': 0.11911357194185257, 'session_id': '662982346', 'sweep': \"['662982346']\", 'lr': '6.85e-03', 'b': '64', 'lyr': '[64, 32]', 'unit_drop': '0.04599349493024257', 'wt_drop': '0.30941116105649374', 'epochs': 100, 'run count': 100}\n",
      "{'val': 0.24725274741649628, 'test': 0.18333333730697632, 'session_id': '556353209', 'sweep': \"['556353209']\", 'lr': '8.43e-04', 'b': '64', 'lyr': '[128, 128, 64, 32]', 'unit_drop': '0.08898171129575883', 'wt_drop': '0.42444927403422894', 'epochs': 100, 'run count': 100}\n",
      "{'val': 0.472222238779068, 'test': 0.36944445967674255, 'session_id': '604328043', 'sweep': \"['604328043']\", 'lr': '6.44e-03', 'b': '128', 'lyr': '[128, 128, 64, 32]', 'unit_drop': '0.2974812622245008', 'wt_drop': '0.38019336835475326', 'epochs': 100, 'run count': 100}\n",
      "{'val': 0.2153109908103943, 'test': 0.11835748702287674, 'session_id': '649409874', 'sweep': \"['649409874']\", 'lr': '7.57e-03', 'b': '64', 'lyr': '[32, 16]', 'unit_drop': '0.3289495204384161', 'wt_drop': '0.46883326121722974', 'epochs': 100, 'run count': 100}\n"
     ]
    }
   ],
   "source": [
    "api = wandb.Api()\n",
    "import re\n",
    "# Replace 'project_name' with your project's name\n",
    "project_name = \"project-kirby-examples_mlp_sweep\"\n",
    "project = api.project(project_name)\n",
    "hp_dict = {}\n",
    "\n",
    "sweeps = project.sweeps()\n",
    "print(f\"Found {len(sweeps)} sweeps.\")\n",
    "for sweep in sweeps:\n",
    "    best = sweep.best_run()\n",
    "    runs = api.runs(path=project_name, filters={\"sweep\": sweep.id})\n",
    "    run_count = len(runs)\n",
    "    if best:\n",
    "        epochs = best.config.get('epochs', 'Not specified')\n",
    "        val_acc = [row[\"val_accuracy\"] for row in best.scan_history(keys=[\"val_accuracy\"])]\n",
    "        test_acc = [row[\"test_accuracy\"] for row in best.scan_history(keys=[\"test_accuracy\"])]\n",
    "\n",
    "        val_acc.append(0)\n",
    "        test_acc.append(0)\n",
    "        # test accuracy is the corresponding test accuracy for the epoch with the best validation accuracy\n",
    "        # so we will get both the max and argmax\n",
    "        val_acc = max(val_acc)\n",
    "        test_acc = max(test_acc)\n",
    "        \n",
    "        if (not sweep.name in hp_dict.keys()) or (sweep.name in hp_dict.keys() and val_acc > hp_dict[sweep.name][\"val\"]): #catch duplicate runs\n",
    "            hp_dict[sweep.name] = {\"val\" : val_acc, \"test\" : test_acc, \"session_id\" : sweep.name}\n",
    "            parts = best.name.split('/')\n",
    "            for part in parts:\n",
    "                if \":\" in part:\n",
    "                    hp, val = tuple(part.split(\":\"))\n",
    "                    hp_dict[sweep.name][hp] = val\n",
    "            hp_dict[sweep.name][\"epochs\"] = epochs\n",
    "            try:\n",
    "                hp_dict[sweep.name][\"run count\"] += run_count\n",
    "            except:\n",
    "                hp_dict[sweep.name][\"run count\"] = run_count\n",
    "\n",
    "for each in hp_dict:\n",
    "    print(hp_dict[each])"
   ]
  },
  {
   "cell_type": "code",
   "execution_count": 152,
   "metadata": {},
   "outputs": [
    {
     "name": "stdout",
     "output_type": "stream",
     "text": [
      "Found 479 sweeps.\n"
     ]
    }
   ],
   "source": [
    "api = wandb.Api()\n",
    "import re\n",
    "# Replace 'project_name' with your project's name\n",
    "project_name = \"project-kirby-examples_mlp_sweep\"\n",
    "project = api.project(project_name)\n",
    "sweeps = project.sweeps()\n",
    "print(f\"Found {len(sweeps)} sweeps.\")"
   ]
  },
  {
   "cell_type": "code",
   "execution_count": 173,
   "metadata": {},
   "outputs": [
    {
     "data": {
      "text/plain": [
       "<bound method Run.history of <Run neuro-galaxy/project-kirby-examples_mlp_sweep/161f2m35 (finished)>>"
      ]
     },
     "execution_count": 173,
     "metadata": {},
     "output_type": "execute_result"
    }
   ],
   "source": []
  },
  {
   "cell_type": "code",
   "execution_count": 180,
   "metadata": {},
   "outputs": [],
   "source": [
    "from tqdm import tqdm\n",
    "\n",
    "def process_run(run):\n",
    "    if not 'dataset' in run.config:\n",
    "        return dict(failed=True)\n",
    "    session_id = run.config['dataset'][0]['selection'][0]['sortsets'][0]\n",
    "    val_acc = [row[\"val_accuracy\"] for row in run.scan_history(keys=[\"val_accuracy\"])]\n",
    "    test_acc = [row[\"test_accuracy\"] for row in run.scan_history(keys=[\"test_accuracy\"])]\n",
    "    failed = len(test_acc) == 0\n",
    "    if failed:\n",
    "        val_acc = None\n",
    "        test_acc = None\n",
    "    else:\n",
    "        val_acc = max(val_acc)\n",
    "        assert len(test_acc) == 1\n",
    "        test_acc = test_acc[0]\n",
    "    return dict(session_id=session_id, val_acc=val_acc, test_acc=test_acc, failed=failed)\n",
    "\n",
    "def process_sweep(sweep):\n",
    "    runs = api.runs(path=project_name, filters={\"sweep\": sweep.id})\n",
    "    \n",
    "    run_count = 0\n",
    "    best_val_acc = 0\n",
    "    best_test_acc = 0\n",
    "    session_id = None\n",
    "    for run in tqdm(runs):\n",
    "        out = process_run(run)\n",
    "        if out['failed']:\n",
    "            continue\n",
    "        run_count += 1\n",
    "        if out['val_acc'] > best_val_acc:\n",
    "            best_val_acc = out['val_acc']\n",
    "            best_test_acc = out['test_acc']\n",
    "        if session_id is None:\n",
    "            session_id = out['session_id']\n",
    "        else:\n",
    "            assert session_id == out['session_id']\n",
    "\n",
    "    return dict(session_id=session_id, run_count=run_count, best_val_acc=best_val_acc, best_test_acc=best_test_acc)\n"
   ]
  },
  {
   "cell_type": "code",
   "execution_count": 181,
   "metadata": {},
   "outputs": [
    {
     "name": "stdout",
     "output_type": "stream",
     "text": [
      "Found 479 sweeps.\n"
     ]
    },
    {
     "name": "stderr",
     "output_type": "stream",
     "text": [
      "100%|██████████| 42/42 [00:22<00:00,  1.90it/s]\n"
     ]
    },
    {
     "name": "stdout",
     "output_type": "stream",
     "text": [
      "{'session_id': '649409874', 'run_count': 17, 'best_val_acc': 0.23444975912570953, 'best_test_acc': 0.13768115639686584}\n"
     ]
    },
    {
     "name": "stderr",
     "output_type": "stream",
     "text": [
      "100%|██████████| 100/100 [00:00<00:00, 427.77it/s]\n"
     ]
    },
    {
     "name": "stdout",
     "output_type": "stream",
     "text": [
      "{'session_id': None, 'run_count': 0, 'best_val_acc': 0, 'best_test_acc': 0}\n"
     ]
    },
    {
     "name": "stderr",
     "output_type": "stream",
     "text": [
      "100%|██████████| 100/100 [01:08<00:00,  1.46it/s]\n"
     ]
    },
    {
     "name": "stdout",
     "output_type": "stream",
     "text": [
      "{'session_id': '657775947', 'run_count': 100, 'best_val_acc': 0.24444444477558136, 'best_test_acc': 0.1111111119389534}\n"
     ]
    },
    {
     "name": "stderr",
     "output_type": "stream",
     "text": [
      "100%|██████████| 100/100 [01:14<00:00,  1.35it/s]\n"
     ]
    },
    {
     "name": "stdout",
     "output_type": "stream",
     "text": [
      "{'session_id': '653123929', 'run_count': 100, 'best_val_acc': 0.8500000238418579, 'best_test_acc': 0.7611111402511597}\n"
     ]
    },
    {
     "name": "stderr",
     "output_type": "stream",
     "text": [
      "100%|██████████| 100/100 [01:09<00:00,  1.44it/s]\n"
     ]
    },
    {
     "name": "stdout",
     "output_type": "stream",
     "text": [
      "{'session_id': '564425777', 'run_count': 100, 'best_val_acc': 0.8111111521720886, 'best_test_acc': 0.5861111283302307}\n"
     ]
    },
    {
     "name": "stderr",
     "output_type": "stream",
     "text": [
      "100%|██████████| 100/100 [01:11<00:00,  1.40it/s]\n"
     ]
    },
    {
     "name": "stdout",
     "output_type": "stream",
     "text": [
      "{'session_id': '510390912', 'run_count': 100, 'best_val_acc': 0.5333333611488342, 'best_test_acc': 0.49722224473953247}\n"
     ]
    },
    {
     "name": "stderr",
     "output_type": "stream",
     "text": [
      "100%|██████████| 100/100 [01:10<00:00,  1.42it/s]\n"
     ]
    },
    {
     "name": "stdout",
     "output_type": "stream",
     "text": [
      "{'session_id': '649324898', 'run_count': 100, 'best_val_acc': 0.23333333432674408, 'best_test_acc': 0.16111111640930176}\n"
     ]
    },
    {
     "name": "stderr",
     "output_type": "stream",
     "text": [
      " 53%|█████▎    | 53/100 [00:36<00:35,  1.31it/s]\u001b[34m\u001b[1mwandb\u001b[0m: \u001b[33mWARNING\u001b[0m A graphql request initiated by the public wandb API timed out (timeout=19 sec). Create a new API with an integer timeout larger than 19, e.g., `api = wandb.Api(timeout=29)` to increase the graphql timeout.\n",
      "100%|██████████| 100/100 [01:29<00:00,  1.11it/s]\n"
     ]
    },
    {
     "name": "stdout",
     "output_type": "stream",
     "text": [
      "{'session_id': '565216523', 'run_count': 100, 'best_val_acc': 0.699999988079071, 'best_test_acc': 0.5069251656532288}\n"
     ]
    },
    {
     "name": "stderr",
     "output_type": "stream",
     "text": [
      "100%|██████████| 100/100 [01:07<00:00,  1.49it/s]\n"
     ]
    },
    {
     "name": "stdout",
     "output_type": "stream",
     "text": [
      "{'session_id': '676024666', 'run_count': 100, 'best_val_acc': 0.27222222089767456, 'best_test_acc': 0.09972298890352249}\n"
     ]
    },
    {
     "name": "stderr",
     "output_type": "stream",
     "text": [
      "100%|██████████| 100/100 [01:12<00:00,  1.38it/s]\n"
     ]
    },
    {
     "name": "stdout",
     "output_type": "stream",
     "text": [
      "{'session_id': '571006300', 'run_count': 100, 'best_val_acc': 0.5444444417953491, 'best_test_acc': 0.38055557012557983}\n"
     ]
    },
    {
     "name": "stderr",
     "output_type": "stream",
     "text": [
      "100%|██████████| 100/100 [00:54<00:00,  1.85it/s]\n"
     ]
    },
    {
     "name": "stdout",
     "output_type": "stream",
     "text": [
      "{'session_id': '588483711', 'run_count': 100, 'best_val_acc': 0.6243094205856323, 'best_test_acc': 0.5955678224563599}\n"
     ]
    },
    {
     "name": "stderr",
     "output_type": "stream",
     "text": [
      "100%|██████████| 100/100 [01:07<00:00,  1.49it/s]\n"
     ]
    },
    {
     "name": "stdout",
     "output_type": "stream",
     "text": [
      "{'session_id': '551888519', 'run_count': 100, 'best_val_acc': 0.4555555582046509, 'best_test_acc': 0.2845304012298584}\n"
     ]
    },
    {
     "name": "stderr",
     "output_type": "stream",
     "text": [
      "100%|██████████| 100/100 [01:13<00:00,  1.36it/s]\n"
     ]
    },
    {
     "name": "stdout",
     "output_type": "stream",
     "text": [
      "{'session_id': '575302108', 'run_count': 100, 'best_val_acc': 0.5277777910232544, 'best_test_acc': 0.3361111283302307}\n"
     ]
    },
    {
     "name": "stderr",
     "output_type": "stream",
     "text": [
      "100%|██████████| 100/100 [01:05<00:00,  1.52it/s]\n"
     ]
    },
    {
     "name": "stdout",
     "output_type": "stream",
     "text": [
      "{'session_id': '567878987', 'run_count': 100, 'best_val_acc': 0.2888889014720917, 'best_test_acc': 0.14722222089767456}\n"
     ]
    },
    {
     "name": "stderr",
     "output_type": "stream",
     "text": [
      "100%|██████████| 100/100 [01:08<00:00,  1.47it/s]\n"
     ]
    },
    {
     "name": "stdout",
     "output_type": "stream",
     "text": [
      "{'session_id': '506773185', 'run_count': 100, 'best_val_acc': 0.5388889312744141, 'best_test_acc': 0.3861111104488373}\n"
     ]
    },
    {
     "name": "stderr",
     "output_type": "stream",
     "text": [
      "100%|██████████| 100/100 [01:01<00:00,  1.61it/s]\n"
     ]
    },
    {
     "name": "stdout",
     "output_type": "stream",
     "text": [
      "{'session_id': '570008444', 'run_count': 100, 'best_val_acc': 0.3333333432674408, 'best_test_acc': 0.2936288118362427}\n"
     ]
    },
    {
     "name": "stderr",
     "output_type": "stream",
     "text": [
      "100%|██████████| 100/100 [01:12<00:00,  1.39it/s]\n"
     ]
    },
    {
     "name": "stdout",
     "output_type": "stream",
     "text": [
      "{'session_id': '685816006', 'run_count': 100, 'best_val_acc': 0.4166666865348816, 'best_test_acc': 0.31111112236976624}\n"
     ]
    },
    {
     "name": "stderr",
     "output_type": "stream",
     "text": [
      "100%|██████████| 100/100 [01:12<00:00,  1.37it/s]\n"
     ]
    },
    {
     "name": "stdout",
     "output_type": "stream",
     "text": [
      "{'session_id': '605800963', 'run_count': 100, 'best_val_acc': 0.3222222328186035, 'best_test_acc': 0.25207754969596863}\n"
     ]
    },
    {
     "name": "stderr",
     "output_type": "stream",
     "text": [
      "100%|██████████| 100/100 [01:10<00:00,  1.42it/s]\n"
     ]
    },
    {
     "name": "stdout",
     "output_type": "stream",
     "text": [
      "{'session_id': '682049099', 'run_count': 100, 'best_val_acc': 0.41111111640930176, 'best_test_acc': 0.23333333432674408}\n"
     ]
    },
    {
     "name": "stderr",
     "output_type": "stream",
     "text": [
      "100%|██████████| 100/100 [01:02<00:00,  1.61it/s]\n"
     ]
    },
    {
     "name": "stdout",
     "output_type": "stream",
     "text": [
      "{'session_id': '573261515', 'run_count': 100, 'best_val_acc': 0.7666667103767395, 'best_test_acc': 0.6722222566604614}\n"
     ]
    },
    {
     "name": "stderr",
     "output_type": "stream",
     "text": [
      "100%|██████████| 100/100 [00:57<00:00,  1.75it/s]\n"
     ]
    },
    {
     "name": "stdout",
     "output_type": "stream",
     "text": [
      "{'session_id': '652989442', 'run_count': 100, 'best_val_acc': 0.21111111342906952, 'best_test_acc': 0.13611111044883728}\n"
     ]
    },
    {
     "name": "stderr",
     "output_type": "stream",
     "text": [
      "100%|██████████| 100/100 [01:12<00:00,  1.39it/s]\n"
     ]
    },
    {
     "name": "stdout",
     "output_type": "stream",
     "text": [
      "{'session_id': '583136567', 'run_count': 100, 'best_val_acc': 0.5898617506027222, 'best_test_acc': 0.5132530331611633}\n"
     ]
    },
    {
     "name": "stderr",
     "output_type": "stream",
     "text": [
      "100%|██████████| 100/100 [00:54<00:00,  1.84it/s]\n"
     ]
    },
    {
     "name": "stdout",
     "output_type": "stream",
     "text": [
      "{'session_id': '501929610', 'run_count': 100, 'best_val_acc': 0.694444477558136, 'best_test_acc': 0.6565096974372864}\n"
     ]
    },
    {
     "name": "stderr",
     "output_type": "stream",
     "text": [
      "100%|██████████| 100/100 [01:27<00:00,  1.14it/s]\n"
     ]
    },
    {
     "name": "stdout",
     "output_type": "stream",
     "text": [
      "{'session_id': '673171528', 'run_count': 100, 'best_val_acc': 0.2511848509311676, 'best_test_acc': 0.09927361458539963}\n"
     ]
    },
    {
     "name": "stderr",
     "output_type": "stream",
     "text": [
      "100%|██████████| 100/100 [00:55<00:00,  1.79it/s]\n"
     ]
    },
    {
     "name": "stdout",
     "output_type": "stream",
     "text": [
      "{'session_id': '662974315', 'run_count': 100, 'best_val_acc': 0.6277778148651123, 'best_test_acc': 0.6027777791023254}\n"
     ]
    },
    {
     "name": "stderr",
     "output_type": "stream",
     "text": [
      "100%|██████████| 100/100 [00:54<00:00,  1.82it/s]\n"
     ]
    },
    {
     "name": "stdout",
     "output_type": "stream",
     "text": [
      "{'session_id': '502376461', 'run_count': 100, 'best_val_acc': 0.591160237789154, 'best_test_acc': 0.4888888895511627}\n"
     ]
    },
    {
     "name": "stderr",
     "output_type": "stream",
     "text": [
      "100%|██████████| 100/100 [00:57<00:00,  1.75it/s]\n"
     ]
    },
    {
     "name": "stdout",
     "output_type": "stream",
     "text": [
      "{'session_id': '507990552', 'run_count': 100, 'best_val_acc': 0.6961326003074646, 'best_test_acc': 0.5805555582046509}\n"
     ]
    },
    {
     "name": "stderr",
     "output_type": "stream",
     "text": [
      "100%|██████████| 100/100 [00:55<00:00,  1.80it/s]\n"
     ]
    },
    {
     "name": "stdout",
     "output_type": "stream",
     "text": [
      "{'session_id': '576001843', 'run_count': 100, 'best_val_acc': 0.6666666865348816, 'best_test_acc': 0.6620498299598694}\n"
     ]
    },
    {
     "name": "stderr",
     "output_type": "stream",
     "text": [
      "100%|██████████| 100/100 [00:56<00:00,  1.77it/s]\n"
     ]
    },
    {
     "name": "stdout",
     "output_type": "stream",
     "text": [
      "{'session_id': '617381605', 'run_count': 100, 'best_val_acc': 0.7888889312744141, 'best_test_acc': 0.7750000357627869}\n"
     ]
    },
    {
     "name": "stderr",
     "output_type": "stream",
     "text": [
      "100%|██████████| 100/100 [00:59<00:00,  1.68it/s]\n"
     ]
    },
    {
     "name": "stdout",
     "output_type": "stream",
     "text": [
      "{'session_id': '510093797', 'run_count': 100, 'best_val_acc': 0.5888888835906982, 'best_test_acc': 0.38055557012557983}\n"
     ]
    },
    {
     "name": "stderr",
     "output_type": "stream",
     "text": [
      "100%|██████████| 100/100 [00:56<00:00,  1.78it/s]\n"
     ]
    },
    {
     "name": "stdout",
     "output_type": "stream",
     "text": [
      "{'session_id': '524691284', 'run_count': 100, 'best_val_acc': 0.9000000357627869, 'best_test_acc': 0.8666666746139526}\n"
     ]
    },
    {
     "name": "stderr",
     "output_type": "stream",
     "text": [
      "100%|██████████| 100/100 [01:00<00:00,  1.66it/s]\n"
     ]
    },
    {
     "name": "stdout",
     "output_type": "stream",
     "text": [
      "{'session_id': '605606109', 'run_count': 100, 'best_val_acc': 0.42222222685813904, 'best_test_acc': 0.27624309062957764}\n"
     ]
    },
    {
     "name": "stderr",
     "output_type": "stream",
     "text": [
      "100%|██████████| 100/100 [00:55<00:00,  1.79it/s]\n"
     ]
    },
    {
     "name": "stdout",
     "output_type": "stream",
     "text": [
      "{'session_id': '601904502', 'run_count': 100, 'best_val_acc': 0.32777777314186096, 'best_test_acc': 0.18888889253139496}\n"
     ]
    },
    {
     "name": "stderr",
     "output_type": "stream",
     "text": [
      "100%|██████████| 100/100 [00:55<00:00,  1.79it/s]\n"
     ]
    },
    {
     "name": "stdout",
     "output_type": "stream",
     "text": [
      "{'session_id': '617388117', 'run_count': 100, 'best_val_acc': 0.25, 'best_test_acc': 0.09166666865348816}\n"
     ]
    },
    {
     "name": "stderr",
     "output_type": "stream",
     "text": [
      "100%|██████████| 100/100 [00:56<00:00,  1.77it/s]\n"
     ]
    },
    {
     "name": "stdout",
     "output_type": "stream",
     "text": [
      "{'session_id': '505695962', 'run_count': 100, 'best_val_acc': 0.694444477558136, 'best_test_acc': 0.6055555939674377}\n"
     ]
    },
    {
     "name": "stderr",
     "output_type": "stream",
     "text": [
      "100%|██████████| 100/100 [01:27<00:00,  1.14it/s]\n"
     ]
    },
    {
     "name": "stdout",
     "output_type": "stream",
     "text": [
      "{'session_id': '559192380', 'run_count': 100, 'best_val_acc': 0.41747573018074036, 'best_test_acc': 0.35784316062927246}\n"
     ]
    },
    {
     "name": "stderr",
     "output_type": "stream",
     "text": [
      "100%|██████████| 100/100 [00:56<00:00,  1.77it/s]\n"
     ]
    },
    {
     "name": "stdout",
     "output_type": "stream",
     "text": [
      "{'session_id': '591430494', 'run_count': 100, 'best_val_acc': 0.25555557012557983, 'best_test_acc': 0.15833333134651184}\n"
     ]
    },
    {
     "name": "stderr",
     "output_type": "stream",
     "text": [
      "100%|██████████| 100/100 [00:55<00:00,  1.79it/s]\n"
     ]
    },
    {
     "name": "stdout",
     "output_type": "stream",
     "text": [
      "{'session_id': '569739027', 'run_count': 100, 'best_val_acc': 0.6000000238418579, 'best_test_acc': 0.4166666865348816}\n"
     ]
    },
    {
     "name": "stderr",
     "output_type": "stream",
     "text": [
      "100%|██████████| 100/100 [00:56<00:00,  1.76it/s]\n"
     ]
    },
    {
     "name": "stdout",
     "output_type": "stream",
     "text": [
      "{'session_id': '672207947', 'run_count': 100, 'best_val_acc': 0.8166666626930237, 'best_test_acc': 0.699999988079071}\n"
     ]
    },
    {
     "name": "stderr",
     "output_type": "stream",
     "text": [
      "100%|██████████| 100/100 [00:55<00:00,  1.79it/s]\n"
     ]
    },
    {
     "name": "stdout",
     "output_type": "stream",
     "text": [
      "{'session_id': '584544569', 'run_count': 100, 'best_val_acc': 0.28333333134651184, 'best_test_acc': 0.16944444179534912}\n"
     ]
    },
    {
     "name": "stderr",
     "output_type": "stream",
     "text": [
      "100%|██████████| 100/100 [00:56<00:00,  1.78it/s]\n"
     ]
    },
    {
     "name": "stdout",
     "output_type": "stream",
     "text": [
      "{'session_id': '712178511', 'run_count': 100, 'best_val_acc': 0.550000011920929, 'best_test_acc': 0.46388891339302063}\n"
     ]
    },
    {
     "name": "stderr",
     "output_type": "stream",
     "text": [
      "100%|██████████| 100/100 [00:57<00:00,  1.74it/s]\n"
     ]
    },
    {
     "name": "stdout",
     "output_type": "stream",
     "text": [
      "{'session_id': '649938038', 'run_count': 100, 'best_val_acc': 0.39444446563720703, 'best_test_acc': 0.347222238779068}\n"
     ]
    },
    {
     "name": "stderr",
     "output_type": "stream",
     "text": [
      "100%|██████████| 100/100 [00:56<00:00,  1.76it/s]\n"
     ]
    },
    {
     "name": "stdout",
     "output_type": "stream",
     "text": [
      "{'session_id': '657080632', 'run_count': 100, 'best_val_acc': 0.7611111402511597, 'best_test_acc': 0.7416666746139526}\n"
     ]
    },
    {
     "name": "stderr",
     "output_type": "stream",
     "text": [
      "100%|██████████| 100/100 [00:55<00:00,  1.82it/s]\n"
     ]
    },
    {
     "name": "stdout",
     "output_type": "stream",
     "text": [
      "{'session_id': '501574836', 'run_count': 100, 'best_val_acc': 0.8555555939674377, 'best_test_acc': 0.8361111283302307}\n"
     ]
    },
    {
     "name": "stderr",
     "output_type": "stream",
     "text": [
      "100%|██████████| 100/100 [00:57<00:00,  1.74it/s]\n"
     ]
    },
    {
     "name": "stdout",
     "output_type": "stream",
     "text": [
      "{'session_id': '686909240', 'run_count': 100, 'best_val_acc': 0.24444444477558136, 'best_test_acc': 0.0914127379655838}\n"
     ]
    },
    {
     "name": "stderr",
     "output_type": "stream",
     "text": [
      "100%|██████████| 100/100 [00:59<00:00,  1.69it/s]\n"
     ]
    },
    {
     "name": "stdout",
     "output_type": "stream",
     "text": [
      "{'session_id': '561472633', 'run_count': 100, 'best_val_acc': 0.7666667103767395, 'best_test_acc': 0.7651934027671814}\n"
     ]
    },
    {
     "name": "stderr",
     "output_type": "stream",
     "text": [
      "100%|██████████| 100/100 [00:57<00:00,  1.75it/s]\n"
     ]
    },
    {
     "name": "stdout",
     "output_type": "stream",
     "text": [
      "{'session_id': '510514474', 'run_count': 100, 'best_val_acc': 0.7222222685813904, 'best_test_acc': 0.6232686638832092}\n"
     ]
    },
    {
     "name": "stderr",
     "output_type": "stream",
     "text": [
      "100%|██████████| 100/100 [00:56<00:00,  1.78it/s]\n"
     ]
    },
    {
     "name": "stdout",
     "output_type": "stream",
     "text": [
      "{'session_id': '576095926', 'run_count': 100, 'best_val_acc': 0.6500000357627869, 'best_test_acc': 0.5916666984558105}\n"
     ]
    },
    {
     "name": "stderr",
     "output_type": "stream",
     "text": [
      "100%|██████████| 100/100 [00:56<00:00,  1.76it/s]\n"
     ]
    },
    {
     "name": "stdout",
     "output_type": "stream",
     "text": [
      "{'session_id': '508356957', 'run_count': 100, 'best_val_acc': 0.5, 'best_test_acc': 0.4321329593658447}\n"
     ]
    },
    {
     "name": "stderr",
     "output_type": "stream",
     "text": [
      "100%|██████████| 100/100 [00:54<00:00,  1.83it/s]\n"
     ]
    },
    {
     "name": "stdout",
     "output_type": "stream",
     "text": [
      "{'session_id': '571684733', 'run_count': 100, 'best_val_acc': 0.4917127192020416, 'best_test_acc': 0.3573407232761383}\n"
     ]
    },
    {
     "name": "stderr",
     "output_type": "stream",
     "text": [
      "100%|██████████| 100/100 [01:29<00:00,  1.12it/s]\n"
     ]
    },
    {
     "name": "stdout",
     "output_type": "stream",
     "text": [
      "{'session_id': '698260532', 'run_count': 100, 'best_val_acc': 0.31904762983322144, 'best_test_acc': 0.23076923191547394}\n"
     ]
    },
    {
     "name": "stderr",
     "output_type": "stream",
     "text": [
      "100%|██████████| 100/100 [00:59<00:00,  1.67it/s]\n"
     ]
    },
    {
     "name": "stdout",
     "output_type": "stream",
     "text": [
      "{'session_id': '555042467', 'run_count': 100, 'best_val_acc': 0.41111111640930176, 'best_test_acc': 0.29722222685813904}\n"
     ]
    },
    {
     "name": "stderr",
     "output_type": "stream",
     "text": [
      "100%|██████████| 100/100 [00:58<00:00,  1.70it/s]\n"
     ]
    },
    {
     "name": "stdout",
     "output_type": "stream",
     "text": [
      "{'session_id': '595806300', 'run_count': 100, 'best_val_acc': 0.694444477558136, 'best_test_acc': 0.5250000357627869}\n"
     ]
    },
    {
     "name": "stderr",
     "output_type": "stream",
     "text": [
      "100%|██████████| 100/100 [00:55<00:00,  1.79it/s]\n"
     ]
    },
    {
     "name": "stdout",
     "output_type": "stream",
     "text": [
      "{'session_id': '570236381', 'run_count': 100, 'best_val_acc': 0.4444444477558136, 'best_test_acc': 0.3361111283302307}\n"
     ]
    },
    {
     "name": "stderr",
     "output_type": "stream",
     "text": [
      "100%|██████████| 100/100 [00:58<00:00,  1.70it/s]\n"
     ]
    },
    {
     "name": "stdout",
     "output_type": "stream",
     "text": [
      "{'session_id': '617395455', 'run_count': 100, 'best_val_acc': 0.25, 'best_test_acc': 0.10833333432674408}\n"
     ]
    },
    {
     "name": "stderr",
     "output_type": "stream",
     "text": [
      "100%|██████████| 100/100 [01:04<00:00,  1.54it/s]\n"
     ]
    },
    {
     "name": "stdout",
     "output_type": "stream",
     "text": [
      "{'session_id': '503324629', 'run_count': 100, 'best_val_acc': 0.644444465637207, 'best_test_acc': 0.5305555462837219}\n"
     ]
    },
    {
     "name": "stderr",
     "output_type": "stream",
     "text": [
      "100%|██████████| 100/100 [01:07<00:00,  1.48it/s]\n"
     ]
    },
    {
     "name": "stdout",
     "output_type": "stream",
     "text": [
      "{'session_id': '683257169', 'run_count': 100, 'best_val_acc': 0.8500000238418579, 'best_test_acc': 0.7666667103767395}\n"
     ]
    },
    {
     "name": "stderr",
     "output_type": "stream",
     "text": [
      "100%|██████████| 100/100 [01:11<00:00,  1.39it/s]\n"
     ]
    },
    {
     "name": "stdout",
     "output_type": "stream",
     "text": [
      "{'session_id': '501876401', 'run_count': 100, 'best_val_acc': 0.6611111164093018, 'best_test_acc': 0.6408839821815491}\n"
     ]
    },
    {
     "name": "stderr",
     "output_type": "stream",
     "text": [
      "100%|██████████| 100/100 [01:34<00:00,  1.06it/s]\n"
     ]
    },
    {
     "name": "stdout",
     "output_type": "stream",
     "text": [
      "{'session_id': '637154333', 'run_count': 100, 'best_val_acc': 0.21393033862113953, 'best_test_acc': 0.1182033121585846}\n"
     ]
    },
    {
     "name": "stderr",
     "output_type": "stream",
     "text": [
      "100%|██████████| 100/100 [01:02<00:00,  1.61it/s]\n"
     ]
    },
    {
     "name": "stdout",
     "output_type": "stream",
     "text": [
      "{'session_id': '603224878', 'run_count': 100, 'best_val_acc': 0.2944444417953491, 'best_test_acc': 0.18888889253139496}\n"
     ]
    },
    {
     "name": "stderr",
     "output_type": "stream",
     "text": [
      "100%|██████████| 100/100 [01:09<00:00,  1.44it/s]\n"
     ]
    },
    {
     "name": "stdout",
     "output_type": "stream",
     "text": [
      "{'session_id': '507691036', 'run_count': 100, 'best_val_acc': 0.45303869247436523, 'best_test_acc': 0.2611111104488373}\n"
     ]
    },
    {
     "name": "stderr",
     "output_type": "stream",
     "text": [
      "100%|██████████| 100/100 [01:52<00:00,  1.13s/it]\n"
     ]
    },
    {
     "name": "stdout",
     "output_type": "stream",
     "text": [
      "{'session_id': '541010698', 'run_count': 100, 'best_val_acc': 0.5777778029441833, 'best_test_acc': 0.541436493396759}\n"
     ]
    },
    {
     "name": "stderr",
     "output_type": "stream",
     "text": [
      "100%|██████████| 100/100 [04:29<00:00,  2.70s/it]\n"
     ]
    },
    {
     "name": "stdout",
     "output_type": "stream",
     "text": [
      "{'session_id': '541290571', 'run_count': 100, 'best_val_acc': 0.39444446563720703, 'best_test_acc': 0.3232044279575348}\n"
     ]
    },
    {
     "name": "stderr",
     "output_type": "stream",
     "text": [
      " 51%|█████     | 51/100 [03:11<01:21,  1.66s/it]\u001b[34m\u001b[1mwandb\u001b[0m: \u001b[33mWARNING\u001b[0m A graphql request initiated by the public wandb API timed out (timeout=19 sec). Create a new API with an integer timeout larger than 19, e.g., `api = wandb.Api(timeout=29)` to increase the graphql timeout.\n",
      "100%|██████████| 100/100 [04:55<00:00,  2.96s/it]\n"
     ]
    },
    {
     "name": "stdout",
     "output_type": "stream",
     "text": [
      "{'session_id': '680150733', 'run_count': 100, 'best_val_acc': 0.27222222089767456, 'best_test_acc': 0.17499999701976776}\n"
     ]
    },
    {
     "name": "stderr",
     "output_type": "stream",
     "text": [
      "100%|██████████| 100/100 [01:48<00:00,  1.09s/it]\n"
     ]
    },
    {
     "name": "stdout",
     "output_type": "stream",
     "text": [
      "{'session_id': '580095655', 'run_count': 100, 'best_val_acc': 0.7900552749633789, 'best_test_acc': 0.7055555582046509}\n"
     ]
    },
    {
     "name": "stderr",
     "output_type": "stream",
     "text": [
      "100%|██████████| 100/100 [01:18<00:00,  1.27it/s]\n"
     ]
    },
    {
     "name": "stdout",
     "output_type": "stream",
     "text": [
      "{'session_id': '658854537', 'run_count': 100, 'best_val_acc': 0.6611111164093018, 'best_test_acc': 0.5638889074325562}\n"
     ]
    },
    {
     "name": "stderr",
     "output_type": "stream",
     "text": [
      "100%|██████████| 100/100 [01:08<00:00,  1.46it/s]\n"
     ]
    },
    {
     "name": "stdout",
     "output_type": "stream",
     "text": [
      "{'session_id': '603978471', 'run_count': 100, 'best_val_acc': 0.22651934623718262, 'best_test_acc': 0.0555555559694767}\n"
     ]
    },
    {
     "name": "stderr",
     "output_type": "stream",
     "text": [
      "100%|██████████| 100/100 [01:00<00:00,  1.66it/s]\n"
     ]
    },
    {
     "name": "stdout",
     "output_type": "stream",
     "text": [
      "{'session_id': '679702884', 'run_count': 100, 'best_val_acc': 0.7555555701255798, 'best_test_acc': 0.75}\n"
     ]
    },
    {
     "name": "stderr",
     "output_type": "stream",
     "text": [
      "100%|██████████| 100/100 [00:57<00:00,  1.74it/s]\n"
     ]
    },
    {
     "name": "stdout",
     "output_type": "stream",
     "text": [
      "{'session_id': '637669270', 'run_count': 100, 'best_val_acc': 0.7777777910232544, 'best_test_acc': 0.6814404129981995}\n"
     ]
    },
    {
     "name": "stderr",
     "output_type": "stream",
     "text": [
      "100%|██████████| 100/100 [01:19<00:00,  1.26it/s]\n"
     ]
    },
    {
     "name": "stdout",
     "output_type": "stream",
     "text": [
      "{'session_id': '588655112', 'run_count': 100, 'best_val_acc': 0.23076924681663513, 'best_test_acc': 0.16867470741271973}\n"
     ]
    },
    {
     "name": "stderr",
     "output_type": "stream",
     "text": [
      "100%|██████████| 100/100 [00:55<00:00,  1.80it/s]\n"
     ]
    },
    {
     "name": "stdout",
     "output_type": "stream",
     "text": [
      "{'session_id': '511573879', 'run_count': 100, 'best_val_acc': 0.6888889074325562, 'best_test_acc': 0.6666666865348816}\n"
     ]
    },
    {
     "name": "stderr",
     "output_type": "stream",
     "text": [
      "100%|██████████| 100/100 [00:58<00:00,  1.71it/s]\n"
     ]
    },
    {
     "name": "stdout",
     "output_type": "stream",
     "text": [
      "{'session_id': '599320182', 'run_count': 100, 'best_val_acc': 0.24861879646778107, 'best_test_acc': 0.1689750701189041}\n"
     ]
    },
    {
     "name": "stderr",
     "output_type": "stream",
     "text": [
      "100%|██████████| 100/100 [00:54<00:00,  1.84it/s]\n"
     ]
    },
    {
     "name": "stdout",
     "output_type": "stream",
     "text": [
      "{'session_id': '670395999', 'run_count': 100, 'best_val_acc': 0.23333333432674408, 'best_test_acc': 0.11080332100391388}\n"
     ]
    },
    {
     "name": "stderr",
     "output_type": "stream",
     "text": [
      "100%|██████████| 100/100 [00:56<00:00,  1.78it/s]\n"
     ]
    },
    {
     "name": "stdout",
     "output_type": "stream",
     "text": [
      "{'session_id': '551834174', 'run_count': 100, 'best_val_acc': 0.42222222685813904, 'best_test_acc': 0.24722222983837128}\n"
     ]
    },
    {
     "name": "stderr",
     "output_type": "stream",
     "text": [
      "100%|██████████| 100/100 [00:55<00:00,  1.81it/s]\n"
     ]
    },
    {
     "name": "stdout",
     "output_type": "stream",
     "text": [
      "{'session_id': '665722301', 'run_count': 100, 'best_val_acc': 0.21666666865348816, 'best_test_acc': 0.17777778208255768}\n"
     ]
    },
    {
     "name": "stderr",
     "output_type": "stream",
     "text": [
      "100%|██████████| 100/100 [00:57<00:00,  1.72it/s]\n"
     ]
    },
    {
     "name": "stdout",
     "output_type": "stream",
     "text": [
      "{'session_id': '563710064', 'run_count': 100, 'best_val_acc': 0.5777778029441833, 'best_test_acc': 0.4888888895511627}\n"
     ]
    },
    {
     "name": "stderr",
     "output_type": "stream",
     "text": [
      "100%|██████████| 100/100 [00:57<00:00,  1.75it/s]\n"
     ]
    },
    {
     "name": "stdout",
     "output_type": "stream",
     "text": [
      "{'session_id': '609517556', 'run_count': 100, 'best_val_acc': 0.23888888955116272, 'best_test_acc': 0.15235456824302673}\n"
     ]
    },
    {
     "name": "stderr",
     "output_type": "stream",
     "text": [
      "100%|██████████| 100/100 [00:55<00:00,  1.80it/s]\n"
     ]
    },
    {
     "name": "stdout",
     "output_type": "stream",
     "text": [
      "{'session_id': '611638995', 'run_count': 100, 'best_val_acc': 0.4055555760860443, 'best_test_acc': 0.2888889014720917}\n"
     ]
    },
    {
     "name": "stderr",
     "output_type": "stream",
     "text": [
      "100%|██████████| 100/100 [00:56<00:00,  1.76it/s]\n"
     ]
    },
    {
     "name": "stdout",
     "output_type": "stream",
     "text": [
      "{'session_id': '508563988', 'run_count': 100, 'best_val_acc': 0.43888890743255615, 'best_test_acc': 0.3638888895511627}\n"
     ]
    },
    {
     "name": "stderr",
     "output_type": "stream",
     "text": [
      "100%|██████████| 100/100 [00:59<00:00,  1.69it/s]\n"
     ]
    },
    {
     "name": "stdout",
     "output_type": "stream",
     "text": [
      "{'session_id': '580095655', 'run_count': 75, 'best_val_acc': 0.7734807133674622, 'best_test_acc': 0.7305555939674377}\n"
     ]
    },
    {
     "name": "stderr",
     "output_type": "stream",
     "text": [
      "100%|██████████| 100/100 [00:56<00:00,  1.76it/s]\n"
     ]
    },
    {
     "name": "stdout",
     "output_type": "stream",
     "text": [
      "{'session_id': '509958730', 'run_count': 100, 'best_val_acc': 0.9333333373069763, 'best_test_acc': 0.8342542052268982}\n"
     ]
    },
    {
     "name": "stderr",
     "output_type": "stream",
     "text": [
      "100%|██████████| 100/100 [00:55<00:00,  1.79it/s]\n"
     ]
    },
    {
     "name": "stdout",
     "output_type": "stream",
     "text": [
      "{'session_id': '560866155', 'run_count': 100, 'best_val_acc': 0.23888888955116272, 'best_test_acc': 0.11388888955116272}\n"
     ]
    },
    {
     "name": "stderr",
     "output_type": "stream",
     "text": [
      "100%|██████████| 100/100 [00:59<00:00,  1.68it/s]\n"
     ]
    },
    {
     "name": "stdout",
     "output_type": "stream",
     "text": [
      "{'session_id': '660064796', 'run_count': 100, 'best_val_acc': 0.30000001192092896, 'best_test_acc': 0.15512464940547943}\n"
     ]
    },
    {
     "name": "stderr",
     "output_type": "stream",
     "text": [
      "100%|██████████| 100/100 [00:59<00:00,  1.67it/s]\n"
     ]
    },
    {
     "name": "stdout",
     "output_type": "stream",
     "text": [
      "{'session_id': '584983136', 'run_count': 100, 'best_val_acc': 0.5055555701255798, 'best_test_acc': 0.49030470848083496}\n"
     ]
    },
    {
     "name": "stderr",
     "output_type": "stream",
     "text": [
      "100%|██████████| 100/100 [00:54<00:00,  1.84it/s]\n"
     ]
    },
    {
     "name": "stdout",
     "output_type": "stream",
     "text": [
      "{'session_id': '682051855', 'run_count': 100, 'best_val_acc': 0.7222222685813904, 'best_test_acc': 0.6333333253860474}\n"
     ]
    },
    {
     "name": "stderr",
     "output_type": "stream",
     "text": [
      "100%|██████████| 100/100 [00:58<00:00,  1.72it/s]\n"
     ]
    },
    {
     "name": "stdout",
     "output_type": "stream",
     "text": [
      "{'session_id': '582867147', 'run_count': 100, 'best_val_acc': 0.46666666865348816, 'best_test_acc': 0.46388891339302063}\n"
     ]
    },
    {
     "name": "stderr",
     "output_type": "stream",
     "text": [
      "100%|██████████| 100/100 [00:54<00:00,  1.82it/s]\n"
     ]
    },
    {
     "name": "stdout",
     "output_type": "stream",
     "text": [
      "{'session_id': '598564173', 'run_count': 100, 'best_val_acc': 0.4611111283302307, 'best_test_acc': 0.3222222328186035}\n"
     ]
    },
    {
     "name": "stderr",
     "output_type": "stream",
     "text": [
      "100%|██████████| 100/100 [00:56<00:00,  1.78it/s]\n"
     ]
    },
    {
     "name": "stdout",
     "output_type": "stream",
     "text": [
      "{'session_id': '566096665', 'run_count': 100, 'best_val_acc': 0.4444444477558136, 'best_test_acc': 0.32500001788139343}\n"
     ]
    },
    {
     "name": "stderr",
     "output_type": "stream",
     "text": [
      "100%|██████████| 100/100 [00:55<00:00,  1.82it/s]\n"
     ]
    },
    {
     "name": "stdout",
     "output_type": "stream",
     "text": [
      "{'session_id': '603592541', 'run_count': 100, 'best_val_acc': 0.25555557012557983, 'best_test_acc': 0.13333334028720856}\n"
     ]
    },
    {
     "name": "stderr",
     "output_type": "stream",
     "text": [
      "100%|██████████| 100/100 [00:55<00:00,  1.79it/s]\n"
     ]
    },
    {
     "name": "stdout",
     "output_type": "stream",
     "text": [
      "{'session_id': '623587006', 'run_count': 100, 'best_val_acc': 0.75, 'best_test_acc': 0.6759002804756165}\n"
     ]
    },
    {
     "name": "stderr",
     "output_type": "stream",
     "text": [
      "100%|██████████| 100/100 [00:54<00:00,  1.82it/s]\n"
     ]
    },
    {
     "name": "stdout",
     "output_type": "stream",
     "text": [
      "{'session_id': '581026088', 'run_count': 100, 'best_val_acc': 0.5, 'best_test_acc': 0.42500001192092896}\n"
     ]
    },
    {
     "name": "stderr",
     "output_type": "stream",
     "text": [
      "100%|██████████| 100/100 [00:57<00:00,  1.75it/s]\n"
     ]
    },
    {
     "name": "stdout",
     "output_type": "stream",
     "text": [
      "{'session_id': '683253712', 'run_count': 100, 'best_val_acc': 0.37222224473953247, 'best_test_acc': 0.19722223281860352}\n"
     ]
    },
    {
     "name": "stderr",
     "output_type": "stream",
     "text": [
      "100%|██████████| 100/100 [00:58<00:00,  1.72it/s]\n"
     ]
    },
    {
     "name": "stdout",
     "output_type": "stream",
     "text": [
      "{'session_id': '653122667', 'run_count': 100, 'best_val_acc': 0.7111111283302307, 'best_test_acc': 0.7638888955116272}\n"
     ]
    },
    {
     "name": "stderr",
     "output_type": "stream",
     "text": [
      "100%|██████████| 100/100 [01:01<00:00,  1.62it/s]\n"
     ]
    },
    {
     "name": "stdout",
     "output_type": "stream",
     "text": [
      "{'session_id': '591548033', 'run_count': 100, 'best_val_acc': 0.24444444477558136, 'best_test_acc': 0.17222222685813904}\n"
     ]
    },
    {
     "name": "stderr",
     "output_type": "stream",
     "text": [
      "100%|██████████| 100/100 [00:59<00:00,  1.68it/s]\n"
     ]
    },
    {
     "name": "stdout",
     "output_type": "stream",
     "text": [
      "{'session_id': '576411246', 'run_count': 100, 'best_val_acc': 0.2611111104488373, 'best_test_acc': 0.20000000298023224}\n"
     ]
    },
    {
     "name": "stderr",
     "output_type": "stream",
     "text": [
      "100%|██████████| 100/100 [00:59<00:00,  1.69it/s]\n"
     ]
    },
    {
     "name": "stdout",
     "output_type": "stream",
     "text": [
      "{'session_id': '637998955', 'run_count': 100, 'best_val_acc': 0.7055555582046509, 'best_test_acc': 0.6194444298744202}\n"
     ]
    },
    {
     "name": "stderr",
     "output_type": "stream",
     "text": [
      "100%|██████████| 100/100 [00:58<00:00,  1.71it/s]\n"
     ]
    },
    {
     "name": "stdout",
     "output_type": "stream",
     "text": [
      "{'session_id': '577665023', 'run_count': 100, 'best_val_acc': 0.2596685290336609, 'best_test_acc': 0.15555556118488312}\n"
     ]
    },
    {
     "name": "stderr",
     "output_type": "stream",
     "text": [
      "100%|██████████| 100/100 [00:55<00:00,  1.80it/s]\n"
     ]
    },
    {
     "name": "stdout",
     "output_type": "stream",
     "text": [
      "{'session_id': '699155265', 'run_count': 100, 'best_val_acc': 0.5333333611488342, 'best_test_acc': 0.48055556416511536}\n"
     ]
    },
    {
     "name": "stderr",
     "output_type": "stream",
     "text": [
      "100%|██████████| 100/100 [00:58<00:00,  1.71it/s]\n"
     ]
    },
    {
     "name": "stdout",
     "output_type": "stream",
     "text": [
      "{'session_id': '585900296', 'run_count': 100, 'best_val_acc': 0.20994475483894348, 'best_test_acc': 0.13055555522441864}\n"
     ]
    },
    {
     "name": "stderr",
     "output_type": "stream",
     "text": [
      "100%|██████████| 100/100 [00:55<00:00,  1.80it/s]\n"
     ]
    },
    {
     "name": "stdout",
     "output_type": "stream",
     "text": [
      "{'session_id': '572606382', 'run_count': 100, 'best_val_acc': 0.5111111402511597, 'best_test_acc': 0.38950276374816895}\n"
     ]
    },
    {
     "name": "stderr",
     "output_type": "stream",
     "text": [
      "100%|██████████| 100/100 [01:19<00:00,  1.27it/s]\n"
     ]
    },
    {
     "name": "stdout",
     "output_type": "stream",
     "text": [
      "{'session_id': '557225279', 'run_count': 100, 'best_val_acc': 0.6666666269302368, 'best_test_acc': 0.5485436916351318}\n"
     ]
    },
    {
     "name": "stderr",
     "output_type": "stream",
     "text": [
      "100%|██████████| 100/100 [00:57<00:00,  1.74it/s]\n"
     ]
    },
    {
     "name": "stdout",
     "output_type": "stream",
     "text": [
      "{'session_id': '582838758', 'run_count': 100, 'best_val_acc': 0.1944444477558136, 'best_test_acc': 0.15833333134651184}\n"
     ]
    },
    {
     "name": "stderr",
     "output_type": "stream",
     "text": [
      "100%|██████████| 100/100 [01:27<00:00,  1.15it/s]\n"
     ]
    },
    {
     "name": "stdout",
     "output_type": "stream",
     "text": [
      "{'session_id': '587339481', 'run_count': 100, 'best_val_acc': 0.6731707453727722, 'best_test_acc': 0.4771084487438202}\n"
     ]
    },
    {
     "name": "stderr",
     "output_type": "stream",
     "text": [
      "100%|██████████| 100/100 [00:55<00:00,  1.79it/s]\n"
     ]
    },
    {
     "name": "stdout",
     "output_type": "stream",
     "text": [
      "{'session_id': '562122508', 'run_count': 100, 'best_val_acc': 0.5722222328186035, 'best_test_acc': 0.45000001788139343}\n"
     ]
    },
    {
     "name": "stderr",
     "output_type": "stream",
     "text": [
      "100%|██████████| 100/100 [00:54<00:00,  1.85it/s]\n"
     ]
    },
    {
     "name": "stdout",
     "output_type": "stream",
     "text": [
      "{'session_id': '650079244', 'run_count': 100, 'best_val_acc': 0.21666666865348816, 'best_test_acc': 0.11666666716337204}\n"
     ]
    },
    {
     "name": "stderr",
     "output_type": "stream",
     "text": [
      "100%|██████████| 100/100 [00:54<00:00,  1.85it/s]\n"
     ]
    },
    {
     "name": "stdout",
     "output_type": "stream",
     "text": [
      "{'session_id': '658020691', 'run_count': 100, 'best_val_acc': 0.22777777910232544, 'best_test_acc': 0.11944444477558136}\n"
     ]
    },
    {
     "name": "stderr",
     "output_type": "stream",
     "text": [
      "100%|██████████| 100/100 [00:54<00:00,  1.85it/s]\n"
     ]
    },
    {
     "name": "stdout",
     "output_type": "stream",
     "text": [
      "{'session_id': '557227804', 'run_count': 100, 'best_val_acc': 0.28176796436309814, 'best_test_acc': 0.16343489289283752}\n"
     ]
    },
    {
     "name": "stderr",
     "output_type": "stream",
     "text": [
      "100%|██████████| 100/100 [00:53<00:00,  1.86it/s]\n"
     ]
    },
    {
     "name": "stdout",
     "output_type": "stream",
     "text": [
      "{'session_id': '592348507', 'run_count': 100, 'best_val_acc': 0.3499999940395355, 'best_test_acc': 0.1944444477558136}\n"
     ]
    },
    {
     "name": "stderr",
     "output_type": "stream",
     "text": [
      "100%|██████████| 25/25 [00:00<00:00, 114099.67it/s]\n"
     ]
    },
    {
     "name": "stdout",
     "output_type": "stream",
     "text": [
      "{'session_id': None, 'run_count': 0, 'best_val_acc': 0, 'best_test_acc': 0}\n"
     ]
    },
    {
     "name": "stderr",
     "output_type": "stream",
     "text": [
      "100%|██████████| 25/25 [00:00<00:00, 397187.88it/s]\n"
     ]
    },
    {
     "name": "stdout",
     "output_type": "stream",
     "text": [
      "{'session_id': None, 'run_count': 0, 'best_val_acc': 0, 'best_test_acc': 0}\n"
     ]
    },
    {
     "name": "stderr",
     "output_type": "stream",
     "text": [
      "100%|██████████| 25/25 [00:11<00:00,  2.10it/s]\n"
     ]
    },
    {
     "name": "stdout",
     "output_type": "stream",
     "text": [
      "{'session_id': None, 'run_count': 0, 'best_val_acc': 0, 'best_test_acc': 0}\n"
     ]
    },
    {
     "name": "stderr",
     "output_type": "stream",
     "text": [
      "100%|██████████| 100/100 [01:22<00:00,  1.21it/s]\n"
     ]
    },
    {
     "name": "stdout",
     "output_type": "stream",
     "text": [
      "{'session_id': '658533763', 'run_count': 100, 'best_val_acc': 0.25247523188591003, 'best_test_acc': 0.15479114651679993}\n"
     ]
    },
    {
     "name": "stderr",
     "output_type": "stream",
     "text": [
      "100%|██████████| 92/92 [00:47<00:00,  1.94it/s]\n"
     ]
    },
    {
     "name": "stdout",
     "output_type": "stream",
     "text": [
      "{'session_id': '650079244', 'run_count': 67, 'best_val_acc': 0.22777777910232544, 'best_test_acc': 0.12222222238779068}\n"
     ]
    },
    {
     "name": "stderr",
     "output_type": "stream",
     "text": [
      "100%|██████████| 100/100 [00:56<00:00,  1.78it/s]\n"
     ]
    },
    {
     "name": "stdout",
     "output_type": "stream",
     "text": [
      "{'session_id': '559382012', 'run_count': 100, 'best_val_acc': 0.3333333432674408, 'best_test_acc': 0.16111111640930176}\n"
     ]
    },
    {
     "name": "stderr",
     "output_type": "stream",
     "text": [
      "100%|██████████| 100/100 [00:58<00:00,  1.70it/s]\n"
     ]
    },
    {
     "name": "stdout",
     "output_type": "stream",
     "text": [
      "{'session_id': '676503588', 'run_count': 100, 'best_val_acc': 0.30000001192092896, 'best_test_acc': 0.17777778208255768}\n"
     ]
    },
    {
     "name": "stderr",
     "output_type": "stream",
     "text": [
      "100%|██████████| 100/100 [00:56<00:00,  1.78it/s]\n"
     ]
    },
    {
     "name": "stdout",
     "output_type": "stream",
     "text": [
      "{'session_id': '661328410', 'run_count': 100, 'best_val_acc': 0.5666666626930237, 'best_test_acc': 0.4792243540287018}\n"
     ]
    },
    {
     "name": "stderr",
     "output_type": "stream",
     "text": [
      "100%|██████████| 100/100 [01:01<00:00,  1.63it/s]\n"
     ]
    },
    {
     "name": "stdout",
     "output_type": "stream",
     "text": [
      "{'session_id': '672206735', 'run_count': 100, 'best_val_acc': 0.23333333432674408, 'best_test_acc': 0.1689750701189041}\n"
     ]
    },
    {
     "name": "stderr",
     "output_type": "stream",
     "text": [
      "100%|██████████| 100/100 [00:55<00:00,  1.80it/s]\n"
     ]
    },
    {
     "name": "stdout",
     "output_type": "stream",
     "text": [
      "{'session_id': '603425659', 'run_count': 100, 'best_val_acc': 0.550000011920929, 'best_test_acc': 0.3711911141872406}\n"
     ]
    },
    {
     "name": "stderr",
     "output_type": "stream",
     "text": [
      "100%|██████████| 25/25 [00:14<00:00,  1.76it/s]\n"
     ]
    },
    {
     "name": "stdout",
     "output_type": "stream",
     "text": [
      "{'session_id': None, 'run_count': 0, 'best_val_acc': 0, 'best_test_acc': 0}\n"
     ]
    },
    {
     "name": "stderr",
     "output_type": "stream",
     "text": [
      "100%|██████████| 25/25 [00:15<00:00,  1.58it/s]\n"
     ]
    },
    {
     "name": "stdout",
     "output_type": "stream",
     "text": [
      "{'session_id': None, 'run_count': 0, 'best_val_acc': 0, 'best_test_acc': 0}\n"
     ]
    },
    {
     "name": "stderr",
     "output_type": "stream",
     "text": [
      "100%|██████████| 100/100 [00:55<00:00,  1.80it/s]\n"
     ]
    },
    {
     "name": "stdout",
     "output_type": "stream",
     "text": [
      "{'session_id': '596779487', 'run_count': 100, 'best_val_acc': 0.4888888895511627, 'best_test_acc': 0.4027777910232544}\n"
     ]
    },
    {
     "name": "stderr",
     "output_type": "stream",
     "text": [
      "100%|██████████| 100/100 [00:56<00:00,  1.78it/s]\n"
     ]
    },
    {
     "name": "stdout",
     "output_type": "stream",
     "text": [
      "{'session_id': '651770380', 'run_count': 100, 'best_val_acc': 0.28176796436309814, 'best_test_acc': 0.13055555522441864}\n"
     ]
    },
    {
     "name": "stderr",
     "output_type": "stream",
     "text": [
      "100%|██████████| 100/100 [00:53<00:00,  1.87it/s]\n"
     ]
    },
    {
     "name": "stdout",
     "output_type": "stream",
     "text": [
      "{'session_id': '598137246', 'run_count': 100, 'best_val_acc': 0.2928176820278168, 'best_test_acc': 0.1689750701189041}\n"
     ]
    },
    {
     "name": "stderr",
     "output_type": "stream",
     "text": [
      "100%|██████████| 100/100 [00:55<00:00,  1.81it/s]\n"
     ]
    },
    {
     "name": "stdout",
     "output_type": "stream",
     "text": [
      "{'session_id': '647595665', 'run_count': 100, 'best_val_acc': 0.7055555582046509, 'best_test_acc': 0.6426592469215393}\n"
     ]
    },
    {
     "name": "stderr",
     "output_type": "stream",
     "text": [
      "100%|██████████| 100/100 [00:54<00:00,  1.85it/s]\n"
     ]
    },
    {
     "name": "stdout",
     "output_type": "stream",
     "text": [
      "{'session_id': '658518486', 'run_count': 100, 'best_val_acc': 0.25555557012557983, 'best_test_acc': 0.13611111044883728}\n"
     ]
    },
    {
     "name": "stderr",
     "output_type": "stream",
     "text": [
      "100%|██████████| 100/100 [00:54<00:00,  1.84it/s]\n"
     ]
    },
    {
     "name": "stdout",
     "output_type": "stream",
     "text": [
      "{'session_id': '667004159', 'run_count': 100, 'best_val_acc': 0.6333333253860474, 'best_test_acc': 0.6111111044883728}\n"
     ]
    },
    {
     "name": "stderr",
     "output_type": "stream",
     "text": [
      "100%|██████████| 100/100 [00:53<00:00,  1.86it/s]\n"
     ]
    },
    {
     "name": "stdout",
     "output_type": "stream",
     "text": [
      "{'session_id': '555749369', 'run_count': 100, 'best_val_acc': 0.2222222238779068, 'best_test_acc': 0.13055555522441864}\n"
     ]
    },
    {
     "name": "stderr",
     "output_type": "stream",
     "text": [
      "100%|██████████| 46/46 [00:24<00:00,  1.91it/s]\n"
     ]
    },
    {
     "name": "stdout",
     "output_type": "stream",
     "text": [
      "{'session_id': '555749369', 'run_count': 21, 'best_val_acc': 0.21666666865348816, 'best_test_acc': 0.1388888955116272}\n"
     ]
    },
    {
     "name": "stderr",
     "output_type": "stream",
     "text": [
      "100%|██████████| 100/100 [00:55<00:00,  1.80it/s]\n"
     ]
    },
    {
     "name": "stdout",
     "output_type": "stream",
     "text": [
      "{'session_id': '595808594', 'run_count': 100, 'best_val_acc': 0.3922652006149292, 'best_test_acc': 0.2750000059604645}\n"
     ]
    },
    {
     "name": "stderr",
     "output_type": "stream",
     "text": [
      "100%|██████████| 100/100 [00:57<00:00,  1.75it/s]\n"
     ]
    },
    {
     "name": "stdout",
     "output_type": "stream",
     "text": [
      "{'session_id': '644386884', 'run_count': 100, 'best_val_acc': 0.31111112236976624, 'best_test_acc': 0.14166666567325592}\n"
     ]
    },
    {
     "name": "stderr",
     "output_type": "stream",
     "text": [
      "100%|██████████| 100/100 [01:09<00:00,  1.43it/s]\n"
     ]
    },
    {
     "name": "stdout",
     "output_type": "stream",
     "text": [
      "{'session_id': '646016204', 'run_count': 100, 'best_val_acc': 0.6388888955116272, 'best_test_acc': 0.569444477558136}\n"
     ]
    },
    {
     "name": "stderr",
     "output_type": "stream",
     "text": [
      "100%|██████████| 100/100 [00:56<00:00,  1.75it/s]\n"
     ]
    },
    {
     "name": "stdout",
     "output_type": "stream",
     "text": [
      "{'session_id': '556321897', 'run_count': 100, 'best_val_acc': 0.3499999940395355, 'best_test_acc': 0.2742382287979126}\n"
     ]
    },
    {
     "name": "stderr",
     "output_type": "stream",
     "text": [
      "100%|██████████| 100/100 [01:25<00:00,  1.16it/s]\n"
     ]
    },
    {
     "name": "stdout",
     "output_type": "stream",
     "text": [
      "{'session_id': '671164733', 'run_count': 100, 'best_val_acc': 0.23923444747924805, 'best_test_acc': 0.15048544108867645}\n"
     ]
    },
    {
     "name": "stderr",
     "output_type": "stream",
     "text": [
      "100%|██████████| 100/100 [01:02<00:00,  1.61it/s]\n"
     ]
    },
    {
     "name": "stdout",
     "output_type": "stream",
     "text": [
      "{'session_id': '663866413', 'run_count': 100, 'best_val_acc': 0.27222222089767456, 'best_test_acc': 0.20000000298023224}\n"
     ]
    },
    {
     "name": "stderr",
     "output_type": "stream",
     "text": [
      "100%|██████████| 100/100 [00:58<00:00,  1.72it/s]\n"
     ]
    },
    {
     "name": "stdout",
     "output_type": "stream",
     "text": [
      "{'session_id': '651770794', 'run_count': 100, 'best_val_acc': 0.6187845468521118, 'best_test_acc': 0.5111111402511597}\n"
     ]
    },
    {
     "name": "stderr",
     "output_type": "stream",
     "text": [
      "100%|██████████| 100/100 [00:56<00:00,  1.76it/s]\n"
     ]
    },
    {
     "name": "stdout",
     "output_type": "stream",
     "text": [
      "{'session_id': '509904120', 'run_count': 100, 'best_val_acc': 0.35555556416511536, 'best_test_acc': 0.2750000059604645}\n"
     ]
    },
    {
     "name": "stderr",
     "output_type": "stream",
     "text": [
      "100%|██████████| 100/100 [00:54<00:00,  1.85it/s]\n"
     ]
    },
    {
     "name": "stdout",
     "output_type": "stream",
     "text": [
      "{'session_id': '640198011', 'run_count': 100, 'best_val_acc': 0.25555557012557983, 'best_test_acc': 0.1805555671453476}\n"
     ]
    },
    {
     "name": "stderr",
     "output_type": "stream",
     "text": [
      "100%|██████████| 100/100 [00:56<00:00,  1.78it/s]\n"
     ]
    },
    {
     "name": "stdout",
     "output_type": "stream",
     "text": [
      "{'session_id': '506809539', 'run_count': 100, 'best_val_acc': 0.7333333492279053, 'best_test_acc': 0.6491712927818298}\n"
     ]
    },
    {
     "name": "stderr",
     "output_type": "stream",
     "text": [
      "100%|██████████| 100/100 [00:57<00:00,  1.73it/s]\n"
     ]
    },
    {
     "name": "stdout",
     "output_type": "stream",
     "text": [
      "{'session_id': '657391037', 'run_count': 100, 'best_val_acc': 0.35555556416511536, 'best_test_acc': 0.2666666805744171}\n"
     ]
    },
    {
     "name": "stderr",
     "output_type": "stream",
     "text": [
      "100%|██████████| 100/100 [01:17<00:00,  1.28it/s]\n"
     ]
    },
    {
     "name": "stdout",
     "output_type": "stream",
     "text": [
      "{'session_id': '642884591', 'run_count': 100, 'best_val_acc': 0.3140096664428711, 'best_test_acc': 0.22113022208213806}\n"
     ]
    },
    {
     "name": "stderr",
     "output_type": "stream",
     "text": [
      "100%|██████████| 100/100 [00:54<00:00,  1.82it/s]\n"
     ]
    },
    {
     "name": "stdout",
     "output_type": "stream",
     "text": [
      "{'session_id': '595183197', 'run_count': 100, 'best_val_acc': 0.1712707281112671, 'best_test_acc': 0.14127422869205475}\n"
     ]
    },
    {
     "name": "stderr",
     "output_type": "stream",
     "text": [
      "100%|██████████| 100/100 [01:03<00:00,  1.57it/s]\n"
     ]
    },
    {
     "name": "stdout",
     "output_type": "stream",
     "text": [
      "{'session_id': '584944065', 'run_count': 100, 'best_val_acc': 0.5, 'best_test_acc': 0.3850415349006653}\n"
     ]
    },
    {
     "name": "stderr",
     "output_type": "stream",
     "text": [
      "100%|██████████| 100/100 [00:59<00:00,  1.68it/s]\n"
     ]
    },
    {
     "name": "stdout",
     "output_type": "stream",
     "text": [
      "{'session_id': '623339221', 'run_count': 100, 'best_val_acc': 0.5944444537162781, 'best_test_acc': 0.4333333373069763}\n"
     ]
    },
    {
     "name": "stderr",
     "output_type": "stream",
     "text": [
      "100%|██████████| 100/100 [00:59<00:00,  1.69it/s]\n"
     ]
    },
    {
     "name": "stdout",
     "output_type": "stream",
     "text": [
      "{'session_id': '569645690', 'run_count': 100, 'best_val_acc': 0.49444445967674255, 'best_test_acc': 0.40720221400260925}\n"
     ]
    },
    {
     "name": "stderr",
     "output_type": "stream",
     "text": [
      "100%|██████████| 100/100 [00:58<00:00,  1.70it/s]\n"
     ]
    },
    {
     "name": "stdout",
     "output_type": "stream",
     "text": [
      "{'session_id': '578674360', 'run_count': 100, 'best_val_acc': 0.6500000357627869, 'best_test_acc': 0.5235456824302673}\n"
     ]
    },
    {
     "name": "stderr",
     "output_type": "stream",
     "text": [
      "100%|██████████| 100/100 [00:58<00:00,  1.71it/s]\n"
     ]
    },
    {
     "name": "stdout",
     "output_type": "stream",
     "text": [
      "{'session_id': '510859641', 'run_count': 100, 'best_val_acc': 0.5888888835906982, 'best_test_acc': 0.4027777910232544}\n"
     ]
    },
    {
     "name": "stderr",
     "output_type": "stream",
     "text": [
      "100%|██████████| 100/100 [00:55<00:00,  1.81it/s]\n"
     ]
    },
    {
     "name": "stdout",
     "output_type": "stream",
     "text": [
      "{'session_id': '603576132', 'run_count': 100, 'best_val_acc': 0.694444477558136, 'best_test_acc': 0.5416666865348816}\n"
     ]
    },
    {
     "name": "stderr",
     "output_type": "stream",
     "text": [
      "100%|██████████| 100/100 [01:27<00:00,  1.14it/s]\n"
     ]
    },
    {
     "name": "stdout",
     "output_type": "stream",
     "text": [
      "{'session_id': '594090967', 'run_count': 100, 'best_val_acc': 0.21105527877807617, 'best_test_acc': 0.1452784538269043}\n"
     ]
    },
    {
     "name": "stderr",
     "output_type": "stream",
     "text": [
      "100%|██████████| 100/100 [01:27<00:00,  1.15it/s]\n"
     ]
    },
    {
     "name": "stdout",
     "output_type": "stream",
     "text": [
      "{'session_id': '660513003', 'run_count': 100, 'best_val_acc': 0.641791045665741, 'best_test_acc': 0.5463414788246155}\n"
     ]
    },
    {
     "name": "stderr",
     "output_type": "stream",
     "text": [
      "100%|██████████| 100/100 [01:00<00:00,  1.64it/s]\n"
     ]
    },
    {
     "name": "stdout",
     "output_type": "stream",
     "text": [
      "{'session_id': '563176332', 'run_count': 100, 'best_val_acc': 0.8222222328186035, 'best_test_acc': 0.7805555462837219}\n"
     ]
    },
    {
     "name": "stderr",
     "output_type": "stream",
     "text": [
      "100%|██████████| 100/100 [00:59<00:00,  1.68it/s]\n"
     ]
    },
    {
     "name": "stdout",
     "output_type": "stream",
     "text": [
      "{'session_id': '657389972', 'run_count': 100, 'best_val_acc': 0.1944444477558136, 'best_test_acc': 0.12222222238779068}\n"
     ]
    },
    {
     "name": "stderr",
     "output_type": "stream",
     "text": [
      "100%|██████████| 100/100 [00:53<00:00,  1.85it/s]\n"
     ]
    },
    {
     "name": "stdout",
     "output_type": "stream",
     "text": [
      "{'session_id': '584196534', 'run_count': 100, 'best_val_acc': 0.5388889312744141, 'best_test_acc': 0.46388891339302063}\n"
     ]
    },
    {
     "name": "stderr",
     "output_type": "stream",
     "text": [
      "100%|██████████| 100/100 [00:58<00:00,  1.71it/s]\n"
     ]
    },
    {
     "name": "stdout",
     "output_type": "stream",
     "text": [
      "{'session_id': '593270603', 'run_count': 100, 'best_val_acc': 0.6388888955116272, 'best_test_acc': 0.5041550993919373}\n"
     ]
    },
    {
     "name": "stderr",
     "output_type": "stream",
     "text": [
      "100%|██████████| 100/100 [00:55<00:00,  1.79it/s]\n"
     ]
    },
    {
     "name": "stdout",
     "output_type": "stream",
     "text": [
      "{'session_id': '552410386', 'run_count': 100, 'best_val_acc': 0.5555555820465088, 'best_test_acc': 0.5222222208976746}\n"
     ]
    },
    {
     "name": "stderr",
     "output_type": "stream",
     "text": [
      "100%|██████████| 100/100 [00:56<00:00,  1.78it/s]\n"
     ]
    },
    {
     "name": "stdout",
     "output_type": "stream",
     "text": [
      "{'session_id': '652092676', 'run_count': 100, 'best_val_acc': 0.2888889014720917, 'best_test_acc': 0.16343489289283752}\n"
     ]
    },
    {
     "name": "stderr",
     "output_type": "stream",
     "text": [
      "100%|██████████| 100/100 [00:58<00:00,  1.71it/s]\n"
     ]
    },
    {
     "name": "stdout",
     "output_type": "stream",
     "text": [
      "{'session_id': '595263154', 'run_count': 100, 'best_val_acc': 0.5333333611488342, 'best_test_acc': 0.38333335518836975}\n"
     ]
    },
    {
     "name": "stderr",
     "output_type": "stream",
     "text": [
      "100%|██████████| 100/100 [01:02<00:00,  1.60it/s]\n"
     ]
    },
    {
     "name": "stdout",
     "output_type": "stream",
     "text": [
      "{'session_id': '557304694', 'run_count': 100, 'best_val_acc': 0.4444444477558136, 'best_test_acc': 0.2944444417953491}\n"
     ]
    },
    {
     "name": "stderr",
     "output_type": "stream",
     "text": [
      "100%|██████████| 100/100 [01:04<00:00,  1.55it/s]\n"
     ]
    },
    {
     "name": "stdout",
     "output_type": "stream",
     "text": [
      "{'session_id': '637671554', 'run_count': 100, 'best_val_acc': 0.75, 'best_test_acc': 0.6305555701255798}\n"
     ]
    },
    {
     "name": "stderr",
     "output_type": "stream",
     "text": [
      "100%|██████████| 100/100 [01:34<00:00,  1.05it/s]\n"
     ]
    },
    {
     "name": "stdout",
     "output_type": "stream",
     "text": [
      "{'session_id': '613599811', 'run_count': 100, 'best_val_acc': 0.4554455280303955, 'best_test_acc': 0.32608693838119507}\n"
     ]
    },
    {
     "name": "stderr",
     "output_type": "stream",
     "text": [
      "100%|██████████| 100/100 [01:10<00:00,  1.41it/s]\n"
     ]
    },
    {
     "name": "stdout",
     "output_type": "stream",
     "text": [
      "{'session_id': '679700458', 'run_count': 100, 'best_val_acc': 0.3333333432674408, 'best_test_acc': 0.25555557012557983}\n"
     ]
    },
    {
     "name": "stderr",
     "output_type": "stream",
     "text": [
      "100%|██████████| 100/100 [02:02<00:00,  1.23s/it]\n"
     ]
    },
    {
     "name": "stdout",
     "output_type": "stream",
     "text": [
      "{'session_id': '669861524', 'run_count': 100, 'best_val_acc': 0.28155338764190674, 'best_test_acc': 0.1456310749053955}\n"
     ]
    },
    {
     "name": "stderr",
     "output_type": "stream",
     "text": [
      "100%|██████████| 100/100 [01:48<00:00,  1.08s/it]\n"
     ]
    },
    {
     "name": "stdout",
     "output_type": "stream",
     "text": [
      "{'session_id': '642278925', 'run_count': 100, 'best_val_acc': 0.35922330617904663, 'best_test_acc': 0.27272728085517883}\n"
     ]
    },
    {
     "name": "stderr",
     "output_type": "stream",
     "text": [
      "100%|██████████| 100/100 [01:14<00:00,  1.35it/s]\n"
     ]
    },
    {
     "name": "stdout",
     "output_type": "stream",
     "text": [
      "{'session_id': '612536911', 'run_count': 100, 'best_val_acc': 0.20000000298023224, 'best_test_acc': 0.10833333432674408}\n"
     ]
    },
    {
     "name": "stderr",
     "output_type": "stream",
     "text": [
      "100%|██████████| 100/100 [01:16<00:00,  1.31it/s]\n"
     ]
    },
    {
     "name": "stdout",
     "output_type": "stream",
     "text": [
      "{'session_id': '506773892', 'run_count': 100, 'best_val_acc': 0.6795580387115479, 'best_test_acc': 0.610497236251831}\n"
     ]
    },
    {
     "name": "stderr",
     "output_type": "stream",
     "text": [
      "100%|██████████| 100/100 [00:58<00:00,  1.72it/s]\n"
     ]
    },
    {
     "name": "stdout",
     "output_type": "stream",
     "text": [
      "{'session_id': '675477919', 'run_count': 100, 'best_val_acc': 0.2222222238779068, 'best_test_acc': 0.0972222238779068}\n"
     ]
    },
    {
     "name": "stderr",
     "output_type": "stream",
     "text": [
      "100%|██████████| 100/100 [00:58<00:00,  1.71it/s]\n"
     ]
    },
    {
     "name": "stdout",
     "output_type": "stream",
     "text": [
      "{'session_id': '564607188', 'run_count': 100, 'best_val_acc': 0.5333333611488342, 'best_test_acc': 0.45277780294418335}\n"
     ]
    },
    {
     "name": "stderr",
     "output_type": "stream",
     "text": [
      "100%|██████████| 100/100 [00:57<00:00,  1.74it/s]\n"
     ]
    },
    {
     "name": "stdout",
     "output_type": "stream",
     "text": [
      "{'session_id': '590168385', 'run_count': 100, 'best_val_acc': 0.9388889074325562, 'best_test_acc': 0.8421052694320679}\n"
     ]
    },
    {
     "name": "stderr",
     "output_type": "stream",
     "text": [
      "100%|██████████| 100/100 [00:56<00:00,  1.76it/s]\n"
     ]
    },
    {
     "name": "stdout",
     "output_type": "stream",
     "text": [
      "{'session_id': '639251932', 'run_count': 100, 'best_val_acc': 0.30000001192092896, 'best_test_acc': 0.1388888955116272}\n"
     ]
    },
    {
     "name": "stderr",
     "output_type": "stream",
     "text": [
      "100%|██████████| 100/100 [00:57<00:00,  1.74it/s]\n"
     ]
    },
    {
     "name": "stdout",
     "output_type": "stream",
     "text": [
      "{'session_id': '571137446', 'run_count': 100, 'best_val_acc': 0.6055555939674377, 'best_test_acc': 0.5}\n"
     ]
    },
    {
     "name": "stderr",
     "output_type": "stream",
     "text": [
      "100%|██████████| 100/100 [00:57<00:00,  1.75it/s]\n"
     ]
    },
    {
     "name": "stdout",
     "output_type": "stream",
     "text": [
      "{'session_id': '531134090', 'run_count': 100, 'best_val_acc': 0.4555555582046509, 'best_test_acc': 0.31388890743255615}\n"
     ]
    },
    {
     "name": "stderr",
     "output_type": "stream",
     "text": [
      "100%|██████████| 100/100 [00:57<00:00,  1.73it/s]\n"
     ]
    },
    {
     "name": "stdout",
     "output_type": "stream",
     "text": [
      "{'session_id': '550490398', 'run_count': 100, 'best_val_acc': 0.35555556416511536, 'best_test_acc': 0.21052631735801697}\n"
     ]
    },
    {
     "name": "stderr",
     "output_type": "stream",
     "text": [
      "100%|██████████| 83/83 [00:21<00:00,  3.85it/s]\n"
     ]
    },
    {
     "name": "stdout",
     "output_type": "stream",
     "text": [
      "{'session_id': '550851591', 'run_count': 28, 'best_val_acc': 0.38333335518836975, 'best_test_acc': 0.23268696665763855}\n"
     ]
    },
    {
     "name": "stderr",
     "output_type": "stream",
     "text": [
      "100%|██████████| 100/100 [00:58<00:00,  1.70it/s]\n"
     ]
    },
    {
     "name": "stdout",
     "output_type": "stream",
     "text": [
      "{'session_id': '566458505', 'run_count': 100, 'best_val_acc': 0.6722222566604614, 'best_test_acc': 0.4694444537162781}\n"
     ]
    },
    {
     "name": "stderr",
     "output_type": "stream",
     "text": [
      "100%|██████████| 100/100 [00:58<00:00,  1.72it/s]\n"
     ]
    },
    {
     "name": "stdout",
     "output_type": "stream",
     "text": [
      "{'session_id': '580095647', 'run_count': 100, 'best_val_acc': 0.5222222208976746, 'best_test_acc': 0.4194444417953491}\n"
     ]
    },
    {
     "name": "stderr",
     "output_type": "stream",
     "text": [
      "100%|██████████| 100/100 [00:56<00:00,  1.78it/s]\n"
     ]
    },
    {
     "name": "stdout",
     "output_type": "stream",
     "text": [
      "{'session_id': '596584192', 'run_count': 100, 'best_val_acc': 0.9388889074325562, 'best_test_acc': 0.8694444894790649}\n"
     ]
    },
    {
     "name": "stderr",
     "output_type": "stream",
     "text": [
      "100%|██████████| 100/100 [01:30<00:00,  1.10it/s]\n"
     ]
    },
    {
     "name": "stdout",
     "output_type": "stream",
     "text": [
      "{'session_id': '652094917', 'run_count': 100, 'best_val_acc': 0.3886256217956543, 'best_test_acc': 0.30900242924690247}\n"
     ]
    },
    {
     "name": "stderr",
     "output_type": "stream",
     "text": [
      "100%|██████████| 100/100 [01:07<00:00,  1.49it/s]\n"
     ]
    },
    {
     "name": "stdout",
     "output_type": "stream",
     "text": [
      "{'session_id': '557615965', 'run_count': 100, 'best_val_acc': 0.2222222238779068, 'best_test_acc': 0.1111111119389534}\n"
     ]
    },
    {
     "name": "stderr",
     "output_type": "stream",
     "text": [
      "100%|██████████| 100/100 [01:33<00:00,  1.07it/s]\n"
     ]
    },
    {
     "name": "stdout",
     "output_type": "stream",
     "text": [
      "{'session_id': '644051974', 'run_count': 100, 'best_val_acc': 0.33980584144592285, 'best_test_acc': 0.35960590839385986}\n"
     ]
    },
    {
     "name": "stderr",
     "output_type": "stream",
     "text": [
      "100%|██████████| 100/100 [01:27<00:00,  1.14it/s]\n"
     ]
    },
    {
     "name": "stdout",
     "output_type": "stream",
     "text": [
      "{'session_id': '652737867', 'run_count': 100, 'best_val_acc': 0.6368159055709839, 'best_test_acc': 0.5995145440101624}\n"
     ]
    },
    {
     "name": "stderr",
     "output_type": "stream",
     "text": [
      "100%|██████████| 100/100 [01:15<00:00,  1.33it/s]\n"
     ]
    },
    {
     "name": "stdout",
     "output_type": "stream",
     "text": [
      "{'session_id': '664914611', 'run_count': 100, 'best_val_acc': 0.37378641963005066, 'best_test_acc': 0.39024388790130615}\n"
     ]
    },
    {
     "name": "stderr",
     "output_type": "stream",
     "text": [
      "100%|██████████| 100/100 [01:00<00:00,  1.66it/s]\n"
     ]
    },
    {
     "name": "stdout",
     "output_type": "stream",
     "text": [
      "{'session_id': '647595671', 'run_count': 100, 'best_val_acc': 0.472222238779068, 'best_test_acc': 0.28333333134651184}\n"
     ]
    },
    {
     "name": "stderr",
     "output_type": "stream",
     "text": [
      "100%|██████████| 100/100 [01:09<00:00,  1.45it/s]\n"
     ]
    },
    {
     "name": "stdout",
     "output_type": "stream",
     "text": [
      "{'session_id': '657914280', 'run_count': 100, 'best_val_acc': 0.5980861186981201, 'best_test_acc': 0.4506024122238159}\n"
     ]
    },
    {
     "name": "stderr",
     "output_type": "stream",
     "text": [
      "100%|██████████| 100/100 [01:18<00:00,  1.27it/s]\n"
     ]
    },
    {
     "name": "stdout",
     "output_type": "stream",
     "text": [
      "{'session_id': '670728674', 'run_count': 100, 'best_val_acc': 0.22274881601333618, 'best_test_acc': 0.13701923191547394}\n"
     ]
    },
    {
     "name": "stderr",
     "output_type": "stream",
     "text": [
      "100%|██████████| 100/100 [00:59<00:00,  1.68it/s]\n"
     ]
    },
    {
     "name": "stdout",
     "output_type": "stream",
     "text": [
      "{'session_id': '511595995', 'run_count': 100, 'best_val_acc': 0.550000011920929, 'best_test_acc': 0.42936286330223083}\n"
     ]
    },
    {
     "name": "stderr",
     "output_type": "stream",
     "text": [
      "0it [00:00, ?it/s]\n"
     ]
    },
    {
     "name": "stdout",
     "output_type": "stream",
     "text": [
      "{'session_id': None, 'run_count': 0, 'best_val_acc': 0, 'best_test_acc': 0}\n"
     ]
    },
    {
     "name": "stderr",
     "output_type": "stream",
     "text": [
      "100%|██████████| 100/100 [00:56<00:00,  1.78it/s]\n"
     ]
    },
    {
     "name": "stdout",
     "output_type": "stream",
     "text": [
      "{'session_id': '654532828', 'run_count': 100, 'best_val_acc': 0.6055555939674377, 'best_test_acc': 0.530386745929718}\n"
     ]
    },
    {
     "name": "stderr",
     "output_type": "stream",
     "text": [
      "100%|██████████| 100/100 [00:59<00:00,  1.68it/s]\n"
     ]
    },
    {
     "name": "stdout",
     "output_type": "stream",
     "text": [
      "{'session_id': '609894681', 'run_count': 100, 'best_val_acc': 0.46666666865348816, 'best_test_acc': 0.29722222685813904}\n"
     ]
    },
    {
     "name": "stderr",
     "output_type": "stream",
     "text": [
      "100%|██████████| 100/100 [00:56<00:00,  1.76it/s]\n"
     ]
    },
    {
     "name": "stdout",
     "output_type": "stream",
     "text": [
      "{'session_id': '560027980', 'run_count': 100, 'best_val_acc': 0.25, 'best_test_acc': 0.14722222089767456}\n"
     ]
    },
    {
     "name": "stderr",
     "output_type": "stream",
     "text": [
      "100%|██████████| 100/100 [00:57<00:00,  1.74it/s]\n"
     ]
    },
    {
     "name": "stdout",
     "output_type": "stream",
     "text": [
      "{'session_id': '503109347', 'run_count': 100, 'best_val_acc': 0.8277778029441833, 'best_test_acc': 0.7666667103767395}\n"
     ]
    },
    {
     "name": "stderr",
     "output_type": "stream",
     "text": [
      "100%|██████████| 100/100 [00:58<00:00,  1.72it/s]\n"
     ]
    },
    {
     "name": "stdout",
     "output_type": "stream",
     "text": [
      "{'session_id': '592657427', 'run_count': 100, 'best_val_acc': 0.5745856761932373, 'best_test_acc': 0.4000000059604645}\n"
     ]
    },
    {
     "name": "stderr",
     "output_type": "stream",
     "text": [
      "100%|██████████| 100/100 [01:10<00:00,  1.42it/s]\n"
     ]
    },
    {
     "name": "stdout",
     "output_type": "stream",
     "text": [
      "{'session_id': '712919665', 'run_count': 100, 'best_val_acc': 0.3444444537162781, 'best_test_acc': 0.19722223281860352}\n"
     ]
    },
    {
     "name": "stderr",
     "output_type": "stream",
     "text": [
      "100%|██████████| 100/100 [01:06<00:00,  1.50it/s]\n"
     ]
    },
    {
     "name": "stdout",
     "output_type": "stream",
     "text": [
      "{'session_id': '653551965', 'run_count': 100, 'best_val_acc': 0.5277777910232544, 'best_test_acc': 0.3628808856010437}\n"
     ]
    },
    {
     "name": "stderr",
     "output_type": "stream",
     "text": [
      "100%|██████████| 100/100 [01:34<00:00,  1.06it/s]\n"
     ]
    },
    {
     "name": "stdout",
     "output_type": "stream",
     "text": [
      "{'session_id': '643592303', 'run_count': 100, 'best_val_acc': 0.6172248721122742, 'best_test_acc': 0.5776699185371399}\n"
     ]
    },
    {
     "name": "stderr",
     "output_type": "stream",
     "text": [
      "100%|██████████| 100/100 [01:07<00:00,  1.48it/s]\n"
     ]
    },
    {
     "name": "stdout",
     "output_type": "stream",
     "text": [
      "{'session_id': '592407200', 'run_count': 100, 'best_val_acc': 0.2777777910232544, 'best_test_acc': 0.2611111104488373}\n"
     ]
    },
    {
     "name": "stderr",
     "output_type": "stream",
     "text": [
      "100%|██████████| 100/100 [01:06<00:00,  1.51it/s]\n"
     ]
    },
    {
     "name": "stdout",
     "output_type": "stream",
     "text": [
      "{'session_id': '510214538', 'run_count': 100, 'best_val_acc': 0.7802197933197021, 'best_test_acc': 0.7222222685813904}\n"
     ]
    },
    {
     "name": "stderr",
     "output_type": "stream",
     "text": [
      "100%|██████████| 100/100 [01:05<00:00,  1.53it/s]\n"
     ]
    },
    {
     "name": "stdout",
     "output_type": "stream",
     "text": [
      "{'session_id': '546716391', 'run_count': 100, 'best_val_acc': 0.39444446563720703, 'best_test_acc': 0.3333333432674408}\n"
     ]
    },
    {
     "name": "stderr",
     "output_type": "stream",
     "text": [
      "100%|██████████| 100/100 [01:21<00:00,  1.22it/s]\n"
     ]
    },
    {
     "name": "stdout",
     "output_type": "stream",
     "text": [
      "{'session_id': '653932505', 'run_count': 100, 'best_val_acc': 0.5721392631530762, 'best_test_acc': 0.5036320090293884}\n"
     ]
    },
    {
     "name": "stderr",
     "output_type": "stream",
     "text": [
      "100%|██████████| 100/100 [00:55<00:00,  1.81it/s]\n"
     ]
    },
    {
     "name": "stdout",
     "output_type": "stream",
     "text": [
      "{'session_id': '571177441', 'run_count': 100, 'best_val_acc': 0.6666666865348816, 'best_test_acc': 0.5583333373069763}\n"
     ]
    },
    {
     "name": "stderr",
     "output_type": "stream",
     "text": [
      "100%|██████████| 100/100 [00:57<00:00,  1.74it/s]\n"
     ]
    },
    {
     "name": "stdout",
     "output_type": "stream",
     "text": [
      "{'session_id': '509580400', 'run_count': 100, 'best_val_acc': 0.30000001192092896, 'best_test_acc': 0.14681440591812134}\n"
     ]
    },
    {
     "name": "stderr",
     "output_type": "stream",
     "text": [
      "100%|██████████| 49/49 [00:29<00:00,  1.69it/s]\n"
     ]
    },
    {
     "name": "stdout",
     "output_type": "stream",
     "text": [
      "{'session_id': '712919665', 'run_count': 24, 'best_val_acc': 0.3444444537162781, 'best_test_acc': 0.21111111342906952}\n"
     ]
    },
    {
     "name": "stderr",
     "output_type": "stream",
     "text": [
      "100%|██████████| 100/100 [00:59<00:00,  1.69it/s]\n"
     ]
    },
    {
     "name": "stdout",
     "output_type": "stream",
     "text": [
      "{'session_id': '574823092', 'run_count': 100, 'best_val_acc': 0.550000011920929, 'best_test_acc': 0.4487534463405609}\n"
     ]
    },
    {
     "name": "stderr",
     "output_type": "stream",
     "text": [
      "100%|██████████| 100/100 [00:57<00:00,  1.75it/s]\n"
     ]
    },
    {
     "name": "stdout",
     "output_type": "stream",
     "text": [
      "{'session_id': '507129766', 'run_count': 100, 'best_val_acc': 0.3888888955116272, 'best_test_acc': 0.28611111640930176}\n"
     ]
    },
    {
     "name": "stderr",
     "output_type": "stream",
     "text": [
      "100%|██████████| 100/100 [01:22<00:00,  1.22it/s]\n"
     ]
    },
    {
     "name": "stdout",
     "output_type": "stream",
     "text": [
      "{'session_id': '662219852', 'run_count': 100, 'best_val_acc': 0.5418719053268433, 'best_test_acc': 0.4199029207229614}\n"
     ]
    },
    {
     "name": "stderr",
     "output_type": "stream",
     "text": [
      "100%|██████████| 25/25 [00:16<00:00,  1.53it/s]\n"
     ]
    },
    {
     "name": "stdout",
     "output_type": "stream",
     "text": [
      "{'session_id': None, 'run_count': 0, 'best_val_acc': 0, 'best_test_acc': 0}\n"
     ]
    },
    {
     "name": "stderr",
     "output_type": "stream",
     "text": [
      "100%|██████████| 100/100 [01:19<00:00,  1.26it/s]\n"
     ]
    },
    {
     "name": "stdout",
     "output_type": "stream",
     "text": [
      "{'session_id': '585035184', 'run_count': 100, 'best_val_acc': 0.6342592835426331, 'best_test_acc': 0.6111111044883728}\n"
     ]
    },
    {
     "name": "stderr",
     "output_type": "stream",
     "text": [
      "100%|██████████| 100/100 [00:59<00:00,  1.69it/s]\n"
     ]
    },
    {
     "name": "stdout",
     "output_type": "stream",
     "text": [
      "{'session_id': '593552712', 'run_count': 100, 'best_val_acc': 0.2888889014720917, 'best_test_acc': 0.16620498895645142}\n"
     ]
    },
    {
     "name": "stderr",
     "output_type": "stream",
     "text": [
      "100%|██████████| 100/100 [00:59<00:00,  1.69it/s]\n"
     ]
    },
    {
     "name": "stdout",
     "output_type": "stream",
     "text": [
      "{'session_id': '506540916', 'run_count': 100, 'best_val_acc': 0.2944444417953491, 'best_test_acc': 0.16066481173038483}\n"
     ]
    },
    {
     "name": "stderr",
     "output_type": "stream",
     "text": [
      "100%|██████████| 100/100 [00:59<00:00,  1.69it/s]\n"
     ]
    },
    {
     "name": "stdout",
     "output_type": "stream",
     "text": [
      "{'session_id': '637126541', 'run_count': 100, 'best_val_acc': 0.5666666626930237, 'best_test_acc': 0.4444444477558136}\n"
     ]
    },
    {
     "name": "stderr",
     "output_type": "stream",
     "text": [
      "100%|██████████| 100/100 [00:57<00:00,  1.75it/s]\n"
     ]
    },
    {
     "name": "stdout",
     "output_type": "stream",
     "text": [
      "{'session_id': '649401936', 'run_count': 100, 'best_val_acc': 0.5888888835906982, 'best_test_acc': 0.5611111521720886}\n"
     ]
    },
    {
     "name": "stderr",
     "output_type": "stream",
     "text": [
      "100%|██████████| 100/100 [01:12<00:00,  1.39it/s]\n"
     ]
    },
    {
     "name": "stdout",
     "output_type": "stream",
     "text": [
      "{'session_id': '686449092', 'run_count': 100, 'best_val_acc': 0.29411765933036804, 'best_test_acc': 0.10837437957525253}\n"
     ]
    },
    {
     "name": "stderr",
     "output_type": "stream",
     "text": [
      "100%|██████████| 25/25 [00:16<00:00,  1.56it/s]\n"
     ]
    },
    {
     "name": "stdout",
     "output_type": "stream",
     "text": [
      "{'session_id': None, 'run_count': 0, 'best_val_acc': 0, 'best_test_acc': 0}\n"
     ]
    },
    {
     "name": "stderr",
     "output_type": "stream",
     "text": [
      "100%|██████████| 25/25 [00:00<00:00, 281119.57it/s]\n"
     ]
    },
    {
     "name": "stdout",
     "output_type": "stream",
     "text": [
      "{'session_id': None, 'run_count': 0, 'best_val_acc': 0, 'best_test_acc': 0}\n"
     ]
    },
    {
     "name": "stderr",
     "output_type": "stream",
     "text": [
      "100%|██████████| 100/100 [00:58<00:00,  1.70it/s]\n"
     ]
    },
    {
     "name": "stdout",
     "output_type": "stream",
     "text": [
      "{'session_id': '550455111', 'run_count': 100, 'best_val_acc': 0.6500000357627869, 'best_test_acc': 0.5777778029441833}\n"
     ]
    },
    {
     "name": "stderr",
     "output_type": "stream",
     "text": [
      "100%|██████████| 100/100 [01:27<00:00,  1.14it/s]\n"
     ]
    },
    {
     "name": "stdout",
     "output_type": "stream",
     "text": [
      "{'session_id': '665726618', 'run_count': 100, 'best_val_acc': 0.2142857164144516, 'best_test_acc': 0.14143919944763184}\n"
     ]
    },
    {
     "name": "stderr",
     "output_type": "stream",
     "text": [
      "100%|██████████| 100/100 [00:57<00:00,  1.74it/s]\n"
     ]
    },
    {
     "name": "stdout",
     "output_type": "stream",
     "text": [
      "{'session_id': '554037270', 'run_count': 100, 'best_val_acc': 0.25555557012557983, 'best_test_acc': 0.17222222685813904}\n"
     ]
    },
    {
     "name": "stderr",
     "output_type": "stream",
     "text": [
      "100%|██████████| 25/25 [00:14<00:00,  1.70it/s]\n"
     ]
    },
    {
     "name": "stdout",
     "output_type": "stream",
     "text": [
      "{'session_id': None, 'run_count': 0, 'best_val_acc': 0, 'best_test_acc': 0}\n"
     ]
    },
    {
     "name": "stderr",
     "output_type": "stream",
     "text": [
      "100%|██████████| 100/100 [01:01<00:00,  1.62it/s]\n"
     ]
    },
    {
     "name": "stdout",
     "output_type": "stream",
     "text": [
      "{'session_id': '555040116', 'run_count': 100, 'best_val_acc': 0.4000000059604645, 'best_test_acc': 0.29722222685813904}\n"
     ]
    },
    {
     "name": "stderr",
     "output_type": "stream",
     "text": [
      "100%|██████████| 100/100 [01:31<00:00,  1.10it/s]\n"
     ]
    },
    {
     "name": "stdout",
     "output_type": "stream",
     "text": [
      "{'session_id': '692345336', 'run_count': 100, 'best_val_acc': 0.2163461595773697, 'best_test_acc': 0.13189448416233063}\n"
     ]
    },
    {
     "name": "stderr",
     "output_type": "stream",
     "text": [
      "100%|██████████| 100/100 [01:10<00:00,  1.42it/s]\n"
     ]
    },
    {
     "name": "stdout",
     "output_type": "stream",
     "text": [
      "{'session_id': '596509886', 'run_count': 100, 'best_val_acc': 0.4333333373069763, 'best_test_acc': 0.3861111104488373}\n"
     ]
    },
    {
     "name": "stderr",
     "output_type": "stream",
     "text": [
      "100%|██████████| 100/100 [01:03<00:00,  1.58it/s]\n"
     ]
    },
    {
     "name": "stdout",
     "output_type": "stream",
     "text": [
      "{'session_id': '528402271', 'run_count': 100, 'best_val_acc': 0.8342542052268982, 'best_test_acc': 0.6611111164093018}\n"
     ]
    },
    {
     "name": "stderr",
     "output_type": "stream",
     "text": [
      "100%|██████████| 100/100 [01:41<00:00,  1.01s/it]\n"
     ]
    },
    {
     "name": "stdout",
     "output_type": "stream",
     "text": [
      "{'session_id': '653126877', 'run_count': 100, 'best_val_acc': 0.6213592290878296, 'best_test_acc': 0.4914841949939728}\n"
     ]
    },
    {
     "name": "stderr",
     "output_type": "stream",
     "text": [
      "100%|██████████| 100/100 [01:19<00:00,  1.25it/s]\n"
     ]
    },
    {
     "name": "stdout",
     "output_type": "stream",
     "text": [
      "{'session_id': '529688779', 'run_count': 100, 'best_val_acc': 0.6795580387115479, 'best_test_acc': 0.5638889074325562}\n"
     ]
    },
    {
     "name": "stderr",
     "output_type": "stream",
     "text": [
      "100%|██████████| 100/100 [00:55<00:00,  1.80it/s]\n"
     ]
    },
    {
     "name": "stdout",
     "output_type": "stream",
     "text": [
      "{'session_id': '601368107', 'run_count': 100, 'best_val_acc': 0.39444446563720703, 'best_test_acc': 0.28333333134651184}\n"
     ]
    },
    {
     "name": "stderr",
     "output_type": "stream",
     "text": [
      "100%|██████████| 100/100 [00:53<00:00,  1.88it/s]\n"
     ]
    },
    {
     "name": "stdout",
     "output_type": "stream",
     "text": [
      "{'session_id': '589755795', 'run_count': 100, 'best_val_acc': 0.2611111104488373, 'best_test_acc': 0.16388888657093048}\n"
     ]
    },
    {
     "name": "stderr",
     "output_type": "stream",
     "text": [
      "100%|██████████| 100/100 [00:54<00:00,  1.84it/s]\n"
     ]
    },
    {
     "name": "stdout",
     "output_type": "stream",
     "text": [
      "{'session_id': '502115959', 'run_count': 100, 'best_val_acc': 0.7333333492279053, 'best_test_acc': 0.5250000357627869}\n"
     ]
    },
    {
     "name": "stderr",
     "output_type": "stream",
     "text": [
      "100%|██████████| 94/94 [00:25<00:00,  3.64it/s]\n"
     ]
    },
    {
     "name": "stdout",
     "output_type": "stream",
     "text": [
      "{'session_id': '639932847', 'run_count': 36, 'best_val_acc': 0.7166666984558105, 'best_test_acc': 0.7166666984558105}\n"
     ]
    },
    {
     "name": "stderr",
     "output_type": "stream",
     "text": [
      "100%|██████████| 100/100 [00:57<00:00,  1.74it/s]\n"
     ]
    },
    {
     "name": "stdout",
     "output_type": "stream",
     "text": [
      "{'session_id': '558476282', 'run_count': 100, 'best_val_acc': 0.31111112236976624, 'best_test_acc': 0.1911357343196869}\n"
     ]
    },
    {
     "name": "stderr",
     "output_type": "stream",
     "text": [
      "100%|██████████| 100/100 [00:54<00:00,  1.84it/s]\n"
     ]
    },
    {
     "name": "stdout",
     "output_type": "stream",
     "text": [
      "{'session_id': '669237515', 'run_count': 100, 'best_val_acc': 0.6555555462837219, 'best_test_acc': 0.6094182729721069}\n"
     ]
    },
    {
     "name": "stderr",
     "output_type": "stream",
     "text": [
      "100%|██████████| 100/100 [00:55<00:00,  1.80it/s]\n"
     ]
    },
    {
     "name": "stdout",
     "output_type": "stream",
     "text": [
      "{'session_id': '601423209', 'run_count': 100, 'best_val_acc': 0.3333333432674408, 'best_test_acc': 0.36666667461395264}\n"
     ]
    },
    {
     "name": "stderr",
     "output_type": "stream",
     "text": [
      "100%|██████████| 100/100 [01:01<00:00,  1.63it/s]\n"
     ]
    },
    {
     "name": "stdout",
     "output_type": "stream",
     "text": [
      "{'session_id': '589441079', 'run_count': 100, 'best_val_acc': 0.7111111283302307, 'best_test_acc': 0.6083333492279053}\n"
     ]
    },
    {
     "name": "stderr",
     "output_type": "stream",
     "text": [
      "100%|██████████| 25/25 [00:15<00:00,  1.65it/s]\n"
     ]
    },
    {
     "name": "stdout",
     "output_type": "stream",
     "text": [
      "{'session_id': None, 'run_count': 0, 'best_val_acc': 0, 'best_test_acc': 0}\n"
     ]
    },
    {
     "name": "stderr",
     "output_type": "stream",
     "text": [
      "100%|██████████| 100/100 [00:57<00:00,  1.75it/s]\n"
     ]
    },
    {
     "name": "stdout",
     "output_type": "stream",
     "text": [
      "{'session_id': '686442556', 'run_count': 100, 'best_val_acc': 0.5611111521720886, 'best_test_acc': 0.4750000238418579}\n"
     ]
    },
    {
     "name": "stderr",
     "output_type": "stream",
     "text": [
      "100%|██████████| 25/25 [00:16<00:00,  1.51it/s]\n"
     ]
    },
    {
     "name": "stdout",
     "output_type": "stream",
     "text": [
      "{'session_id': None, 'run_count': 0, 'best_val_acc': 0, 'best_test_acc': 0}\n"
     ]
    },
    {
     "name": "stderr",
     "output_type": "stream",
     "text": [
      "100%|██████████| 25/25 [00:15<00:00,  1.65it/s]\n"
     ]
    },
    {
     "name": "stdout",
     "output_type": "stream",
     "text": [
      "{'session_id': None, 'run_count': 0, 'best_val_acc': 0, 'best_test_acc': 0}\n"
     ]
    },
    {
     "name": "stderr",
     "output_type": "stream",
     "text": [
      "100%|██████████| 91/91 [00:46<00:00,  1.96it/s]\n"
     ]
    },
    {
     "name": "stdout",
     "output_type": "stream",
     "text": [
      "{'session_id': '502115959', 'run_count': 66, 'best_val_acc': 0.7222222685813904, 'best_test_acc': 0.5166666507720947}\n"
     ]
    },
    {
     "name": "stderr",
     "output_type": "stream",
     "text": [
      "100%|██████████| 95/95 [00:52<00:00,  1.83it/s]\n"
     ]
    },
    {
     "name": "stdout",
     "output_type": "stream",
     "text": [
      "{'session_id': '528402271', 'run_count': 70, 'best_val_acc': 0.8232044577598572, 'best_test_acc': 0.675000011920929}\n"
     ]
    },
    {
     "name": "stderr",
     "output_type": "stream",
     "text": [
      "100%|██████████| 25/25 [00:11<00:00,  2.13it/s]\n"
     ]
    },
    {
     "name": "stdout",
     "output_type": "stream",
     "text": [
      "{'session_id': None, 'run_count': 0, 'best_val_acc': 0, 'best_test_acc': 0}\n"
     ]
    },
    {
     "name": "stderr",
     "output_type": "stream",
     "text": [
      "100%|██████████| 100/100 [00:56<00:00,  1.77it/s]\n"
     ]
    },
    {
     "name": "stdout",
     "output_type": "stream",
     "text": [
      "{'session_id': '562536153', 'run_count': 100, 'best_val_acc': 0.7388889193534851, 'best_test_acc': 0.625}\n"
     ]
    },
    {
     "name": "stderr",
     "output_type": "stream",
     "text": [
      "100%|██████████| 100/100 [00:55<00:00,  1.79it/s]\n"
     ]
    },
    {
     "name": "stdout",
     "output_type": "stream",
     "text": [
      "{'session_id': '601841437', 'run_count': 100, 'best_val_acc': 0.3888888955116272, 'best_test_acc': 0.25}\n"
     ]
    },
    {
     "name": "stderr",
     "output_type": "stream",
     "text": [
      "100%|██████████| 100/100 [00:56<00:00,  1.77it/s]\n"
     ]
    },
    {
     "name": "stdout",
     "output_type": "stream",
     "text": [
      "{'session_id': '612534310', 'run_count': 100, 'best_val_acc': 0.46666666865348816, 'best_test_acc': 0.3656509518623352}\n"
     ]
    },
    {
     "name": "stderr",
     "output_type": "stream",
     "text": [
      "100%|██████████| 75/75 [00:58<00:00,  1.29it/s]\n"
     ]
    },
    {
     "name": "stdout",
     "output_type": "stream",
     "text": [
      "{'session_id': '692345336', 'run_count': 51, 'best_val_acc': 0.25, 'best_test_acc': 0.11990407854318619}\n"
     ]
    },
    {
     "name": "stderr",
     "output_type": "stream",
     "text": [
      "100%|██████████| 100/100 [00:56<00:00,  1.77it/s]\n"
     ]
    },
    {
     "name": "stdout",
     "output_type": "stream",
     "text": [
      "{'session_id': '651769499', 'run_count': 100, 'best_val_acc': 0.25, 'best_test_acc': 0.13850414752960205}\n"
     ]
    },
    {
     "name": "stderr",
     "output_type": "stream",
     "text": [
      "100%|██████████| 100/100 [00:59<00:00,  1.68it/s]\n"
     ]
    },
    {
     "name": "stdout",
     "output_type": "stream",
     "text": [
      "{'session_id': '548379748', 'run_count': 100, 'best_val_acc': 0.36666667461395264, 'best_test_acc': 0.2770082950592041}\n"
     ]
    },
    {
     "name": "stderr",
     "output_type": "stream",
     "text": [
      "100%|██████████| 45/45 [00:17<00:00,  2.51it/s]\n"
     ]
    },
    {
     "name": "stdout",
     "output_type": "stream",
     "text": [
      "{'session_id': '529688779', 'run_count': 22, 'best_val_acc': 0.6519337296485901, 'best_test_acc': 0.5555555820465088}\n"
     ]
    },
    {
     "name": "stderr",
     "output_type": "stream",
     "text": [
      "100%|██████████| 100/100 [00:56<00:00,  1.76it/s]\n"
     ]
    },
    {
     "name": "stdout",
     "output_type": "stream",
     "text": [
      "{'session_id': '707923645', 'run_count': 100, 'best_val_acc': 0.7777777910232544, 'best_test_acc': 0.7423822283744812}\n"
     ]
    },
    {
     "name": "stderr",
     "output_type": "stream",
     "text": [
      "100%|██████████| 100/100 [00:55<00:00,  1.80it/s]\n"
     ]
    },
    {
     "name": "stdout",
     "output_type": "stream",
     "text": [
      "{'session_id': '505845219', 'run_count': 100, 'best_val_acc': 0.5833333730697632, 'best_test_acc': 0.5111111402511597}\n"
     ]
    },
    {
     "name": "stderr",
     "output_type": "stream",
     "text": [
      "100%|██████████| 100/100 [00:56<00:00,  1.76it/s]\n"
     ]
    },
    {
     "name": "stdout",
     "output_type": "stream",
     "text": [
      "{'session_id': '601805379', 'run_count': 100, 'best_val_acc': 0.41111111640930176, 'best_test_acc': 0.3019390404224396}\n"
     ]
    },
    {
     "name": "stderr",
     "output_type": "stream",
     "text": [
      "100%|██████████| 100/100 [00:56<00:00,  1.77it/s]\n"
     ]
    },
    {
     "name": "stdout",
     "output_type": "stream",
     "text": [
      "{'session_id': '659491419', 'run_count': 100, 'best_val_acc': 0.2944444417953491, 'best_test_acc': 0.18611112236976624}\n"
     ]
    },
    {
     "name": "stderr",
     "output_type": "stream",
     "text": [
      "100%|██████████| 100/100 [00:55<00:00,  1.79it/s]\n"
     ]
    },
    {
     "name": "stdout",
     "output_type": "stream",
     "text": [
      "{'session_id': '647598519', 'run_count': 100, 'best_val_acc': 0.32777777314186096, 'best_test_acc': 0.236111119389534}\n"
     ]
    },
    {
     "name": "stderr",
     "output_type": "stream",
     "text": [
      "100%|██████████| 100/100 [00:54<00:00,  1.83it/s]\n"
     ]
    },
    {
     "name": "stdout",
     "output_type": "stream",
     "text": [
      "{'session_id': '643645390', 'run_count': 100, 'best_val_acc': 0.6833333373069763, 'best_test_acc': 0.6861111521720886}\n"
     ]
    },
    {
     "name": "stderr",
     "output_type": "stream",
     "text": [
      "100%|██████████| 100/100 [01:19<00:00,  1.26it/s]\n"
     ]
    },
    {
     "name": "stdout",
     "output_type": "stream",
     "text": [
      "{'session_id': '663485329', 'run_count': 100, 'best_val_acc': 0.701421856880188, 'best_test_acc': 0.5856079459190369}\n"
     ]
    },
    {
     "name": "stderr",
     "output_type": "stream",
     "text": [
      "100%|██████████| 100/100 [00:55<00:00,  1.80it/s]\n"
     ]
    },
    {
     "name": "stdout",
     "output_type": "stream",
     "text": [
      "{'session_id': '602866800', 'run_count': 100, 'best_val_acc': 0.21111111342906952, 'best_test_acc': 0.1527777761220932}\n"
     ]
    },
    {
     "name": "stderr",
     "output_type": "stream",
     "text": [
      "100%|██████████| 100/100 [00:56<00:00,  1.76it/s]\n"
     ]
    },
    {
     "name": "stdout",
     "output_type": "stream",
     "text": [
      "{'session_id': '580051759', 'run_count': 100, 'best_val_acc': 0.38333335518836975, 'best_test_acc': 0.22500000894069672}\n"
     ]
    },
    {
     "name": "stderr",
     "output_type": "stream",
     "text": [
      "100%|██████████| 100/100 [01:28<00:00,  1.13it/s]\n"
     ]
    },
    {
     "name": "stdout",
     "output_type": "stream",
     "text": [
      "{'session_id': '696156783', 'run_count': 100, 'best_val_acc': 0.22966507077217102, 'best_test_acc': 0.15714286267757416}\n"
     ]
    },
    {
     "name": "stderr",
     "output_type": "stream",
     "text": [
      "100%|██████████| 100/100 [00:59<00:00,  1.68it/s]\n"
     ]
    },
    {
     "name": "stdout",
     "output_type": "stream",
     "text": [
      "{'session_id': '575970700', 'run_count': 100, 'best_val_acc': 0.5, 'best_test_acc': 0.30277779698371887}\n"
     ]
    },
    {
     "name": "stderr",
     "output_type": "stream",
     "text": [
      "100%|██████████| 25/25 [00:15<00:00,  1.57it/s]\n"
     ]
    },
    {
     "name": "stdout",
     "output_type": "stream",
     "text": [
      "{'session_id': None, 'run_count': 0, 'best_val_acc': 0, 'best_test_acc': 0}\n"
     ]
    },
    {
     "name": "stderr",
     "output_type": "stream",
     "text": [
      "100%|██████████| 100/100 [00:59<00:00,  1.69it/s]\n"
     ]
    },
    {
     "name": "stdout",
     "output_type": "stream",
     "text": [
      "{'session_id': '670721589', 'run_count': 100, 'best_val_acc': 0.5, 'best_test_acc': 0.3194444477558136}\n"
     ]
    },
    {
     "name": "stderr",
     "output_type": "stream",
     "text": [
      "100%|██████████| 100/100 [01:19<00:00,  1.25it/s]\n"
     ]
    },
    {
     "name": "stdout",
     "output_type": "stream",
     "text": [
      "{'session_id': '652096183', 'run_count': 100, 'best_val_acc': 0.5922330021858215, 'best_test_acc': 0.44306930899620056}\n"
     ]
    },
    {
     "name": "stderr",
     "output_type": "stream",
     "text": [
      "100%|██████████| 100/100 [01:22<00:00,  1.21it/s]\n"
     ]
    },
    {
     "name": "stdout",
     "output_type": "stream",
     "text": [
      "{'session_id': '671618887', 'run_count': 100, 'best_val_acc': 0.23444975912570953, 'best_test_acc': 0.1404358446598053}\n"
     ]
    },
    {
     "name": "stderr",
     "output_type": "stream",
     "text": [
      "100%|██████████| 100/100 [00:58<00:00,  1.72it/s]\n"
     ]
    },
    {
     "name": "stdout",
     "output_type": "stream",
     "text": [
      "{'session_id': '691197571', 'run_count': 100, 'best_val_acc': 0.2888889014720917, 'best_test_acc': 0.15512464940547943}\n"
     ]
    },
    {
     "name": "stderr",
     "output_type": "stream",
     "text": [
      "100%|██████████| 100/100 [00:55<00:00,  1.81it/s]\n"
     ]
    },
    {
     "name": "stdout",
     "output_type": "stream",
     "text": [
      "{'session_id': '712178483', 'run_count': 100, 'best_val_acc': 0.22777777910232544, 'best_test_acc': 0.17777778208255768}\n"
     ]
    },
    {
     "name": "stderr",
     "output_type": "stream",
     "text": [
      "100%|██████████| 100/100 [00:55<00:00,  1.79it/s]\n"
     ]
    },
    {
     "name": "stdout",
     "output_type": "stream",
     "text": [
      "{'session_id': '707006626', 'run_count': 100, 'best_val_acc': 0.4555555582046509, 'best_test_acc': 0.31111112236976624}\n"
     ]
    },
    {
     "name": "stderr",
     "output_type": "stream",
     "text": [
      "100%|██████████| 100/100 [00:55<00:00,  1.81it/s]\n"
     ]
    },
    {
     "name": "stdout",
     "output_type": "stream",
     "text": [
      "{'session_id': '587344053', 'run_count': 100, 'best_val_acc': 0.9000000357627869, 'best_test_acc': 0.819444477558136}\n"
     ]
    },
    {
     "name": "stderr",
     "output_type": "stream",
     "text": [
      "100%|██████████| 100/100 [00:54<00:00,  1.83it/s]\n"
     ]
    },
    {
     "name": "stdout",
     "output_type": "stream",
     "text": [
      "{'session_id': '501933264', 'run_count': 100, 'best_val_acc': 0.7944444417953491, 'best_test_acc': 0.6777777671813965}\n"
     ]
    },
    {
     "name": "stderr",
     "output_type": "stream",
     "text": [
      "100%|██████████| 100/100 [00:54<00:00,  1.82it/s]\n"
     ]
    },
    {
     "name": "stdout",
     "output_type": "stream",
     "text": [
      "{'session_id': '647143225', 'run_count': 100, 'best_val_acc': 0.6111111044883728, 'best_test_acc': 0.5805555582046509}\n"
     ]
    },
    {
     "name": "stderr",
     "output_type": "stream",
     "text": [
      "100%|██████████| 100/100 [00:57<00:00,  1.75it/s]\n"
     ]
    },
    {
     "name": "stdout",
     "output_type": "stream",
     "text": [
      "{'session_id': '569896493', 'run_count': 100, 'best_val_acc': 0.46408841013908386, 'best_test_acc': 0.347222238779068}\n"
     ]
    },
    {
     "name": "stderr",
     "output_type": "stream",
     "text": [
      "100%|██████████| 100/100 [00:57<00:00,  1.74it/s]\n"
     ]
    },
    {
     "name": "stdout",
     "output_type": "stream",
     "text": [
      "{'session_id': '657390171', 'run_count': 100, 'best_val_acc': 0.20000000298023224, 'best_test_acc': 0.13333334028720856}\n"
     ]
    },
    {
     "name": "stderr",
     "output_type": "stream",
     "text": [
      "100%|██████████| 100/100 [00:54<00:00,  1.83it/s]\n"
     ]
    },
    {
     "name": "stdout",
     "output_type": "stream",
     "text": [
      "{'session_id': '504568756', 'run_count': 100, 'best_val_acc': 0.4833333492279053, 'best_test_acc': 0.5305555462837219}\n"
     ]
    },
    {
     "name": "stderr",
     "output_type": "stream",
     "text": [
      "100%|██████████| 100/100 [00:57<00:00,  1.74it/s]\n"
     ]
    },
    {
     "name": "stdout",
     "output_type": "stream",
     "text": [
      "{'session_id': '580013262', 'run_count': 100, 'best_val_acc': 0.4833333492279053, 'best_test_acc': 0.40833333134651184}\n"
     ]
    },
    {
     "name": "stderr",
     "output_type": "stream",
     "text": [
      "100%|██████████| 100/100 [00:57<00:00,  1.73it/s]\n"
     ]
    },
    {
     "name": "stdout",
     "output_type": "stream",
     "text": [
      "{'session_id': '576273468', 'run_count': 100, 'best_val_acc': 0.23888888955116272, 'best_test_acc': 0.11666666716337204}\n"
     ]
    },
    {
     "name": "stderr",
     "output_type": "stream",
     "text": [
      "100%|██████████| 100/100 [00:55<00:00,  1.80it/s]\n"
     ]
    },
    {
     "name": "stdout",
     "output_type": "stream",
     "text": [
      "{'session_id': '502962794', 'run_count': 100, 'best_val_acc': 0.699999988079071, 'best_test_acc': 0.6611111164093018}\n"
     ]
    },
    {
     "name": "stderr",
     "output_type": "stream",
     "text": [
      "100%|██████████| 100/100 [01:02<00:00,  1.60it/s]\n"
     ]
    },
    {
     "name": "stdout",
     "output_type": "stream",
     "text": [
      "{'session_id': '512326618', 'run_count': 100, 'best_val_acc': 0.7944444417953491, 'best_test_acc': 0.7444444894790649}\n"
     ]
    },
    {
     "name": "stderr",
     "output_type": "stream",
     "text": [
      "100%|██████████| 100/100 [00:55<00:00,  1.81it/s]\n"
     ]
    },
    {
     "name": "stdout",
     "output_type": "stream",
     "text": [
      "{'session_id': '512270518', 'run_count': 100, 'best_val_acc': 0.7222222685813904, 'best_test_acc': 0.5833333730697632}\n"
     ]
    },
    {
     "name": "stderr",
     "output_type": "stream",
     "text": [
      "100%|██████████| 100/100 [00:57<00:00,  1.73it/s]\n"
     ]
    },
    {
     "name": "stdout",
     "output_type": "stream",
     "text": [
      "{'session_id': '512164988', 'run_count': 100, 'best_val_acc': 0.7611111402511597, 'best_test_acc': 0.7416666746139526}\n"
     ]
    },
    {
     "name": "stderr",
     "output_type": "stream",
     "text": [
      "100%|██████████| 100/100 [00:55<00:00,  1.79it/s]\n"
     ]
    },
    {
     "name": "stdout",
     "output_type": "stream",
     "text": [
      "{'session_id': '571541565', 'run_count': 100, 'best_val_acc': 0.4833333492279053, 'best_test_acc': 0.40166205167770386}\n"
     ]
    },
    {
     "name": "stderr",
     "output_type": "stream",
     "text": [
      "100%|██████████| 100/100 [00:57<00:00,  1.75it/s]\n"
     ]
    },
    {
     "name": "stdout",
     "output_type": "stream",
     "text": [
      "{'session_id': '575939366', 'run_count': 100, 'best_val_acc': 0.41111111640930176, 'best_test_acc': 0.3166666626930237}\n"
     ]
    },
    {
     "name": "stderr",
     "output_type": "stream",
     "text": [
      "100%|██████████| 100/100 [00:55<00:00,  1.79it/s]\n"
     ]
    },
    {
     "name": "stdout",
     "output_type": "stream",
     "text": [
      "{'session_id': '603188560', 'run_count': 100, 'best_val_acc': 0.5111111402511597, 'best_test_acc': 0.30470913648605347}\n"
     ]
    },
    {
     "name": "stderr",
     "output_type": "stream",
     "text": [
      "100%|██████████| 100/100 [01:15<00:00,  1.32it/s]\n"
     ]
    },
    {
     "name": "stdout",
     "output_type": "stream",
     "text": [
      "{'session_id': '547388708', 'run_count': 100, 'best_val_acc': 0.5436893105506897, 'best_test_acc': 0.43103447556495667}\n"
     ]
    },
    {
     "name": "stderr",
     "output_type": "stream",
     "text": [
      "100%|██████████| 100/100 [00:58<00:00,  1.71it/s]\n"
     ]
    },
    {
     "name": "stdout",
     "output_type": "stream",
     "text": [
      "{'session_id': '657224241', 'run_count': 100, 'best_val_acc': 0.24444444477558136, 'best_test_acc': 0.1666666716337204}\n"
     ]
    },
    {
     "name": "stderr",
     "output_type": "stream",
     "text": [
      "100%|██████████| 100/100 [00:59<00:00,  1.69it/s]\n"
     ]
    },
    {
     "name": "stdout",
     "output_type": "stream",
     "text": [
      "{'session_id': '560920977', 'run_count': 100, 'best_val_acc': 0.3166666626930237, 'best_test_acc': 0.13611111044883728}\n"
     ]
    },
    {
     "name": "stderr",
     "output_type": "stream",
     "text": [
      "100%|██████████| 100/100 [00:58<00:00,  1.71it/s]\n"
     ]
    },
    {
     "name": "stdout",
     "output_type": "stream",
     "text": [
      "{'session_id': '573850303', 'run_count': 100, 'best_val_acc': 0.37016576528549194, 'best_test_acc': 0.3333333432674408}\n"
     ]
    },
    {
     "name": "stderr",
     "output_type": "stream",
     "text": [
      "100%|██████████| 100/100 [00:57<00:00,  1.75it/s]\n"
     ]
    },
    {
     "name": "stdout",
     "output_type": "stream",
     "text": [
      "{'session_id': '645256361', 'run_count': 100, 'best_val_acc': 0.5611111521720886, 'best_test_acc': 0.519444465637207}\n"
     ]
    },
    {
     "name": "stderr",
     "output_type": "stream",
     "text": [
      "100%|██████████| 100/100 [00:56<00:00,  1.76it/s]\n"
     ]
    },
    {
     "name": "stdout",
     "output_type": "stream",
     "text": [
      "{'session_id': '593373156', 'run_count': 100, 'best_val_acc': 0.25555557012557983, 'best_test_acc': 0.17777778208255768}\n"
     ]
    },
    {
     "name": "stderr",
     "output_type": "stream",
     "text": [
      "100%|██████████| 100/100 [00:59<00:00,  1.69it/s]\n"
     ]
    },
    {
     "name": "stdout",
     "output_type": "stream",
     "text": [
      "{'session_id': '657009581', 'run_count': 100, 'best_val_acc': 0.24444444477558136, 'best_test_acc': 0.15555556118488312}\n"
     ]
    },
    {
     "name": "stderr",
     "output_type": "stream",
     "text": [
      "100%|██████████| 100/100 [00:55<00:00,  1.81it/s]\n"
     ]
    },
    {
     "name": "stdout",
     "output_type": "stream",
     "text": [
      "{'session_id': '673475020', 'run_count': 100, 'best_val_acc': 0.30000001192092896, 'best_test_acc': 0.2666666805744171}\n"
     ]
    },
    {
     "name": "stderr",
     "output_type": "stream",
     "text": [
      "100%|██████████| 100/100 [00:56<00:00,  1.79it/s]\n"
     ]
    },
    {
     "name": "stdout",
     "output_type": "stream",
     "text": [
      "{'session_id': '669233895', 'run_count': 100, 'best_val_acc': 0.6166666746139526, 'best_test_acc': 0.5222222208976746}\n"
     ]
    },
    {
     "name": "stderr",
     "output_type": "stream",
     "text": [
      "100%|██████████| 100/100 [00:56<00:00,  1.77it/s]\n"
     ]
    },
    {
     "name": "stdout",
     "output_type": "stream",
     "text": [
      "{'session_id': '701046700', 'run_count': 100, 'best_val_acc': 0.3888888955116272, 'best_test_acc': 0.1944444477558136}\n"
     ]
    },
    {
     "name": "stderr",
     "output_type": "stream",
     "text": [
      "100%|██████████| 100/100 [00:57<00:00,  1.75it/s]\n"
     ]
    },
    {
     "name": "stdout",
     "output_type": "stream",
     "text": [
      "{'session_id': '508753256', 'run_count': 100, 'best_val_acc': 0.3591160476207733, 'best_test_acc': 0.25555557012557983}\n"
     ]
    },
    {
     "name": "stderr",
     "output_type": "stream",
     "text": [
      "100%|██████████| 100/100 [00:55<00:00,  1.81it/s]\n"
     ]
    },
    {
     "name": "stdout",
     "output_type": "stream",
     "text": [
      "{'session_id': '561312435', 'run_count': 100, 'best_val_acc': 0.9388889074325562, 'best_test_acc': 0.8583333492279053}\n"
     ]
    },
    {
     "name": "stderr",
     "output_type": "stream",
     "text": [
      "100%|██████████| 100/100 [00:54<00:00,  1.83it/s]\n"
     ]
    },
    {
     "name": "stdout",
     "output_type": "stream",
     "text": [
      "{'session_id': '664404274', 'run_count': 100, 'best_val_acc': 0.4611111283302307, 'best_test_acc': 0.4861111342906952}\n"
     ]
    },
    {
     "name": "stderr",
     "output_type": "stream",
     "text": [
      "100%|██████████| 100/100 [00:54<00:00,  1.82it/s]\n"
     ]
    },
    {
     "name": "stdout",
     "output_type": "stream",
     "text": [
      "{'session_id': '674679019', 'run_count': 100, 'best_val_acc': 0.7666667103767395, 'best_test_acc': 0.7222222685813904}\n"
     ]
    },
    {
     "name": "stderr",
     "output_type": "stream",
     "text": [
      "100%|██████████| 100/100 [00:57<00:00,  1.75it/s]\n"
     ]
    },
    {
     "name": "stdout",
     "output_type": "stream",
     "text": [
      "{'session_id': '599909878', 'run_count': 100, 'best_val_acc': 0.3333333432674408, 'best_test_acc': 0.1944444477558136}\n"
     ]
    },
    {
     "name": "stderr",
     "output_type": "stream",
     "text": [
      "100%|██████████| 100/100 [00:53<00:00,  1.85it/s]\n"
     ]
    },
    {
     "name": "stdout",
     "output_type": "stream",
     "text": [
      "{'session_id': '577379202', 'run_count': 100, 'best_val_acc': 0.46666666865348816, 'best_test_acc': 0.38055557012557983}\n"
     ]
    },
    {
     "name": "stderr",
     "output_type": "stream",
     "text": [
      "100%|██████████| 100/100 [00:56<00:00,  1.77it/s]\n"
     ]
    },
    {
     "name": "stdout",
     "output_type": "stream",
     "text": [
      "{'session_id': '562711440', 'run_count': 100, 'best_val_acc': 0.2611111104488373, 'best_test_acc': 0.09166666865348816}\n"
     ]
    },
    {
     "name": "stderr",
     "output_type": "stream",
     "text": [
      "100%|██████████| 100/100 [00:56<00:00,  1.76it/s]\n"
     ]
    },
    {
     "name": "stdout",
     "output_type": "stream",
     "text": [
      "{'session_id': '603187982', 'run_count': 100, 'best_val_acc': 0.27222222089767456, 'best_test_acc': 0.13019390404224396}\n"
     ]
    },
    {
     "name": "stderr",
     "output_type": "stream",
     "text": [
      "100%|██████████| 100/100 [01:10<00:00,  1.42it/s]\n"
     ]
    },
    {
     "name": "stdout",
     "output_type": "stream",
     "text": [
      "{'session_id': '573720508', 'run_count': 100, 'best_val_acc': 0.42777779698371887, 'best_test_acc': 0.32500001788139343}\n"
     ]
    },
    {
     "name": "stderr",
     "output_type": "stream",
     "text": [
      "100%|██████████| 100/100 [00:55<00:00,  1.79it/s]\n"
     ]
    },
    {
     "name": "stdout",
     "output_type": "stream",
     "text": [
      "{'session_id': '569792817', 'run_count': 100, 'best_val_acc': 0.4888888895511627, 'best_test_acc': 0.30000001192092896}\n"
     ]
    },
    {
     "name": "stderr",
     "output_type": "stream",
     "text": [
      "100%|██████████| 100/100 [01:03<00:00,  1.57it/s]\n"
     ]
    },
    {
     "name": "stdout",
     "output_type": "stream",
     "text": [
      "{'session_id': '710502981', 'run_count': 100, 'best_val_acc': 0.24444444477558136, 'best_test_acc': 0.16388888657093048}\n"
     ]
    },
    {
     "name": "stderr",
     "output_type": "stream",
     "text": [
      "100%|██████████| 100/100 [00:56<00:00,  1.78it/s]\n"
     ]
    },
    {
     "name": "stdout",
     "output_type": "stream",
     "text": [
      "{'session_id': '580043440', 'run_count': 100, 'best_val_acc': 0.39444446563720703, 'best_test_acc': 0.26944446563720703}\n"
     ]
    },
    {
     "name": "stderr",
     "output_type": "stream",
     "text": [
      "100%|██████████| 56/56 [00:30<00:00,  1.85it/s]\n"
     ]
    },
    {
     "name": "stdout",
     "output_type": "stream",
     "text": [
      "{'session_id': '664404274', 'run_count': 32, 'best_val_acc': 0.47777777910232544, 'best_test_acc': 0.42222222685813904}\n"
     ]
    },
    {
     "name": "stderr",
     "output_type": "stream",
     "text": [
      "100%|██████████| 100/100 [00:56<00:00,  1.79it/s]\n"
     ]
    },
    {
     "name": "stdout",
     "output_type": "stream",
     "text": [
      "{'session_id': '662351164', 'run_count': 100, 'best_val_acc': 0.47777777910232544, 'best_test_acc': 0.4000000059604645}\n"
     ]
    },
    {
     "name": "stderr",
     "output_type": "stream",
     "text": [
      "100%|██████████| 25/25 [00:15<00:00,  1.66it/s]\n"
     ]
    },
    {
     "name": "stdout",
     "output_type": "stream",
     "text": [
      "{'session_id': None, 'run_count': 0, 'best_val_acc': 0, 'best_test_acc': 0}\n"
     ]
    },
    {
     "name": "stderr",
     "output_type": "stream",
     "text": [
      "100%|██████████| 100/100 [00:59<00:00,  1.67it/s]\n"
     ]
    },
    {
     "name": "stdout",
     "output_type": "stream",
     "text": [
      "{'session_id': '606353987', 'run_count': 100, 'best_val_acc': 0.2541436553001404, 'best_test_acc': 0.11388888955116272}\n"
     ]
    },
    {
     "name": "stderr",
     "output_type": "stream",
     "text": [
      "100%|██████████| 100/100 [00:58<00:00,  1.70it/s]\n"
     ]
    },
    {
     "name": "stdout",
     "output_type": "stream",
     "text": [
      "{'session_id': '674275260', 'run_count': 100, 'best_val_acc': 0.5777778029441833, 'best_test_acc': 0.47777777910232544}\n"
     ]
    },
    {
     "name": "stderr",
     "output_type": "stream",
     "text": [
      "100%|██████████| 100/100 [01:04<00:00,  1.55it/s]\n"
     ]
    },
    {
     "name": "stdout",
     "output_type": "stream",
     "text": [
      "{'session_id': '689388034', 'run_count': 100, 'best_val_acc': 0.7222222685813904, 'best_test_acc': 0.5583333373069763}\n"
     ]
    },
    {
     "name": "stderr",
     "output_type": "stream",
     "text": [
      "100%|██████████| 100/100 [01:31<00:00,  1.09it/s]\n"
     ]
    },
    {
     "name": "stdout",
     "output_type": "stream",
     "text": [
      "{'session_id': '558670888', 'run_count': 100, 'best_val_acc': 0.7715736031532288, 'best_test_acc': 0.6870415806770325}\n"
     ]
    },
    {
     "name": "stderr",
     "output_type": "stream",
     "text": [
      "100%|██████████| 100/100 [01:14<00:00,  1.34it/s]\n"
     ]
    },
    {
     "name": "stdout",
     "output_type": "stream",
     "text": [
      "{'session_id': '577379202', 'run_count': 99, 'best_val_acc': 0.43888890743255615, 'best_test_acc': 0.3611111342906952}\n"
     ]
    },
    {
     "name": "stderr",
     "output_type": "stream",
     "text": [
      " 41%|████▏     | 39/94 [00:20<00:28,  1.93it/s]\u001b[34m\u001b[1mwandb\u001b[0m: \u001b[33mWARNING\u001b[0m A graphql request initiated by the public wandb API timed out (timeout=19 sec). Create a new API with an integer timeout larger than 19, e.g., `api = wandb.Api(timeout=29)` to increase the graphql timeout.\n",
      "100%|██████████| 94/94 [01:29<00:00,  1.05it/s]\n"
     ]
    },
    {
     "name": "stdout",
     "output_type": "stream",
     "text": [
      "{'session_id': '561312435', 'run_count': 70, 'best_val_acc': 0.9333333373069763, 'best_test_acc': 0.8500000238418579}\n"
     ]
    },
    {
     "name": "stderr",
     "output_type": "stream",
     "text": [
      "100%|██████████| 100/100 [01:14<00:00,  1.35it/s]\n"
     ]
    },
    {
     "name": "stdout",
     "output_type": "stream",
     "text": [
      "{'session_id': '526504941', 'run_count': 100, 'best_val_acc': 0.5111111402511597, 'best_test_acc': 0.42936286330223083}\n"
     ]
    },
    {
     "name": "stderr",
     "output_type": "stream",
     "text": [
      "100%|██████████| 100/100 [00:58<00:00,  1.72it/s]\n"
     ]
    },
    {
     "name": "stdout",
     "output_type": "stream",
     "text": [
      "{'session_id': '530645663', 'run_count': 100, 'best_val_acc': 0.37569060921669006, 'best_test_acc': 0.25}\n"
     ]
    },
    {
     "name": "stderr",
     "output_type": "stream",
     "text": [
      "100%|██████████| 91/91 [01:18<00:00,  1.16it/s]\n"
     ]
    },
    {
     "name": "stdout",
     "output_type": "stream",
     "text": [
      "{'session_id': '603187982', 'run_count': 67, 'best_val_acc': 0.25555557012557983, 'best_test_acc': 0.11634348332881927}\n"
     ]
    },
    {
     "name": "stderr",
     "output_type": "stream",
     "text": [
      "100%|██████████| 100/100 [01:24<00:00,  1.18it/s]\n"
     ]
    },
    {
     "name": "stdout",
     "output_type": "stream",
     "text": [
      "{'session_id': '573083539', 'run_count': 100, 'best_val_acc': 0.5777778029441833, 'best_test_acc': 0.6315789222717285}\n"
     ]
    },
    {
     "name": "stderr",
     "output_type": "stream",
     "text": [
      "100%|██████████| 49/49 [00:31<00:00,  1.57it/s]\n"
     ]
    },
    {
     "name": "stdout",
     "output_type": "stream",
     "text": [
      "{'session_id': '674275260', 'run_count': 24, 'best_val_acc': 0.5944444537162781, 'best_test_acc': 0.4888888895511627}\n"
     ]
    },
    {
     "name": "stderr",
     "output_type": "stream",
     "text": [
      "100%|██████████| 80/80 [00:45<00:00,  1.77it/s]\n"
     ]
    },
    {
     "name": "stdout",
     "output_type": "stream",
     "text": [
      "{'session_id': '606353987', 'run_count': 56, 'best_val_acc': 0.24861879646778107, 'best_test_acc': 0.11388888955116272}\n"
     ]
    },
    {
     "name": "stderr",
     "output_type": "stream",
     "text": [
      "100%|██████████| 100/100 [00:57<00:00,  1.75it/s]\n"
     ]
    },
    {
     "name": "stdout",
     "output_type": "stream",
     "text": [
      "{'session_id': '637669284', 'run_count': 100, 'best_val_acc': 0.5444444417953491, 'best_test_acc': 0.3444444537162781}\n"
     ]
    },
    {
     "name": "stderr",
     "output_type": "stream",
     "text": [
      "100%|██████████| 100/100 [00:56<00:00,  1.77it/s]\n"
     ]
    },
    {
     "name": "stdout",
     "output_type": "stream",
     "text": [
      "{'session_id': '511534603', 'run_count': 100, 'best_val_acc': 0.4333333373069763, 'best_test_acc': 0.32686978578567505}\n"
     ]
    },
    {
     "name": "stderr",
     "output_type": "stream",
     "text": [
      "100%|██████████| 25/25 [00:15<00:00,  1.65it/s]\n"
     ]
    },
    {
     "name": "stdout",
     "output_type": "stream",
     "text": [
      "{'session_id': None, 'run_count': 0, 'best_val_acc': 0, 'best_test_acc': 0}\n"
     ]
    },
    {
     "name": "stderr",
     "output_type": "stream",
     "text": [
      "100%|██████████| 100/100 [00:57<00:00,  1.74it/s]\n"
     ]
    },
    {
     "name": "stdout",
     "output_type": "stream",
     "text": [
      "{'session_id': '601910964', 'run_count': 100, 'best_val_acc': 0.25555557012557983, 'best_test_acc': 0.06648199260234833}\n"
     ]
    },
    {
     "name": "stderr",
     "output_type": "stream",
     "text": [
      "100%|██████████| 100/100 [00:58<00:00,  1.70it/s]\n"
     ]
    },
    {
     "name": "stdout",
     "output_type": "stream",
     "text": [
      "{'session_id': '643062797', 'run_count': 100, 'best_val_acc': 0.23888888955116272, 'best_test_acc': 0.20000000298023224}\n"
     ]
    },
    {
     "name": "stderr",
     "output_type": "stream",
     "text": [
      "100%|██████████| 100/100 [00:59<00:00,  1.68it/s]\n"
     ]
    },
    {
     "name": "stdout",
     "output_type": "stream",
     "text": [
      "{'session_id': '702934964', 'run_count': 100, 'best_val_acc': 0.9166666865348816, 'best_test_acc': 0.8416666984558105}\n"
     ]
    },
    {
     "name": "stderr",
     "output_type": "stream",
     "text": [
      "100%|██████████| 100/100 [01:01<00:00,  1.63it/s]\n"
     ]
    },
    {
     "name": "stdout",
     "output_type": "stream",
     "text": [
      "{'session_id': '672211004', 'run_count': 100, 'best_val_acc': 0.30000001192092896, 'best_test_acc': 0.1388888955116272}\n"
     ]
    },
    {
     "name": "stderr",
     "output_type": "stream",
     "text": [
      "100%|██████████| 100/100 [00:59<00:00,  1.67it/s]\n"
     ]
    },
    {
     "name": "stdout",
     "output_type": "stream",
     "text": [
      "{'session_id': '560898462', 'run_count': 100, 'best_val_acc': 0.8888888955116272, 'best_test_acc': 0.8027778267860413}\n"
     ]
    },
    {
     "name": "stderr",
     "output_type": "stream",
     "text": [
      "100%|██████████| 100/100 [01:00<00:00,  1.67it/s]\n"
     ]
    },
    {
     "name": "stdout",
     "output_type": "stream",
     "text": [
      "{'session_id': '601887677', 'run_count': 100, 'best_val_acc': 0.49444445967674255, 'best_test_acc': 0.46666666865348816}\n"
     ]
    },
    {
     "name": "stderr",
     "output_type": "stream",
     "text": [
      "100%|██████████| 100/100 [01:01<00:00,  1.63it/s]\n"
     ]
    },
    {
     "name": "stdout",
     "output_type": "stream",
     "text": [
      "{'session_id': '539290504', 'run_count': 100, 'best_val_acc': 0.3611111342906952, 'best_test_acc': 0.36944445967674255}\n"
     ]
    },
    {
     "name": "stderr",
     "output_type": "stream",
     "text": [
      "100%|██████████| 67/67 [00:39<00:00,  1.69it/s]\n"
     ]
    },
    {
     "name": "stdout",
     "output_type": "stream",
     "text": [
      "{'session_id': '558670888', 'run_count': 42, 'best_val_acc': 0.7664974331855774, 'best_test_acc': 0.7237164378166199}\n"
     ]
    },
    {
     "name": "stderr",
     "output_type": "stream",
     "text": [
      "100%|██████████| 100/100 [00:55<00:00,  1.81it/s]\n"
     ]
    },
    {
     "name": "stdout",
     "output_type": "stream",
     "text": [
      "{'session_id': '653125130', 'run_count': 100, 'best_val_acc': 0.8111111521720886, 'best_test_acc': 0.644444465637207}\n"
     ]
    },
    {
     "name": "stderr",
     "output_type": "stream",
     "text": [
      "100%|██████████| 100/100 [00:57<00:00,  1.75it/s]\n"
     ]
    },
    {
     "name": "stdout",
     "output_type": "stream",
     "text": [
      "{'session_id': '553568031', 'run_count': 100, 'best_val_acc': 0.6132596731185913, 'best_test_acc': 0.5235456824302673}\n"
     ]
    },
    {
     "name": "stderr",
     "output_type": "stream",
     "text": [
      "100%|██████████| 100/100 [00:57<00:00,  1.75it/s]\n"
     ]
    },
    {
     "name": "stdout",
     "output_type": "stream",
     "text": [
      "{'session_id': '652842572', 'run_count': 100, 'best_val_acc': 0.7888889312744141, 'best_test_acc': 0.7083333730697632}\n"
     ]
    },
    {
     "name": "stderr",
     "output_type": "stream",
     "text": [
      "100%|██████████| 76/76 [00:45<00:00,  1.69it/s]\n"
     ]
    },
    {
     "name": "stdout",
     "output_type": "stream",
     "text": [
      "{'session_id': '601887677', 'run_count': 52, 'best_val_acc': 0.49444445967674255, 'best_test_acc': 0.4055555760860443}\n"
     ]
    },
    {
     "name": "stderr",
     "output_type": "stream",
     "text": [
      "100%|██████████| 48/48 [00:21<00:00,  2.25it/s]\n"
     ]
    },
    {
     "name": "stdout",
     "output_type": "stream",
     "text": [
      "{'session_id': '601910964', 'run_count': 25, 'best_val_acc': 0.24444444477558136, 'best_test_acc': 0.06648199260234833}\n"
     ]
    },
    {
     "name": "stderr",
     "output_type": "stream",
     "text": [
      "100%|██████████| 100/100 [00:57<00:00,  1.74it/s]\n"
     ]
    },
    {
     "name": "stdout",
     "output_type": "stream",
     "text": [
      "{'session_id': '588191926', 'run_count': 100, 'best_val_acc': 0.3055555522441864, 'best_test_acc': 0.2222222238779068}\n"
     ]
    },
    {
     "name": "stderr",
     "output_type": "stream",
     "text": [
      "100%|██████████| 100/100 [00:57<00:00,  1.75it/s]\n"
     ]
    },
    {
     "name": "stdout",
     "output_type": "stream",
     "text": [
      "{'session_id': '582918858', 'run_count': 100, 'best_val_acc': 0.5888888835906982, 'best_test_acc': 0.45000001788139343}\n"
     ]
    },
    {
     "name": "stderr",
     "output_type": "stream",
     "text": [
      "100%|██████████| 100/100 [00:56<00:00,  1.76it/s]\n"
     ]
    },
    {
     "name": "stdout",
     "output_type": "stream",
     "text": [
      "{'session_id': '569396924', 'run_count': 100, 'best_val_acc': 0.7458564043045044, 'best_test_acc': 0.6925207376480103}\n"
     ]
    },
    {
     "name": "stderr",
     "output_type": "stream",
     "text": [
      "100%|██████████| 100/100 [00:57<00:00,  1.73it/s]\n"
     ]
    },
    {
     "name": "stdout",
     "output_type": "stream",
     "text": [
      "{'session_id': '612549085', 'run_count': 100, 'best_val_acc': 0.22777777910232544, 'best_test_acc': 0.12222222238779068}\n"
     ]
    },
    {
     "name": "stderr",
     "output_type": "stream",
     "text": [
      "100%|██████████| 100/100 [00:57<00:00,  1.74it/s]\n"
     ]
    },
    {
     "name": "stdout",
     "output_type": "stream",
     "text": [
      "{'session_id': '616779893', 'run_count': 100, 'best_val_acc': 0.3444444537162781, 'best_test_acc': 0.24930746853351593}\n"
     ]
    },
    {
     "name": "stderr",
     "output_type": "stream",
     "text": [
      "100%|██████████| 100/100 [00:58<00:00,  1.70it/s]\n"
     ]
    },
    {
     "name": "stdout",
     "output_type": "stream",
     "text": [
      "{'session_id': '503412730', 'run_count': 100, 'best_val_acc': 0.7444444894790649, 'best_test_acc': 0.5927977561950684}\n"
     ]
    },
    {
     "name": "stderr",
     "output_type": "stream",
     "text": [
      "100%|██████████| 100/100 [00:58<00:00,  1.72it/s]\n"
     ]
    },
    {
     "name": "stdout",
     "output_type": "stream",
     "text": [
      "{'session_id': '674275260', 'run_count': 75, 'best_val_acc': 0.5944444537162781, 'best_test_acc': 0.4861111342906952}\n"
     ]
    },
    {
     "name": "stderr",
     "output_type": "stream",
     "text": [
      "100%|██████████| 100/100 [00:55<00:00,  1.80it/s]\n"
     ]
    },
    {
     "name": "stdout",
     "output_type": "stream",
     "text": [
      "{'session_id': '557848210', 'run_count': 100, 'best_val_acc': 0.6888889074325562, 'best_test_acc': 0.5916666984558105}\n"
     ]
    },
    {
     "name": "stderr",
     "output_type": "stream",
     "text": [
      "100%|██████████| 100/100 [01:07<00:00,  1.48it/s]\n"
     ]
    },
    {
     "name": "stdout",
     "output_type": "stream",
     "text": [
      "{'session_id': '611658482', 'run_count': 100, 'best_val_acc': 0.723809540271759, 'best_test_acc': 0.5879518389701843}\n"
     ]
    },
    {
     "name": "stderr",
     "output_type": "stream",
     "text": [
      "100%|██████████| 46/46 [00:15<00:00,  3.06it/s]\n"
     ]
    },
    {
     "name": "stdout",
     "output_type": "stream",
     "text": [
      "{'session_id': '689388034', 'run_count': 21, 'best_val_acc': 0.6888889074325562, 'best_test_acc': 0.6555555462837219}\n"
     ]
    },
    {
     "name": "stderr",
     "output_type": "stream",
     "text": [
      "100%|██████████| 100/100 [00:56<00:00,  1.79it/s]\n"
     ]
    },
    {
     "name": "stdout",
     "output_type": "stream",
     "text": [
      "{'session_id': '511440894', 'run_count': 100, 'best_val_acc': 0.3777777850627899, 'best_test_acc': 0.32777777314186096}\n"
     ]
    },
    {
     "name": "stderr",
     "output_type": "stream",
     "text": [
      "100%|██████████| 50/50 [00:27<00:00,  1.82it/s]\n"
     ]
    },
    {
     "name": "stdout",
     "output_type": "stream",
     "text": [
      "{'session_id': '653125130', 'run_count': 25, 'best_val_acc': 0.7833333611488342, 'best_test_acc': 0.6361111402511597}\n"
     ]
    },
    {
     "name": "stderr",
     "output_type": "stream",
     "text": [
      "100%|██████████| 100/100 [01:30<00:00,  1.11it/s]\n"
     ]
    },
    {
     "name": "stdout",
     "output_type": "stream",
     "text": [
      "{'session_id': '674276329', 'run_count': 100, 'best_val_acc': 0.23076924681663513, 'best_test_acc': 0.14320388436317444}\n"
     ]
    },
    {
     "name": "stderr",
     "output_type": "stream",
     "text": [
      "100%|██████████| 38/38 [00:19<00:00,  1.97it/s]\n"
     ]
    },
    {
     "name": "stdout",
     "output_type": "stream",
     "text": [
      "{'session_id': '652842572', 'run_count': 13, 'best_val_acc': 0.7555555701255798, 'best_test_acc': 0.6611111164093018}\n"
     ]
    },
    {
     "name": "stderr",
     "output_type": "stream",
     "text": [
      "100%|██████████| 100/100 [00:58<00:00,  1.71it/s]\n"
     ]
    },
    {
     "name": "stdout",
     "output_type": "stream",
     "text": [
      "{'session_id': '716956096', 'run_count': 100, 'best_val_acc': 0.3222222328186035, 'best_test_acc': 0.20277778804302216}\n"
     ]
    },
    {
     "name": "stderr",
     "output_type": "stream",
     "text": [
      "100%|██████████| 100/100 [00:55<00:00,  1.79it/s]\n"
     ]
    },
    {
     "name": "stdout",
     "output_type": "stream",
     "text": [
      "{'session_id': '539497234', 'run_count': 100, 'best_val_acc': 0.5722222328186035, 'best_test_acc': 0.4736841917037964}\n"
     ]
    },
    {
     "name": "stderr",
     "output_type": "stream",
     "text": [
      "100%|██████████| 31/31 [00:16<00:00,  1.92it/s]\n"
     ]
    },
    {
     "name": "stdout",
     "output_type": "stream",
     "text": [
      "{'session_id': '558670888', 'run_count': 6, 'best_val_acc': 0.7157360315322876, 'best_test_acc': 0.7408313155174255}\n"
     ]
    },
    {
     "name": "stderr",
     "output_type": "stream",
     "text": [
      "100%|██████████| 100/100 [01:03<00:00,  1.58it/s]\n"
     ]
    },
    {
     "name": "stdout",
     "output_type": "stream",
     "text": [
      "{'session_id': '657391625', 'run_count': 100, 'best_val_acc': 0.8388888835906982, 'best_test_acc': 0.8027778267860413}\n"
     ]
    },
    {
     "name": "stderr",
     "output_type": "stream",
     "text": [
      "100%|██████████| 100/100 [00:56<00:00,  1.78it/s]\n"
     ]
    },
    {
     "name": "stdout",
     "output_type": "stream",
     "text": [
      "{'session_id': '595718342', 'run_count': 100, 'best_val_acc': 0.2777777910232544, 'best_test_acc': 0.14444445073604584}\n"
     ]
    },
    {
     "name": "stderr",
     "output_type": "stream",
     "text": [
      "100%|██████████| 100/100 [00:56<00:00,  1.76it/s]\n"
     ]
    },
    {
     "name": "stdout",
     "output_type": "stream",
     "text": [
      "{'session_id': '565698388', 'run_count': 100, 'best_val_acc': 0.2666666805744171, 'best_test_acc': 0.12222222238779068}\n"
     ]
    },
    {
     "name": "stderr",
     "output_type": "stream",
     "text": [
      "100%|██████████| 100/100 [00:57<00:00,  1.73it/s]\n"
     ]
    },
    {
     "name": "stdout",
     "output_type": "stream",
     "text": [
      "{'session_id': '501021421', 'run_count': 100, 'best_val_acc': 0.42777779698371887, 'best_test_acc': 0.39722222089767456}\n"
     ]
    },
    {
     "name": "stderr",
     "output_type": "stream",
     "text": [
      "100%|██████████| 100/100 [00:57<00:00,  1.74it/s]\n"
     ]
    },
    {
     "name": "stdout",
     "output_type": "stream",
     "text": [
      "{'session_id': '606802468', 'run_count': 100, 'best_val_acc': 0.21111111342906952, 'best_test_acc': 0.13333334028720856}\n"
     ]
    },
    {
     "name": "stderr",
     "output_type": "stream",
     "text": [
      "100%|██████████| 100/100 [00:55<00:00,  1.79it/s]\n"
     ]
    },
    {
     "name": "stdout",
     "output_type": "stream",
     "text": [
      "{'session_id': '569299884', 'run_count': 100, 'best_val_acc': 0.46666666865348816, 'best_test_acc': 0.4416666626930237}\n"
     ]
    },
    {
     "name": "stderr",
     "output_type": "stream",
     "text": [
      "100%|██████████| 72/72 [00:25<00:00,  2.81it/s]\n"
     ]
    },
    {
     "name": "stdout",
     "output_type": "stream",
     "text": [
      "{'session_id': '553568031', 'run_count': 34, 'best_val_acc': 0.5745856761932373, 'best_test_acc': 0.5041550993919373}\n"
     ]
    },
    {
     "name": "stderr",
     "output_type": "stream",
     "text": [
      "100%|██████████| 100/100 [00:59<00:00,  1.68it/s]\n"
     ]
    },
    {
     "name": "stdout",
     "output_type": "stream",
     "text": [
      "{'session_id': '583279803', 'run_count': 100, 'best_val_acc': 0.20555555820465088, 'best_test_acc': 0.16343489289283752}\n"
     ]
    },
    {
     "name": "stderr",
     "output_type": "stream",
     "text": [
      "100%|██████████| 100/100 [00:55<00:00,  1.81it/s]\n"
     ]
    },
    {
     "name": "stdout",
     "output_type": "stream",
     "text": [
      "{'session_id': '670395725', 'run_count': 100, 'best_val_acc': 0.7222222685813904, 'best_test_acc': 0.5994475483894348}\n"
     ]
    },
    {
     "name": "stderr",
     "output_type": "stream",
     "text": [
      "100%|██████████| 100/100 [01:09<00:00,  1.45it/s]\n"
     ]
    },
    {
     "name": "stdout",
     "output_type": "stream",
     "text": [
      "{'session_id': '663876406', 'run_count': 100, 'best_val_acc': 0.49514564871788025, 'best_test_acc': 0.35108959674835205}\n"
     ]
    },
    {
     "name": "stderr",
     "output_type": "stream",
     "text": [
      "100%|██████████| 70/70 [00:26<00:00,  2.60it/s]\n"
     ]
    },
    {
     "name": "stdout",
     "output_type": "stream",
     "text": [
      "{'session_id': '510517131', 'run_count': 39, 'best_val_acc': 0.6611111164093018, 'best_test_acc': 0.6277778148651123}\n"
     ]
    },
    {
     "name": "stderr",
     "output_type": "stream",
     "text": [
      "100%|██████████| 100/100 [00:56<00:00,  1.76it/s]\n"
     ]
    },
    {
     "name": "stdout",
     "output_type": "stream",
     "text": [
      "{'session_id': '580163817', 'run_count': 100, 'best_val_acc': 0.3777777850627899, 'best_test_acc': 0.24722222983837128}\n"
     ]
    },
    {
     "name": "stderr",
     "output_type": "stream",
     "text": [
      "100%|██████████| 100/100 [00:58<00:00,  1.72it/s]\n"
     ]
    },
    {
     "name": "stdout",
     "output_type": "stream",
     "text": [
      "{'session_id': '662348804', 'run_count': 100, 'best_val_acc': 0.7348066568374634, 'best_test_acc': 0.7292817831039429}\n"
     ]
    },
    {
     "name": "stderr",
     "output_type": "stream",
     "text": [
      "100%|██████████| 100/100 [00:57<00:00,  1.74it/s]\n"
     ]
    },
    {
     "name": "stdout",
     "output_type": "stream",
     "text": [
      "{'session_id': '571642389', 'run_count': 100, 'best_val_acc': 0.2541436553001404, 'best_test_acc': 0.13573406636714935}\n"
     ]
    },
    {
     "name": "stderr",
     "output_type": "stream",
     "text": [
      "100%|██████████| 100/100 [00:56<00:00,  1.77it/s]\n"
     ]
    },
    {
     "name": "stdout",
     "output_type": "stream",
     "text": [
      "{'session_id': '506823562', 'run_count': 100, 'best_val_acc': 0.6740331649780273, 'best_test_acc': 0.5611111521720886}\n"
     ]
    },
    {
     "name": "stderr",
     "output_type": "stream",
     "text": [
      "100%|██████████| 100/100 [00:56<00:00,  1.78it/s]\n"
     ]
    },
    {
     "name": "stdout",
     "output_type": "stream",
     "text": [
      "{'session_id': '552760671', 'run_count': 100, 'best_val_acc': 0.6166666746139526, 'best_test_acc': 0.4404431879520416}\n"
     ]
    },
    {
     "name": "stderr",
     "output_type": "stream",
     "text": [
      "100%|██████████| 100/100 [01:03<00:00,  1.58it/s]\n"
     ]
    },
    {
     "name": "stdout",
     "output_type": "stream",
     "text": [
      "{'session_id': '552427971', 'run_count': 100, 'best_val_acc': 0.8777778148651123, 'best_test_acc': 0.8333333730697632}\n"
     ]
    },
    {
     "name": "stderr",
     "output_type": "stream",
     "text": [
      "100%|██████████| 100/100 [00:59<00:00,  1.67it/s]\n"
     ]
    },
    {
     "name": "stdout",
     "output_type": "stream",
     "text": [
      "{'session_id': '657391625', 'run_count': 99, 'best_val_acc': 0.8388888835906982, 'best_test_acc': 0.8250000476837158}\n"
     ]
    },
    {
     "name": "stderr",
     "output_type": "stream",
     "text": [
      "100%|██████████| 25/25 [00:19<00:00,  1.28it/s]\n"
     ]
    },
    {
     "name": "stdout",
     "output_type": "stream",
     "text": [
      "{'session_id': None, 'run_count': 0, 'best_val_acc': 0, 'best_test_acc': 0}\n"
     ]
    },
    {
     "name": "stderr",
     "output_type": "stream",
     "text": [
      "100%|██████████| 100/100 [00:56<00:00,  1.76it/s]\n"
     ]
    },
    {
     "name": "stdout",
     "output_type": "stream",
     "text": [
      "{'session_id': '688678766', 'run_count': 100, 'best_val_acc': 0.9000000357627869, 'best_test_acc': 0.8250000476837158}\n"
     ]
    },
    {
     "name": "stderr",
     "output_type": "stream",
     "text": [
      "100%|██████████| 25/25 [00:15<00:00,  1.64it/s]\n"
     ]
    },
    {
     "name": "stdout",
     "output_type": "stream",
     "text": [
      "{'session_id': None, 'run_count': 0, 'best_val_acc': 0, 'best_test_acc': 0}\n"
     ]
    },
    {
     "name": "stderr",
     "output_type": "stream",
     "text": [
      "100%|██████████| 100/100 [01:00<00:00,  1.65it/s]\n"
     ]
    },
    {
     "name": "stdout",
     "output_type": "stream",
     "text": [
      "{'session_id': '710778377', 'run_count': 100, 'best_val_acc': 0.2888889014720917, 'best_test_acc': 0.18333333730697632}\n"
     ]
    },
    {
     "name": "stderr",
     "output_type": "stream",
     "text": [
      "100%|██████████| 25/25 [00:02<00:00, 11.78it/s]\n"
     ]
    },
    {
     "name": "stdout",
     "output_type": "stream",
     "text": [
      "{'session_id': None, 'run_count': 0, 'best_val_acc': 0, 'best_test_acc': 0}\n"
     ]
    },
    {
     "name": "stderr",
     "output_type": "stream",
     "text": [
      "100%|██████████| 100/100 [01:04<00:00,  1.55it/s]\n"
     ]
    },
    {
     "name": "stdout",
     "output_type": "stream",
     "text": [
      "{'session_id': '612044635', 'run_count': 100, 'best_val_acc': 0.4055555760860443, 'best_test_acc': 0.3166666626930237}\n"
     ]
    },
    {
     "name": "stderr",
     "output_type": "stream",
     "text": [
      "100%|██████████| 100/100 [01:00<00:00,  1.65it/s]\n"
     ]
    },
    {
     "name": "stdout",
     "output_type": "stream",
     "text": [
      "{'session_id': '661437140', 'run_count': 100, 'best_val_acc': 0.7222222685813904, 'best_test_acc': 0.6555555462837219}\n"
     ]
    },
    {
     "name": "stderr",
     "output_type": "stream",
     "text": [
      "0it [00:00, ?it/s]\n"
     ]
    },
    {
     "name": "stdout",
     "output_type": "stream",
     "text": [
      "{'session_id': None, 'run_count': 0, 'best_val_acc': 0, 'best_test_acc': 0}\n"
     ]
    },
    {
     "name": "stderr",
     "output_type": "stream",
     "text": [
      "100%|██████████| 100/100 [00:55<00:00,  1.79it/s]\n"
     ]
    },
    {
     "name": "stdout",
     "output_type": "stream",
     "text": [
      "{'session_id': '572722662', 'run_count': 100, 'best_val_acc': 0.5, 'best_test_acc': 0.3878116309642792}\n"
     ]
    },
    {
     "name": "stderr",
     "output_type": "stream",
     "text": [
      "100%|██████████| 100/100 [01:27<00:00,  1.14it/s]\n"
     ]
    },
    {
     "name": "stdout",
     "output_type": "stream",
     "text": [
      "{'session_id': '665307545', 'run_count': 100, 'best_val_acc': 0.625, 'best_test_acc': 0.49394676089286804}\n"
     ]
    },
    {
     "name": "stderr",
     "output_type": "stream",
     "text": [
      "100%|██████████| 100/100 [01:02<00:00,  1.59it/s]\n"
     ]
    },
    {
     "name": "stdout",
     "output_type": "stream",
     "text": [
      "{'session_id': '710504563', 'run_count': 100, 'best_val_acc': 0.20555555820465088, 'best_test_acc': 0.21388889849185944}\n"
     ]
    },
    {
     "name": "stderr",
     "output_type": "stream",
     "text": [
      "100%|██████████| 100/100 [00:58<00:00,  1.72it/s]\n"
     ]
    },
    {
     "name": "stdout",
     "output_type": "stream",
     "text": [
      "{'session_id': '502205092', 'run_count': 100, 'best_val_acc': 0.7967033386230469, 'best_test_acc': 0.7055555582046509}\n"
     ]
    },
    {
     "name": "stderr",
     "output_type": "stream",
     "text": [
      "100%|██████████| 100/100 [00:55<00:00,  1.79it/s]\n"
     ]
    },
    {
     "name": "stdout",
     "output_type": "stream",
     "text": [
      "{'session_id': '638262558', 'run_count': 100, 'best_val_acc': 0.21111111342906952, 'best_test_acc': 0.125}\n"
     ]
    },
    {
     "name": "stderr",
     "output_type": "stream",
     "text": [
      "100%|██████████| 100/100 [00:56<00:00,  1.76it/s]\n"
     ]
    },
    {
     "name": "stdout",
     "output_type": "stream",
     "text": [
      "{'session_id': '612543999', 'run_count': 100, 'best_val_acc': 0.21111111342906952, 'best_test_acc': 0.11944444477558136}\n"
     ]
    },
    {
     "name": "stderr",
     "output_type": "stream",
     "text": [
      "100%|██████████| 100/100 [00:57<00:00,  1.73it/s]\n"
     ]
    },
    {
     "name": "stdout",
     "output_type": "stream",
     "text": [
      "{'session_id': '591460070', 'run_count': 100, 'best_val_acc': 0.7111111283302307, 'best_test_acc': 0.703601062297821}\n"
     ]
    },
    {
     "name": "stderr",
     "output_type": "stream",
     "text": [
      "100%|██████████| 100/100 [00:56<00:00,  1.78it/s]\n"
     ]
    },
    {
     "name": "stdout",
     "output_type": "stream",
     "text": [
      "{'session_id': '540684467', 'run_count': 100, 'best_val_acc': 0.800000011920929, 'best_test_acc': 0.7388889193534851}\n"
     ]
    },
    {
     "name": "stderr",
     "output_type": "stream",
     "text": [
      "100%|██████████| 100/100 [00:56<00:00,  1.78it/s]\n"
     ]
    },
    {
     "name": "stdout",
     "output_type": "stream",
     "text": [
      "{'session_id': '604145810', 'run_count': 100, 'best_val_acc': 0.8444444537162781, 'best_test_acc': 0.6638889312744141}\n"
     ]
    },
    {
     "name": "stderr",
     "output_type": "stream",
     "text": [
      "100%|██████████| 100/100 [00:57<00:00,  1.73it/s]\n"
     ]
    },
    {
     "name": "stdout",
     "output_type": "stream",
     "text": [
      "{'session_id': '680156911', 'run_count': 100, 'best_val_acc': 0.8722222447395325, 'best_test_acc': 0.7722222208976746}\n"
     ]
    },
    {
     "name": "stderr",
     "output_type": "stream",
     "text": [
      "100%|██████████| 100/100 [00:58<00:00,  1.72it/s]\n"
     ]
    },
    {
     "name": "stdout",
     "output_type": "stream",
     "text": [
      "{'session_id': '627823636', 'run_count': 100, 'best_val_acc': 0.23888888955116272, 'best_test_acc': 0.13611111044883728}\n"
     ]
    },
    {
     "name": "stderr",
     "output_type": "stream",
     "text": [
      "100%|██████████| 100/100 [01:11<00:00,  1.40it/s]\n"
     ]
    },
    {
     "name": "stdout",
     "output_type": "stream",
     "text": [
      "{'session_id': '662358771', 'run_count': 100, 'best_val_acc': 0.504807710647583, 'best_test_acc': 0.39808154106140137}\n"
     ]
    },
    {
     "name": "stderr",
     "output_type": "stream",
     "text": [
      "100%|██████████| 100/100 [00:55<00:00,  1.79it/s]\n"
     ]
    },
    {
     "name": "stdout",
     "output_type": "stream",
     "text": [
      "{'session_id': '566307038', 'run_count': 100, 'best_val_acc': 0.5082873106002808, 'best_test_acc': 0.33240997791290283}\n"
     ]
    },
    {
     "name": "stderr",
     "output_type": "stream",
     "text": [
      "100%|██████████| 100/100 [00:55<00:00,  1.81it/s]\n"
     ]
    },
    {
     "name": "stdout",
     "output_type": "stream",
     "text": [
      "{'session_id': '598635821', 'run_count': 100, 'best_val_acc': 0.46666666865348816, 'best_test_acc': 0.4305555522441864}\n"
     ]
    },
    {
     "name": "stderr",
     "output_type": "stream",
     "text": [
      "100%|██████████| 100/100 [00:58<00:00,  1.72it/s]\n"
     ]
    },
    {
     "name": "stdout",
     "output_type": "stream",
     "text": [
      "{'session_id': '502666254', 'run_count': 100, 'best_val_acc': 0.6333333253860474, 'best_test_acc': 0.48753461241722107}\n"
     ]
    },
    {
     "name": "stderr",
     "output_type": "stream",
     "text": [
      "100%|██████████| 100/100 [00:56<00:00,  1.77it/s]\n"
     ]
    },
    {
     "name": "stdout",
     "output_type": "stream",
     "text": [
      "{'session_id': '657016267', 'run_count': 100, 'best_val_acc': 0.41111111640930176, 'best_test_acc': 0.30277779698371887}\n"
     ]
    },
    {
     "name": "stderr",
     "output_type": "stream",
     "text": [
      "100%|██████████| 100/100 [01:01<00:00,  1.62it/s]\n"
     ]
    },
    {
     "name": "stdout",
     "output_type": "stream",
     "text": [
      "{'session_id': '570305847', 'run_count': 100, 'best_val_acc': 0.5666666626930237, 'best_test_acc': 0.4055555760860443}\n"
     ]
    },
    {
     "name": "stderr",
     "output_type": "stream",
     "text": [
      "100%|██████████| 100/100 [01:01<00:00,  1.64it/s]\n"
     ]
    },
    {
     "name": "stdout",
     "output_type": "stream",
     "text": [
      "{'session_id': '539487468', 'run_count': 100, 'best_val_acc': 0.2944444417953491, 'best_test_acc': 0.23822714388370514}\n"
     ]
    },
    {
     "name": "stderr",
     "output_type": "stream",
     "text": [
      "100%|██████████| 100/100 [00:56<00:00,  1.77it/s]\n"
     ]
    },
    {
     "name": "stdout",
     "output_type": "stream",
     "text": [
      "{'session_id': '502199136', 'run_count': 100, 'best_val_acc': 0.7611111402511597, 'best_test_acc': 0.6648199558258057}\n"
     ]
    },
    {
     "name": "stderr",
     "output_type": "stream",
     "text": [
      "100%|██████████| 100/100 [01:27<00:00,  1.15it/s]\n"
     ]
    },
    {
     "name": "stdout",
     "output_type": "stream",
     "text": [
      "{'session_id': '623347352', 'run_count': 100, 'best_val_acc': 0.48076924681663513, 'best_test_acc': 0.3214285969734192}\n"
     ]
    },
    {
     "name": "stderr",
     "output_type": "stream",
     "text": [
      "100%|██████████| 100/100 [00:55<00:00,  1.81it/s]\n"
     ]
    },
    {
     "name": "stdout",
     "output_type": "stream",
     "text": [
      "{'session_id': '562052595', 'run_count': 100, 'best_val_acc': 0.6833333373069763, 'best_test_acc': 0.6194444298744202}\n"
     ]
    },
    {
     "name": "stderr",
     "output_type": "stream",
     "text": [
      "100%|██████████| 100/100 [00:57<00:00,  1.74it/s]\n"
     ]
    },
    {
     "name": "stdout",
     "output_type": "stream",
     "text": [
      "{'session_id': '652842495', 'run_count': 100, 'best_val_acc': 0.15555556118488312, 'best_test_acc': 0.08611111342906952}\n"
     ]
    },
    {
     "name": "stderr",
     "output_type": "stream",
     "text": [
      "100%|██████████| 100/100 [00:55<00:00,  1.81it/s]\n"
     ]
    },
    {
     "name": "stdout",
     "output_type": "stream",
     "text": [
      "{'session_id': '660510593', 'run_count': 100, 'best_val_acc': 0.35555556416511536, 'best_test_acc': 0.32777777314186096}\n"
     ]
    },
    {
     "name": "stderr",
     "output_type": "stream",
     "text": [
      "100%|██████████| 100/100 [01:28<00:00,  1.13it/s]\n"
     ]
    },
    {
     "name": "stdout",
     "output_type": "stream",
     "text": [
      "{'session_id': '560926639', 'run_count': 100, 'best_val_acc': 0.6095238327980042, 'best_test_acc': 0.4705882668495178}\n"
     ]
    },
    {
     "name": "stderr",
     "output_type": "stream",
     "text": [
      " 78%|███████▊  | 78/100 [01:20<00:17,  1.28it/s]\u001b[34m\u001b[1mwandb\u001b[0m: \u001b[33mWARNING\u001b[0m A graphql request initiated by the public wandb API timed out (timeout=19 sec). Create a new API with an integer timeout larger than 19, e.g., `api = wandb.Api(timeout=29)` to increase the graphql timeout.\n",
      "100%|██████████| 100/100 [02:05<00:00,  1.25s/it]\n"
     ]
    },
    {
     "name": "stdout",
     "output_type": "stream",
     "text": [
      "{'session_id': '657915168', 'run_count': 100, 'best_val_acc': 0.2428571581840515, 'best_test_acc': 0.16421569883823395}\n"
     ]
    },
    {
     "name": "stderr",
     "output_type": "stream",
     "text": [
      " 63%|██████▎   | 63/100 [00:52<00:33,  1.10it/s]\u001b[34m\u001b[1mwandb\u001b[0m: \u001b[33mWARNING\u001b[0m A graphql request initiated by the public wandb API timed out (timeout=19 sec). Create a new API with an integer timeout larger than 19, e.g., `api = wandb.Api(timeout=29)` to increase the graphql timeout.\n",
      " 70%|███████   | 70/100 [01:18<00:48,  1.62s/it]\u001b[34m\u001b[1mwandb\u001b[0m: \u001b[33mWARNING\u001b[0m A graphql request initiated by the public wandb API timed out (timeout=19 sec). Create a new API with an integer timeout larger than 19, e.g., `api = wandb.Api(timeout=29)` to increase the graphql timeout.\n",
      "100%|██████████| 100/100 [02:03<00:00,  1.24s/it]\n"
     ]
    },
    {
     "name": "stdout",
     "output_type": "stream",
     "text": [
      "{'session_id': '605859367', 'run_count': 100, 'best_val_acc': 0.480392187833786, 'best_test_acc': 0.45121949911117554}\n"
     ]
    },
    {
     "name": "stderr",
     "output_type": "stream",
     "text": [
      "100%|██████████| 100/100 [01:00<00:00,  1.66it/s]\n"
     ]
    },
    {
     "name": "stdout",
     "output_type": "stream",
     "text": [
      "{'session_id': '581153070', 'run_count': 100, 'best_val_acc': 0.6388888955116272, 'best_test_acc': 0.6083333492279053}\n"
     ]
    },
    {
     "name": "stderr",
     "output_type": "stream",
     "text": [
      "100%|██████████| 100/100 [00:58<00:00,  1.70it/s]\n"
     ]
    },
    {
     "name": "stdout",
     "output_type": "stream",
     "text": [
      "{'session_id': '626027944', 'run_count': 100, 'best_val_acc': 0.24444444477558136, 'best_test_acc': 0.15555556118488312}\n"
     ]
    },
    {
     "name": "stderr",
     "output_type": "stream",
     "text": [
      "100%|██████████| 100/100 [00:58<00:00,  1.71it/s]\n"
     ]
    },
    {
     "name": "stdout",
     "output_type": "stream",
     "text": [
      "{'session_id': '605688822', 'run_count': 100, 'best_val_acc': 0.35555556416511536, 'best_test_acc': 0.28176796436309814}\n"
     ]
    },
    {
     "name": "stderr",
     "output_type": "stream",
     "text": [
      "100%|██████████| 100/100 [01:02<00:00,  1.60it/s]\n"
     ]
    },
    {
     "name": "stdout",
     "output_type": "stream",
     "text": [
      "{'session_id': '663479824', 'run_count': 100, 'best_val_acc': 0.21666666865348816, 'best_test_acc': 0.11388888955116272}\n"
     ]
    },
    {
     "name": "stderr",
     "output_type": "stream",
     "text": [
      "100%|██████████| 100/100 [00:56<00:00,  1.76it/s]\n"
     ]
    },
    {
     "name": "stdout",
     "output_type": "stream",
     "text": [
      "{'session_id': '605883133', 'run_count': 100, 'best_val_acc': 0.7277777791023254, 'best_test_acc': 0.6916666626930237}\n"
     ]
    },
    {
     "name": "stderr",
     "output_type": "stream",
     "text": [
      "100%|██████████| 100/100 [01:00<00:00,  1.65it/s]\n"
     ]
    },
    {
     "name": "stdout",
     "output_type": "stream",
     "text": [
      "{'session_id': '614571626', 'run_count': 100, 'best_val_acc': 0.21111111342906952, 'best_test_acc': 0.11388888955116272}\n"
     ]
    },
    {
     "name": "stderr",
     "output_type": "stream",
     "text": [
      "100%|██████████| 100/100 [01:03<00:00,  1.57it/s]\n"
     ]
    },
    {
     "name": "stdout",
     "output_type": "stream",
     "text": [
      "{'session_id': '560578599', 'run_count': 100, 'best_val_acc': 0.31111112236976624, 'best_test_acc': 0.21944445371627808}\n"
     ]
    },
    {
     "name": "stderr",
     "output_type": "stream",
     "text": [
      "100%|██████████| 100/100 [01:05<00:00,  1.52it/s]\n"
     ]
    },
    {
     "name": "stdout",
     "output_type": "stream",
     "text": [
      "{'session_id': '704298735', 'run_count': 100, 'best_val_acc': 0.7222222685813904, 'best_test_acc': 0.6166666746139526}\n"
     ]
    },
    {
     "name": "stderr",
     "output_type": "stream",
     "text": [
      "100%|██████████| 100/100 [00:58<00:00,  1.70it/s]\n"
     ]
    },
    {
     "name": "stdout",
     "output_type": "stream",
     "text": [
      "{'session_id': '569718097', 'run_count': 100, 'best_val_acc': 0.40883979201316833, 'best_test_acc': 0.2638888955116272}\n"
     ]
    },
    {
     "name": "stderr",
     "output_type": "stream",
     "text": [
      "100%|██████████| 100/100 [00:56<00:00,  1.76it/s]\n"
     ]
    },
    {
     "name": "stdout",
     "output_type": "stream",
     "text": [
      "{'session_id': '556665481', 'run_count': 100, 'best_val_acc': 0.23888888955116272, 'best_test_acc': 0.125}\n"
     ]
    },
    {
     "name": "stderr",
     "output_type": "stream",
     "text": [
      "100%|██████████| 100/100 [00:59<00:00,  1.68it/s]\n"
     ]
    },
    {
     "name": "stdout",
     "output_type": "stream",
     "text": [
      "{'session_id': '510917254', 'run_count': 100, 'best_val_acc': 0.4833333492279053, 'best_test_acc': 0.2548476457595825}\n"
     ]
    },
    {
     "name": "stderr",
     "output_type": "stream",
     "text": [
      "100%|██████████| 100/100 [01:00<00:00,  1.66it/s]\n"
     ]
    },
    {
     "name": "stdout",
     "output_type": "stream",
     "text": [
      "{'session_id': '527048992', 'run_count': 100, 'best_val_acc': 0.894444465637207, 'best_test_acc': 0.867035984992981}\n"
     ]
    },
    {
     "name": "stderr",
     "output_type": "stream",
     "text": [
      "100%|██████████| 100/100 [01:01<00:00,  1.64it/s]\n"
     ]
    },
    {
     "name": "stdout",
     "output_type": "stream",
     "text": [
      "{'session_id': '644947716', 'run_count': 100, 'best_val_acc': 0.43888890743255615, 'best_test_acc': 0.2750000059604645}\n"
     ]
    },
    {
     "name": "stderr",
     "output_type": "stream",
     "text": [
      "100%|██████████| 100/100 [00:57<00:00,  1.73it/s]\n"
     ]
    },
    {
     "name": "stdout",
     "output_type": "stream",
     "text": [
      "{'session_id': '597028938', 'run_count': 100, 'best_val_acc': 0.43888890743255615, 'best_test_acc': 0.32777777314186096}\n"
     ]
    },
    {
     "name": "stderr",
     "output_type": "stream",
     "text": [
      "100%|██████████| 100/100 [01:30<00:00,  1.11it/s]\n"
     ]
    },
    {
     "name": "stdout",
     "output_type": "stream",
     "text": [
      "{'session_id': '647603932', 'run_count': 100, 'best_val_acc': 0.480392187833786, 'best_test_acc': 0.3762376308441162}\n"
     ]
    },
    {
     "name": "stderr",
     "output_type": "stream",
     "text": [
      "100%|██████████| 100/100 [01:17<00:00,  1.29it/s]\n"
     ]
    },
    {
     "name": "stdout",
     "output_type": "stream",
     "text": [
      "{'session_id': '662033243', 'run_count': 100, 'best_val_acc': 0.45098039507865906, 'best_test_acc': 0.4019370675086975}\n"
     ]
    },
    {
     "name": "stderr",
     "output_type": "stream",
     "text": [
      "100%|██████████| 100/100 [01:01<00:00,  1.61it/s]\n"
     ]
    },
    {
     "name": "stdout",
     "output_type": "stream",
     "text": [
      "{'session_id': '686441799', 'run_count': 100, 'best_val_acc': 0.42222222685813904, 'best_test_acc': 0.2603878080844879}\n"
     ]
    },
    {
     "name": "stderr",
     "output_type": "stream",
     "text": [
      "100%|██████████| 100/100 [01:00<00:00,  1.66it/s]\n"
     ]
    },
    {
     "name": "stdout",
     "output_type": "stream",
     "text": [
      "{'session_id': '502608215', 'run_count': 100, 'best_val_acc': 0.9888889193534851, 'best_test_acc': 0.9333333373069763}\n"
     ]
    },
    {
     "name": "stderr",
     "output_type": "stream",
     "text": [
      "100%|██████████| 100/100 [00:58<00:00,  1.70it/s]\n"
     ]
    },
    {
     "name": "stdout",
     "output_type": "stream",
     "text": [
      "{'session_id': '505407318', 'run_count': 100, 'best_val_acc': 0.8055555820465088, 'best_test_acc': 0.7611111402511597}\n"
     ]
    },
    {
     "name": "stderr",
     "output_type": "stream",
     "text": [
      "100%|██████████| 100/100 [01:00<00:00,  1.65it/s]\n"
     ]
    },
    {
     "name": "stdout",
     "output_type": "stream",
     "text": [
      "{'session_id': '657785850', 'run_count': 100, 'best_val_acc': 0.3611111342906952, 'best_test_acc': 0.2944444417953491}\n"
     ]
    },
    {
     "name": "stderr",
     "output_type": "stream",
     "text": [
      "100%|██████████| 100/100 [01:00<00:00,  1.64it/s]\n"
     ]
    },
    {
     "name": "stdout",
     "output_type": "stream",
     "text": [
      "{'session_id': '639117196', 'run_count': 100, 'best_val_acc': 0.39444446563720703, 'best_test_acc': 0.31111112236976624}\n"
     ]
    },
    {
     "name": "stderr",
     "output_type": "stream",
     "text": [
      "100%|██████████| 100/100 [00:58<00:00,  1.71it/s]\n"
     ]
    },
    {
     "name": "stdout",
     "output_type": "stream",
     "text": [
      "{'session_id': '607063420', 'run_count': 100, 'best_val_acc': 0.6277778148651123, 'best_test_acc': 0.625}\n"
     ]
    },
    {
     "name": "stderr",
     "output_type": "stream",
     "text": [
      "100%|██████████| 100/100 [00:56<00:00,  1.77it/s]\n"
     ]
    },
    {
     "name": "stdout",
     "output_type": "stream",
     "text": [
      "{'session_id': '556344224', 'run_count': 100, 'best_val_acc': 0.2888889014720917, 'best_test_acc': 0.15000000596046448}\n"
     ]
    },
    {
     "name": "stderr",
     "output_type": "stream",
     "text": [
      "100%|██████████| 100/100 [01:19<00:00,  1.26it/s]\n"
     ]
    },
    {
     "name": "stdout",
     "output_type": "stream",
     "text": [
      "{'session_id': '692345003', 'run_count': 100, 'best_val_acc': 0.26442307233810425, 'best_test_acc': 0.16788321733474731}\n"
     ]
    },
    {
     "name": "stderr",
     "output_type": "stream",
     "text": [
      "100%|██████████| 100/100 [01:00<00:00,  1.65it/s]\n"
     ]
    },
    {
     "name": "stdout",
     "output_type": "stream",
     "text": [
      "{'session_id': '715923832', 'run_count': 100, 'best_val_acc': 0.24309393763542175, 'best_test_acc': 0.09444444626569748}\n"
     ]
    },
    {
     "name": "stderr",
     "output_type": "stream",
     "text": [
      "100%|██████████| 100/100 [00:55<00:00,  1.79it/s]\n"
     ]
    },
    {
     "name": "stdout",
     "output_type": "stream",
     "text": [
      "{'session_id': '601273921', 'run_count': 100, 'best_val_acc': 0.3444444537162781, 'best_test_acc': 0.257617712020874}\n"
     ]
    },
    {
     "name": "stderr",
     "output_type": "stream",
     "text": [
      "100%|██████████| 100/100 [00:56<00:00,  1.77it/s]\n"
     ]
    },
    {
     "name": "stdout",
     "output_type": "stream",
     "text": [
      "{'session_id': '575135986', 'run_count': 100, 'best_val_acc': 0.5833333730697632, 'best_test_acc': 0.46666666865348816}\n"
     ]
    },
    {
     "name": "stderr",
     "output_type": "stream",
     "text": [
      "100%|██████████| 100/100 [00:59<00:00,  1.68it/s]\n"
     ]
    },
    {
     "name": "stdout",
     "output_type": "stream",
     "text": [
      "{'session_id': '645413759', 'run_count': 100, 'best_val_acc': 0.961326003074646, 'best_test_acc': 0.9611111283302307}\n"
     ]
    },
    {
     "name": "stderr",
     "output_type": "stream",
     "text": [
      "100%|██████████| 100/100 [00:57<00:00,  1.72it/s]\n"
     ]
    },
    {
     "name": "stdout",
     "output_type": "stream",
     "text": [
      "{'session_id': '657082055', 'run_count': 100, 'best_val_acc': 0.5944444537162781, 'best_test_acc': 0.46388891339302063}\n"
     ]
    },
    {
     "name": "stderr",
     "output_type": "stream",
     "text": [
      "100%|██████████| 100/100 [01:14<00:00,  1.34it/s]\n"
     ]
    },
    {
     "name": "stdout",
     "output_type": "stream",
     "text": [
      "{'session_id': '638056634', 'run_count': 100, 'best_val_acc': 0.5841584205627441, 'best_test_acc': 0.4452381134033203}\n"
     ]
    },
    {
     "name": "stderr",
     "output_type": "stream",
     "text": [
      "100%|██████████| 100/100 [01:03<00:00,  1.58it/s]\n"
     ]
    },
    {
     "name": "stdout",
     "output_type": "stream",
     "text": [
      "{'session_id': '603452291', 'run_count': 100, 'best_val_acc': 0.30000001192092896, 'best_test_acc': 0.15833333134651184}\n"
     ]
    },
    {
     "name": "stderr",
     "output_type": "stream",
     "text": [
      "100%|██████████| 100/100 [01:01<00:00,  1.63it/s]\n"
     ]
    },
    {
     "name": "stdout",
     "output_type": "stream",
     "text": [
      "{'session_id': '652842495', 'run_count': 100, 'best_val_acc': 0.16111111640930176, 'best_test_acc': 0.11944444477558136}\n"
     ]
    },
    {
     "name": "stderr",
     "output_type": "stream",
     "text": [
      "100%|██████████| 100/100 [00:58<00:00,  1.71it/s]\n"
     ]
    },
    {
     "name": "stdout",
     "output_type": "stream",
     "text": [
      "{'session_id': '652091264', 'run_count': 100, 'best_val_acc': 0.25, 'best_test_acc': 0.13333334028720856}\n"
     ]
    },
    {
     "name": "stderr",
     "output_type": "stream",
     "text": [
      "100%|██████████| 100/100 [01:01<00:00,  1.64it/s]\n"
     ]
    },
    {
     "name": "stdout",
     "output_type": "stream",
     "text": [
      "{'session_id': '639117826', 'run_count': 100, 'best_val_acc': 0.5666666626930237, 'best_test_acc': 0.42222222685813904}\n"
     ]
    },
    {
     "name": "stderr",
     "output_type": "stream",
     "text": [
      "100%|██████████| 100/100 [00:57<00:00,  1.73it/s]\n"
     ]
    },
    {
     "name": "stdout",
     "output_type": "stream",
     "text": [
      "{'session_id': '613968705', 'run_count': 100, 'best_val_acc': 0.42777779698371887, 'best_test_acc': 0.2888889014720917}\n"
     ]
    },
    {
     "name": "stderr",
     "output_type": "stream",
     "text": [
      "100%|██████████| 100/100 [00:56<00:00,  1.77it/s]\n"
     ]
    },
    {
     "name": "stdout",
     "output_type": "stream",
     "text": [
      "{'session_id': '688580172', 'run_count': 100, 'best_val_acc': 0.4833333492279053, 'best_test_acc': 0.347222238779068}\n"
     ]
    },
    {
     "name": "stderr",
     "output_type": "stream",
     "text": [
      "100%|██████████| 100/100 [00:57<00:00,  1.75it/s]\n"
     ]
    },
    {
     "name": "stdout",
     "output_type": "stream",
     "text": [
      "{'session_id': '652737678', 'run_count': 100, 'best_val_acc': 0.5, 'best_test_acc': 0.4194444417953491}\n"
     ]
    },
    {
     "name": "stderr",
     "output_type": "stream",
     "text": [
      "100%|██████████| 100/100 [01:22<00:00,  1.21it/s]\n"
     ]
    },
    {
     "name": "stdout",
     "output_type": "stream",
     "text": [
      "{'session_id': '647155122', 'run_count': 100, 'best_val_acc': 0.8578431606292725, 'best_test_acc': 0.8102189898490906}\n"
     ]
    },
    {
     "name": "stderr",
     "output_type": "stream",
     "text": [
      "100%|██████████| 100/100 [00:55<00:00,  1.79it/s]\n"
     ]
    },
    {
     "name": "stdout",
     "output_type": "stream",
     "text": [
      "{'session_id': '651770186', 'run_count': 100, 'best_val_acc': 0.7055555582046509, 'best_test_acc': 0.5527777671813965}\n"
     ]
    },
    {
     "name": "stderr",
     "output_type": "stream",
     "text": [
      "100%|██████████| 100/100 [01:00<00:00,  1.66it/s]\n"
     ]
    },
    {
     "name": "stdout",
     "output_type": "stream",
     "text": [
      "{'session_id': '660510593', 'run_count': 100, 'best_val_acc': 0.35555556416511536, 'best_test_acc': 0.2916666865348816}\n"
     ]
    },
    {
     "name": "stderr",
     "output_type": "stream",
     "text": [
      "100%|██████████| 100/100 [00:57<00:00,  1.73it/s]\n"
     ]
    },
    {
     "name": "stdout",
     "output_type": "stream",
     "text": [
      "{'session_id': '662359728', 'run_count': 100, 'best_val_acc': 0.42222222685813904, 'best_test_acc': 0.2603878080844879}\n"
     ]
    },
    {
     "name": "stderr",
     "output_type": "stream",
     "text": [
      "100%|██████████| 100/100 [00:55<00:00,  1.81it/s]\n"
     ]
    },
    {
     "name": "stdout",
     "output_type": "stream",
     "text": [
      "{'session_id': '644026238', 'run_count': 100, 'best_val_acc': 0.7055555582046509, 'best_test_acc': 0.6138889193534851}\n"
     ]
    },
    {
     "name": "stderr",
     "output_type": "stream",
     "text": [
      "100%|██████████| 100/100 [01:02<00:00,  1.60it/s]\n"
     ]
    },
    {
     "name": "stdout",
     "output_type": "stream",
     "text": [
      "{'session_id': '501940850', 'run_count': 100, 'best_val_acc': 0.8121547102928162, 'best_test_acc': 0.675000011920929}\n"
     ]
    },
    {
     "name": "stderr",
     "output_type": "stream",
     "text": [
      "100%|██████████| 100/100 [00:56<00:00,  1.77it/s]\n"
     ]
    },
    {
     "name": "stdout",
     "output_type": "stream",
     "text": [
      "{'session_id': '546641574', 'run_count': 100, 'best_val_acc': 0.6333333253860474, 'best_test_acc': 0.5583333373069763}\n"
     ]
    },
    {
     "name": "stderr",
     "output_type": "stream",
     "text": [
      "100%|██████████| 100/100 [01:02<00:00,  1.61it/s]\n"
     ]
    },
    {
     "name": "stdout",
     "output_type": "stream",
     "text": [
      "{'session_id': '645086975', 'run_count': 100, 'best_val_acc': 0.5, 'best_test_acc': 0.41111111640930176}\n"
     ]
    },
    {
     "name": "stderr",
     "output_type": "stream",
     "text": [
      "100%|██████████| 100/100 [00:58<00:00,  1.70it/s]\n"
     ]
    },
    {
     "name": "stdout",
     "output_type": "stream",
     "text": [
      "{'session_id': '603763073', 'run_count': 100, 'best_val_acc': 0.32777777314186096, 'best_test_acc': 0.22714680433273315}\n"
     ]
    },
    {
     "name": "stderr",
     "output_type": "stream",
     "text": [
      "100%|██████████| 100/100 [00:59<00:00,  1.68it/s]\n"
     ]
    },
    {
     "name": "stdout",
     "output_type": "stream",
     "text": [
      "{'session_id': '657078119', 'run_count': 100, 'best_val_acc': 0.2222222238779068, 'best_test_acc': 0.13019390404224396}\n"
     ]
    },
    {
     "name": "stderr",
     "output_type": "stream",
     "text": [
      "100%|██████████| 100/100 [00:58<00:00,  1.72it/s]\n"
     ]
    },
    {
     "name": "stdout",
     "output_type": "stream",
     "text": [
      "{'session_id': '581150104', 'run_count': 100, 'best_val_acc': 0.46666666865348816, 'best_test_acc': 0.3861111104488373}\n"
     ]
    },
    {
     "name": "stderr",
     "output_type": "stream",
     "text": [
      "100%|██████████| 100/100 [00:58<00:00,  1.72it/s]\n"
     ]
    },
    {
     "name": "stdout",
     "output_type": "stream",
     "text": [
      "{'session_id': '545446482', 'run_count': 100, 'best_val_acc': 0.5555555820465088, 'best_test_acc': 0.5069251656532288}\n"
     ]
    },
    {
     "name": "stderr",
     "output_type": "stream",
     "text": [
      "100%|██████████| 100/100 [00:57<00:00,  1.75it/s]\n"
     ]
    },
    {
     "name": "stdout",
     "output_type": "stream",
     "text": [
      "{'session_id': '601705404', 'run_count': 100, 'best_val_acc': 0.28333333134651184, 'best_test_acc': 0.13333334028720856}\n"
     ]
    },
    {
     "name": "stderr",
     "output_type": "stream",
     "text": [
      "100%|██████████| 100/100 [01:00<00:00,  1.65it/s]\n"
     ]
    },
    {
     "name": "stdout",
     "output_type": "stream",
     "text": [
      "{'session_id': '698762886', 'run_count': 100, 'best_val_acc': 0.8166666626930237, 'best_test_acc': 0.675000011920929}\n"
     ]
    },
    {
     "name": "stderr",
     "output_type": "stream",
     "text": [
      "100%|██████████| 100/100 [00:56<00:00,  1.78it/s]\n"
     ]
    },
    {
     "name": "stdout",
     "output_type": "stream",
     "text": [
      "{'session_id': '662361096', 'run_count': 100, 'best_val_acc': 0.2209944874048233, 'best_test_acc': 0.13333334028720856}\n"
     ]
    },
    {
     "name": "stderr",
     "output_type": "stream",
     "text": [
      "100%|██████████| 100/100 [00:57<00:00,  1.75it/s]\n"
     ]
    },
    {
     "name": "stdout",
     "output_type": "stream",
     "text": [
      "{'session_id': '581597734', 'run_count': 100, 'best_val_acc': 0.5888888835906982, 'best_test_acc': 0.47777777910232544}\n"
     ]
    },
    {
     "name": "stderr",
     "output_type": "stream",
     "text": [
      "100%|██████████| 100/100 [00:55<00:00,  1.80it/s]\n"
     ]
    },
    {
     "name": "stdout",
     "output_type": "stream",
     "text": [
      "{'session_id': '504853580', 'run_count': 100, 'best_val_acc': 0.5222222208976746, 'best_test_acc': 0.5055555701255798}\n"
     ]
    },
    {
     "name": "stderr",
     "output_type": "stream",
     "text": [
      "100%|██████████| 100/100 [00:58<00:00,  1.71it/s]\n"
     ]
    },
    {
     "name": "stdout",
     "output_type": "stream",
     "text": [
      "{'session_id': '502793808', 'run_count': 100, 'best_val_acc': 0.8111111521720886, 'best_test_acc': 0.7867035865783691}\n"
     ]
    },
    {
     "name": "stderr",
     "output_type": "stream",
     "text": [
      "100%|██████████| 100/100 [00:59<00:00,  1.69it/s]\n"
     ]
    },
    {
     "name": "stdout",
     "output_type": "stream",
     "text": [
      "{'session_id': '614556106', 'run_count': 100, 'best_val_acc': 0.27222222089767456, 'best_test_acc': 0.236111119389534}\n"
     ]
    },
    {
     "name": "stderr",
     "output_type": "stream",
     "text": [
      "100%|██████████| 100/100 [00:56<00:00,  1.78it/s]\n"
     ]
    },
    {
     "name": "stdout",
     "output_type": "stream",
     "text": [
      "{'session_id': '638862121', 'run_count': 100, 'best_val_acc': 0.3444444537162781, 'best_test_acc': 0.23888888955116272}\n"
     ]
    },
    {
     "name": "stderr",
     "output_type": "stream",
     "text": [
      "100%|██████████| 100/100 [01:05<00:00,  1.53it/s]\n"
     ]
    },
    {
     "name": "stdout",
     "output_type": "stream",
     "text": [
      "{'session_id': '595273803', 'run_count': 100, 'best_val_acc': 0.49065420031547546, 'best_test_acc': 0.3691931664943695}\n"
     ]
    },
    {
     "name": "stderr",
     "output_type": "stream",
     "text": [
      "100%|██████████| 100/100 [00:55<00:00,  1.81it/s]\n"
     ]
    },
    {
     "name": "stdout",
     "output_type": "stream",
     "text": [
      "{'session_id': '511194579', 'run_count': 100, 'best_val_acc': 0.5277777910232544, 'best_test_acc': 0.40833333134651184}\n"
     ]
    },
    {
     "name": "stderr",
     "output_type": "stream",
     "text": [
      "100%|██████████| 100/100 [00:58<00:00,  1.72it/s]\n"
     ]
    },
    {
     "name": "stdout",
     "output_type": "stream",
     "text": [
      "{'session_id': '594320795', 'run_count': 100, 'best_val_acc': 0.3499999940395355, 'best_test_acc': 0.28333333134651184}\n"
     ]
    },
    {
     "name": "stderr",
     "output_type": "stream",
     "text": [
      "100%|██████████| 100/100 [00:57<00:00,  1.73it/s]\n"
     ]
    },
    {
     "name": "stdout",
     "output_type": "stream",
     "text": [
      "{'session_id': '560809202', 'run_count': 100, 'best_val_acc': 0.2944444417953491, 'best_test_acc': 0.25690609216690063}\n"
     ]
    },
    {
     "name": "stderr",
     "output_type": "stream",
     "text": [
      "100%|██████████| 100/100 [00:58<00:00,  1.72it/s]\n"
     ]
    },
    {
     "name": "stdout",
     "output_type": "stream",
     "text": [
      "{'session_id': '645689073', 'run_count': 100, 'best_val_acc': 0.699999988079071, 'best_test_acc': 0.6149584054946899}\n"
     ]
    },
    {
     "name": "stderr",
     "output_type": "stream",
     "text": [
      "100%|██████████| 100/100 [01:21<00:00,  1.22it/s]\n"
     ]
    },
    {
     "name": "stdout",
     "output_type": "stream",
     "text": [
      "{'session_id': '613091721', 'run_count': 100, 'best_val_acc': 0.45410627126693726, 'best_test_acc': 0.32084307074546814}\n"
     ]
    },
    {
     "name": "stderr",
     "output_type": "stream",
     "text": [
      "100%|██████████| 100/100 [01:25<00:00,  1.17it/s]\n"
     ]
    },
    {
     "name": "stdout",
     "output_type": "stream",
     "text": [
      "{'session_id': '652094901', 'run_count': 100, 'best_val_acc': 0.6570048332214355, 'best_test_acc': 0.5439024567604065}\n"
     ]
    },
    {
     "name": "stderr",
     "output_type": "stream",
     "text": [
      "100%|██████████| 100/100 [00:56<00:00,  1.75it/s]\n"
     ]
    },
    {
     "name": "stdout",
     "output_type": "stream",
     "text": [
      "{'session_id': '657776356', 'run_count': 100, 'best_val_acc': 0.2777777910232544, 'best_test_acc': 0.12222222238779068}\n"
     ]
    },
    {
     "name": "stderr",
     "output_type": "stream",
     "text": [
      "100%|██████████| 100/100 [01:06<00:00,  1.51it/s]\n"
     ]
    },
    {
     "name": "stdout",
     "output_type": "stream",
     "text": [
      "{'session_id': '627823695', 'run_count': 100, 'best_val_acc': 0.6500000357627869, 'best_test_acc': 0.5555555820465088}\n"
     ]
    },
    {
     "name": "stderr",
     "output_type": "stream",
     "text": [
      "100%|██████████| 100/100 [01:01<00:00,  1.61it/s]\n"
     ]
    },
    {
     "name": "stdout",
     "output_type": "stream",
     "text": [
      "{'session_id': '662982346', 'run_count': 100, 'best_val_acc': 0.21111111342906952, 'best_test_acc': 0.11911357194185257}\n"
     ]
    },
    {
     "name": "stderr",
     "output_type": "stream",
     "text": [
      "100%|██████████| 100/100 [01:07<00:00,  1.49it/s]\n"
     ]
    },
    {
     "name": "stdout",
     "output_type": "stream",
     "text": [
      "{'session_id': '556353209', 'run_count': 100, 'best_val_acc': 0.24725274741649628, 'best_test_acc': 0.16111111640930176}\n"
     ]
    },
    {
     "name": "stderr",
     "output_type": "stream",
     "text": [
      "100%|██████████| 100/100 [01:08<00:00,  1.46it/s]\n"
     ]
    },
    {
     "name": "stdout",
     "output_type": "stream",
     "text": [
      "{'session_id': '604328043', 'run_count': 100, 'best_val_acc': 0.49444445967674255, 'best_test_acc': 0.39722222089767456}\n"
     ]
    },
    {
     "name": "stderr",
     "output_type": "stream",
     "text": [
      "100%|██████████| 100/100 [01:49<00:00,  1.10s/it]\n"
     ]
    },
    {
     "name": "stdout",
     "output_type": "stream",
     "text": [
      "{'session_id': '649409874', 'run_count': 100, 'best_val_acc': 0.22966507077217102, 'best_test_acc': 0.15458936989307404}\n"
     ]
    },
    {
     "name": "stderr",
     "output_type": "stream",
     "text": [
      "100%|██████████| 22/22 [00:20<00:00,  1.08it/s]\n"
     ]
    },
    {
     "name": "stdout",
     "output_type": "stream",
     "text": [
      "{'session_id': '584196534', 'run_count': 21, 'best_val_acc': 0.472222238779068, 'best_test_acc': 0.43611112236976624}\n"
     ]
    },
    {
     "name": "stderr",
     "output_type": "stream",
     "text": [
      "100%|██████████| 12/12 [00:10<00:00,  1.15it/s]\n"
     ]
    },
    {
     "name": "stdout",
     "output_type": "stream",
     "text": [
      "{'session_id': '584196534', 'run_count': 11, 'best_val_acc': 0.5222222208976746, 'best_test_acc': 0.5027778148651123}\n"
     ]
    },
    {
     "name": "stderr",
     "output_type": "stream",
     "text": [
      "100%|██████████| 113/113 [02:03<00:00,  1.10s/it]\n"
     ]
    },
    {
     "name": "stdout",
     "output_type": "stream",
     "text": [
      "{'session_id': '588655112', 'run_count': 112, 'best_val_acc': 0.24038462340831757, 'best_test_acc': 0.10602410137653351}\n"
     ]
    },
    {
     "name": "stderr",
     "output_type": "stream",
     "text": [
      "100%|██████████| 1/1 [00:00<00:00,  1.20it/s]\n"
     ]
    },
    {
     "name": "stdout",
     "output_type": "stream",
     "text": [
      "{'session_id': None, 'run_count': 0, 'best_val_acc': 0, 'best_test_acc': 0}\n"
     ]
    },
    {
     "name": "stderr",
     "output_type": "stream",
     "text": [
      "100%|██████████| 1/1 [00:00<00:00,  1.02it/s]\n"
     ]
    },
    {
     "name": "stdout",
     "output_type": "stream",
     "text": [
      "{'session_id': None, 'run_count': 0, 'best_val_acc': 0, 'best_test_acc': 0}\n"
     ]
    },
    {
     "name": "stderr",
     "output_type": "stream",
     "text": [
      "100%|██████████| 5/5 [00:02<00:00,  2.26it/s]\n"
     ]
    },
    {
     "name": "stdout",
     "output_type": "stream",
     "text": [
      "{'session_id': None, 'run_count': 0, 'best_val_acc': 0, 'best_test_acc': 0}\n"
     ]
    },
    {
     "name": "stderr",
     "output_type": "stream",
     "text": [
      "100%|██████████| 4/4 [00:04<00:00,  1.25s/it]\n"
     ]
    },
    {
     "name": "stdout",
     "output_type": "stream",
     "text": [
      "{'session_id': None, 'run_count': 0, 'best_val_acc': 0, 'best_test_acc': 0}\n"
     ]
    },
    {
     "name": "stderr",
     "output_type": "stream",
     "text": [
      "100%|██████████| 2/2 [00:00<00:00, 3135.93it/s]\n"
     ]
    },
    {
     "name": "stdout",
     "output_type": "stream",
     "text": [
      "{'session_id': None, 'run_count': 0, 'best_val_acc': 0, 'best_test_acc': 0}\n"
     ]
    },
    {
     "name": "stderr",
     "output_type": "stream",
     "text": [
      "100%|██████████| 2/2 [00:00<00:00, 36314.32it/s]\n"
     ]
    },
    {
     "name": "stdout",
     "output_type": "stream",
     "text": [
      "{'session_id': None, 'run_count': 0, 'best_val_acc': 0, 'best_test_acc': 0}\n"
     ]
    },
    {
     "name": "stderr",
     "output_type": "stream",
     "text": [
      "100%|██████████| 40/40 [00:45<00:00,  1.15s/it]"
     ]
    },
    {
     "name": "stdout",
     "output_type": "stream",
     "text": [
      "{'session_id': '698762886', 'run_count': 40, 'best_val_acc': 0.8055555820465088, 'best_test_acc': 0.6833333373069763}\n"
     ]
    },
    {
     "name": "stderr",
     "output_type": "stream",
     "text": [
      "\n"
     ]
    }
   ],
   "source": [
    "api = wandb.Api()\n",
    "\n",
    "project_name = \"project-kirby-examples_mlp_sweep\"\n",
    "project = api.project(project_name)\n",
    "sweeps = project.sweeps()\n",
    "print(f\"Found {len(sweeps)} sweeps.\")\n",
    "\n",
    "out = []\n",
    "for sweep in sweeps:\n",
    "    result = process_sweep(sweep)\n",
    "    print(result)\n",
    "    out.append(result)"
   ]
  },
  {
   "cell_type": "code",
   "execution_count": 183,
   "metadata": {},
   "outputs": [
    {
     "name": "stdout",
     "output_type": "stream",
     "text": [
      "Duplicate session id: 580095655, result, 175\n",
      "Duplicate session id: 650079244, result, 167\n",
      "Duplicate session id: 555749369, result, 121\n",
      "Duplicate session id: 712919665, result, 124\n",
      "Duplicate session id: 502115959, result, 166\n",
      "Duplicate session id: 528402271, result, 170\n",
      "Duplicate session id: 692345336, result, 151\n",
      "Duplicate session id: 529688779, result, 122\n",
      "Duplicate session id: 664404274, result, 132\n",
      "Duplicate session id: 577379202, result, 199\n",
      "Duplicate session id: 561312435, result, 170\n",
      "Duplicate session id: 603187982, result, 167\n",
      "Duplicate session id: 674275260, result, 124\n",
      "Duplicate session id: 606353987, result, 156\n",
      "Duplicate session id: 558670888, result, 142\n",
      "Duplicate session id: 601887677, result, 152\n",
      "Duplicate session id: 601910964, result, 125\n",
      "Duplicate session id: 674275260, result, 199\n",
      "Duplicate session id: 689388034, result, 121\n",
      "Duplicate session id: 653125130, result, 125\n",
      "Duplicate session id: 652842572, result, 113\n",
      "Duplicate session id: 558670888, result, 148\n",
      "Duplicate session id: 553568031, result, 134\n",
      "Duplicate session id: 657391625, result, 199\n",
      "Duplicate session id: 652842495, result, 200\n",
      "Duplicate session id: 660510593, result, 200\n",
      "Duplicate session id: 649409874, result, 117\n",
      "Duplicate session id: 584196534, result, 121\n",
      "Duplicate session id: 584196534, result, 132\n",
      "Duplicate session id: 588655112, result, 212\n",
      "Duplicate session id: 698762886, result, 140\n"
     ]
    }
   ],
   "source": [
    "result_table = {}\n",
    "\n",
    "for result in out:\n",
    "    session_id = result['session_id']\n",
    "    if session_id is None:\n",
    "        continue\n",
    "    if session_id in result_table:\n",
    "        print(f\"Duplicate session id: {session_id}, result, {result['run_count']}\")\n",
    "        # use count to break ties\n",
    "        result['run_count'] += result_table[session_id]['run_count']\n",
    "        if result['best_val_acc'] > result_table[session_id]['best_val_acc']:\n",
    "            result_table[session_id] = result\n",
    "\n",
    "    result_table[session_id] = result"
   ]
  },
  {
   "cell_type": "code",
   "execution_count": 202,
   "metadata": {},
   "outputs": [],
   "source": [
    "df = pd.DataFrame(result_table.values())\n",
    "df.session_id = df.session_id.astype(int)"
   ]
  },
  {
   "cell_type": "code",
   "execution_count": 118,
   "metadata": {},
   "outputs": [
    {
     "name": "stdout",
     "output_type": "stream",
     "text": [
      "{'val': 0.24444444477558136, 'test': 0.1111111119389534, 'session_id': '657775947', 'sweep': \"['657775947']\", 'lr': '2.28e-03', 'b': '128', 'lyr': '[32, 16]', 'unit_drop': '0.31234328794567745', 'wt_drop': '0.12954738404788496', 'epochs': 100, 'run count': 100}\n",
      "Data has been written to 'sweep_data.csv'\n"
     ]
    }
   ],
   "source": [
    "# make a csv from the dictionary\n",
    "import csv\n",
    "first = list(hp_dict.keys())\n",
    "print(hp_dict[first[1]])\n",
    "fieldnames = hp_dict[first[1]].keys()\n",
    "\n",
    "with open('sweep_data.csv', 'w', newline='') as csvfile:\n",
    "    writer = csv.DictWriter(csvfile, fieldnames=fieldnames)\n",
    "\n",
    "    # Write the header\n",
    "    writer.writeheader()\n",
    "    # Write the data rows\n",
    "    for key in hp_dict:\n",
    "        writer.writerow(hp_dict[key])\n",
    "\n",
    "print(\"Data has been written to 'sweep_data.csv'\")"
   ]
  },
  {
   "cell_type": "code",
   "execution_count": 321,
   "metadata": {},
   "outputs": [],
   "source": [
    "import pandas as pd\n",
    "# df = pd.read_csv('sweep_data.csv')\n",
    "\n",
    "df_capoyo = pd.read_csv('wandb_export_2024-05-09T13_22_15.265-04_00.csv')\n",
    "# df_capoyo = pd.read_csv('200epochfrozen+200unfrozen-finetune.csv')\n",
    "\n",
    "df_stats = pd.read_csv(\"CaPOYO-mastersheet (do not filter by creating a filter! do create a view instead) - Orientation.csv\")"
   ]
  },
  {
   "cell_type": "code",
   "execution_count": 298,
   "metadata": {},
   "outputs": [],
   "source": [
    "import json\n",
    "a = \"\"\"{\"columns\": [\"metric\", \"value\"], \"data\": [[\"val_allen_brain_observatory_calcium/546641574_drifting_gratings_accuracy\", 0.550000011920929], [\"val_allen_brain_observatory_calcium/646016204_drifting_gratings_accuracy\", 0.6083333492279053], [\"val_allen_brain_observatory_calcium/557227804_drifting_gratings_accuracy\", 0.2083333283662796], [\"val_allen_brain_observatory_calcium/540684467_drifting_gratings_accuracy\", 0.8666666746139526], [\"val_allen_brain_observatory_calcium/652737867_drifting_gratings_accuracy\", 0.6416666507720947], [\"val_allen_brain_observatory_calcium/591460070_drifting_gratings_accuracy\", 0.875], [\"val_allen_brain_observatory_calcium/639931541_drifting_gratings_accuracy\", 0.6333333253860474], [\"val_allen_brain_observatory_calcium/558476282_drifting_gratings_accuracy\", 0.20000000298023224], [\"val_allen_brain_observatory_calcium/657785850_drifting_gratings_accuracy\", 0.2750000059604645], [\"val_allen_brain_observatory_calcium/506773185_drifting_gratings_accuracy\", 0.5083333253860474], [\"val_allen_brain_observatory_calcium/574823092_drifting_gratings_accuracy\", 0.46666666865348816], [\"val_allen_brain_observatory_calcium/665722301_drifting_gratings_accuracy\", 0.15000000596046448], [\"val_allen_brain_observatory_calcium/673475020_drifting_gratings_accuracy\", 0.24166665971279144], [\"val_allen_brain_observatory_calcium/576273468_drifting_gratings_accuracy\", 0.17499999701976776], [\"val_allen_brain_observatory_calcium/652092676_drifting_gratings_accuracy\", 0.2083333283662796], [\"val_allen_brain_observatory_calcium/561312435_drifting_gratings_accuracy\", 0.949999988079071], [\"val_allen_brain_observatory_calcium/546716391_drifting_gratings_accuracy\", 0.6000000238418579], [\"val_allen_brain_observatory_calcium/662219852_drifting_gratings_accuracy\", 0.4583333432674408], [\"val_allen_brain_observatory_calcium/712178483_drifting_gratings_accuracy\", 0.17499999701976776], [\"val_allen_brain_observatory_calcium/604145810_drifting_gratings_accuracy\", 0.7333333492279053], [\"val_allen_brain_observatory_calcium/640198011_drifting_gratings_accuracy\", 0.2083333283662796], [\"val_allen_brain_observatory_calcium/512164988_drifting_gratings_accuracy\", 0.8500000238418579], [\"val_allen_brain_observatory_calcium/569645690_drifting_gratings_accuracy\", 0.5249999761581421], [\"val_allen_brain_observatory_calcium/674275260_drifting_gratings_accuracy\", 0.6499999761581421], [\"val_allen_brain_observatory_calcium/506823562_drifting_gratings_accuracy\", 0.6916666626930237], [\"val_allen_brain_observatory_calcium/595273803_drifting_gratings_accuracy\", 0.4583333432674408], [\"val_allen_brain_observatory_calcium/657650110_drifting_gratings_accuracy\", 0.15833333134651184], [\"val_allen_brain_observatory_calcium/560898462_drifting_gratings_accuracy\", 0.8500000238418579], [\"val_allen_brain_observatory_calcium/652842495_drifting_gratings_accuracy\", 0.0833333358168602], [\"val_allen_brain_observatory_calcium/657390171_drifting_gratings_accuracy\", 0.14166666567325592], [\"val_allen_brain_observatory_calcium/577379202_drifting_gratings_accuracy\", 0.46666666865348816], [\"val_allen_brain_observatory_calcium/647598519_drifting_gratings_accuracy\", 0.23333333432674408], [\"val_allen_brain_observatory_calcium/539497234_drifting_gratings_accuracy\", 0.6333333253860474], [\"val_allen_brain_observatory_calcium/672206735_drifting_gratings_accuracy\", 0.1666666716337204], [\"val_allen_brain_observatory_calcium/651769499_drifting_gratings_accuracy\", 0.19166666269302368], [\"val_allen_brain_observatory_calcium/696156783_drifting_gratings_accuracy\", 0.1666666716337204], [\"val_allen_brain_observatory_calcium/602866800_drifting_gratings_accuracy\", 0.1666666716337204], [\"val_allen_brain_observatory_calcium/573261515_drifting_gratings_accuracy\", 0.7749999761581421], [\"val_allen_brain_observatory_calcium/669859475_drifting_gratings_accuracy\", 0.32499998807907104], [\"val_allen_brain_observatory_calcium/675477919_drifting_gratings_accuracy\", 0.13333334028720856], [\"val_allen_brain_observatory_calcium/671618887_drifting_gratings_accuracy\", 0.1666666716337204], [\"val_allen_brain_observatory_calcium/593373156_drifting_gratings_accuracy\", 0.17499999701976776], [\"val_allen_brain_observatory_calcium/573850303_drifting_gratings_accuracy\", 0.4000000059604645], [\"val_allen_brain_observatory_calcium/504115289_drifting_gratings_accuracy\", 0.46666666865348816], [\"val_allen_brain_observatory_calcium/569396924_drifting_gratings_accuracy\", 0.8083333373069763], [\"val_allen_brain_observatory_calcium/605606109_drifting_gratings_accuracy\", 0.32499998807907104], [\"val_allen_brain_observatory_calcium/569457162_drifting_gratings_accuracy\", 0.22499999403953552], [\"val_allen_brain_observatory_calcium/669861524_drifting_gratings_accuracy\", 0.21666666865348816], [\"val_allen_brain_observatory_calcium/698762886_drifting_gratings_accuracy\", 0.7416666746139526], [\"val_allen_brain_observatory_calcium/638262558_drifting_gratings_accuracy\", 0.10000000149011612], [\"val_allen_brain_observatory_calcium/603425659_drifting_gratings_accuracy\", 0.44999998807907104], [\"val_allen_brain_observatory_calcium/662033243_drifting_gratings_accuracy\", 0.5166666507720947], [\"val_allen_brain_observatory_calcium/612536911_drifting_gratings_accuracy\", 0.15833333134651184], [\"val_allen_brain_observatory_calcium/683257169_drifting_gratings_accuracy\", 0.8500000238418579], [\"val_allen_brain_observatory_calcium/660513003_drifting_gratings_accuracy\", 0.7166666388511658], [\"val_allen_brain_observatory_calcium/601904502_drifting_gratings_accuracy\", 0.32499998807907104], [\"val_allen_brain_observatory_calcium/566458505_drifting_gratings_accuracy\", 0.5166666507720947], [\"val_allen_brain_observatory_calcium/580043440_drifting_gratings_accuracy\", 0.375], [\"val_allen_brain_observatory_calcium/661437140_drifting_gratings_accuracy\", 0.7166666388511658], [\"val_allen_brain_observatory_calcium/557848210_drifting_gratings_accuracy\", 0.625], [\"val_allen_brain_observatory_calcium/650079244_drifting_gratings_accuracy\", 0.13333334028720856], [\"val_allen_brain_observatory_calcium/565216523_drifting_gratings_accuracy\", 0.6416666507720947], [\"val_allen_brain_observatory_calcium/680150733_drifting_gratings_accuracy\", 0.21666666865348816], [\"val_allen_brain_observatory_calcium/658020691_drifting_gratings_accuracy\", 0.125], [\"val_allen_brain_observatory_calcium/686441799_drifting_gratings_accuracy\", 0.3166666626930237], [\"val_allen_brain_observatory_calcium/573083539_drifting_gratings_accuracy\", 0.675000011920929], [\"val_allen_brain_observatory_calcium/562052595_drifting_gratings_accuracy\", 0.699999988079071], [\"val_allen_brain_observatory_calcium/570008444_drifting_gratings_accuracy\", 0.4000000059604645], [\"val_allen_brain_observatory_calcium/663485329_drifting_gratings_accuracy\", 0.7416666746139526], [\"val_allen_brain_observatory_calcium/510093797_drifting_gratings_accuracy\", 0.36666667461395264], [\"val_allen_brain_observatory_calcium/502205092_drifting_gratings_accuracy\", 0.8333333134651184], [\"val_allen_brain_observatory_calcium/595808594_drifting_gratings_accuracy\", 0.36666667461395264], [\"val_allen_brain_observatory_calcium/662361096_drifting_gratings_accuracy\", 0.17499999701976776], [\"val_allen_brain_observatory_calcium/576095926_drifting_gratings_accuracy\", 0.675000011920929], [\"val_allen_brain_observatory_calcium/658854537_drifting_gratings_accuracy\", 0.6416666507720947], [\"val_allen_brain_observatory_calcium/551834174_drifting_gratings_accuracy\", 0.32499998807907104], [\"val_allen_brain_observatory_calcium/649324898_drifting_gratings_accuracy\", 0.1666666716337204], [\"val_allen_brain_observatory_calcium/511595995_drifting_gratings_accuracy\", 0.5], [\"val_allen_brain_observatory_calcium/582867147_drifting_gratings_accuracy\", 0.5333333611488342], [\"val_allen_brain_observatory_calcium/503412730_drifting_gratings_accuracy\", 0.7416666746139526], [\"val_allen_brain_observatory_calcium/647143225_drifting_gratings_accuracy\", 0.7166666388511658], [\"val_allen_brain_observatory_calcium/613091721_drifting_gratings_accuracy\", 0.42500001192092896], [\"val_allen_brain_observatory_calcium/657078119_drifting_gratings_accuracy\", 0.125], [\"val_allen_brain_observatory_calcium/616779893_drifting_gratings_accuracy\", 0.20000000298023224], [\"val_allen_brain_observatory_calcium/673171528_drifting_gratings_accuracy\", 0.14166666567325592], [\"val_allen_brain_observatory_calcium/552410386_drifting_gratings_accuracy\", 0.6000000238418579], [\"val_allen_brain_observatory_calcium/605688822_drifting_gratings_accuracy\", 0.3499999940395355], [\"val_allen_brain_observatory_calcium/614556106_drifting_gratings_accuracy\", 0.24166665971279144], [\"val_allen_brain_observatory_calcium/603592541_drifting_gratings_accuracy\", 0.19166666269302368], [\"val_allen_brain_observatory_calcium/584983136_drifting_gratings_accuracy\", 0.4833333194255829], [\"val_allen_brain_observatory_calcium/606802468_drifting_gratings_accuracy\", 0.18333333730697632], [\"val_allen_brain_observatory_calcium/562711440_drifting_gratings_accuracy\", 0.13333334028720856], [\"val_allen_brain_observatory_calcium/623587006_drifting_gratings_accuracy\", 0.8083333373069763], [\"val_allen_brain_observatory_calcium/660510593_drifting_gratings_accuracy\", 0.3583333194255829], [\"val_allen_brain_observatory_calcium/572606382_drifting_gratings_accuracy\", 0.40833333134651184], [\"val_allen_brain_observatory_calcium/603978471_drifting_gratings_accuracy\", 0.15000000596046448], [\"val_allen_brain_observatory_calcium/570305847_drifting_gratings_accuracy\", 0.4333333373069763], [\"val_allen_brain_observatory_calcium/679702884_drifting_gratings_accuracy\", 0.824999988079071], [\"val_allen_brain_observatory_calcium/584944065_drifting_gratings_accuracy\", 0.4749999940395355], [\"val_allen_brain_observatory_calcium/658533763_drifting_gratings_accuracy\", 0.20000000298023224], [\"val_allen_brain_observatory_calcium/710502981_drifting_gratings_accuracy\", 0.19166666269302368], [\"val_allen_brain_observatory_calcium/595183197_drifting_gratings_accuracy\", 0.10000000149011612], [\"val_allen_brain_observatory_calcium/550490398_drifting_gratings_accuracy\", 0.3083333373069763], [\"val_allen_brain_observatory_calcium/505845219_drifting_gratings_accuracy\", 0.625], [\"val_allen_brain_observatory_calcium/529688779_drifting_gratings_accuracy\", 0.6833333373069763], [\"val_allen_brain_observatory_calcium/502199136_drifting_gratings_accuracy\", 0.7416666746139526], [\"val_allen_brain_observatory_calcium/527048992_drifting_gratings_accuracy\", 0.9583333134651184], [\"val_allen_brain_observatory_calcium/563710064_drifting_gratings_accuracy\", 0.5583333373069763], [\"val_allen_brain_observatory_calcium/560866155_drifting_gratings_accuracy\", 0.15833333134651184], [\"val_allen_brain_observatory_calcium/575302108_drifting_gratings_accuracy\", 0.40833333134651184], [\"val_allen_brain_observatory_calcium/585900296_drifting_gratings_accuracy\", 0.1666666716337204], [\"val_allen_brain_observatory_calcium/643645390_drifting_gratings_accuracy\", 0.75], [\"val_allen_brain_observatory_calcium/607063420_drifting_gratings_accuracy\", 0.5666666626930237], [\"val_allen_brain_observatory_calcium/530645663_drifting_gratings_accuracy\", 0.3916666805744171], [\"val_allen_brain_observatory_calcium/571177441_drifting_gratings_accuracy\", 0.6083333492279053], [\"val_allen_brain_observatory_calcium/663866413_drifting_gratings_accuracy\", 0.2750000059604645], [\"val_allen_brain_observatory_calcium/593552712_drifting_gratings_accuracy\", 0.21666666865348816], [\"val_allen_brain_observatory_calcium/554037270_drifting_gratings_accuracy\", 0.25], [\"val_allen_brain_observatory_calcium/571137446_drifting_gratings_accuracy\", 0.6083333492279053], [\"val_allen_brain_observatory_calcium/703308071_drifting_gratings_accuracy\", 0.4333333373069763], [\"val_allen_brain_observatory_calcium/639251932_drifting_gratings_accuracy\", 0.17499999701976776], [\"val_allen_brain_observatory_calcium/642884591_drifting_gratings_accuracy\", 0.3083333373069763], [\"val_allen_brain_observatory_calcium/657389972_drifting_gratings_accuracy\", 0.14166666567325592], [\"val_allen_brain_observatory_calcium/664914611_drifting_gratings_accuracy\", 0.5083333253860474], [\"val_allen_brain_observatory_calcium/552760671_drifting_gratings_accuracy\", 0.5249999761581421], [\"val_allen_brain_observatory_calcium/682051855_drifting_gratings_accuracy\", 0.6333333253860474], [\"val_allen_brain_observatory_calcium/571541565_drifting_gratings_accuracy\", 0.4000000059604645], [\"val_allen_brain_observatory_calcium/587344053_drifting_gratings_accuracy\", 0.9083333611488342], [\"val_allen_brain_observatory_calcium/603224878_drifting_gratings_accuracy\", 0.25], [\"val_allen_brain_observatory_calcium/627823636_drifting_gratings_accuracy\", 0.07500000298023224], [\"val_allen_brain_observatory_calcium/576001843_drifting_gratings_accuracy\", 0.7583333253860474], [\"val_allen_brain_observatory_calcium/592657427_drifting_gratings_accuracy\", 0.42500001192092896], [\"val_allen_brain_observatory_calcium/627823695_drifting_gratings_accuracy\", 0.6499999761581421], [\"val_allen_brain_observatory_calcium/701046700_drifting_gratings_accuracy\", 0.3083333373069763], [\"val_allen_brain_observatory_calcium/704298735_drifting_gratings_accuracy\", 0.824999988079071], [\"val_allen_brain_observatory_calcium/688580172_drifting_gratings_accuracy\", 0.36666667461395264], [\"val_allen_brain_observatory_calcium/647155122_drifting_gratings_accuracy\", 0.9416666626930237], [\"val_allen_brain_observatory_calcium/511534603_drifting_gratings_accuracy\", 0.4000000059604645], [\"val_allen_brain_observatory_calcium/575135986_drifting_gratings_accuracy\", 0.5666666626930237], [\"val_allen_brain_observatory_calcium/590168385_drifting_gratings_accuracy\", 0.949999988079071], [\"val_allen_brain_observatory_calcium/639117196_drifting_gratings_accuracy\", 0.36666667461395264], [\"val_allen_brain_observatory_calcium/663479824_drifting_gratings_accuracy\", 0.17499999701976776], [\"val_allen_brain_observatory_calcium/571684733_drifting_gratings_accuracy\", 0.44999998807907104], [\"val_allen_brain_observatory_calcium/669237515_drifting_gratings_accuracy\", 0.6499999761581421], [\"val_allen_brain_observatory_calcium/626027944_drifting_gratings_accuracy\", 0.1666666716337204], [\"val_allen_brain_observatory_calcium/612543999_drifting_gratings_accuracy\", 0.14166666567325592], [\"val_allen_brain_observatory_calcium/569896493_drifting_gratings_accuracy\", 0.38333332538604736], [\"val_allen_brain_observatory_calcium/638056634_drifting_gratings_accuracy\", 0.550000011920929], [\"val_allen_brain_observatory_calcium/710504563_drifting_gratings_accuracy\", 0.20000000298023224], [\"val_allen_brain_observatory_calcium/569739027_drifting_gratings_accuracy\", 0.550000011920929], [\"val_allen_brain_observatory_calcium/653123929_drifting_gratings_accuracy\", 0.8833333253860474], [\"val_allen_brain_observatory_calcium/603576132_drifting_gratings_accuracy\", 0.7749999761581421], [\"val_allen_brain_observatory_calcium/599320182_drifting_gratings_accuracy\", 0.24166665971279144], [\"val_allen_brain_observatory_calcium/657224241_drifting_gratings_accuracy\", 0.15000000596046448], [\"val_allen_brain_observatory_calcium/557304694_drifting_gratings_accuracy\", 0.3916666805744171], [\"val_allen_brain_observatory_calcium/601805379_drifting_gratings_accuracy\", 0.40833333134651184], [\"val_allen_brain_observatory_calcium/657915168_drifting_gratings_accuracy\", 0.15000000596046448], [\"val_allen_brain_observatory_calcium/645413759_drifting_gratings_accuracy\", 0.9916666746139526], [\"val_allen_brain_observatory_calcium/556665481_drifting_gratings_accuracy\", 0.125], [\"val_allen_brain_observatory_calcium/580051759_drifting_gratings_accuracy\", 0.36666667461395264], [\"val_allen_brain_observatory_calcium/510514474_drifting_gratings_accuracy\", 0.6583333611488342], [\"val_allen_brain_observatory_calcium/662359728_drifting_gratings_accuracy\", 0.4333333373069763], [\"val_allen_brain_observatory_calcium/716956096_drifting_gratings_accuracy\", 0.24166665971279144], [\"val_allen_brain_observatory_calcium/508753256_drifting_gratings_accuracy\", 0.4000000059604645], [\"val_allen_brain_observatory_calcium/612044635_drifting_gratings_accuracy\", 0.4166666567325592], [\"val_allen_brain_observatory_calcium/614571626_drifting_gratings_accuracy\", 0.13333334028720856], [\"val_allen_brain_observatory_calcium/580095647_drifting_gratings_accuracy\", 0.5666666626930237], [\"val_allen_brain_observatory_calcium/644386884_drifting_gratings_accuracy\", 0.2083333283662796], [\"val_allen_brain_observatory_calcium/510917254_drifting_gratings_accuracy\", 0.3583333194255829], [\"val_allen_brain_observatory_calcium/556344224_drifting_gratings_accuracy\", 0.2083333283662796], [\"val_allen_brain_observatory_calcium/509904120_drifting_gratings_accuracy\", 0.40833333134651184], [\"val_allen_brain_observatory_calcium/511194579_drifting_gratings_accuracy\", 0.5833333134651184], [\"val_allen_brain_observatory_calcium/664404274_drifting_gratings_accuracy\", 0.5249999761581421], [\"val_allen_brain_observatory_calcium/562122508_drifting_gratings_accuracy\", 0.625], [\"val_allen_brain_observatory_calcium/639117826_drifting_gratings_accuracy\", 0.6083333492279053], [\"val_allen_brain_observatory_calcium/645086975_drifting_gratings_accuracy\", 0.574999988079071], [\"val_allen_brain_observatory_calcium/583279803_drifting_gratings_accuracy\", 0.14166666567325592], [\"val_allen_brain_observatory_calcium/582918858_drifting_gratings_accuracy\", 0.5333333611488342], [\"val_allen_brain_observatory_calcium/657914280_drifting_gratings_accuracy\", 0.5083333253860474], [\"val_allen_brain_observatory_calcium/680156911_drifting_gratings_accuracy\", 0.8083333373069763], [\"val_allen_brain_observatory_calcium/560578599_drifting_gratings_accuracy\", 0.25833332538604736], [\"val_allen_brain_observatory_calcium/509958730_drifting_gratings_accuracy\", 0.9166666865348816], [\"val_allen_brain_observatory_calcium/588655112_drifting_gratings_accuracy\", 0.09166666865348816], [\"val_allen_brain_observatory_calcium/637998955_drifting_gratings_accuracy\", 0.7083333134651184], [\"val_allen_brain_observatory_calcium/555749369_drifting_gratings_accuracy\", 0.14166666567325592], [\"val_allen_brain_observatory_calcium/507129766_drifting_gratings_accuracy\", 0.5], [\"val_allen_brain_observatory_calcium/647595665_drifting_gratings_accuracy\", 0.7916666865348816], [\"val_allen_brain_observatory_calcium/552427971_drifting_gratings_accuracy\", 0.949999988079071], [\"val_allen_brain_observatory_calcium/604328043_drifting_gratings_accuracy\", 0.49166667461395264], [\"val_allen_brain_observatory_calcium/652989442_drifting_gratings_accuracy\", 0.17499999701976776], [\"val_allen_brain_observatory_calcium/592348507_drifting_gratings_accuracy\", 0.3166666626930237], [\"val_allen_brain_observatory_calcium/501940850_drifting_gratings_accuracy\", 0.7583333253860474], [\"val_allen_brain_observatory_calcium/582838758_drifting_gratings_accuracy\", 0.14166666567325592], [\"val_allen_brain_observatory_calcium/613968705_drifting_gratings_accuracy\", 0.5], [\"val_allen_brain_observatory_calcium/637126541_drifting_gratings_accuracy\", 0.5416666865348816], [\"val_allen_brain_observatory_calcium/617381605_drifting_gratings_accuracy\", 0.9083333611488342], [\"val_allen_brain_observatory_calcium/560920977_drifting_gratings_accuracy\", 0.10000000149011612], [\"val_allen_brain_observatory_calcium/652096183_drifting_gratings_accuracy\", 0.5166666507720947], [\"val_allen_brain_observatory_calcium/503109347_drifting_gratings_accuracy\", 0.9083333611488342], [\"val_allen_brain_observatory_calcium/601368107_drifting_gratings_accuracy\", 0.3499999940395355], [\"val_allen_brain_observatory_calcium/502793808_drifting_gratings_accuracy\", 0.8416666388511658], [\"val_allen_brain_observatory_calcium/672207947_drifting_gratings_accuracy\", 0.7833333611488342], [\"val_allen_brain_observatory_calcium/665726618_drifting_gratings_accuracy\", 0.19166666269302368], [\"val_allen_brain_observatory_calcium/596584192_drifting_gratings_accuracy\", 0.925000011920929], [\"val_allen_brain_observatory_calcium/567878987_drifting_gratings_accuracy\", 0.25], [\"val_allen_brain_observatory_calcium/652094917_drifting_gratings_accuracy\", 0.3583333194255829], [\"val_allen_brain_observatory_calcium/601910964_drifting_gratings_accuracy\", 0.0833333358168602], [\"val_allen_brain_observatory_calcium/653932505_drifting_gratings_accuracy\", 0.6333333253860474], [\"val_allen_brain_observatory_calcium/639932847_drifting_gratings_accuracy\", 0.7166666388511658], [\"val_allen_brain_observatory_calcium/565698388_drifting_gratings_accuracy\", 0.11666666716337204], [\"val_allen_brain_observatory_calcium/576411246_drifting_gratings_accuracy\", 0.23333333432674408], [\"val_allen_brain_observatory_calcium/609517556_drifting_gratings_accuracy\", 0.13333334028720856], [\"val_allen_brain_observatory_calcium/503324629_drifting_gratings_accuracy\", 0.6416666507720947], [\"val_allen_brain_observatory_calcium/581026088_drifting_gratings_accuracy\", 0.625], [\"val_allen_brain_observatory_calcium/564607188_drifting_gratings_accuracy\", 0.5166666507720947], [\"val_allen_brain_observatory_calcium/593270603_drifting_gratings_accuracy\", 0.625], [\"val_allen_brain_observatory_calcium/605883133_drifting_gratings_accuracy\", 0.6833333373069763], [\"val_allen_brain_observatory_calcium/539290504_drifting_gratings_accuracy\", 0.4749999940395355], [\"val_allen_brain_observatory_calcium/597028938_drifting_gratings_accuracy\", 0.44999998807907104], [\"val_allen_brain_observatory_calcium/592407200_drifting_gratings_accuracy\", 0.3916666805744171], [\"val_allen_brain_observatory_calcium/502608215_drifting_gratings_accuracy\", 0.9833333492279053], [\"val_allen_brain_observatory_calcium/556353209_drifting_gratings_accuracy\", 0.20000000298023224], [\"val_allen_brain_observatory_calcium/653551965_drifting_gratings_accuracy\", 0.375], [\"val_allen_brain_observatory_calcium/661328410_drifting_gratings_accuracy\", 0.6833333373069763], [\"val_allen_brain_observatory_calcium/510517131_drifting_gratings_accuracy\", 0.6583333611488342], [\"val_allen_brain_observatory_calcium/637669270_drifting_gratings_accuracy\", 0.8500000238418579], [\"val_allen_brain_observatory_calcium/699155265_drifting_gratings_accuracy\", 0.574999988079071], [\"val_allen_brain_observatory_calcium/512270518_drifting_gratings_accuracy\", 0.699999988079071], [\"val_allen_brain_observatory_calcium/548379748_drifting_gratings_accuracy\", 0.375], [\"val_allen_brain_observatory_calcium/502115959_drifting_gratings_accuracy\", 0.6666666865348816], [\"val_allen_brain_observatory_calcium/587339481_drifting_gratings_accuracy\", 0.5666666626930237], [\"val_allen_brain_observatory_calcium/594090967_drifting_gratings_accuracy\", 0.14166666567325592], [\"val_allen_brain_observatory_calcium/605859367_drifting_gratings_accuracy\", 0.5916666388511658], [\"val_allen_brain_observatory_calcium/662351164_drifting_gratings_accuracy\", 0.5166666507720947], [\"val_allen_brain_observatory_calcium/638862121_drifting_gratings_accuracy\", 0.3333333432674408], [\"val_allen_brain_observatory_calcium/605800963_drifting_gratings_accuracy\", 0.2666666805744171], [\"val_allen_brain_observatory_calcium/617395455_drifting_gratings_accuracy\", 0.15000000596046448], [\"val_allen_brain_observatory_calcium/647603932_drifting_gratings_accuracy\", 0.4166666567325592], [\"val_allen_brain_observatory_calcium/559192380_drifting_gratings_accuracy\", 0.4749999940395355], [\"val_allen_brain_observatory_calcium/575939366_drifting_gratings_accuracy\", 0.38333332538604736], [\"val_allen_brain_observatory_calcium/508356957_drifting_gratings_accuracy\", 0.5916666388511658], [\"val_allen_brain_observatory_calcium/560926639_drifting_gratings_accuracy\", 0.6083333492279053], [\"val_allen_brain_observatory_calcium/623339221_drifting_gratings_accuracy\", 0.625], [\"val_allen_brain_observatory_calcium/598564173_drifting_gratings_accuracy\", 0.4000000059604645], [\"val_allen_brain_observatory_calcium/657080632_drifting_gratings_accuracy\", 0.8916666507720947], [\"val_allen_brain_observatory_calcium/595718342_drifting_gratings_accuracy\", 0.11666666716337204], [\"val_allen_brain_observatory_calcium/612534310_drifting_gratings_accuracy\", 0.4833333194255829], [\"val_allen_brain_observatory_calcium/510859641_drifting_gratings_accuracy\", 0.44999998807907104], [\"val_allen_brain_observatory_calcium/556321897_drifting_gratings_accuracy\", 0.375], [\"val_allen_brain_observatory_calcium/683253712_drifting_gratings_accuracy\", 0.22499999403953552], [\"val_allen_brain_observatory_calcium/673914981_drifting_gratings_accuracy\", 0.17499999701976776], [\"val_allen_brain_observatory_calcium/598137246_drifting_gratings_accuracy\", 0.25833332538604736], [\"val_allen_brain_observatory_calcium/595806300_drifting_gratings_accuracy\", 0.7250000238418579], [\"val_allen_brain_observatory_calcium/596509886_drifting_gratings_accuracy\", 0.46666666865348816], [\"val_allen_brain_observatory_calcium/601423209_drifting_gratings_accuracy\", 0.5], [\"val_allen_brain_observatory_calcium/644947716_drifting_gratings_accuracy\", 0.40833333134651184], [\"val_allen_brain_observatory_calcium/682049099_drifting_gratings_accuracy\", 0.24166665971279144], [\"val_allen_brain_observatory_calcium/603188560_drifting_gratings_accuracy\", 0.4416666626930237], [\"val_allen_brain_observatory_calcium/657082055_drifting_gratings_accuracy\", 0.675000011920929], [\"val_allen_brain_observatory_calcium/566307038_drifting_gratings_accuracy\", 0.4416666626930237], [\"val_allen_brain_observatory_calcium/506809539_drifting_gratings_accuracy\", 0.7083333134651184], [\"val_allen_brain_observatory_calcium/657391037_drifting_gratings_accuracy\", 0.4749999940395355], [\"val_allen_brain_observatory_calcium/644026238_drifting_gratings_accuracy\", 0.699999988079071], [\"val_allen_brain_observatory_calcium/652091264_drifting_gratings_accuracy\", 0.10000000149011612], [\"val_allen_brain_observatory_calcium/531134090_drifting_gratings_accuracy\", 0.375], [\"val_allen_brain_observatory_calcium/594320795_drifting_gratings_accuracy\", 0.2916666567325592], [\"val_allen_brain_observatory_calcium/578674360_drifting_gratings_accuracy\", 0.6333333253860474], [\"val_allen_brain_observatory_calcium/569299884_drifting_gratings_accuracy\", 0.5916666388511658], [\"val_allen_brain_observatory_calcium/670395725_drifting_gratings_accuracy\", 0.675000011920929], [\"val_allen_brain_observatory_calcium/612549085_drifting_gratings_accuracy\", 0.11666666716337204], [\"val_allen_brain_observatory_calcium/528402271_drifting_gratings_accuracy\", 0.9166666865348816], [\"val_allen_brain_observatory_calcium/501933264_drifting_gratings_accuracy\", 0.8333333134651184], [\"val_allen_brain_observatory_calcium/651770186_drifting_gratings_accuracy\", 0.675000011920929], [\"val_allen_brain_observatory_calcium/550851591_drifting_gratings_accuracy\", 0.3499999940395355], [\"val_allen_brain_observatory_calcium/660064796_drifting_gratings_accuracy\", 0.21666666865348816], [\"val_allen_brain_observatory_calcium/653126877_drifting_gratings_accuracy\", 0.5166666507720947], [\"val_allen_brain_observatory_calcium/526504941_drifting_gratings_accuracy\", 0.5666666626930237], [\"val_allen_brain_observatory_calcium/501929610_drifting_gratings_accuracy\", 0.7333333492279053], [\"val_allen_brain_observatory_calcium/692345336_drifting_gratings_accuracy\", 0.13333334028720856], [\"val_allen_brain_observatory_calcium/560809202_drifting_gratings_accuracy\", 0.2666666805744171], [\"val_allen_brain_observatory_calcium/657391625_drifting_gratings_accuracy\", 0.875], [\"val_allen_brain_observatory_calcium/659491419_drifting_gratings_accuracy\", 0.25833332538604736], [\"val_allen_brain_observatory_calcium/651770380_drifting_gratings_accuracy\", 0.19166666269302368], [\"val_allen_brain_observatory_calcium/658518486_drifting_gratings_accuracy\", 0.1666666716337204], [\"val_allen_brain_observatory_calcium/555040116_drifting_gratings_accuracy\", 0.2750000059604645], [\"val_allen_brain_observatory_calcium/583136567_drifting_gratings_accuracy\", 0.5916666388511658], [\"val_allen_brain_observatory_calcium/599909878_drifting_gratings_accuracy\", 0.22499999403953552], [\"val_allen_brain_observatory_calcium/580095655_drifting_gratings_accuracy\", 0.7749999761581421], [\"val_allen_brain_observatory_calcium/662982346_drifting_gratings_accuracy\", 0.11666666716337204], [\"val_allen_brain_observatory_calcium/623347352_drifting_gratings_accuracy\", 0.40833333134651184], [\"val_allen_brain_observatory_calcium/652094901_drifting_gratings_accuracy\", 0.6583333611488342], [\"val_allen_brain_observatory_calcium/550455111_drifting_gratings_accuracy\", 0.574999988079071], [\"val_allen_brain_observatory_calcium/553568031_drifting_gratings_accuracy\", 0.6666666865348816], [\"val_allen_brain_observatory_calcium/557225279_drifting_gratings_accuracy\", 0.625], [\"val_allen_brain_observatory_calcium/566096665_drifting_gratings_accuracy\", 0.375], [\"val_allen_brain_observatory_calcium/572722662_drifting_gratings_accuracy\", 0.4333333373069763], [\"val_allen_brain_observatory_calcium/585035184_drifting_gratings_accuracy\", 0.7166666388511658], [\"val_allen_brain_observatory_calcium/509580400_drifting_gratings_accuracy\", 0.10000000149011612], [\"val_allen_brain_observatory_calcium/651770794_drifting_gratings_accuracy\", 0.49166667461395264], [\"val_allen_brain_observatory_calcium/589441079_drifting_gratings_accuracy\", 0.625], [\"val_allen_brain_observatory_calcium/581150104_drifting_gratings_accuracy\", 0.49166667461395264], [\"val_allen_brain_observatory_calcium/570236381_drifting_gratings_accuracy\", 0.34166666865348816], [\"val_allen_brain_observatory_calcium/570278597_drifting_gratings_accuracy\", 0.375], [\"val_allen_brain_observatory_calcium/581597734_drifting_gratings_accuracy\", 0.5166666507720947], [\"val_allen_brain_observatory_calcium/598635821_drifting_gratings_accuracy\", 0.4166666567325592], [\"val_allen_brain_observatory_calcium/665307545_drifting_gratings_accuracy\", 0.5249999761581421], [\"val_allen_brain_observatory_calcium/507990552_drifting_gratings_accuracy\", 0.675000011920929], [\"val_allen_brain_observatory_calcium/504568756_drifting_gratings_accuracy\", 0.550000011920929], [\"val_allen_brain_observatory_calcium/642278925_drifting_gratings_accuracy\", 0.3499999940395355], [\"val_allen_brain_observatory_calcium/707923645_drifting_gratings_accuracy\", 0.8500000238418579], [\"val_allen_brain_observatory_calcium/580163817_drifting_gratings_accuracy\", 0.32499998807907104], [\"val_allen_brain_observatory_calcium/603187982_drifting_gratings_accuracy\", 0.15000000596046448], [\"val_allen_brain_observatory_calcium/589755795_drifting_gratings_accuracy\", 0.17499999701976776], [\"val_allen_brain_observatory_calcium/510214538_drifting_gratings_accuracy\", 0.824999988079071], [\"val_allen_brain_observatory_calcium/506773892_drifting_gratings_accuracy\", 0.7166666388511658], [\"val_allen_brain_observatory_calcium/715923832_drifting_gratings_accuracy\", 0.11666666716337204], [\"val_allen_brain_observatory_calcium/662348804_drifting_gratings_accuracy\", 0.7833333611488342], [\"val_allen_brain_observatory_calcium/676024666_drifting_gratings_accuracy\", 0.15833333134651184], [\"val_allen_brain_observatory_calcium/573720508_drifting_gratings_accuracy\", 0.4166666567325592], [\"val_allen_brain_observatory_calcium/604529230_drifting_gratings_accuracy\", 0.5166666507720947], [\"val_allen_brain_observatory_calcium/637154333_drifting_gratings_accuracy\", 0.10000000149011612], [\"val_allen_brain_observatory_calcium/653122667_drifting_gratings_accuracy\", 0.8583333492279053], [\"val_allen_brain_observatory_calcium/652842572_drifting_gratings_accuracy\", 0.8083333373069763], [\"val_allen_brain_observatory_calcium/571006300_drifting_gratings_accuracy\", 0.49166667461395264], [\"val_allen_brain_observatory_calcium/692345003_drifting_gratings_accuracy\", 0.18333333730697632], [\"val_allen_brain_observatory_calcium/643062797_drifting_gratings_accuracy\", 0.25], [\"val_allen_brain_observatory_calcium/698260532_drifting_gratings_accuracy\", 0.2666666805744171], [\"val_allen_brain_observatory_calcium/662358771_drifting_gratings_accuracy\", 0.5416666865348816], [\"val_allen_brain_observatory_calcium/643592303_drifting_gratings_accuracy\", 0.6333333253860474], [\"val_allen_brain_observatory_calcium/601273921_drifting_gratings_accuracy\", 0.3499999940395355], [\"val_allen_brain_observatory_calcium/702934964_drifting_gratings_accuracy\", 0.9833333492279053], [\"val_allen_brain_observatory_calcium/501876401_drifting_gratings_accuracy\", 0.7666666507720947], [\"val_allen_brain_observatory_calcium/559382012_drifting_gratings_accuracy\", 0.30000001192092896], [\"val_allen_brain_observatory_calcium/584196534_drifting_gratings_accuracy\", 0.5833333134651184], [\"val_allen_brain_observatory_calcium/672211004_drifting_gratings_accuracy\", 0.2083333283662796], [\"val_allen_brain_observatory_calcium/674276329_drifting_gratings_accuracy\", 0.14166666567325592], [\"val_allen_brain_observatory_calcium/590047029_drifting_gratings_accuracy\", 0.34166666865348816], [\"val_allen_brain_observatory_calcium/563176332_drifting_gratings_accuracy\", 0.8583333492279053], [\"val_allen_brain_observatory_calcium/508563988_drifting_gratings_accuracy\", 0.4166666567325592], [\"val_allen_brain_observatory_calcium/712919665_drifting_gratings_accuracy\", 0.22499999403953552], [\"val_allen_brain_observatory_calcium/707006626_drifting_gratings_accuracy\", 0.44999998807907104], [\"val_allen_brain_observatory_calcium/688678766_drifting_gratings_accuracy\", 0.875], [\"val_allen_brain_observatory_calcium/560027980_drifting_gratings_accuracy\", 0.15833333134651184], [\"val_allen_brain_observatory_calcium/601705404_drifting_gratings_accuracy\", 0.15000000596046448], [\"val_allen_brain_observatory_calcium/541010698_drifting_gratings_accuracy\", 0.6666666865348816], [\"val_allen_brain_observatory_calcium/584544569_drifting_gratings_accuracy\", 0.21666666865348816], [\"val_allen_brain_observatory_calcium/512311673_drifting_gratings_accuracy\", 0.574999988079071], [\"val_allen_brain_observatory_calcium/657009581_drifting_gratings_accuracy\", 0.125], [\"val_allen_brain_observatory_calcium/657016267_drifting_gratings_accuracy\", 0.44999998807907104], [\"val_allen_brain_observatory_calcium/606353987_drifting_gratings_accuracy\", 0.15000000596046448], [\"val_allen_brain_observatory_calcium/506540916_drifting_gratings_accuracy\", 0.25], [\"val_allen_brain_observatory_calcium/575970700_drifting_gratings_accuracy\", 0.38333332538604736], [\"val_allen_brain_observatory_calcium/645689073_drifting_gratings_accuracy\", 0.7833333611488342], [\"val_allen_brain_observatory_calcium/564425777_drifting_gratings_accuracy\", 0.7749999761581421], [\"val_allen_brain_observatory_calcium/603452291_drifting_gratings_accuracy\", 0.19166666269302368], [\"val_allen_brain_observatory_calcium/670728674_drifting_gratings_accuracy\", 0.125], [\"val_allen_brain_observatory_calcium/601841437_drifting_gratings_accuracy\", 0.32499998807907104], [\"val_allen_brain_observatory_calcium/588191926_drifting_gratings_accuracy\", 0.3499999940395355], [\"val_allen_brain_observatory_calcium/571642389_drifting_gratings_accuracy\", 0.125], [\"val_allen_brain_observatory_calcium/524691284_drifting_gratings_accuracy\", 0.9333333373069763], [\"val_allen_brain_observatory_calcium/502376461_drifting_gratings_accuracy\", 0.5666666626930237], [\"val_allen_brain_observatory_calcium/670395999_drifting_gratings_accuracy\", 0.14166666567325592], [\"val_allen_brain_observatory_calcium/601887677_drifting_gratings_accuracy\", 0.5083333253860474], [\"val_allen_brain_observatory_calcium/685816006_drifting_gratings_accuracy\", 0.38333332538604736], [\"val_allen_brain_observatory_calcium/501574836_drifting_gratings_accuracy\", 0.9583333134651184], [\"val_allen_brain_observatory_calcium/674679019_drifting_gratings_accuracy\", 0.824999988079071], [\"val_allen_brain_observatory_calcium/662974315_drifting_gratings_accuracy\", 0.7749999761581421], [\"val_allen_brain_observatory_calcium/558670888_drifting_gratings_accuracy\", 0.8583333492279053], [\"val_allen_brain_observatory_calcium/502666254_drifting_gratings_accuracy\", 0.574999988079071], [\"val_allen_brain_observatory_calcium/653125130_drifting_gratings_accuracy\", 0.75], [\"val_allen_brain_observatory_calcium/545446482_drifting_gratings_accuracy\", 0.6583333611488342], [\"val_allen_brain_observatory_calcium/657775947_drifting_gratings_accuracy\", 0.13333334028720856], [\"val_allen_brain_observatory_calcium/686909240_drifting_gratings_accuracy\", 0.14166666567325592], [\"val_allen_brain_observatory_calcium/657776356_drifting_gratings_accuracy\", 0.10000000149011612], [\"val_allen_brain_observatory_calcium/511440894_drifting_gratings_accuracy\", 0.40833333134651184], [\"val_allen_brain_observatory_calcium/504853580_drifting_gratings_accuracy\", 0.574999988079071], [\"val_allen_brain_observatory_calcium/569792817_drifting_gratings_accuracy\", 0.38333332538604736], [\"val_allen_brain_observatory_calcium/613599811_drifting_gratings_accuracy\", 0.46666666865348816], [\"val_allen_brain_observatory_calcium/686449092_drifting_gratings_accuracy\", 0.17499999701976776], [\"val_allen_brain_observatory_calcium/505407318_drifting_gratings_accuracy\", 0.8583333492279053], [\"val_allen_brain_observatory_calcium/609894681_drifting_gratings_accuracy\", 0.3583333194255829], [\"val_allen_brain_observatory_calcium/663876406_drifting_gratings_accuracy\", 0.40833333134651184], [\"val_allen_brain_observatory_calcium/501021421_drifting_gratings_accuracy\", 0.4833333194255829], [\"val_allen_brain_observatory_calcium/577665023_drifting_gratings_accuracy\", 0.18333333730697632], [\"val_allen_brain_observatory_calcium/591430494_drifting_gratings_accuracy\", 0.15833333134651184], [\"val_allen_brain_observatory_calcium/617388117_drifting_gratings_accuracy\", 0.10833333432674408], [\"val_allen_brain_observatory_calcium/637115675_drifting_gratings_accuracy\", 0.30000001192092896], [\"val_allen_brain_observatory_calcium/710778377_drifting_gratings_accuracy\", 0.15833333134651184], [\"val_allen_brain_observatory_calcium/645256361_drifting_gratings_accuracy\", 0.7083333134651184], [\"val_allen_brain_observatory_calcium/561472633_drifting_gratings_accuracy\", 0.824999988079071], [\"val_allen_brain_observatory_calcium/580013262_drifting_gratings_accuracy\", 0.4833333194255829], [\"val_allen_brain_observatory_calcium/611638995_drifting_gratings_accuracy\", 0.4416666626930237], [\"val_allen_brain_observatory_calcium/591548033_drifting_gratings_accuracy\", 0.2083333283662796], [\"val_allen_brain_observatory_calcium/644051974_drifting_gratings_accuracy\", 0.5083333253860474], [\"val_allen_brain_observatory_calcium/569718097_drifting_gratings_accuracy\", 0.3083333373069763], [\"val_allen_brain_observatory_calcium/686442556_drifting_gratings_accuracy\", 0.5249999761581421], [\"val_allen_brain_observatory_calcium/507691036_drifting_gratings_accuracy\", 0.46666666865348816], [\"val_allen_brain_observatory_calcium/596779487_drifting_gratings_accuracy\", 0.4749999940395355], [\"val_allen_brain_observatory_calcium/501729039_drifting_gratings_accuracy\", 0.9416666626930237], [\"val_allen_brain_observatory_calcium/510390912_drifting_gratings_accuracy\", 0.5916666388511658], [\"val_allen_brain_observatory_calcium/667004159_drifting_gratings_accuracy\", 0.7083333134651184], [\"val_allen_brain_observatory_calcium/588483711_drifting_gratings_accuracy\", 0.675000011920929], [\"val_allen_brain_observatory_calcium/679700458_drifting_gratings_accuracy\", 0.23333333432674408], [\"val_allen_brain_observatory_calcium/551888519_drifting_gratings_accuracy\", 0.4333333373069763], [\"val_allen_brain_observatory_calcium/557615965_drifting_gratings_accuracy\", 0.1666666716337204], [\"val_allen_brain_observatory_calcium/647595671_drifting_gratings_accuracy\", 0.3499999940395355], [\"val_allen_brain_observatory_calcium/511573879_drifting_gratings_accuracy\", 0.7749999761581421]]}\"\"\"\n",
    "d = json.loads(a)"
   ]
  },
  {
   "cell_type": "code",
   "execution_count": 299,
   "metadata": {},
   "outputs": [],
   "source": [
    "df_capoyo_nano = pd.DataFrame(**d)"
   ]
  },
  {
   "cell_type": "code",
   "execution_count": 301,
   "metadata": {},
   "outputs": [],
   "source": [
    "df_capoyo = df_capoyo_nano"
   ]
  },
  {
   "cell_type": "code",
   "execution_count": 302,
   "metadata": {},
   "outputs": [
    {
     "data": {
      "text/html": [
       "<div>\n",
       "<style scoped>\n",
       "    .dataframe tbody tr th:only-of-type {\n",
       "        vertical-align: middle;\n",
       "    }\n",
       "\n",
       "    .dataframe tbody tr th {\n",
       "        vertical-align: top;\n",
       "    }\n",
       "\n",
       "    .dataframe thead th {\n",
       "        text-align: right;\n",
       "    }\n",
       "</style>\n",
       "<table border=\"1\" class=\"dataframe\">\n",
       "  <thead>\n",
       "    <tr style=\"text-align: right;\">\n",
       "      <th></th>\n",
       "      <th>Session ID</th>\n",
       "      <th>old heldout</th>\n",
       "      <th>new heldout</th>\n",
       "      <th>Subject ID</th>\n",
       "      <th>Creline</th>\n",
       "      <th>Creline.1</th>\n",
       "      <th>depth</th>\n",
       "      <th>num_ROIs</th>\n",
       "      <th>num_timepoints</th>\n",
       "      <th>MLP_val_accuracy</th>\n",
       "      <th>MLP_test_accuracy</th>\n",
       "      <th>session_id</th>\n",
       "    </tr>\n",
       "  </thead>\n",
       "  <tbody>\n",
       "    <tr>\n",
       "      <th>0</th>\n",
       "      <td>501021421</td>\n",
       "      <td>False</td>\n",
       "      <td>False</td>\n",
       "      <td>221470</td>\n",
       "      <td>Scnn1a-Tg3-Cre</td>\n",
       "      <td>VISp</td>\n",
       "      <td>350</td>\n",
       "      <td>150</td>\n",
       "      <td>56606</td>\n",
       "      <td>33.939394</td>\n",
       "      <td>37.500000</td>\n",
       "      <td>501021421</td>\n",
       "    </tr>\n",
       "    <tr>\n",
       "      <th>1</th>\n",
       "      <td>501574836</td>\n",
       "      <td>False</td>\n",
       "      <td>False</td>\n",
       "      <td>222420</td>\n",
       "      <td>Cux2-CreERT2</td>\n",
       "      <td>VISp</td>\n",
       "      <td>275</td>\n",
       "      <td>240</td>\n",
       "      <td>56748</td>\n",
       "      <td>90.000000</td>\n",
       "      <td>86.666667</td>\n",
       "      <td>501574836</td>\n",
       "    </tr>\n",
       "    <tr>\n",
       "      <th>2</th>\n",
       "      <td>501729039</td>\n",
       "      <td>False</td>\n",
       "      <td>False</td>\n",
       "      <td>222431</td>\n",
       "      <td>Rorb-IRES2-Cre</td>\n",
       "      <td>VISp</td>\n",
       "      <td>275</td>\n",
       "      <td>227</td>\n",
       "      <td>56746</td>\n",
       "      <td>90.303030</td>\n",
       "      <td>88.333333</td>\n",
       "      <td>501729039</td>\n",
       "    </tr>\n",
       "    <tr>\n",
       "      <th>3</th>\n",
       "      <td>501876401</td>\n",
       "      <td>False</td>\n",
       "      <td>False</td>\n",
       "      <td>222426</td>\n",
       "      <td>Cux2-CreERT2</td>\n",
       "      <td>VISal</td>\n",
       "      <td>175</td>\n",
       "      <td>181</td>\n",
       "      <td>56630</td>\n",
       "      <td>70.151515</td>\n",
       "      <td>75.000000</td>\n",
       "      <td>501876401</td>\n",
       "    </tr>\n",
       "    <tr>\n",
       "      <th>4</th>\n",
       "      <td>501929610</td>\n",
       "      <td>False</td>\n",
       "      <td>False</td>\n",
       "      <td>222431</td>\n",
       "      <td>Rorb-IRES2-Cre</td>\n",
       "      <td>VISl</td>\n",
       "      <td>275</td>\n",
       "      <td>200</td>\n",
       "      <td>56753</td>\n",
       "      <td>67.272727</td>\n",
       "      <td>66.666667</td>\n",
       "      <td>501929610</td>\n",
       "    </tr>\n",
       "  </tbody>\n",
       "</table>\n",
       "</div>"
      ],
      "text/plain": [
       "   Session ID  old heldout  new heldout  Subject ID         Creline Creline.1  \\\n",
       "0   501021421        False        False      221470  Scnn1a-Tg3-Cre      VISp   \n",
       "1   501574836        False        False      222420    Cux2-CreERT2      VISp   \n",
       "2   501729039        False        False      222431  Rorb-IRES2-Cre      VISp   \n",
       "3   501876401        False        False      222426    Cux2-CreERT2     VISal   \n",
       "4   501929610        False        False      222431  Rorb-IRES2-Cre      VISl   \n",
       "\n",
       "   depth  num_ROIs  num_timepoints  MLP_val_accuracy  MLP_test_accuracy  \\\n",
       "0    350       150           56606         33.939394          37.500000   \n",
       "1    275       240           56748         90.000000          86.666667   \n",
       "2    275       227           56746         90.303030          88.333333   \n",
       "3    175       181           56630         70.151515          75.000000   \n",
       "4    275       200           56753         67.272727          66.666667   \n",
       "\n",
       "   session_id  \n",
       "0   501021421  \n",
       "1   501574836  \n",
       "2   501729039  \n",
       "3   501876401  \n",
       "4   501929610  "
      ]
     },
     "execution_count": 302,
     "metadata": {},
     "output_type": "execute_result"
    }
   ],
   "source": [
    "df_stats[\"session_id\"] = df_stats[\"Session ID\"].astype(int)\n",
    "df_stats.head()"
   ]
  },
  {
   "cell_type": "code",
   "execution_count": null,
   "metadata": {},
   "outputs": [],
   "source": []
  },
  {
   "cell_type": "code",
   "execution_count": 303,
   "metadata": {},
   "outputs": [],
   "source": [
    "# truncate metric string to 10 characters\n",
    "df_capoyo['session_id'] = df_capoyo['metric'].apply(lambda x: x[36:36+9])\n",
    "df_capoyo['session_id'] = df_capoyo['session_id'].astype(int)"
   ]
  },
  {
   "cell_type": "code",
   "execution_count": 304,
   "metadata": {},
   "outputs": [],
   "source": [
    "# merge the two dataframes\n",
    "merged = pd.merge(df, df_capoyo, on='session_id', how='inner')\n",
    "# merge with stats\n",
    "merged = pd.merge(merged, df_stats, on='session_id', how='inner')"
   ]
  },
  {
   "cell_type": "code",
   "execution_count": 305,
   "metadata": {},
   "outputs": [
    {
     "data": {
      "text/plain": [
       "0      501021421\n",
       "1      501574836\n",
       "2      501729039\n",
       "3      501876401\n",
       "4      501929610\n",
       "         ...    \n",
       "428    712178483\n",
       "429    712178511\n",
       "430    712919665\n",
       "431    715923832\n",
       "432    716956096\n",
       "Name: session_id, Length: 433, dtype: int64"
      ]
     },
     "execution_count": 305,
     "metadata": {},
     "output_type": "execute_result"
    }
   ],
   "source": [
    "df_stats.session_id"
   ]
  },
  {
   "cell_type": "code",
   "execution_count": null,
   "metadata": {},
   "outputs": [],
   "source": []
  },
  {
   "cell_type": "code",
   "execution_count": 306,
   "metadata": {},
   "outputs": [
    {
     "data": {
      "text/plain": [
       "Text(0.5, 1.0, 'Average improvement: 7.29')"
      ]
     },
     "execution_count": 306,
     "metadata": {},
     "output_type": "execute_result"
    },
    {
     "data": {
      "image/png": "[encoded data removed]",
      "text/plain": [
       "<Figure size 400x400 with 1 Axes>"
      ]
     },
     "metadata": {},
     "output_type": "display_data"
    }
   ],
   "source": [
    "import matplotlib.pyplot as plt\n",
    "plt.figure(figsize=(4, 4))\n",
    "plt.scatter(merged['best_test_acc'], merged['value'], s=merged[\"num_ROIs\"] * 0.2)\n",
    "plt.xlim([0., 1])\n",
    "plt.ylim([0., 1])\n",
    "# plot x = y\n",
    "plt.plot([0, 1], [0, 1], color='red')\n",
    "plt.xlabel('MLP Accuracy')\n",
    "plt.ylabel('Multi-session CaPOYO Accuracy')\n",
    "# make legend for smallest and biggest num_ROIs\n",
    "plt.scatter([], [], s=5 * 0.2, c=\"tab:blue\", label='5 ROIs')\n",
    "plt.scatter([], [], s=100 * 0.2, c=\"tab:blue\", label='100 ROIs')\n",
    "# place legend on bottom right\n",
    "plt.legend(loc='lower right')\n",
    "\n",
    "plt.title(f\"Average improvement: {(merged['value'].mean() - merged['best_test_acc'].mean()) * 100:.2f}\", fontsize=10)"
   ]
  },
  {
   "cell_type": "code",
   "execution_count": 319,
   "metadata": {},
   "outputs": [
    {
     "data": {
      "text/html": [
       "<div>\n",
       "<style scoped>\n",
       "    .dataframe tbody tr th:only-of-type {\n",
       "        vertical-align: middle;\n",
       "    }\n",
       "\n",
       "    .dataframe tbody tr th {\n",
       "        vertical-align: top;\n",
       "    }\n",
       "\n",
       "    .dataframe thead th {\n",
       "        text-align: right;\n",
       "    }\n",
       "</style>\n",
       "<table border=\"1\" class=\"dataframe\">\n",
       "  <thead>\n",
       "    <tr style=\"text-align: right;\">\n",
       "      <th></th>\n",
       "      <th>session_id</th>\n",
       "      <th>run_count</th>\n",
       "      <th>best_val_acc</th>\n",
       "      <th>best_test_acc</th>\n",
       "      <th>metric</th>\n",
       "      <th>value</th>\n",
       "      <th>Session ID</th>\n",
       "      <th>old heldout</th>\n",
       "      <th>new heldout</th>\n",
       "      <th>Subject ID</th>\n",
       "      <th>Creline</th>\n",
       "      <th>Creline.1</th>\n",
       "      <th>depth</th>\n",
       "      <th>num_ROIs</th>\n",
       "      <th>num_timepoints</th>\n",
       "      <th>MLP_val_accuracy</th>\n",
       "      <th>MLP_test_accuracy</th>\n",
       "    </tr>\n",
       "  </thead>\n",
       "  <tbody>\n",
       "    <tr>\n",
       "      <th>339</th>\n",
       "      <td>510917254</td>\n",
       "      <td>100</td>\n",
       "      <td>0.483333</td>\n",
       "      <td>0.254848</td>\n",
       "      <td>val_allen_brain_observatory_calcium/510917254_...</td>\n",
       "      <td>0.358333</td>\n",
       "      <td>510917254</td>\n",
       "      <td>False</td>\n",
       "      <td>False</td>\n",
       "      <td>234584</td>\n",
       "      <td>Rbp4-Cre_KL100</td>\n",
       "      <td>VISpm</td>\n",
       "      <td>375</td>\n",
       "      <td>61</td>\n",
       "      <td>56611</td>\n",
       "      <td>39.69697</td>\n",
       "      <td>22.5</td>\n",
       "    </tr>\n",
       "  </tbody>\n",
       "</table>\n",
       "</div>"
      ],
      "text/plain": [
       "     session_id  run_count  best_val_acc  best_test_acc  \\\n",
       "339   510917254        100      0.483333       0.254848   \n",
       "\n",
       "                                                metric     value  Session ID  \\\n",
       "339  val_allen_brain_observatory_calcium/510917254_...  0.358333   510917254   \n",
       "\n",
       "     old heldout  new heldout  Subject ID         Creline Creline.1  depth  \\\n",
       "339        False        False      234584  Rbp4-Cre_KL100     VISpm    375   \n",
       "\n",
       "     num_ROIs  num_timepoints  MLP_val_accuracy  MLP_test_accuracy  \n",
       "339        61           56611          39.69697               22.5  "
      ]
     },
     "execution_count": 319,
     "metadata": {},
     "output_type": "execute_result"
    }
   ],
   "source": [
    "merged[merged[\"session_id\"]== 510917254]"
   ]
  },
  {
   "cell_type": "code",
   "execution_count": 222,
   "metadata": {},
   "outputs": [
    {
     "data": {
      "text/html": [
       "<div>\n",
       "<style scoped>\n",
       "    .dataframe tbody tr th:only-of-type {\n",
       "        vertical-align: middle;\n",
       "    }\n",
       "\n",
       "    .dataframe tbody tr th {\n",
       "        vertical-align: top;\n",
       "    }\n",
       "\n",
       "    .dataframe thead th {\n",
       "        text-align: right;\n",
       "    }\n",
       "</style>\n",
       "<table border=\"1\" class=\"dataframe\">\n",
       "  <thead>\n",
       "    <tr style=\"text-align: right;\">\n",
       "      <th></th>\n",
       "      <th>session_id</th>\n",
       "      <th>run_count</th>\n",
       "      <th>best_val_acc</th>\n",
       "      <th>best_test_acc</th>\n",
       "    </tr>\n",
       "  </thead>\n",
       "  <tbody>\n",
       "    <tr>\n",
       "      <th>162</th>\n",
       "      <td>550851591</td>\n",
       "      <td>28</td>\n",
       "      <td>0.383333</td>\n",
       "      <td>0.232687</td>\n",
       "    </tr>\n",
       "    <tr>\n",
       "      <th>210</th>\n",
       "      <td>639932847</td>\n",
       "      <td>36</td>\n",
       "      <td>0.716667</td>\n",
       "      <td>0.716667</td>\n",
       "    </tr>\n",
       "    <tr>\n",
       "      <th>316</th>\n",
       "      <td>510517131</td>\n",
       "      <td>39</td>\n",
       "      <td>0.661111</td>\n",
       "      <td>0.627778</td>\n",
       "    </tr>\n",
       "  </tbody>\n",
       "</table>\n",
       "</div>"
      ],
      "text/plain": [
       "     session_id  run_count  best_val_acc  best_test_acc\n",
       "162   550851591         28      0.383333       0.232687\n",
       "210   639932847         36      0.716667       0.716667\n",
       "316   510517131         39      0.661111       0.627778"
      ]
     },
     "execution_count": 222,
     "metadata": {},
     "output_type": "execute_result"
    }
   ],
   "source": [
    "df[df.run_count < 40]"
   ]
  },
  {
   "cell_type": "code",
   "execution_count": 216,
   "metadata": {},
   "outputs": [
    {
     "data": {
      "text/plain": [
       "{'501729039',\n",
       " '504115289',\n",
       " '512311673',\n",
       " '569457162',\n",
       " '570278597',\n",
       " '590047029',\n",
       " '604529230',\n",
       " '637115675',\n",
       " '639931541',\n",
       " '657650110',\n",
       " '669859475',\n",
       " '673914981',\n",
       " '703308071'}"
      ]
     },
     "execution_count": 216,
     "metadata": {},
     "output_type": "execute_result"
    }
   ],
   "source": [
    "session_ids = [\"501021421\",\"501574836\",\"501729039\",\"501876401\",\"501929610\",\"501933264\",\"501940850\",\"502115959\",\"502199136\",\"502205092\",\"502376461\",\"502608215\",\"502666254\",\"502793808\",\"502962794\",\"503109347\",\"503324629\",\"503412730\",\"504115289\",\"504568756\",\"504853580\",\"505407318\",\"505695962\",\"505845219\",\"506540916\",\"506773185\",\"506773892\",\"506809539\",\"506823562\",\"507129766\",\"507691036\",\"507990552\",\"508356957\",\"508563988\",\"508753256\",\"509580400\",\"509904120\",\"509958730\",\"510093797\",\"510214538\",\"510390912\",\"510514474\",\"510517131\",\"510859641\",\"510917254\",\"511194579\",\"511440894\",\"511534603\",\"511573879\",\"511595995\",\"512164988\",\"512270518\",\"512311673\",\"512326618\",\"524691284\",\"526504941\",\"527048992\",\"528402271\",\"529688779\",\"530645663\",\"531134090\",\"539290504\",\"539487468\",\"539497234\",\"540684467\",\"541010698\",\"541290571\",\"545446482\",\"546641574\",\"546716391\",\"547388708\",\"548379748\",\"550455111\",\"550490398\",\"550851591\",\"551834174\",\"551888519\",\"552410386\",\"552427971\",\"552760671\",\"553568031\",\"554037270\",\"555040116\",\"555042467\",\"555749369\",\"556321897\",\"556344224\",\"556353209\",\"556665481\",\"557225279\",\"557227804\",\"557304694\",\"557615965\",\"557848210\",\"558476282\",\"558670888\",\"559192380\",\"559382012\",\"560027980\",\"560578599\",\"560809202\",\"560866155\",\"560898462\",\"560920977\",\"560926639\",\"561312435\",\"561472633\",\"562052595\",\"562122508\",\"562536153\",\"562711440\",\"563176332\",\"563710064\",\"564425777\",\"564607188\",\"565216523\",\"565698388\",\"566096665\",\"566307038\",\"566458505\",\"567878987\",\"569299884\",\"569396924\",\"569457162\",\"569645690\",\"569718097\",\"569739027\",\"569792817\",\"569896493\",\"570008444\",\"570236381\",\"570278597\",\"570305847\",\"571006300\",\"571137446\",\"571177441\",\"571541565\",\"571642389\",\"571684733\",\"572606382\",\"572722662\",\"573083539\",\"573261515\",\"573720508\",\"573850303\",\"574823092\",\"575135986\",\"575302108\",\"575939366\",\"575970700\",\"576001843\",\"576095926\",\"576273468\",\"576411246\",\"577379202\",\"577665023\",\"578674360\",\"580013262\",\"580043440\",\"580051759\",\"580095647\",\"580095655\",\"580163817\",\"581026088\",\"581150104\",\"581153070\",\"581597734\",\"582838758\",\"582867147\",\"582918858\",\"583136567\",\"583279803\",\"584196534\",\"584544569\",\"584944065\",\"584983136\",\"585035184\",\"585900296\",\"587339481\",\"587344053\",\"588191926\",\"588483711\",\"588655112\",\"589441079\",\"589755795\",\"590047029\",\"590168385\",\"591430494\",\"591460070\",\"591548033\",\"592348507\",\"592407200\",\"592657427\",\"593270603\",\"593373156\",\"593552712\",\"594090967\",\"594320795\",\"595183197\",\"595263154\",\"595273803\",\"595718342\",\"595806300\",\"595808594\",\"596509886\",\"596584192\",\"596779487\",\"597028938\",\"598137246\",\"598564173\",\"598635821\",\"599320182\",\"599909878\",\"601273921\",\"601368107\",\"601423209\",\"601705404\",\"601805379\",\"601841437\",\"601887677\",\"601904502\",\"601910964\",\"602866800\",\"603187982\",\"603188560\",\"603224878\",\"603425659\",\"603452291\",\"603576132\",\"603592541\",\"603763073\",\"603978471\",\"604145810\",\"604328043\",\"604529230\",\"605606109\",\"605688822\",\"605800963\",\"605859367\",\"605883133\",\"606353987\",\"606802468\",\"607063420\",\"609517556\",\"609894681\",\"611638995\",\"611658482\",\"612044635\",\"612534310\",\"612536911\",\"612543999\",\"612549085\",\"613091721\",\"613599811\",\"613968705\",\"614556106\",\"614571626\",\"616779893\",\"617381605\",\"617388117\",\"617395455\",\"623339221\",\"623347352\",\"623587006\",\"626027944\",\"627823636\",\"627823695\",\"637115675\",\"637126541\",\"637154333\",\"637669270\",\"637669284\",\"637671554\",\"637998955\",\"638056634\",\"638262558\",\"638862121\",\"639117196\",\"639117826\",\"639251932\",\"639931541\",\"639932847\",\"640198011\",\"642278925\",\"642884591\",\"643062797\",\"643592303\",\"643645390\",\"644026238\",\"644051974\",\"644386884\",\"644947716\",\"645086975\",\"645256361\",\"645413759\",\"645689073\",\"646016204\",\"647143225\",\"647155122\",\"647595665\",\"647595671\",\"647598519\",\"647603932\",\"649324898\",\"649401936\",\"649409874\",\"649938038\",\"650079244\",\"651769499\",\"651770186\",\"651770380\",\"651770794\",\"652091264\",\"652092676\",\"652094901\",\"652094917\",\"652096183\",\"652737678\",\"652737867\",\"652842495\",\"652842572\",\"652989442\",\"653122667\",\"653123929\",\"653125130\",\"653126877\",\"653551965\",\"653932505\",\"654532828\",\"657009581\",\"657016267\",\"657078119\",\"657080632\",\"657082055\",\"657224241\",\"657389972\",\"657390171\",\"657391037\",\"657391625\",\"657650110\",\"657775947\",\"657776356\",\"657785850\",\"657914280\",\"657915168\",\"658020691\",\"658518486\",\"658533763\",\"658854537\",\"659491419\",\"660064796\",\"660510593\",\"660513003\",\"661328410\",\"661437140\",\"662033243\",\"662219852\",\"662348804\",\"662351164\",\"662358771\",\"662359728\",\"662361096\",\"662974315\",\"662982346\",\"663479824\",\"663485329\",\"663866413\",\"663876406\",\"664404274\",\"664914611\",\"665307545\",\"665722301\",\"665726618\",\"667004159\",\"669233895\",\"669237515\",\"669859475\",\"669861524\",\"670395725\",\"670395999\",\"670721589\",\"670728674\",\"671164733\",\"671618887\",\"672206735\",\"672207947\",\"672211004\",\"673171528\",\"673475020\",\"673914981\",\"674275260\",\"674276329\",\"674679019\",\"675477919\",\"676024666\",\"676503588\",\"679700458\",\"679702884\",\"680150733\",\"680156911\",\"682049099\",\"682051855\",\"683253712\",\"683257169\",\"685816006\",\"686441799\",\"686442556\",\"686449092\",\"686909240\",\"688580172\",\"688678766\",\"689388034\",\"691197571\",\"692345003\",\"692345336\",\"696156783\",\"698260532\",\"698762886\",\"699155265\",\"701046700\",\"702934964\",\"703308071\",\"704298735\",\"707006626\",\"707923645\",\"710502981\",\"710504563\",\"710778377\",\"712178483\",\"712178511\",\"712919665\",\"715923832\",\"716956096\"]\n",
    "\n",
    "# find session ids that are in the merged dataframe but not in the session_ids list\n",
    "missing = set(session_ids) - set(df['session_id'].astype(str)) \n",
    "missing"
   ]
  },
  {
   "cell_type": "code",
   "execution_count": 274,
   "metadata": {},
   "outputs": [],
   "source": [
    "df_capoyo_1 = pd.read_csv('wandb_export_2024-05-09T13_22_15.265-04_00.csv')\n",
    "df_capoyo_2 = pd.read_csv('wandb_export_2024-05-15T15_41_42.966-04_00.csv')"
   ]
  },
  {
   "cell_type": "code",
   "execution_count": null,
   "metadata": {},
   "outputs": [],
   "source": []
  },
  {
   "cell_type": "code",
   "execution_count": 275,
   "metadata": {},
   "outputs": [],
   "source": [
    "# merge and rename value to value_1 and value_2 respectively\n",
    "df_capoyo_merged = pd.merge(df_capoyo_1, df_capoyo_2, on='metric', how='inner', suffixes=('_1', '_2'))"
   ]
  },
  {
   "cell_type": "code",
   "execution_count": 281,
   "metadata": {},
   "outputs": [],
   "source": [
    "df_capoyo_merged['session_id'] = df_capoyo_merged['metric'].apply(lambda x: x[36:36+9]).astype(int)\n",
    "# merge with stats\n",
    "df_capoyo_merged = pd.merge(df_capoyo_merged, df_stats, on='session_id', how='inner')"
   ]
  },
  {
   "cell_type": "code",
   "execution_count": 282,
   "metadata": {},
   "outputs": [
    {
     "data": {
      "text/plain": [
       "Text(0.5, 1.0, 'Average improvement: -1.87')"
      ]
     },
     "execution_count": 282,
     "metadata": {},
     "output_type": "execute_result"
    },
    {
     "data": {
      "image/png": "[encoded data removed]",
      "text/plain": [
       "<Figure size 400x400 with 1 Axes>"
      ]
     },
     "metadata": {},
     "output_type": "display_data"
    }
   ],
   "source": [
    "import matplotlib.pyplot as plt\n",
    "plt.figure(figsize=(4, 4))\n",
    "plt.scatter(df_capoyo_merged['value_1'], df_capoyo_merged['value_2'],) # s=merged[\"num_ROIs\"] * 0.2)\n",
    "plt.xlim([0., 1])\n",
    "plt.ylim([0., 1])\n",
    "# plot x = y\n",
    "plt.plot([0, 1], [0, 1], color='red')\n",
    "plt.xlabel('Old Accuracy')\n",
    "plt.ylabel('New Accuracy')\n",
    "# make legend for smallest and biggest num_ROIs\n",
    "plt.scatter([], [], s=5 * 0.2, c=\"tab:blue\", label='5 ROIs')\n",
    "plt.scatter([], [], s=100 * 0.2, c=\"tab:blue\", label='100 ROIs')\n",
    "# place legend on bottom right\n",
    "plt.legend(loc='lower right')\n",
    "\n",
    "plt.title(f\"Average improvement: {(df_capoyo_merged['value_2'].mean() - df_capoyo_merged['value_1'].mean()) * 100:.2f}\", fontsize=10)"
   ]
  },
  {
   "cell_type": "code",
   "execution_count": 285,
   "metadata": {},
   "outputs": [
    {
     "data": {
      "text/plain": [
       "<matplotlib.legend.Legend at 0x3b0128590>"
      ]
     },
     "execution_count": 285,
     "metadata": {},
     "output_type": "execute_result"
    },
    {
     "data": {
      "image/png": "[encoded data removed]",
      "text/plain": [
       "<Figure size 400x400 with 1 Axes>"
      ]
     },
     "metadata": {},
     "output_type": "display_data"
    }
   ],
   "source": [
    "plt.figure(figsize=(4, 4))\n",
    "plt.scatter(df_capoyo_merged['num_ROIs'], df_capoyo_merged['value_2'] - df_capoyo_merged[\"value_1\"],) # s=merged[\"num_ROIs\"] * 0.2)\n",
    "# plot x = y\n",
    "plt.plot([0, 1], [0, 1], color='red')\n",
    "plt.xlabel('Old Accuracy')\n",
    "plt.ylabel('New Accuracy')\n",
    "# make legend for smallest and biggest num_ROIs\n",
    "plt.scatter([], [], s=5 * 0.2, c=\"tab:blue\", label='5 ROIs')\n",
    "plt.scatter([], [], s=100 * 0.2, c=\"tab:blue\", label='100 ROIs')\n",
    "# place legend on bottom right\n",
    "plt.legend(loc='lower right')\n"
   ]
  },
  {
   "cell_type": "code",
   "execution_count": 225,
   "metadata": {},
   "outputs": [
    {
     "data": {
      "text/html": [
       "<div>\n",
       "<style scoped>\n",
       "    .dataframe tbody tr th:only-of-type {\n",
       "        vertical-align: middle;\n",
       "    }\n",
       "\n",
       "    .dataframe tbody tr th {\n",
       "        vertical-align: top;\n",
       "    }\n",
       "\n",
       "    .dataframe thead th {\n",
       "        text-align: right;\n",
       "    }\n",
       "</style>\n",
       "<table border=\"1\" class=\"dataframe\">\n",
       "  <thead>\n",
       "    <tr style=\"text-align: right;\">\n",
       "      <th></th>\n",
       "      <th>session_id</th>\n",
       "      <th>run_count</th>\n",
       "      <th>best_val_acc</th>\n",
       "      <th>best_test_acc</th>\n",
       "    </tr>\n",
       "  </thead>\n",
       "  <tbody>\n",
       "    <tr>\n",
       "      <th>401</th>\n",
       "      <td>698762886</td>\n",
       "      <td>240</td>\n",
       "      <td>0.805556</td>\n",
       "      <td>0.683333</td>\n",
       "    </tr>\n",
       "  </tbody>\n",
       "</table>\n",
       "</div>"
      ],
      "text/plain": [
       "     session_id  run_count  best_val_acc  best_test_acc\n",
       "401   698762886        240      0.805556       0.683333"
      ]
     },
     "execution_count": 225,
     "metadata": {},
     "output_type": "execute_result"
    }
   ],
   "source": [
    "df[df.session_id == 698762886]"
   ]
  },
  {
   "cell_type": "code",
   "execution_count": 320,
   "metadata": {},
   "outputs": [
    {
     "data": {
      "text/plain": [
       "Text(0, 0.5, 'Average accuracy over sessions')"
      ]
     },
     "execution_count": 320,
     "metadata": {},
     "output_type": "execute_result"
    },
    {
     "data": {
      "image/png": "[encoded data removed]",
      "text/plain": [
       "<Figure size 500x300 with 1 Axes>"
      ]
     },
     "metadata": {},
     "output_type": "display_data"
    }
   ],
   "source": [
    "\n",
    "import wandb\n",
    "import numpy as np\n",
    "import pandas as pd\n",
    "import matplotlib.pyplot as plt\n",
    "\n",
    "run_id = \"neuro-galaxy/lightning_logs/sp03hpny\"\n",
    "#run_id = \"neuro-galaxy/lightning_logs/3s47ycus\"\n",
    "# run_id = \"neuro-galaxy/lightning_logs/8xezifn8\"\n",
    "\n",
    "api = wandb.Api()\n",
    "run = api.run(run_id)\n",
    "\n",
    "all_keys = list(run.summary.keys())\n",
    "val_keys = [x for x in all_keys if x.startswith(\"val_allen\")]\n",
    "\n",
    "metrics = run.history(x_axis=\"epoch\", keys=val_keys)\n",
    "epoch_count = metrics[\"epoch\"].to_numpy()\n",
    "metrics = metrics.drop(\"epoch\", axis=1)\n",
    "\n",
    "plt.figure(figsize=(5,3))\n",
    "plt.plot(epoch_count, metrics.mean(axis=1))\n",
    "plt.xlabel(\"Epoch\")\n",
    "plt.ylabel(\"Average accuracy over sessions\")"
   ]
  },
  {
   "cell_type": "code",
   "execution_count": 317,
   "metadata": {},
   "outputs": [
    {
     "data": {
      "text/plain": [
       "0.6057704364907279"
      ]
     },
     "execution_count": 317,
     "metadata": {},
     "output_type": "execute_result"
    }
   ],
   "source": [
    "0.995 ** 100"
   ]
  },
  {
   "cell_type": "code",
   "execution_count": null,
   "metadata": {},
   "outputs": [],
   "source": []
  }
 ],
 "metadata": {
  "kernelspec": {
   "display_name": "venv",
   "language": "python",
   "name": "python3"
  },
  "language_info": {
   "codemirror_mode": {
    "name": "ipython",
    "version": 3
   },
   "file_extension": ".py",
   "mimetype": "text/x-python",
   "name": "python",
   "nbconvert_exporter": "python",
   "pygments_lexer": "ipython3",
   "version": "3.11.8"
  }
 },
 "nbformat": 4,
 "nbformat_minor": 2
}
