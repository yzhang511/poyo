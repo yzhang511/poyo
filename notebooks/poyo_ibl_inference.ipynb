{
 "cells": [
  {
   "cell_type": "markdown",
   "metadata": {},
   "source": [
    "# Using POYO\n",
    "\n",
    "This notebook will walk you through three concepts:\n",
    "1. Loading a dataset using our `Dataset` object\n",
    "2. Loading the POYO model and applying pretrained weights\n",
    "3. Performing inference and measuring accuracy"
   ]
  },
  {
   "cell_type": "code",
   "execution_count": 1,
   "metadata": {},
   "outputs": [],
   "source": [
    "import numpy as np\n",
    "import torch\n",
    "import matplotlib.pyplot as plt\n",
    "import random\n",
    "\n",
    "import omegaconf                 # for loading model configuration from a file\n",
    "from torchmetrics import R2Score # for measuring accuracy\n",
    "\n",
    "from kirby.data import Dataset, collate\n",
    "import kirby.taxonomy"
   ]
  },
  {
   "cell_type": "markdown",
   "metadata": {},
   "source": [
    "## Loading the dataset\n",
    "Let's first load a single session recording from [Perich-Miller's dataset](https://dandiarchive.org/dandiset/000688). "
   ]
  },
  {
   "cell_type": "code",
   "execution_count": 2,
   "metadata": {},
   "outputs": [],
   "source": [
    "dataset = Dataset(\n",
    "    root=\"/home/yzhang39/project-kirby/data/processed/\",\n",
    "    split=\"test\", # \"train\"/\"valid\"/\"test\"\n",
    "    include=[{\n",
    "        \"selection\": [{\n",
    "            \"dandiset\": \"ibl\",\n",
    "            \"sortsets\": {\"c7bf2d49-4937-4597-b307-9f39cb1c7b16\"},\n",
    "        }],\n",
    "    }],\n",
    ")"
   ]
  },
  {
   "cell_type": "markdown",
   "metadata": {},
   "source": [
    "Now let's pick a random sample and plot its spike train"
   ]
  },
  {
   "cell_type": "code",
   "execution_count": 3,
   "metadata": {},
   "outputs": [
    {
     "data": {
      "text/plain": [
       "{'ibl/c7bf2d49-4937-4597-b307-9f39cb1c7b16': {'filename': PosixPath('/home/yzhang39/project-kirby/data/processed/ibl/c7bf2d49-4937-4597-b307-9f39cb1c7b16.h5'),\n",
       "  'sampling_intervals': Interval(\n",
       "    start=[60],\n",
       "    end=[60]\n",
       "  ),\n",
       "  'config': {}}}"
      ]
     },
     "execution_count": 3,
     "metadata": {},
     "output_type": "execute_result"
    }
   ],
   "source": [
    "dataset.session_info_dict"
   ]
  },
  {
   "cell_type": "code",
   "execution_count": 4,
   "metadata": {},
   "outputs": [],
   "source": [
    "torch.set_float32_matmul_precision(\"medium\")"
   ]
  },
  {
   "cell_type": "code",
   "execution_count": 5,
   "metadata": {},
   "outputs": [],
   "source": [
    "from hydra import compose, initialize\n",
    "from omegaconf import OmegaConf\n",
    "\n",
    "with initialize(version_base=\"1.3\", config_path=\"../configs\", job_name=\"test_app\"):\n",
    "    cfg = compose(config_name=\"train_ibl.yaml\")"
   ]
  },
  {
   "cell_type": "code",
   "execution_count": 6,
   "metadata": {},
   "outputs": [],
   "source": [
    "import hydra\n",
    "from kirby.taxonomy import decoder_registry\n",
    "model = hydra.utils.instantiate(\n",
    "    cfg.model,\n",
    "    task_specs=decoder_registry,\n",
    "    backend_config=cfg.backend_config,\n",
    "    _convert_=\"object\",\n",
    ")"
   ]
  },
  {
   "cell_type": "code",
   "execution_count": 7,
   "metadata": {},
   "outputs": [],
   "source": [
    "sequence_length = 1.0\n",
    "transforms = hydra.utils.instantiate(\n",
    "    cfg.train_transforms, sequence_length=sequence_length\n",
    ")"
   ]
  },
  {
   "cell_type": "code",
   "execution_count": 8,
   "metadata": {},
   "outputs": [
    {
     "data": {
      "text/plain": [
       "<All keys matched successfully>"
      ]
     },
     "execution_count": 8,
     "metadata": {},
     "output_type": "execute_result"
    }
   ],
   "source": [
    "ckpt = torch.load('/home/yzhang39/project-kirby/logs/lightning_logs/2xpi3x0u/last.ckpt', map_location=\"cpu\")\n",
    "state_dict = ckpt[\"state_dict\"]        \n",
    "\n",
    "new_state_dict = {}\n",
    "for key, value in state_dict.items():\n",
    "    # new_key = key.removeprefix(\"model.\")\n",
    "    new_key = key[6:]\n",
    "    new_state_dict[new_key] = state_dict[key]\n",
    "\n",
    "model.load_state_dict(new_state_dict)"
   ]
  },
  {
   "cell_type": "code",
   "execution_count": 9,
   "metadata": {},
   "outputs": [],
   "source": [
    "from kirby.models import POYOPlusTokenizer\n",
    "from kirby.transforms import Compose\n",
    "\n",
    "tokenizer = POYOPlusTokenizer(\n",
    "    model.unit_emb.tokenizer,\n",
    "    model.session_emb.tokenizer,\n",
    "    decoder_registry=decoder_registry,\n",
    "    latent_step=1 / 8,\n",
    "    num_latents_per_step=cfg.model.num_latents,\n",
    "    batch_type=model.batch_type,\n",
    ")\n",
    "\n",
    "transform = Compose([*transforms, tokenizer])"
   ]
  },
  {
   "cell_type": "code",
   "execution_count": 10,
   "metadata": {},
   "outputs": [],
   "source": [
    "from kirby.data.sampler import SequentialFixedWindowSampler\n",
    "from torch.utils.data import DataLoader\n",
    "\n",
    "val_tokenizer = tokenizer\n",
    "val_tokenizer.eval = True\n",
    "val_dataset = Dataset(\n",
    "    cfg.data_root,\n",
    "    \"test\",\n",
    "    include=OmegaConf.to_container(cfg.dataset),  # converts to native list[dicts]\n",
    "    transform=val_tokenizer,\n",
    ")\n",
    "val_sampler = SequentialFixedWindowSampler(\n",
    "    interval_dict=val_dataset.get_sampling_intervals(),\n",
    "    window_length=sequence_length,\n",
    "    step=sequence_length / 2,\n",
    ")\n",
    "\n",
    "val_loader = DataLoader(\n",
    "    val_dataset,\n",
    "    sampler=val_sampler,\n",
    "    collate_fn=collate,\n",
    "    batch_size=cfg.get(\n",
    "        \"eval_batch_size\", cfg.batch_size\n",
    "    ),  # Default to training batch size, but allow override in config.\n",
    "    num_workers=1,\n",
    ")"
   ]
  },
  {
   "cell_type": "code",
   "execution_count": 11,
   "metadata": {},
   "outputs": [
    {
     "name": "stderr",
     "output_type": "stream",
     "text": [
      "/home/yzhang39/miniconda3/envs/poyo/lib/python3.8/site-packages/lightning/pytorch/utilities/parsing.py:197: UserWarning: Attribute 'model' is an instance of `nn.Module` and is already saved during checkpointing. It is recommended to ignore them using `self.save_hyperparameters(ignore=['model'])`.\n",
      "  rank_zero_warn(\n"
     ]
    }
   ],
   "source": [
    "from torch_optimizer import Lamb\n",
    "from lightning.pytorch.callbacks import (\n",
    "    LearningRateMonitor,\n",
    "    ModelCheckpoint,\n",
    "    ModelSummary,\n",
    ")\n",
    "\n",
    "max_lr = cfg.base_lr * cfg.batch_size\n",
    "\n",
    "epochs = cfg.epochs\n",
    "\n",
    "optimizer = Lamb(\n",
    "    model.parameters(),  # filter(lambda p: p.requires_grad, model.parameters()),\n",
    "    lr=max_lr,\n",
    "    weight_decay=cfg.weight_decay,\n",
    ")\n",
    "\n",
    "scheduler = torch.optim.lr_scheduler.OneCycleLR(\n",
    "    optimizer,\n",
    "    max_lr=max_lr,\n",
    "    epochs=epochs,\n",
    "    steps_per_epoch=len(val_loader),\n",
    "    pct_start=cfg.pct_start,\n",
    "    anneal_strategy=\"cos\",\n",
    "    div_factor=1,\n",
    ")\n",
    "\n",
    "# Now we create the model wrapper. It's a simple shim that contains the train and\n",
    "# test code.\n",
    "from kirby.utils import train_wrapper\n",
    "wrapper = train_wrapper.TrainWrapper(\n",
    "    model=model,\n",
    "    optimizer=optimizer,\n",
    "    scheduler=scheduler,\n",
    ")\n",
    "\n",
    "callbacks = [\n",
    "    ModelSummary(max_depth=2),  # Displays the number of parameters in the model.\n",
    "    ModelCheckpoint(\n",
    "        dirpath=f\"logs/lightning_logs/\",\n",
    "        save_last=True,\n",
    "        save_on_train_epoch_end=True,\n",
    "        every_n_epochs=cfg.eval_epochs,\n",
    "    ),\n",
    "    train_wrapper.CustomValidator(val_loader),\n",
    "    LearningRateMonitor(\n",
    "        logging_interval=\"step\"\n",
    "    ),  # Create a callback to log the learning rate.\n",
    "]"
   ]
  },
  {
   "cell_type": "code",
   "execution_count": 12,
   "metadata": {},
   "outputs": [
    {
     "name": "stderr",
     "output_type": "stream",
     "text": [
      "Trainer already configured with model summary callbacks: [<class 'lightning.pytorch.callbacks.model_summary.ModelSummary'>]. Skipping setting a default `ModelSummary` callback.\n",
      "GPU available: True (cuda), used: True\n",
      "TPU available: False, using: 0 TPU cores\n",
      "IPU available: False, using: 0 IPUs\n",
      "HPU available: False, using: 0 HPUs\n"
     ]
    }
   ],
   "source": [
    "import lightning\n",
    "trainer = lightning.Trainer(\n",
    "    # logger=[tb, wandb],\n",
    "    default_root_dir=cfg.log_dir,\n",
    "    check_val_every_n_epoch=cfg.eval_epochs,\n",
    "    max_epochs=epochs,\n",
    "    log_every_n_steps=1,\n",
    "    strategy=(\n",
    "        \"auto\" if torch.cuda.is_available() else \"auto\"\n",
    "    ),\n",
    "    callbacks=callbacks,\n",
    "    num_sanity_val_steps=0,\n",
    "    precision=cfg.precision,\n",
    "    reload_dataloaders_every_n_epochs=5,\n",
    "    accelerator=\"gpu\",\n",
    "    devices=cfg.gpus,\n",
    "    num_nodes=cfg.nodes,\n",
    ")"
   ]
  },
  {
   "cell_type": "code",
   "execution_count": 13,
   "metadata": {},
   "outputs": [],
   "source": [
    "def move_to_gpu(d, device):\n",
    "    for k, v in d.items():\n",
    "        if isinstance(v, dict):\n",
    "            move_to_gpu(v, device)\n",
    "        elif isinstance(v, torch.Tensor):\n",
    "            d[k] = v.to(device)"
   ]
  },
  {
   "cell_type": "code",
   "execution_count": 14,
   "metadata": {},
   "outputs": [
    {
     "name": "stderr",
     "output_type": "stream",
     "text": [
      "100%|██████████| 1/1 [00:02<00:00,  2.63s/it]\n"
     ]
    }
   ],
   "source": [
    "from tqdm import tqdm\n",
    "from kirby.taxonomy import Decoder, OutputType, Task\n",
    "\n",
    "session_timestamp = {}\n",
    "session_subtask_index = {}\n",
    "session_gt_output = {}\n",
    "session_pred_output = {}\n",
    "\n",
    "for batch in tqdm(val_loader):\n",
    "    absolute_starts = batch.pop(\"absolute_start\")  # (B,)\n",
    "    session_ids = batch.pop(\"session_id\")  # (B,)\n",
    "    output_subtask_index = batch.pop(\"output_subtask_index\")\n",
    "\n",
    "    batch_format = None\n",
    "    if \"input_mask\" in batch:\n",
    "        batch_format = \"padded\"\n",
    "    elif \"input_seqlen\" in batch:\n",
    "        batch_format = \"chained\"\n",
    "    else:\n",
    "        raise ValueError(\"Invalid batch format.\")\n",
    "\n",
    "    # move_to_gpu(batch, pl_module)\n",
    "    device = torch.device(\"cuda:0\" if torch.cuda.is_available() else \"cpu\") \n",
    "    model.to(device)\n",
    "    move_to_gpu(batch, device)\n",
    "\n",
    "    # Autocast is explicitly set based on the precision specified by the user.\n",
    "    # By default, torch autocasts to float16 for 16-bit inference.\n",
    "    # This behavior is overridden to use bfloat16 if specified in trainer.precision.\n",
    "    # If 16-bit inference is not enabled, autocast is not used.\n",
    "    def get_autocast_args(trainer):\n",
    "        if trainer.precision.startswith(\"bf16\"):\n",
    "            return torch.bfloat16, True\n",
    "        elif trainer.precision.startswith(\"16\"):\n",
    "            return torch.float16, True\n",
    "        else:\n",
    "            return None, False\n",
    "\n",
    "    dtype, enabled = get_autocast_args(trainer)\n",
    "    # forward pass\n",
    "    with torch.cuda.amp.autocast(enabled=enabled, dtype=dtype):\n",
    "        with torch.inference_mode():\n",
    "            pred_output, loss, losses_taskwise = model(**batch)\n",
    "\n",
    "    # we need to get the timestamps, the ground truth values, the task ids as well\n",
    "    # as the subtask ids. since the batch is padded and chained, this is a bit tricky\n",
    "    # tldr: this extracts the ground truth in the same format as the model output\n",
    "    batch_size = len(pred_output)\n",
    "    # get gt_output and timestamps to be in the same format as pred_output\n",
    "    timestamps = [{} for _ in range(batch_size)]\n",
    "    subtask_index = [{} for _ in range(batch_size)]\n",
    "    gt_output = [{} for _ in range(batch_size)]\n",
    "\n",
    "    # collect ground truth\n",
    "    for taskname, spec in model.readout.decoder_specs.items():\n",
    "        taskid = Decoder.from_string(taskname).value\n",
    "\n",
    "        # get the mask of tokens that belong to this task\n",
    "        mask = batch[\"output_decoder_index\"] == taskid\n",
    "\n",
    "        if not torch.any(mask):\n",
    "            # there is not a single token for this task, so we skip\n",
    "            continue\n",
    "\n",
    "        # we need to distribute the outputs to their respective samples\n",
    "\n",
    "        if batch_format == \"padded\":\n",
    "            token_batch = torch.where(mask)[0]\n",
    "        elif batch_format == \"chained\":\n",
    "            token_batch = batch[\"output_batch_index\"][mask]\n",
    "\n",
    "        batch_i, token_batch = torch.unique(token_batch, return_inverse=True)\n",
    "        for i in range(len(batch_i)):\n",
    "            timestamps[batch_i[i]][taskname] = (\n",
    "                batch[\"output_timestamps\"][mask][token_batch == i]\n",
    "                + absolute_starts[batch_i[i]]\n",
    "            )\n",
    "            subtask_index[batch_i[i]][taskname] = output_subtask_index[\n",
    "                taskname\n",
    "            ][(token_batch == i).detach().cpu()]\n",
    "            gt_output[batch_i[i]][taskname] = batch[\"output_values\"][taskname][\n",
    "                token_batch == i\n",
    "            ]\n",
    "\n",
    "    # register all of the data\n",
    "    for i in range(batch_size):\n",
    "        session_id = session_ids[i]\n",
    "\n",
    "        if session_id not in session_pred_output:\n",
    "            session_pred_output[session_id] = {}\n",
    "            session_gt_output[session_id] = {}\n",
    "            session_timestamp[session_id] = {}\n",
    "            session_subtask_index[session_id] = {}\n",
    "\n",
    "        for taskname, pred_values in pred_output[i].items():\n",
    "            if taskname not in session_pred_output[session_id]:\n",
    "                session_pred_output[session_id][\n",
    "                    taskname\n",
    "                ] = pred_values.detach().cpu()\n",
    "                session_gt_output[session_id][taskname] = (\n",
    "                    gt_output[i][taskname].detach().cpu()\n",
    "                )\n",
    "                session_timestamp[session_id][taskname] = (\n",
    "                    timestamps[i][taskname].detach().cpu()\n",
    "                )\n",
    "                session_subtask_index[session_id][taskname] = (\n",
    "                    subtask_index[i][taskname].detach().cpu()\n",
    "                )\n",
    "            else:\n",
    "                session_pred_output[session_id][taskname] = torch.cat(\n",
    "                    (\n",
    "                        session_pred_output[session_id][taskname],\n",
    "                        pred_values.detach().cpu(),\n",
    "                    )\n",
    "                )\n",
    "                session_gt_output[session_id][taskname] = torch.cat(\n",
    "                    (\n",
    "                        session_gt_output[session_id][taskname],\n",
    "                        gt_output[i][taskname].detach().cpu(),\n",
    "                    )\n",
    "                )\n",
    "                session_timestamp[session_id][taskname] = torch.cat(\n",
    "                    (\n",
    "                        session_timestamp[session_id][taskname],\n",
    "                        timestamps[i][taskname].detach().cpu(),\n",
    "                    )\n",
    "                )\n",
    "                session_subtask_index[session_id][taskname] = torch.cat(\n",
    "                    (\n",
    "                        session_subtask_index[session_id][taskname],\n",
    "                        subtask_index[i][taskname].detach().cpu(),\n",
    "                    )\n",
    "                )"
   ]
  },
  {
   "cell_type": "code",
   "execution_count": 15,
   "metadata": {},
   "outputs": [],
   "source": [
    "session_id = 'ibl/c7bf2d49-4937-4597-b307-9f39cb1c7b16'\n",
    "task_name = 'WHISKER'"
   ]
  },
  {
   "cell_type": "code",
   "execution_count": 16,
   "metadata": {},
   "outputs": [
    {
     "name": "stdout",
     "output_type": "stream",
     "text": [
      "0.8666666666666667\n",
      "0.6470588235294118\n"
     ]
    }
   ],
   "source": [
    "from sklearn.metrics import accuracy_score, balanced_accuracy_score\n",
    "choice = session_gt_output[session_id]['CHOICE']\n",
    "pred = session_pred_output[session_id]['CHOICE'].argmax(-1)\n",
    "print(accuracy_score(choice, pred))\n",
    "print(balanced_accuracy_score(choice, pred))"
   ]
  },
  {
   "cell_type": "code",
   "execution_count": 17,
   "metadata": {},
   "outputs": [
    {
     "name": "stdout",
     "output_type": "stream",
     "text": [
      "0.7333333333333333\n",
      "0.7691197691197691\n"
     ]
    }
   ],
   "source": [
    "block = session_gt_output[session_id]['BLOCK']\n",
    "pred = session_pred_output[session_id]['BLOCK'].argmax(-1)\n",
    "print(accuracy_score(block, pred))\n",
    "print(balanced_accuracy_score(block, pred))"
   ]
  },
  {
   "cell_type": "code",
   "execution_count": 23,
   "metadata": {},
   "outputs": [],
   "source": [
    "reward = dataset.get_session_data(session_id).reward.reward"
   ]
  },
  {
   "cell_type": "code",
   "execution_count": null,
   "metadata": {},
   "outputs": [],
   "source": []
  },
  {
   "cell_type": "code",
   "execution_count": 24,
   "metadata": {},
   "outputs": [],
   "source": [
    "wh_gt = session_gt_output[session_id]['WHEEL']\n",
    "wh_pred = session_pred_output[session_id]['WHEEL']\n",
    "wh_timestamps = session_timestamp[session_id]['WHEEL']\n",
    "wh_subtask_index = session_subtask_index[session_id]['WHEEL']\n",
    "\n",
    "me_gt = session_gt_output[session_id]['WHISKER']\n",
    "me_pred = session_pred_output[session_id]['WHISKER']\n",
    "me_timestamps = session_timestamp[session_id]['WHISKER']\n",
    "me_subtask_index = session_subtask_index[session_id]['WHISKER']"
   ]
  },
  {
   "cell_type": "code",
   "execution_count": 26,
   "metadata": {},
   "outputs": [
    {
     "name": "stdout",
     "output_type": "stream",
     "text": [
      "R2 score: 0.388\n"
     ]
    },
    {
     "data": {
      "image/png": "[encoded data removed]",
      "text/plain": [
       "<Figure size 640x480 with 1 Axes>"
      ]
     },
     "metadata": {},
     "output_type": "display_data"
    }
   ],
   "source": [
    "from sklearn.metrics import r2_score\n",
    "\n",
    "r2score = R2Score(num_outputs=me_gt.shape[1])\n",
    "r2 = r2score(me_gt, me_pred).item()\n",
    "print(f\"R2 score: {r2:.3f}\")\n",
    "\n",
    "# Plotting the result\n",
    "plt.plot(me_gt[:500], label=\"Ground truth\")\n",
    "plt.plot(me_pred[:500], label=\"Predicted\")\n",
    "# plt.title(f\"$R^2$ = {r2:.3f}\")\n",
    "plt.legend()\n",
    "plt.show()"
   ]
  },
  {
   "cell_type": "code",
   "execution_count": 27,
   "metadata": {},
   "outputs": [],
   "source": [
    "import sys\n",
    "import uuid\n",
    "import multiprocessing\n",
    "from scipy.interpolate import interp1d\n",
    "\n",
    "def globalize(func):\n",
    "  def result(*args, **kwargs):\n",
    "    return func(*args, **kwargs)\n",
    "  result.__name__ = result.__qualname__ = uuid.uuid4().hex\n",
    "  setattr(sys.modules[result.__module__], result.__name__, result)\n",
    "  return result\n",
    "\n",
    "def get_behavior_per_interval(\n",
    "    target_times, \n",
    "    target_vals, \n",
    "    intervals=None, \n",
    "    trials_df=None, \n",
    "    allow_nans=False, \n",
    "    n_workers=1, \n",
    "    **kwargs\n",
    "):\n",
    "    \"\"\"\n",
    "    Format a single session-wide array of target data into a list of interval-based arrays.\n",
    "\n",
    "    Note: the bin size of the returned data will only be equal to the input `binsize` if that value\n",
    "    evenly divides `align_interval`; for example if `align_interval=(0, 0.2)` and `binsize=0.10`,\n",
    "    then the returned data will have the correct binsize. If `align_interval=(0, 0.2)` and\n",
    "    `binsize=0.06` then the returned data will not have the correct binsize.\n",
    "\n",
    "    Parameters\n",
    "    ----------\n",
    "    target_times : array-like\n",
    "        time in seconds for each sample\n",
    "    target_vals : array-like\n",
    "        data samples\n",
    "    intervals : \n",
    "        array of time intervals for each recording chunk including trials and non-trials\n",
    "    trials_df : pd.DataFrame\n",
    "        requires a column that matches `align_event`\n",
    "    align_event : str\n",
    "        event to align interval to\n",
    "        firstMovement_times | stimOn_times | feedback_times\n",
    "    align_interval : tuple\n",
    "        (align_begin, align_end); time in seconds relative to align_event\n",
    "    binsize : float\n",
    "        size of individual bins in interval\n",
    "    allow_nans : bool, optional\n",
    "        False to skip intervals with >0 NaN values in target data\n",
    "\n",
    "    Returns\n",
    "    -------\n",
    "    tuple\n",
    "        - (list): time in seconds for each interval\n",
    "        - (list): data for each interval\n",
    "        - (array-like): mask of good intervals (True) and bad intervals (False)\n",
    "\n",
    "    \"\"\"\n",
    "\n",
    "    binsize = kwargs['binsize']\n",
    "    align_interval = kwargs['time_window']\n",
    "    interval_len = align_interval[1] - align_interval[0]\n",
    "\n",
    "    if trials_df is not None:\n",
    "        align_event = kwargs['align_time']\n",
    "        align_times = trials_df[align_event].values\n",
    "        interval_begs = align_times + align_interval[0]\n",
    "        interval_ends = align_times + align_interval[1]\n",
    "    else:\n",
    "        assert intervals is not None, 'Require intervals to segment the recording into chunks including trials and non-trials.'\n",
    "        interval_begs, interval_ends = intervals.T\n",
    "\n",
    "    n_intervals = len(interval_begs)\n",
    "\n",
    "    if np.all(np.isnan(interval_begs)) or np.all(np.isnan(interval_ends)):\n",
    "        print('interval times all nan')\n",
    "        good_interval = np.nan * np.ones(interval_begs.shape[0])\n",
    "        target_times_list = []\n",
    "        target_vals_list = []\n",
    "        return target_times_list, target_vals_list, good_interval\n",
    "\n",
    "    # np.ceil because we want to make sure our bins contain all data\n",
    "    n_bins = int(np.ceil(interval_len / binsize))\n",
    "\n",
    "    # split data into intervals\n",
    "    idxs_beg = np.searchsorted(target_times, interval_begs, side='right')\n",
    "    idxs_end = np.searchsorted(target_times, interval_ends, side='left')\n",
    "    target_times_og_list = [target_times[ib:ie] for ib, ie in zip(idxs_beg, idxs_end)]\n",
    "    target_vals_og_list = [target_vals[ib:ie] for ib, ie in zip(idxs_beg, idxs_end)]\n",
    "\n",
    "    # interpolate and store\n",
    "    target_times_list = [None for _ in range(len(target_times_og_list))]\n",
    "    target_vals_list = [None for _ in range(len(target_times_og_list))]\n",
    "    good_interval = [None for _ in range(len(target_times_og_list))]\n",
    "    skip_reasons = [None for _ in range(len(target_times_og_list))]\n",
    "\n",
    "    @globalize\n",
    "    def interpolate_behavior(target):\n",
    "        # We use interval_idx to track the interval order while working with p.imap_unordered()\n",
    "        interval_idx, target_time, target_vals = target\n",
    "\n",
    "        is_good_interval, x_interp, y_interp = False, None, None\n",
    "        \n",
    "        if len(target_vals) == 0:\n",
    "            skip_reason = 'target data not present'\n",
    "            return interval_idx, is_good_interval, x_interp, y_interp, skip_reason\n",
    "        if np.sum(np.isnan(target_vals)) > 0 and not allow_nans:\n",
    "            skip_reason = 'nans in target data'\n",
    "            return interval_idx, is_good_interval, x_interp, y_interp, skip_reason\n",
    "        if np.isnan(interval_begs[interval_idx]) or np.isnan(interval_ends[interval_idx]):\n",
    "            skip_reason = 'bad interval data'\n",
    "            return interval_idx, is_good_interval, x_interp, y_interp, skip_reason\n",
    "        if np.abs(interval_begs[interval_idx] - target_time[0]) > binsize:\n",
    "            skip_reason = 'target data starts too late'\n",
    "            return interval_idx, is_good_interval, x_interp, y_interp, skip_reason\n",
    "        if np.abs(interval_ends[interval_idx] - target_time[-1]) > binsize:\n",
    "            skip_reason = 'target data ends too early'\n",
    "            return interval_idx, is_good_interval, x_interp, y_interp, skip_reason\n",
    "\n",
    "        is_good_interval, skip_reason = True, None\n",
    "        x_interp = np.linspace(interval_begs[interval_idx] + binsize, interval_ends[interval_idx], n_bins)\n",
    "        if len(target_vals.shape) > 1 and target_vals.shape[1] > 1:\n",
    "            n_dims = target_vals.shape[1]\n",
    "            y_interp_tmps = []\n",
    "            for n in range(n_dims):\n",
    "                y_interp_tmps.append(interp1d(\n",
    "                    target_time, target_vals[:, n], kind='linear',\n",
    "                    fill_value='extrapolate')(x_interp))\n",
    "            y_interp = np.hstack([y[:, None] for y in y_interp_tmps])\n",
    "        else:\n",
    "            y_interp = interp1d(\n",
    "                target_time, target_vals, kind='linear', fill_value='extrapolate')(x_interp)\n",
    "        return interval_idx, is_good_interval, x_interp, y_interp, skip_reason\n",
    "\n",
    "    with multiprocessing.Pool(processes=n_workers) as p:\n",
    "        targets = list(zip(np.arange(n_intervals), target_times_og_list, target_vals_og_list))\n",
    "        with tqdm(total=n_intervals) as pbar:\n",
    "            for res in p.imap_unordered(interpolate_behavior, targets):\n",
    "                pbar.update()\n",
    "                good_interval[res[0]] = res[1]\n",
    "                target_times_list[res[0]] = res[2]\n",
    "                target_vals_list[res[0]] = res[3]\n",
    "                skip_reasons[res[0]] = res[-1]\n",
    "        pbar.close()\n",
    "        p.close()\n",
    "\n",
    "    return target_times_list, target_vals_list, np.array(good_interval), skip_reasons "
   ]
  },
  {
   "cell_type": "code",
   "execution_count": 28,
   "metadata": {},
   "outputs": [],
   "source": [
    "def bin_behaviors(\n",
    "    target_times,\n",
    "    target_vals,\n",
    "    intervals=None, \n",
    "    beh = 'whisker',\n",
    "    mask=None, \n",
    "    allow_nans=True, \n",
    "    n_workers=1,\n",
    "    **kwargs\n",
    "):\n",
    "\n",
    "    behave_dict, mask_dict = {}, {}\n",
    "      \n",
    "    target_times_list, target_vals_list, target_mask, skip_reasons = get_behavior_per_interval(\n",
    "        target_times, target_vals, intervals=intervals, \n",
    "        allow_nans=allow_nans, n_workers=n_workers, **kwargs\n",
    "    )\n",
    "    behave_dict.update({beh: np.array(target_vals_list, dtype=object)})\n",
    "    mask_dict.update({beh: target_mask})\n",
    "    behave_mask = target_mask\n",
    "\n",
    "    if not allow_nans:\n",
    "        for k, v in behave_dict.items():\n",
    "            behave_dict[k] = behave_dict[beh][behave_mask]\n",
    "    \n",
    "    return behave_dict, mask_dict"
   ]
  },
  {
   "cell_type": "code",
   "execution_count": 29,
   "metadata": {},
   "outputs": [],
   "source": [
    "test_data = dataset.get_session_data(session_ids[0])"
   ]
  },
  {
   "cell_type": "code",
   "execution_count": 30,
   "metadata": {},
   "outputs": [],
   "source": [
    "params = {\n",
    "    'interval_len': 2, 'binsize': 0.02, 'single_region': False, \n",
    "    'align_time': 'stimOn_times', 'time_window': (-.5, 1.5), 'fr_thresh': 0.5\n",
    "}"
   ]
  },
  {
   "cell_type": "code",
   "execution_count": null,
   "metadata": {},
   "outputs": [],
   "source": []
  },
  {
   "cell_type": "code",
   "execution_count": 55,
   "metadata": {},
   "outputs": [],
   "source": [
    "intervals = np.c_[test_data.trials.start, test_data.trials.end]"
   ]
  },
  {
   "cell_type": "code",
   "execution_count": null,
   "metadata": {},
   "outputs": [],
   "source": []
  },
  {
   "cell_type": "code",
   "execution_count": 37,
   "metadata": {},
   "outputs": [
    {
     "name": "stderr",
     "output_type": "stream",
     "text": [
      "100%|██████████| 60/60 [00:00<00:00, 1475.40it/s]\n",
      "100%|██████████| 60/60 [00:00<00:00, 1419.05it/s]\n"
     ]
    }
   ],
   "source": [
    "wh_timestamps = test_data.wheel.timestamps\n",
    "wh_gt_vals = wh_gt.squeeze()\n",
    "wh_pred_vals = wh_pred.squeeze()\n",
    "\n",
    "behave_dict, mask_dict = bin_behaviors(\n",
    "    wh_timestamps,\n",
    "    wh_gt_vals.numpy(),\n",
    "    intervals=intervals, \n",
    "    beh = 'wheel',\n",
    "    **params\n",
    ")\n",
    "\n",
    "binned_wh_gt = behave_dict['wheel']\n",
    "\n",
    "behave_dict, mask_dict = bin_behaviors(\n",
    "    wh_timestamps,\n",
    "    wh_pred_vals.numpy(),\n",
    "    intervals=intervals, \n",
    "    beh = 'wheel',\n",
    "    **params\n",
    ")\n",
    "binned_wh_pred = behave_dict['wheel']"
   ]
  },
  {
   "cell_type": "code",
   "execution_count": null,
   "metadata": {},
   "outputs": [],
   "source": []
  },
  {
   "cell_type": "code",
   "execution_count": 40,
   "metadata": {},
   "outputs": [
    {
     "name": "stdout",
     "output_type": "stream",
     "text": [
      "R2 score: 0.564\n"
     ]
    },
    {
     "data": {
      "image/png": "[encoded data removed]",
      "text/plain": [
       "<Figure size 640x480 with 1 Axes>"
      ]
     },
     "metadata": {},
     "output_type": "display_data"
    }
   ],
   "source": [
    "from sklearn.metrics import r2_score\n",
    "\n",
    "idx = 0\n",
    "\n",
    "r2 = r2_score(binned_me_gt.flatten(), binned_me_pred.flatten())\n",
    "print(f\"R2 score: {r2:.3f}\")\n",
    "\n",
    "# Plotting the result\n",
    "plt.plot(binned_me_gt.flatten()[100:300], label=\"Ground truth\")\n",
    "plt.plot(binned_me_pred.flatten()[100:300], label=\"Predicted\")\n",
    "plt.title(f\"$R^2$ = {r2:.3f}\")\n",
    "plt.legend()\n",
    "plt.show()"
   ]
  },
  {
   "cell_type": "code",
   "execution_count": null,
   "metadata": {},
   "outputs": [],
   "source": []
  },
  {
   "cell_type": "code",
   "execution_count": null,
   "metadata": {},
   "outputs": [],
   "source": []
  },
  {
   "cell_type": "code",
   "execution_count": 41,
   "metadata": {},
   "outputs": [],
   "source": [
    "from scripts.eval_utils import viz_single_cell"
   ]
  },
  {
   "cell_type": "code",
   "execution_count": null,
   "metadata": {},
   "outputs": [],
   "source": []
  },
  {
   "cell_type": "code",
   "execution_count": null,
   "metadata": {},
   "outputs": [],
   "source": []
  },
  {
   "cell_type": "code",
   "execution_count": null,
   "metadata": {},
   "outputs": [],
   "source": []
  },
  {
   "cell_type": "code",
   "execution_count": 61,
   "metadata": {},
   "outputs": [
    {
     "name": "stdout",
     "output_type": "stream",
     "text": [
      "0.8050927014957039\n",
      "0.34912026802139673\n",
      "0.8978758108069729\n",
      "0.5641396808423014\n"
     ]
    }
   ],
   "source": [
    "def _one_hot(arr, T):\n",
    "    uni = np.sort(np.unique(arr))\n",
    "    ret = np.zeros((len(arr), T, len(uni)))\n",
    "    for i, _uni in enumerate(uni):\n",
    "        ret[:,:,i] = (arr == _uni)\n",
    "    return ret\n",
    "\n",
    "T = 100\n",
    "X = np.concatenate(\n",
    "    (_one_hot(choice.reshape(-1,1), T), \n",
    "     _one_hot(reward.reshape(-1,1), T),\n",
    "     _one_hot(block.reshape(-1,1), T),\n",
    "    ), axis=2\n",
    ")\n",
    "\n",
    "var_name2idx = {'block': [2], 'choice': [0], 'reward': [1]}\n",
    "var_value2label = {'block': {(0,): \"p(left)=0.2\", (1,): \"p(left)=0.5\", (2,): \"p(left)=0.8\",},\n",
    "                   'choice': {(0,): \"right\", (1,): \"left\"},\n",
    "                   'reward': {(0,): \"no reward\", (1,): \"reward\", }}\n",
    "var_tasklist = ['block', 'choice', 'reward']\n",
    "var_behlist = []\n",
    "\n",
    "gt = np.c_[binned_wh_gt.reshape(-1,T,1), binned_me_gt.reshape(-1,T,1)] \n",
    "pred = np.c_[binned_wh_pred.reshape(-1,T,1), binned_me_pred.reshape(-1,T,1)] \n",
    "\n",
    "avail_beh = ['wheel-speed', 'whisker-motion-energy']\n",
    "for i in range(gt.shape[-1]):\n",
    "    r2_result_list = []\n",
    "    y = gt[:,:,[i]]\n",
    "    y_pred = pred[:,:,[i]] \n",
    "    _r2_psth, _r2_trial = viz_single_cell(\n",
    "        X, y, y_pred, \n",
    "        var_name2idx, var_tasklist, var_value2label, var_behlist, \n",
    "        subtract_psth='task', \n",
    "        aligned_tbins=[],\n",
    "        neuron_idx=avail_beh[i],\n",
    "        neuron_region='',\n",
    "        method='poyo', \n",
    "        save_path='../results/',\n",
    "        save_plot=False,\n",
    "    )\n",
    "    plt.close('all')\n",
    "    print(_r2_psth)\n",
    "    print(_r2_trial)"
   ]
  },
  {
   "cell_type": "code",
   "execution_count": 36,
   "metadata": {},
   "outputs": [],
   "source": [
    "intervals = np.c_[\n",
    "    dataset.get_session_data(session_id).trials.start, \n",
    "    dataset.get_session_data(session_id).trials.end, \n",
    "]"
   ]
  },
  {
   "cell_type": "code",
   "execution_count": null,
   "metadata": {},
   "outputs": [],
   "source": []
  },
  {
   "cell_type": "code",
   "execution_count": 39,
   "metadata": {},
   "outputs": [
    {
     "name": "stderr",
     "output_type": "stream",
     "text": [
      "100%|██████████| 60/60 [00:00<00:00, 1634.95it/s]\n",
      "100%|██████████| 60/60 [00:00<00:00, 1961.57it/s]\n"
     ]
    }
   ],
   "source": [
    "me_timestamps = test_data.whisker.timestamps\n",
    "me_gt_vals = me_gt.squeeze()\n",
    "me_pred_vals = me_pred.squeeze()\n",
    "\n",
    "behave_dict, mask_dict = bin_behaviors(\n",
    "    me_timestamps,\n",
    "    me_gt_vals.numpy(),\n",
    "    intervals=intervals, \n",
    "    beh = 'whisker',\n",
    "    **params\n",
    ")\n",
    "\n",
    "binned_me_gt = behave_dict['whisker']\n",
    "\n",
    "behave_dict, mask_dict = bin_behaviors(\n",
    "    me_timestamps,\n",
    "    me_pred_vals.numpy(),\n",
    "    intervals=intervals, \n",
    "    beh = 'whisker',\n",
    "    **params\n",
    ")\n",
    "binned_me_pred = behave_dict['whisker']"
   ]
  },
  {
   "cell_type": "code",
   "execution_count": null,
   "metadata": {},
   "outputs": [],
   "source": []
  },
  {
   "cell_type": "code",
   "execution_count": null,
   "metadata": {},
   "outputs": [],
   "source": []
  }
 ],
 "metadata": {
  "kernelspec": {
   "display_name": "Python 3 (ipykernel)",
   "language": "python",
   "name": "python3"
  },
  "language_info": {
   "codemirror_mode": {
    "name": "ipython",
    "version": 3
   },
   "file_extension": ".py",
   "mimetype": "text/x-python",
   "name": "python",
   "nbconvert_exporter": "python",
   "pygments_lexer": "ipython3",
   "version": "3.8.19"
  }
 },
 "nbformat": 4,
 "nbformat_minor": 4
}
