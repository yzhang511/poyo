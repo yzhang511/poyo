{
 "cells": [
  {
   "cell_type": "markdown",
   "metadata": {},
   "source": [
    "# Using POYO\n",
    "\n",
    "This notebook will walk you through three concepts:\n",
    "1. Loading a dataset using our `Dataset` object\n",
    "2. Loading the POYO model and applying pretrained weights\n",
    "3. Performing inference and measuring accuracy"
   ]
  },
  {
   "cell_type": "code",
   "execution_count": 5,
   "metadata": {},
   "outputs": [],
   "source": [
    "import torch\n",
    "import matplotlib.pyplot as plt\n",
    "import random\n",
    "\n",
    "import omegaconf                 # for loading model configuration from a file\n",
    "from torchmetrics import R2Score # for measuring accuracy\n",
    "\n",
    "from kirby.data import Dataset, collate\n",
    "import kirby.taxonomy"
   ]
  },
  {
   "cell_type": "markdown",
   "metadata": {},
   "source": [
    "## Loading the dataset\n",
    "Let's first load a single session recording from [Perich-Miller's dataset](https://dandiarchive.org/dandiset/000688). "
   ]
  },
  {
   "cell_type": "code",
   "execution_count": 44,
   "metadata": {},
   "outputs": [],
   "source": [
    "dataset = Dataset(\n",
    "    root=\"/home/yzhang39/project-kirby/data/processed/\",\n",
    "    split=\"test\", # \"train\"/\"valid\"/\"test\"\n",
    "    include=[{\n",
    "        \"selection\": [{\n",
    "            \"dandiset\": \"ibl\",\n",
    "            \"sortsets\": {\"db4df448-e449-4a6f-a0e7-288711e7a75a\"},\n",
    "        }],\n",
    "    }],\n",
    ")"
   ]
  },
  {
   "cell_type": "markdown",
   "metadata": {},
   "source": [
    "Now let's pick a random sample and plot its spike train"
   ]
  },
  {
   "cell_type": "code",
   "execution_count": 52,
   "metadata": {},
   "outputs": [
    {
     "data": {
      "text/plain": [
       "{'ibl/db4df448-e449-4a6f-a0e7-288711e7a75a': {'filename': PosixPath('/home/yzhang39/project-kirby/data/processed/ibl/db4df448-e449-4a6f-a0e7-288711e7a75a.h5'),\n",
       "  'sampling_intervals': Interval(\n",
       "    start=[58],\n",
       "    end=[58]\n",
       "  ),\n",
       "  'config': {}}}"
      ]
     },
     "execution_count": 52,
     "metadata": {},
     "output_type": "execute_result"
    }
   ],
   "source": [
    "dataset.session_info_dict"
   ]
  },
  {
   "cell_type": "code",
   "execution_count": 75,
   "metadata": {},
   "outputs": [],
   "source": [
    "torch.set_float32_matmul_precision(\"medium\")"
   ]
  },
  {
   "cell_type": "code",
   "execution_count": 70,
   "metadata": {},
   "outputs": [],
   "source": [
    "from hydra import compose, initialize\n",
    "from omegaconf import OmegaConf\n",
    "\n",
    "with initialize(version_base=\"1.3\", config_path=\"../configs\", job_name=\"test_app\"):\n",
    "    cfg = compose(config_name=\"train_ibl.yaml\")"
   ]
  },
  {
   "cell_type": "code",
   "execution_count": 73,
   "metadata": {},
   "outputs": [],
   "source": [
    "import hydra\n",
    "from kirby.taxonomy import decoder_registry\n",
    "model = hydra.utils.instantiate(\n",
    "    cfg.model,\n",
    "    task_specs=decoder_registry,\n",
    "    backend_config=cfg.backend_config,\n",
    "    _convert_=\"object\",\n",
    ")"
   ]
  },
  {
   "cell_type": "code",
   "execution_count": 76,
   "metadata": {},
   "outputs": [],
   "source": [
    "sequence_length = 1.0\n",
    "transforms = hydra.utils.instantiate(\n",
    "    cfg.train_transforms, sequence_length=sequence_length\n",
    ")"
   ]
  },
  {
   "cell_type": "code",
   "execution_count": 91,
   "metadata": {},
   "outputs": [
    {
     "data": {
      "text/plain": [
       "<All keys matched successfully>"
      ]
     },
     "execution_count": 91,
     "metadata": {},
     "output_type": "execute_result"
    }
   ],
   "source": [
    "ckpt = torch.load('/home/yzhang39/project-kirby/logs/lightning_logs/qa6tfcrx/last.ckpt', map_location=\"cpu\")\n",
    "state_dict = ckpt[\"state_dict\"]        \n",
    "\n",
    "new_state_dict = {}\n",
    "for key, value in state_dict.items():\n",
    "    # new_key = key.removeprefix(\"model.\")\n",
    "    new_key = key[6:]\n",
    "    new_state_dict[new_key] = state_dict[key]\n",
    "\n",
    "model.load_state_dict(new_state_dict)"
   ]
  },
  {
   "cell_type": "code",
   "execution_count": 94,
   "metadata": {},
   "outputs": [],
   "source": [
    "from kirby.models import POYOPlusTokenizer\n",
    "from kirby.transforms import Compose\n",
    "\n",
    "tokenizer = POYOPlusTokenizer(\n",
    "    model.unit_emb.tokenizer,\n",
    "    model.session_emb.tokenizer,\n",
    "    decoder_registry=decoder_registry,\n",
    "    latent_step=1 / 8,\n",
    "    num_latents_per_step=cfg.model.num_latents,\n",
    "    batch_type=model.batch_type,\n",
    ")\n",
    "\n",
    "transform = Compose([*transforms, tokenizer])"
   ]
  },
  {
   "cell_type": "code",
   "execution_count": 154,
   "metadata": {},
   "outputs": [],
   "source": [
    "from kirby.data.sampler import SequentialFixedWindowSampler\n",
    "from torch.utils.data import DataLoader\n",
    "\n",
    "val_tokenizer = tokenizer\n",
    "val_tokenizer.eval = True\n",
    "val_dataset = Dataset(\n",
    "    cfg.data_root,\n",
    "    \"train\",\n",
    "    include=OmegaConf.to_container(cfg.dataset),  # converts to native list[dicts]\n",
    "    transform=val_tokenizer,\n",
    ")\n",
    "val_sampler = SequentialFixedWindowSampler(\n",
    "    interval_dict=val_dataset.get_sampling_intervals(),\n",
    "    window_length=sequence_length,\n",
    "    step=sequence_length / 2,\n",
    ")\n",
    "\n",
    "val_loader = DataLoader(\n",
    "    val_dataset,\n",
    "    sampler=val_sampler,\n",
    "    collate_fn=collate,\n",
    "    batch_size=cfg.get(\n",
    "        \"eval_batch_size\", cfg.batch_size\n",
    "    ),  # Default to training batch size, but allow override in config.\n",
    "    num_workers=1,\n",
    ")"
   ]
  },
  {
   "cell_type": "code",
   "execution_count": 155,
   "metadata": {},
   "outputs": [],
   "source": [
    "from torch_optimizer import Lamb\n",
    "from lightning.pytorch.callbacks import (\n",
    "    LearningRateMonitor,\n",
    "    ModelCheckpoint,\n",
    "    ModelSummary,\n",
    ")\n",
    "\n",
    "max_lr = cfg.base_lr * cfg.batch_size\n",
    "\n",
    "epochs = cfg.epochs\n",
    "\n",
    "optimizer = Lamb(\n",
    "    model.parameters(),  # filter(lambda p: p.requires_grad, model.parameters()),\n",
    "    lr=max_lr,\n",
    "    weight_decay=cfg.weight_decay,\n",
    ")\n",
    "\n",
    "scheduler = torch.optim.lr_scheduler.OneCycleLR(\n",
    "    optimizer,\n",
    "    max_lr=max_lr,\n",
    "    epochs=epochs,\n",
    "    steps_per_epoch=len(val_loader),\n",
    "    pct_start=cfg.pct_start,\n",
    "    anneal_strategy=\"cos\",\n",
    "    div_factor=1,\n",
    ")\n",
    "\n",
    "# Now we create the model wrapper. It's a simple shim that contains the train and\n",
    "# test code.\n",
    "from kirby.utils import train_wrapper\n",
    "wrapper = train_wrapper.TrainWrapper(\n",
    "    model=model,\n",
    "    optimizer=optimizer,\n",
    "    scheduler=scheduler,\n",
    ")\n",
    "\n",
    "callbacks = [\n",
    "    ModelSummary(max_depth=2),  # Displays the number of parameters in the model.\n",
    "    ModelCheckpoint(\n",
    "        dirpath=f\"logs/lightning_logs/\",\n",
    "        save_last=True,\n",
    "        save_on_train_epoch_end=True,\n",
    "        every_n_epochs=cfg.eval_epochs,\n",
    "    ),\n",
    "    train_wrapper.CustomValidator(val_loader),\n",
    "    LearningRateMonitor(\n",
    "        logging_interval=\"step\"\n",
    "    ),  # Create a callback to log the learning rate.\n",
    "]"
   ]
  },
  {
   "cell_type": "code",
   "execution_count": 156,
   "metadata": {},
   "outputs": [
    {
     "name": "stderr",
     "output_type": "stream",
     "text": [
      "Trainer already configured with model summary callbacks: [<class 'lightning.pytorch.callbacks.model_summary.ModelSummary'>]. Skipping setting a default `ModelSummary` callback.\n",
      "GPU available: True (cuda), used: True\n",
      "TPU available: False, using: 0 TPU cores\n",
      "IPU available: False, using: 0 IPUs\n",
      "HPU available: False, using: 0 HPUs\n"
     ]
    }
   ],
   "source": [
    "import lightning\n",
    "trainer = lightning.Trainer(\n",
    "    # logger=[tb, wandb],\n",
    "    default_root_dir=cfg.log_dir,\n",
    "    check_val_every_n_epoch=cfg.eval_epochs,\n",
    "    max_epochs=epochs,\n",
    "    log_every_n_steps=1,\n",
    "    strategy=(\n",
    "        \"auto\" if torch.cuda.is_available() else \"auto\"\n",
    "    ),\n",
    "    callbacks=callbacks,\n",
    "    num_sanity_val_steps=0,\n",
    "    precision=cfg.precision,\n",
    "    reload_dataloaders_every_n_epochs=5,\n",
    "    accelerator=\"gpu\",\n",
    "    devices=cfg.gpus,\n",
    "    num_nodes=cfg.nodes,\n",
    ")"
   ]
  },
  {
   "cell_type": "code",
   "execution_count": 157,
   "metadata": {},
   "outputs": [],
   "source": [
    "def move_to_gpu(d, device):\n",
    "    for k, v in d.items():\n",
    "        if isinstance(v, dict):\n",
    "            move_to_gpu(v, device)\n",
    "        elif isinstance(v, torch.Tensor):\n",
    "            d[k] = v.to(device)"
   ]
  },
  {
   "cell_type": "code",
   "execution_count": 158,
   "metadata": {},
   "outputs": [
    {
     "name": "stderr",
     "output_type": "stream",
     "text": [
      "100%|██████████| 2/2 [00:01<00:00,  1.98it/s]\n"
     ]
    }
   ],
   "source": [
    "from tqdm import tqdm\n",
    "from kirby.taxonomy import Decoder, OutputType, Task\n",
    "\n",
    "session_timestamp = {}\n",
    "session_subtask_index = {}\n",
    "session_gt_output = {}\n",
    "session_pred_output = {}\n",
    "\n",
    "for batch in tqdm(val_loader):\n",
    "    absolute_starts = batch.pop(\"absolute_start\")  # (B,)\n",
    "    session_ids = batch.pop(\"session_id\")  # (B,)\n",
    "    output_subtask_index = batch.pop(\"output_subtask_index\")\n",
    "\n",
    "    batch_format = None\n",
    "    if \"input_mask\" in batch:\n",
    "        batch_format = \"padded\"\n",
    "    elif \"input_seqlen\" in batch:\n",
    "        batch_format = \"chained\"\n",
    "    else:\n",
    "        raise ValueError(\"Invalid batch format.\")\n",
    "\n",
    "    # move_to_gpu(batch, pl_module)\n",
    "    device = torch.device(\"cuda:0\" if torch.cuda.is_available() else \"cpu\") \n",
    "    model.to(device)\n",
    "    move_to_gpu(batch, device)\n",
    "\n",
    "    # Autocast is explicitly set based on the precision specified by the user.\n",
    "    # By default, torch autocasts to float16 for 16-bit inference.\n",
    "    # This behavior is overridden to use bfloat16 if specified in trainer.precision.\n",
    "    # If 16-bit inference is not enabled, autocast is not used.\n",
    "    def get_autocast_args(trainer):\n",
    "        if trainer.precision.startswith(\"bf16\"):\n",
    "            return torch.bfloat16, True\n",
    "        elif trainer.precision.startswith(\"16\"):\n",
    "            return torch.float16, True\n",
    "        else:\n",
    "            return None, False\n",
    "\n",
    "    dtype, enabled = get_autocast_args(trainer)\n",
    "    # forward pass\n",
    "    with torch.cuda.amp.autocast(enabled=enabled, dtype=dtype):\n",
    "        with torch.inference_mode():\n",
    "            pred_output, loss, losses_taskwise = model(**batch)\n",
    "\n",
    "    # we need to get the timestamps, the ground truth values, the task ids as well\n",
    "    # as the subtask ids. since the batch is padded and chained, this is a bit tricky\n",
    "    # tldr: this extracts the ground truth in the same format as the model output\n",
    "    batch_size = len(pred_output)\n",
    "    # get gt_output and timestamps to be in the same format as pred_output\n",
    "    timestamps = [{} for _ in range(batch_size)]\n",
    "    subtask_index = [{} for _ in range(batch_size)]\n",
    "    gt_output = [{} for _ in range(batch_size)]\n",
    "\n",
    "    # collect ground truth\n",
    "    for taskname, spec in model.readout.decoder_specs.items():\n",
    "        taskid = Decoder.from_string(taskname).value\n",
    "\n",
    "        # get the mask of tokens that belong to this task\n",
    "        mask = batch[\"output_decoder_index\"] == taskid\n",
    "\n",
    "        if not torch.any(mask):\n",
    "            # there is not a single token for this task, so we skip\n",
    "            continue\n",
    "\n",
    "        # we need to distribute the outputs to their respective samples\n",
    "\n",
    "        if batch_format == \"padded\":\n",
    "            token_batch = torch.where(mask)[0]\n",
    "        elif batch_format == \"chained\":\n",
    "            token_batch = batch[\"output_batch_index\"][mask]\n",
    "\n",
    "        batch_i, token_batch = torch.unique(token_batch, return_inverse=True)\n",
    "        for i in range(len(batch_i)):\n",
    "            timestamps[batch_i[i]][taskname] = (\n",
    "                batch[\"output_timestamps\"][mask][token_batch == i]\n",
    "                + absolute_starts[batch_i[i]]\n",
    "            )\n",
    "            subtask_index[batch_i[i]][taskname] = output_subtask_index[\n",
    "                taskname\n",
    "            ][(token_batch == i).detach().cpu()]\n",
    "            gt_output[batch_i[i]][taskname] = batch[\"output_values\"][taskname][\n",
    "                token_batch == i\n",
    "            ]\n",
    "\n",
    "    # register all of the data\n",
    "    for i in range(batch_size):\n",
    "        session_id = session_ids[i]\n",
    "\n",
    "        if session_id not in session_pred_output:\n",
    "            session_pred_output[session_id] = {}\n",
    "            session_gt_output[session_id] = {}\n",
    "            session_timestamp[session_id] = {}\n",
    "            session_subtask_index[session_id] = {}\n",
    "\n",
    "        for taskname, pred_values in pred_output[i].items():\n",
    "            if taskname not in session_pred_output[session_id]:\n",
    "                session_pred_output[session_id][\n",
    "                    taskname\n",
    "                ] = pred_values.detach().cpu()\n",
    "                session_gt_output[session_id][taskname] = (\n",
    "                    gt_output[i][taskname].detach().cpu()\n",
    "                )\n",
    "                session_timestamp[session_id][taskname] = (\n",
    "                    timestamps[i][taskname].detach().cpu()\n",
    "                )\n",
    "                session_subtask_index[session_id][taskname] = (\n",
    "                    subtask_index[i][taskname].detach().cpu()\n",
    "                )\n",
    "            else:\n",
    "                session_pred_output[session_id][taskname] = torch.cat(\n",
    "                    (\n",
    "                        session_pred_output[session_id][taskname],\n",
    "                        pred_values.detach().cpu(),\n",
    "                    )\n",
    "                )\n",
    "                session_gt_output[session_id][taskname] = torch.cat(\n",
    "                    (\n",
    "                        session_gt_output[session_id][taskname],\n",
    "                        gt_output[i][taskname].detach().cpu(),\n",
    "                    )\n",
    "                )\n",
    "                session_timestamp[session_id][taskname] = torch.cat(\n",
    "                    (\n",
    "                        session_timestamp[session_id][taskname],\n",
    "                        timestamps[i][taskname].detach().cpu(),\n",
    "                    )\n",
    "                )\n",
    "                session_subtask_index[session_id][taskname] = torch.cat(\n",
    "                    (\n",
    "                        session_subtask_index[session_id][taskname],\n",
    "                        subtask_index[i][taskname].detach().cpu(),\n",
    "                    )\n",
    "                )"
   ]
  },
  {
   "cell_type": "code",
   "execution_count": 159,
   "metadata": {},
   "outputs": [],
   "source": [
    "session_id = 'ibl/db4df448-e449-4a6f-a0e7-288711e7a75a'\n",
    "task_name = 'RUNNING_SPEED'"
   ]
  },
  {
   "cell_type": "code",
   "execution_count": 160,
   "metadata": {},
   "outputs": [],
   "source": [
    "gt = session_gt_output[session_id][taskname]\n",
    "pred = session_pred_output[session_id][taskname]\n",
    "timestamps = session_timestamp[session_id][taskname]\n",
    "subtask_index = session_subtask_index[session_id][taskname]"
   ]
  },
  {
   "cell_type": "code",
   "execution_count": 165,
   "metadata": {},
   "outputs": [
    {
     "name": "stdout",
     "output_type": "stream",
     "text": [
      "R2 score: -3.511\n"
     ]
    },
    {
     "data": {
      "image/png": "[encoded data removed]",
      "text/plain": [
       "<Figure size 640x480 with 1 Axes>"
      ]
     },
     "metadata": {},
     "output_type": "display_data"
    }
   ],
   "source": [
    "from sklearn.metrics import r2_score\n",
    "\n",
    "r2score = R2Score(num_outputs=gt.shape[1])\n",
    "r2 = r2score(gt, pred).item()\n",
    "print(f\"R2 score: {r2:.3f}\")\n",
    "\n",
    "# Plotting the result\n",
    "plt.plot(gt[:1000], label=\"Ground truth\")\n",
    "plt.plot(pred[:1000], label=\"Predicted\")\n",
    "# plt.title(f\"$R^2$ = {r2:.3f}\")\n",
    "plt.legend()\n",
    "plt.show()"
   ]
  },
  {
   "cell_type": "code",
   "execution_count": null,
   "metadata": {},
   "outputs": [],
   "source": []
  },
  {
   "cell_type": "code",
   "execution_count": null,
   "metadata": {},
   "outputs": [],
   "source": []
  }
 ],
 "metadata": {
  "kernelspec": {
   "display_name": "Python 3 (ipykernel)",
   "language": "python",
   "name": "python3"
  },
  "language_info": {
   "codemirror_mode": {
    "name": "ipython",
    "version": 3
   },
   "file_extension": ".py",
   "mimetype": "text/x-python",
   "name": "python",
   "nbconvert_exporter": "python",
   "pygments_lexer": "ipython3",
   "version": "3.8.19"
  }
 },
 "nbformat": 4,
 "nbformat_minor": 4
}
