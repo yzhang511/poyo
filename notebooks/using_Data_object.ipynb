{
 "cells": [
  {
   "cell_type": "code",
   "execution_count": 1,
   "metadata": {
    "collapsed": true
   },
   "outputs": [],
   "source": [
    "import torch\n",
    "from src.data import Data, IrregularTimeSeries, Interval"
   ]
  },
  {
   "cell_type": "code",
   "execution_count": 9,
   "outputs": [
    {
     "name": "stdout",
     "output_type": "stream",
     "text": [
      "IrregularTimeSeries(\n",
      "  timestamps=[10000],\n",
      "  unit_id=[10000]\n",
      ")\n"
     ]
    }
   ],
   "source": [
    "# make units\n",
    "num_units = 40\n",
    "spike_times = torch.cumsum(torch.rand(10000), 0)\n",
    "unit_id = torch.randint(num_units, (10000,))\n",
    "spikes = IrregularTimeSeries(spike_times, unit_id=unit_id)\n",
    "print(spikes)\n",
    "\n",
    "unit_quality = torch.rand(num_units)"
   ],
   "metadata": {
    "collapsed": false
   }
  },
  {
   "cell_type": "code",
   "execution_count": 10,
   "outputs": [
    {
     "name": "stdout",
     "output_type": "stream",
     "text": [
      "IrregularTimeSeries(\n",
      "  timestamps=[100],\n",
      "  eye_pos=[100, 2],\n",
      "  hand_vel=[100, 2]\n",
      ")\n"
     ]
    }
   ],
   "source": [
    "# make behavior time series\n",
    "timestamps = torch.cumsum(torch.rand(100), 0)\n",
    "eye_pos = torch.rand(100, 2)\n",
    "hand_vel = torch.rand(100, 2)\n",
    "behavior = IrregularTimeSeries(timestamps, eye_pos=eye_pos, hand_vel=hand_vel)\n",
    "print(behavior)"
   ],
   "metadata": {
    "collapsed": false
   }
  },
  {
   "cell_type": "code",
   "execution_count": 19,
   "outputs": [
    {
     "name": "stdout",
     "output_type": "stream",
     "text": [
      "{'start': tensor(1.4291), 'end': tensor(2.5279), 'trial_id': tensor(3)}\n"
     ]
    }
   ],
   "source": [
    "# make interval\n",
    "trial_start = torch.cumsum(torch.rand(4), 0)\n",
    "trial_end = torch.cumsum(torch.rand(4), 0)\n",
    "trial_id = torch.arange(4)\n",
    "trials = Interval(start=trial_start, end=trial_end, trial_id=trial_id)\n",
    "print(trials[3])"
   ],
   "metadata": {
    "collapsed": false
   }
  },
  {
   "cell_type": "code",
   "execution_count": 13,
   "outputs": [
    {
     "name": "stdout",
     "output_type": "stream",
     "text": [
      "Data(\n",
      "IrregularTimeSeries(\n",
      "  timestamps=[10000],\n",
      "  unit_id=[10000]\n",
      "),\n",
      "IrregularTimeSeries(\n",
      "  timestamps=[100],\n",
      "  eye_pos=[100, 2],\n",
      "  hand_vel=[100, 2]\n",
      "),\n",
      "Interval(\n",
      "  start=[4],\n",
      "  end=[4],\n",
      "  trial_id=[4]\n",
      "),\n",
      "unit_quality=[40],\n",
      "desc='monkey',\n",
      ")\n"
     ]
    }
   ],
   "source": [
    "data = Data(spikes=spikes, behavior=behavior, trials=trials, unit_quality=unit_quality, desc='monkey')\n",
    "print(data)"
   ],
   "metadata": {
    "collapsed": false
   }
  },
  {
   "cell_type": "code",
   "execution_count": 14,
   "outputs": [
    {
     "name": "stdout",
     "output_type": "stream",
     "text": [
      "0.032173335552215576 5025.19189453125\n"
     ]
    }
   ],
   "source": [
    "print(data.spikes.start, data.spikes.end)"
   ],
   "metadata": {
    "collapsed": false
   }
  },
  {
   "cell_type": "code",
   "execution_count": 16,
   "outputs": [
    {
     "name": "stdout",
     "output_type": "stream",
     "text": [
      "Data(\n",
      "IrregularTimeSeries(\n",
      "  timestamps=[23],\n",
      "  unit_id=[23]\n",
      "),\n",
      "IrregularTimeSeries(\n",
      "  timestamps=[15],\n",
      "  eye_pos=[15, 2],\n",
      "  hand_vel=[15, 2]\n",
      "),\n",
      "Interval(\n",
      "  start=[4],\n",
      "  end=[4],\n",
      "  trial_id=[4]\n",
      "),\n",
      "unit_quality=[40],\n",
      "desc='monkey',\n",
      ")\n"
     ]
    }
   ],
   "source": [
    "sub_data = data.slice(1, 10)\n",
    "print(sub_data)"
   ],
   "metadata": {
    "collapsed": false
   }
  },
  {
   "cell_type": "code",
   "execution_count": 17,
   "outputs": [
    {
     "name": "stdout",
     "output_type": "stream",
     "text": [
      "Data(\n",
      "IrregularTimeSeries(\n",
      "  timestamps=[3],\n",
      "  unit_id=[3]\n",
      "),\n",
      "IrregularTimeSeries(\n",
      "  timestamps=[1],\n",
      "  eye_pos=[1, 2],\n",
      "  hand_vel=[1, 2]\n",
      "),\n",
      "Interval(\n",
      "  start=[4],\n",
      "  end=[4],\n",
      "  trial_id=[4]\n",
      "),\n",
      "unit_quality=[40],\n",
      "desc='monkey',\n",
      ")\n"
     ]
    }
   ],
   "source": [
    "sample_trial = data.trials[0]\n",
    "sub_data = data.slice(sample_trial['start'], sample_trial['end'])\n",
    "print(sub_data)"
   ],
   "metadata": {
    "collapsed": false
   }
  },
  {
   "cell_type": "code",
   "execution_count": 17,
   "outputs": [],
   "source": [],
   "metadata": {
    "collapsed": false
   }
  },
  {
   "cell_type": "code",
   "execution_count": 10,
   "outputs": [],
   "source": [],
   "metadata": {
    "collapsed": false
   }
  },
  {
   "cell_type": "code",
   "execution_count": null,
   "outputs": [],
   "source": [],
   "metadata": {
    "collapsed": false
   }
  }
 ],
 "metadata": {
  "kernelspec": {
   "display_name": "Python 3",
   "language": "python",
   "name": "python3"
  },
  "language_info": {
   "codemirror_mode": {
    "name": "ipython",
    "version": 2
   },
   "file_extension": ".py",
   "mimetype": "text/x-python",
   "name": "python",
   "nbconvert_exporter": "python",
   "pygments_lexer": "ipython2",
   "version": "2.7.6"
  }
 },
 "nbformat": 4,
 "nbformat_minor": 0
}
