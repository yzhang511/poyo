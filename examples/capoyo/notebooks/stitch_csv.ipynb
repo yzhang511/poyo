{
 "cells": [
  {
   "cell_type": "code",
   "execution_count": 1,
   "metadata": {},
   "outputs": [],
   "source": [
    "import numpy as np\n",
    "import pandas as pd\n",
    "import os\n",
    "from tqdm import tqdm\n",
    "import matplotlib.pyplot as plt"
   ]
  },
  {
   "cell_type": "code",
   "execution_count": 2,
   "metadata": {},
   "outputs": [],
   "source": [
    "def append_csv_by_key_columns(original_csv, new_csv, key_columns, output_csv):\n",
    "    \"\"\"\n",
    "    Reads two CSVs into pandas DataFrames and appends the values from the key columns of the new CSV \n",
    "    directly after the values of the original CSV.\n",
    "\n",
    "    :param original_csv: Path to the original CSV file.\n",
    "    :param new_csv: Path to the new CSV file.\n",
    "    :param key_columns: List of columns that are used for appending.\n",
    "    :param output_csv: Path where the appended CSV will be saved.\n",
    "    \"\"\"\n",
    "    # Read the original and new CSV files\n",
    "    original_df = pd.read_csv(original_csv)\n",
    "    new_df = pd.read_csv(new_csv)\n",
    "\n",
    "    # Validate key columns\n",
    "    if not all(col in original_df.columns for col in key_columns):\n",
    "        raise ValueError(\"One or more key columns are not present in the original CSV file.\")\n",
    "    if not all(col in new_df.columns for col in key_columns):\n",
    "        raise ValueError(\"One or more key columns are not present in the new CSV file.\")\n",
    "\n",
    "    new_df_filtered = new_df[key_columns]\n",
    "    # Filter the new DataFrame to keep only the key columns\n",
    "    new_df_filtered = new_df[key_columns]\n",
    "\n",
    "    # Append the new DataFrame to the original DataFrame\n",
    "    appended_df = original_df.append(new_df_filtered, ignore_index=True)\n",
    "\n",
    "    \n",
    "    # Find the index where the epoch resets (starts again from 0)\n",
    "    reset_index = appended_df[appended_df['epoch'] == min(original_df[\"epoch\"].values)].index[1]  # Assumes there are at least two runs\n",
    "\n",
    "    # Get the last epoch number of the first run\n",
    "    last_epoch_first_run = appended_df.loc[reset_index - 1, 'epoch']\n",
    "\n",
    "    # Increment the epochs of the second run\n",
    "    appended_df.loc[reset_index:, 'epoch'] += last_epoch_first_run\n",
    "\n",
    "    # Save the appended data to the output CSV\n",
    "    appended_df.to_csv(output_csv, index=False)\n",
    "\n",
    "    print(f\"Data appended and saved to {output_csv}\")"
   ]
  },
  {
   "cell_type": "code",
   "execution_count": 3,
   "metadata": {},
   "outputs": [],
   "source": [
    "all_sessions = [\n",
    "        \"758519303\",\"759189643\",\"759660390\",\"759666166\",\"759872185\",\n",
    "        \"760269100\",\"761730740\",\"762415169\",\"763646681\",\"761624763\", \n",
    "        \"761944562\",\"762250376\",\"760260459\",\"760659782\",\"761269197\", \n",
    "        \"763949859\",\"764897534\",\"765427689\",\"766755831\",\"767254594\",\n",
    "        \"768807532\",\"764704289\",\"765193831\",\"766502238\",\"777496949\", \n",
    "        \"778374308\",\"779152062\",\"777914830\",\"778864809\",\"779650018\",\n",
    "        \"826187862\",\"826773996\",\"827833392\",\"826338612\",\"826819032\", \n",
    "        \"828816509\",\"829283315\",\"823453391\",\"824434038\",\"825180479\", \n",
    "        \"826659257\",\"827300090\",\"828475005\",\"829520904\",\"832883243\", \n",
    "        \"833704570\",\"834403597\",\"836968429\",\"837360280\",\"838633305\" \n",
    "        ]\n",
    "dend_sessions = ['759666166', '759872185', '760269100', '761730740', \n",
    "                 '762415169', '763646681', '763949859', '764897534', \n",
    "                 '765427689', '766755831', '767254594', '768807532', \n",
    "                 '764704289', '765193831', '766502238', '777914830', \n",
    "                 '778864809', '779650018', '826187862', '826773996', \n",
    "                 '827833392', '826338612', '826819032', '828816509', \n",
    "                 '829283315', '823453391', '824434038', '825180479']\n",
    "\n",
    "soma_sessions = ['758519303', '759189643', '759660390', '761624763', \n",
    "                 '761944562', '762250376', '760260459', '760659782', \n",
    "                 '761269197', '777496949', '778374308', '779152062', \n",
    "                 '826659257', '827300090', '828475005', '829520904', \n",
    "                 '832883243', '833704570', '834403597', '836968429', \n",
    "                 '837360280', '838633305']\n"
   ]
  },
  {
   "cell_type": "code",
   "execution_count": 7,
   "metadata": {},
   "outputs": [],
   "source": [
    "#Read two csvs into pandas df where information needs to be stitched\n",
    "original_csv = \"/home/mila/x/xuejing.pan/POYO/results/cross_sess/loss/roi_embed_loss.csv\"\n",
    "new_csv = \"/home/mila/x/xuejing.pan/POYO/results/cross_sess/loss/roi_embed_loss_cont.csv\"\n",
    "output_csv = \"/home/mila/x/xuejing.pan/POYO/results/cross_sess/loss/roi_embed_loss_combined.csv\"\n"
   ]
  },
  {
   "cell_type": "code",
   "execution_count": 5,
   "metadata": {},
   "outputs": [],
   "source": [
    "def get_cols(all_sessions):\n",
    "        key_columns = [\"epoch\"]\n",
    "        val_col_names = []\n",
    "\n",
    "        for sess in all_sessions:\n",
    "                curr_name = \"val/session_{}_accuracy_gabor_orientation\".format(sess)\n",
    "                key_columns.append(curr_name)\n",
    "\n",
    "        return key_columns"
   ]
  },
  {
   "cell_type": "code",
   "execution_count": 6,
   "metadata": {},
   "outputs": [
    {
     "name": "stdout",
     "output_type": "stream",
     "text": [
      "Data appended and saved to /home/mila/x/xuejing.pan/POYO/results/cross_sess/val/roi_embed_vals_combined.csv\n"
     ]
    },
    {
     "name": "stderr",
     "output_type": "stream",
     "text": [
      "/tmp/ipykernel_54193/1229269154.py:26: FutureWarning: The frame.append method is deprecated and will be removed from pandas in a future version. Use pandas.concat instead.\n",
      "  appended_df = original_df.append(new_df_filtered, ignore_index=True)\n"
     ]
    }
   ],
   "source": [
    "key_columns = get_cols(all_sessions)\n",
    "append_csv_by_key_columns(original_csv,new_csv,key_columns,output_csv)"
   ]
  },
  {
   "cell_type": "code",
   "execution_count": 8,
   "metadata": {},
   "outputs": [
    {
     "name": "stdout",
     "output_type": "stream",
     "text": [
      "Data appended and saved to /home/mila/x/xuejing.pan/POYO/results/cross_sess/loss/roi_embed_loss_combined.csv\n"
     ]
    },
    {
     "name": "stderr",
     "output_type": "stream",
     "text": [
      "/tmp/ipykernel_54193/1229269154.py:26: FutureWarning: The frame.append method is deprecated and will be removed from pandas in a future version. Use pandas.concat instead.\n",
      "  appended_df = original_df.append(new_df_filtered, ignore_index=True)\n"
     ]
    }
   ],
   "source": [
    "#For train\n",
    "key_columns = [\"epoch\", \"train_loss\"]\n",
    "append_csv_by_key_columns(original_csv,new_csv,key_columns,output_csv)"
   ]
  },
  {
   "cell_type": "code",
   "execution_count": null,
   "metadata": {},
   "outputs": [],
   "source": []
  }
 ],
 "metadata": {
  "kernelspec": {
   "display_name": "test_newenv",
   "language": "python",
   "name": "python3"
  },
  "language_info": {
   "codemirror_mode": {
    "name": "ipython",
    "version": 3
   },
   "file_extension": ".py",
   "mimetype": "text/x-python",
   "name": "python",
   "nbconvert_exporter": "python",
   "pygments_lexer": "ipython3",
   "version": "3.9.6"
  },
  "orig_nbformat": 4
 },
 "nbformat": 4,
 "nbformat_minor": 2
}
