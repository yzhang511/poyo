{
 "cells": [
  {
   "cell_type": "code",
   "execution_count": 1,
   "metadata": {},
   "outputs": [],
   "source": [
    "from allensdk.core.brain_observatory_cache import BrainObservatoryCache\n",
    "import pprint\n",
    "import numpy as np\n",
    "import allensdk.brain_observatory.stimulus_info as stim_info\n",
    "import pandas as pd\n",
    "import os\n",
    "import matplotlib.pyplot as plt\n",
    "from tqdm import tqdm"
   ]
  },
  {
   "cell_type": "code",
   "execution_count": 2,
   "metadata": {},
   "outputs": [],
   "source": [
    "boc = BrainObservatoryCache(manifest_file='/home/mila/x/xuejing.pan/scratch/manifest.json')"
   ]
  },
  {
   "cell_type": "markdown",
   "metadata": {},
   "source": [
    "## Getting all Allen BO metadata"
   ]
  },
  {
   "cell_type": "code",
   "execution_count": 3,
   "metadata": {},
   "outputs": [],
   "source": [
    "all_dg_exps = boc.get_ophys_experiments(stimuli=[stim_info.DRIFTING_GRATINGS])"
   ]
  },
  {
   "cell_type": "code",
   "execution_count": 4,
   "metadata": {},
   "outputs": [
    {
     "name": "stdout",
     "output_type": "stream",
     "text": [
      "All experiments: 456\n",
      "\n"
     ]
    }
   ],
   "source": [
    "print(\"All experiments: %d\\n\" % len(all_dg_exps))"
   ]
  },
  {
   "cell_type": "code",
   "execution_count": 5,
   "metadata": {},
   "outputs": [],
   "source": [
    "exp = all_dg_exps[16]\n",
    "exp_id = all_dg_exps[16]['id']\n",
    "exp_depth = all_dg_exps[16][\"donor_name\"]\n",
    "#exps = boc.get_ophys_experiments(experiment_container_ids=[exp_id])\n",
    "exp = boc.get_ophys_experiment_data(exp['id'])"
   ]
  },
  {
   "cell_type": "code",
   "execution_count": 6,
   "metadata": {},
   "outputs": [
    {
     "data": {
      "text/plain": [
       "'228379'"
      ]
     },
     "execution_count": 6,
     "metadata": {},
     "output_type": "execute_result"
    }
   ],
   "source": [
    "exp_depth"
   ]
  },
  {
   "cell_type": "code",
   "execution_count": 7,
   "metadata": {},
   "outputs": [],
   "source": [
    "traces = exp.get_dff_traces()"
   ]
  },
  {
   "cell_type": "code",
   "execution_count": 8,
   "metadata": {},
   "outputs": [],
   "source": [
    "num_rois = traces[1].shape[0]"
   ]
  },
  {
   "cell_type": "code",
   "execution_count": 9,
   "metadata": {},
   "outputs": [],
   "source": [
    "stim_table = exp.get_stimulus_table(\"drifting_gratings\")"
   ]
  },
  {
   "cell_type": "code",
   "execution_count": 10,
   "metadata": {},
   "outputs": [
    {
     "name": "stdout",
     "output_type": "stream",
     "text": [
      "     temporal_frequency  orientation  blank_sweep   start     end\n",
      "0                   NaN          NaN          1.0     737     796\n",
      "1                   8.0         45.0          0.0     827     887\n",
      "2                   4.0        270.0          0.0     918     978\n",
      "3                   NaN          NaN          1.0    1008    1068\n",
      "4                   8.0         45.0          0.0    1099    1159\n",
      "..                  ...          ...          ...     ...     ...\n",
      "623                 4.0         90.0          0.0  115093  115153\n",
      "624                 4.0        135.0          0.0  115183  115243\n",
      "625                 2.0        135.0          0.0  115274  115334\n",
      "626                 8.0        135.0          0.0  115364  115424\n",
      "627                 8.0        315.0          0.0  115455  115515\n",
      "\n",
      "[628 rows x 5 columns]\n"
     ]
    }
   ],
   "source": [
    "print(stim_table)"
   ]
  },
  {
   "cell_type": "code",
   "execution_count": 11,
   "metadata": {},
   "outputs": [],
   "source": [
    "num_seqs = stim_table.index[-1]+1\n"
   ]
  },
  {
   "cell_type": "code",
   "execution_count": 12,
   "metadata": {},
   "outputs": [
    {
     "ename": "EpochSeparationException",
     "evalue": "more than 2 epochs cut",
     "output_type": "error",
     "traceback": [
      "\u001b[0;31m---------------------------------------------------------------------------\u001b[0m",
      "\u001b[0;31mEpochSeparationException\u001b[0m                  Traceback (most recent call last)",
      "Cell \u001b[0;32mIn[12], line 1\u001b[0m\n\u001b[0;32m----> 1\u001b[0m master_stim_table \u001b[38;5;241m=\u001b[39m \u001b[43mexp\u001b[49m\u001b[38;5;241;43m.\u001b[39;49m\u001b[43mget_stimulus_epoch_table\u001b[49m\u001b[43m(\u001b[49m\u001b[43m)\u001b[49m\n",
      "File \u001b[0;32m~/.conda/envs/poyo/lib/python3.9/site-packages/allensdk/core/brain_observatory_nwb_data_set.py:194\u001b[0m, in \u001b[0;36mBrainObservatoryNwbDataSet.get_stimulus_epoch_table\u001b[0;34m(self)\u001b[0m\n\u001b[1;32m    192\u001b[0m interval_stimulus_dict \u001b[38;5;241m=\u001b[39m {}\n\u001b[1;32m    193\u001b[0m \u001b[38;5;28;01mfor\u001b[39;00m stimulus \u001b[38;5;129;01min\u001b[39;00m \u001b[38;5;28mself\u001b[39m\u001b[38;5;241m.\u001b[39mlist_stimuli():\n\u001b[0;32m--> 194\u001b[0m     stimulus_interval_list \u001b[38;5;241m=\u001b[39m \u001b[43mget_epoch_mask_list\u001b[49m\u001b[43m(\u001b[49m\u001b[43mstimulus_table_dict\u001b[49m\u001b[43m[\u001b[49m\u001b[43mstimulus\u001b[49m\u001b[43m]\u001b[49m\u001b[43m,\u001b[49m\u001b[43m \u001b[49m\u001b[43mthreshold\u001b[49m\u001b[38;5;241;43m=\u001b[39;49m\u001b[43mthreshold_dict\u001b[49m\u001b[38;5;241;43m.\u001b[39;49m\u001b[43mget\u001b[49m\u001b[43m(\u001b[49m\u001b[38;5;28;43mself\u001b[39;49m\u001b[38;5;241;43m.\u001b[39;49m\u001b[43mget_session_type\u001b[49m\u001b[43m(\u001b[49m\u001b[43m)\u001b[49m\u001b[43m,\u001b[49m\u001b[43m \u001b[49m\u001b[38;5;28;43;01mNone\u001b[39;49;00m\u001b[43m)\u001b[49m\u001b[43m)\u001b[49m\n\u001b[1;32m    195\u001b[0m     \u001b[38;5;28;01mfor\u001b[39;00m stimulus_interval \u001b[38;5;129;01min\u001b[39;00m stimulus_interval_list:\n\u001b[1;32m    196\u001b[0m         interval_stimulus_dict[stimulus_interval] \u001b[38;5;241m=\u001b[39m stimulus\n",
      "File \u001b[0;32m~/.conda/envs/poyo/lib/python3.9/site-packages/allensdk/core/brain_observatory_nwb_data_set.py:86\u001b[0m, in \u001b[0;36mget_epoch_mask_list\u001b[0;34m(st, threshold, max_cuts)\u001b[0m\n\u001b[1;32m     80\u001b[0m epoch_mask_list \u001b[38;5;241m=\u001b[39m []\n\u001b[1;32m     82\u001b[0m \u001b[38;5;28;01mif\u001b[39;00m \u001b[38;5;28mlen\u001b[39m(cut_inds) \u001b[38;5;241m>\u001b[39m max_cuts:\n\u001b[1;32m     83\u001b[0m \n\u001b[1;32m     84\u001b[0m     \u001b[38;5;66;03m# See: https://gist.github.com/nicain/bce66cd073e422f07cf337b476c63be7\u001b[39;00m\n\u001b[1;32m     85\u001b[0m     \u001b[38;5;66;03m#      https://github.com/AllenInstitute/AllenSDK/issues/66\u001b[39;00m\n\u001b[0;32m---> 86\u001b[0m     \u001b[38;5;28;01mraise\u001b[39;00m EpochSeparationException(\u001b[38;5;124m'\u001b[39m\u001b[38;5;124mmore than 2 epochs cut\u001b[39m\u001b[38;5;124m'\u001b[39m, delta\u001b[38;5;241m=\u001b[39mdelta)\n\u001b[1;32m     88\u001b[0m \u001b[38;5;28;01mfor\u001b[39;00m ii \u001b[38;5;129;01min\u001b[39;00m \u001b[38;5;28mrange\u001b[39m(\u001b[38;5;28mlen\u001b[39m(cut_inds)\u001b[38;5;241m+\u001b[39m\u001b[38;5;241m1\u001b[39m):\n\u001b[1;32m     90\u001b[0m     \u001b[38;5;28;01mif\u001b[39;00m ii \u001b[38;5;241m==\u001b[39m \u001b[38;5;241m0\u001b[39m:\n",
      "\u001b[0;31mEpochSeparationException\u001b[0m: more than 2 epochs cut"
     ]
    }
   ],
   "source": [
    "master_stim_table = exp.get_stimulus_epoch_table()"
   ]
  },
  {
   "cell_type": "code",
   "execution_count": 13,
   "metadata": {},
   "outputs": [
    {
     "data": {
      "image/png": "[encoded data removed]",
      "text/plain": [
       "<Figure size 640x480 with 1 Axes>"
      ]
     },
     "metadata": {},
     "output_type": "display_data"
    }
   ],
   "source": [
    "\n",
    "from allensdk.brain_observatory.brain_observatory_exceptions import EpochSeparationException   \n",
    "import matplotlib.pyplot as plt\n",
    "try:\n",
    "    exp.get_stimulus_epoch_table()\n",
    "except EpochSeparationException as e:\n",
    "    delta = e.delta\n",
    "    plt.plot(delta)\n",
    "    plt.show()"
   ]
  },
  {
   "cell_type": "code",
   "execution_count": 39,
   "metadata": {},
   "outputs": [
    {
     "name": "stdout",
     "output_type": "stream",
     "text": [
      "              stimulus  start     end\n",
      "0    drifting_gratings    891   19452\n",
      "1  natural_movie_three  20413   39004\n",
      "2    natural_movie_one  39934   49230\n",
      "3    drifting_gratings  50160   68719\n",
      "4          spontaneous  68869   78044\n",
      "5  natural_movie_three  78045   96635\n",
      "6    drifting_gratings  97565  118745\n"
     ]
    }
   ],
   "source": [
    "print(master_stim_table)"
   ]
  },
  {
   "cell_type": "code",
   "execution_count": 40,
   "metadata": {},
   "outputs": [
    {
     "name": "stdout",
     "output_type": "stream",
     "text": [
      "58300\n"
     ]
    }
   ],
   "source": [
    "time_all = 0\n",
    "for i,stim in enumerate(master_stim_table['stimulus']):\n",
    "    if stim=='drifting_gratings':\n",
    "        curr_time_points = master_stim_table['end'][i] - master_stim_table['start'][i]\n",
    "        time_all += curr_time_points\n",
    "\n",
    "print(time_all)\n"
   ]
  },
  {
   "cell_type": "markdown",
   "metadata": {},
   "source": [
    "## Allen data analysis"
   ]
  },
  {
   "cell_type": "markdown",
   "metadata": {},
   "source": []
  },
  {
   "cell_type": "code",
   "execution_count": 19,
   "metadata": {},
   "outputs": [],
   "source": [
    "df = pd.read_csv('/home/mila/x/xuejing.pan/POYO/results/AllenBOmeta.csv')"
   ]
  },
  {
   "cell_type": "markdown",
   "metadata": {},
   "source": [
    "df"
   ]
  },
  {
   "cell_type": "code",
   "execution_count": 20,
   "metadata": {},
   "outputs": [
    {
     "data": {
      "text/html": [
       "<div>\n",
       "<style scoped>\n",
       "    .dataframe tbody tr th:only-of-type {\n",
       "        vertical-align: middle;\n",
       "    }\n",
       "\n",
       "    .dataframe tbody tr th {\n",
       "        vertical-align: top;\n",
       "    }\n",
       "\n",
       "    .dataframe thead th {\n",
       "        text-align: right;\n",
       "    }\n",
       "</style>\n",
       "<table border=\"1\" class=\"dataframe\">\n",
       "  <thead>\n",
       "    <tr style=\"text-align: right;\">\n",
       "      <th></th>\n",
       "      <th>exp_id</th>\n",
       "      <th>subject_id</th>\n",
       "      <th>cre_line</th>\n",
       "      <th>depth</th>\n",
       "      <th>num_seqs</th>\n",
       "      <th>num_ROIs</th>\n",
       "      <th>num_timepoints</th>\n",
       "    </tr>\n",
       "  </thead>\n",
       "  <tbody>\n",
       "    <tr>\n",
       "      <th>0</th>\n",
       "      <td>649409874</td>\n",
       "      <td>350249</td>\n",
       "      <td>Vip-IRES-Cre</td>\n",
       "      <td>175</td>\n",
       "      <td>628</td>\n",
       "      <td>26</td>\n",
       "      <td>58281</td>\n",
       "    </tr>\n",
       "    <tr>\n",
       "      <th>1</th>\n",
       "      <td>604328043</td>\n",
       "      <td>325932</td>\n",
       "      <td>Slc17a7-IRES2-Cre</td>\n",
       "      <td>375</td>\n",
       "      <td>628</td>\n",
       "      <td>52</td>\n",
       "      <td>56624</td>\n",
       "    </tr>\n",
       "    <tr>\n",
       "      <th>2</th>\n",
       "      <td>556353209</td>\n",
       "      <td>271750</td>\n",
       "      <td>Rbp4-Cre_KL100</td>\n",
       "      <td>375</td>\n",
       "      <td>628</td>\n",
       "      <td>21</td>\n",
       "      <td>56741</td>\n",
       "    </tr>\n",
       "    <tr>\n",
       "      <th>3</th>\n",
       "      <td>627823695</td>\n",
       "      <td>339814</td>\n",
       "      <td>Ntsr1-Cre_GN220</td>\n",
       "      <td>550</td>\n",
       "      <td>628</td>\n",
       "      <td>21</td>\n",
       "      <td>56618</td>\n",
       "    </tr>\n",
       "    <tr>\n",
       "      <th>4</th>\n",
       "      <td>662982346</td>\n",
       "      <td>357433</td>\n",
       "      <td>Vip-IRES-Cre</td>\n",
       "      <td>250</td>\n",
       "      <td>628</td>\n",
       "      <td>10</td>\n",
       "      <td>56751</td>\n",
       "    </tr>\n",
       "    <tr>\n",
       "      <th>...</th>\n",
       "      <td>...</td>\n",
       "      <td>...</td>\n",
       "      <td>...</td>\n",
       "      <td>...</td>\n",
       "      <td>...</td>\n",
       "      <td>...</td>\n",
       "      <td>...</td>\n",
       "    </tr>\n",
       "    <tr>\n",
       "      <th>428</th>\n",
       "      <td>564425777</td>\n",
       "      <td>283147</td>\n",
       "      <td>Emx1-IRES-Cre</td>\n",
       "      <td>175</td>\n",
       "      <td>628</td>\n",
       "      <td>274</td>\n",
       "      <td>56745</td>\n",
       "    </tr>\n",
       "    <tr>\n",
       "      <th>429</th>\n",
       "      <td>510390912</td>\n",
       "      <td>232623</td>\n",
       "      <td>Rorb-IRES2-Cre</td>\n",
       "      <td>275</td>\n",
       "      <td>628</td>\n",
       "      <td>87</td>\n",
       "      <td>56756</td>\n",
       "    </tr>\n",
       "    <tr>\n",
       "      <th>430</th>\n",
       "      <td>653123929</td>\n",
       "      <td>355467</td>\n",
       "      <td>Slc17a7-IRES2-Cre</td>\n",
       "      <td>275</td>\n",
       "      <td>628</td>\n",
       "      <td>287</td>\n",
       "      <td>56612</td>\n",
       "    </tr>\n",
       "    <tr>\n",
       "      <th>431</th>\n",
       "      <td>657775947</td>\n",
       "      <td>355670</td>\n",
       "      <td>Vip-IRES-Cre</td>\n",
       "      <td>175</td>\n",
       "      <td>628</td>\n",
       "      <td>8</td>\n",
       "      <td>56777</td>\n",
       "    </tr>\n",
       "    <tr>\n",
       "      <th>432</th>\n",
       "      <td>637115675</td>\n",
       "      <td>335039</td>\n",
       "      <td>Rbp4-Cre_KL100</td>\n",
       "      <td>375</td>\n",
       "      <td>628</td>\n",
       "      <td>23</td>\n",
       "      <td>56761</td>\n",
       "    </tr>\n",
       "  </tbody>\n",
       "</table>\n",
       "<p>433 rows × 7 columns</p>\n",
       "</div>"
      ],
      "text/plain": [
       "        exp_id  subject_id           cre_line  depth  num_seqs  num_ROIs  \\\n",
       "0    649409874      350249       Vip-IRES-Cre    175       628        26   \n",
       "1    604328043      325932  Slc17a7-IRES2-Cre    375       628        52   \n",
       "2    556353209      271750     Rbp4-Cre_KL100    375       628        21   \n",
       "3    627823695      339814    Ntsr1-Cre_GN220    550       628        21   \n",
       "4    662982346      357433       Vip-IRES-Cre    250       628        10   \n",
       "..         ...         ...                ...    ...       ...       ...   \n",
       "428  564425777      283147      Emx1-IRES-Cre    175       628       274   \n",
       "429  510390912      232623     Rorb-IRES2-Cre    275       628        87   \n",
       "430  653123929      355467  Slc17a7-IRES2-Cre    275       628       287   \n",
       "431  657775947      355670       Vip-IRES-Cre    175       628         8   \n",
       "432  637115675      335039     Rbp4-Cre_KL100    375       628        23   \n",
       "\n",
       "     num_timepoints  \n",
       "0             58281  \n",
       "1             56624  \n",
       "2             56741  \n",
       "3             56618  \n",
       "4             56751  \n",
       "..              ...  \n",
       "428           56745  \n",
       "429           56756  \n",
       "430           56612  \n",
       "431           56777  \n",
       "432           56761  \n",
       "\n",
       "[433 rows x 7 columns]"
      ]
     },
     "execution_count": 20,
     "metadata": {},
     "output_type": "execute_result"
    }
   ],
   "source": [
    "df"
   ]
  },
  {
   "cell_type": "code",
   "execution_count": 13,
   "metadata": {},
   "outputs": [],
   "source": [
    "subjects = df['subject_id'].values"
   ]
  },
  {
   "cell_type": "code",
   "execution_count": 18,
   "metadata": {},
   "outputs": [
    {
     "name": "stdout",
     "output_type": "stream",
     "text": [
      "255\n"
     ]
    }
   ],
   "source": [
    "\n",
    "unique_values= np.unique(subjects, return_counts=False)\n",
    "\n",
    "print(len(unique_values))"
   ]
  },
  {
   "cell_type": "code",
   "execution_count": 21,
   "metadata": {},
   "outputs": [
    {
     "name": "stdout",
     "output_type": "stream",
     "text": [
      "40328\n"
     ]
    }
   ],
   "source": [
    "ROIs = df['num_ROIs'].values\n",
    "sum_ROIs = np.sum(ROIs)\n",
    "print(sum_ROIs)"
   ]
  },
  {
   "cell_type": "code",
   "execution_count": 40,
   "metadata": {},
   "outputs": [
    {
     "data": {
      "image/png": "[encoded data removed]",
      "text/plain": [
       "<Figure size 640x480 with 1 Axes>"
      ]
     },
     "metadata": {},
     "output_type": "display_data"
    }
   ],
   "source": [
    "# Creating the histogram\n",
    "plt.hist(ROIs, bins=60, alpha=0.75, color='orange', edgecolor='black')\n",
    "\n",
    "# Adding titles and labels\n",
    "plt.title('Histogram of ROIs')\n",
    "plt.xlabel('ROI Values')\n",
    "plt.ylabel('Num Sessions')\n",
    "plt.show()"
   ]
  },
  {
   "cell_type": "code",
   "execution_count": 37,
   "metadata": {},
   "outputs": [
    {
     "data": {
      "image/png": "[encoded data removed]",
      "text/plain": [
       "<Figure size 640x480 with 1 Axes>"
      ]
     },
     "metadata": {},
     "output_type": "display_data"
    }
   ],
   "source": [
    "depths = df['depth'].values\n",
    "# Creating the histogram\n",
    "plt.hist(depths, bins=20, alpha=0.75, color='orange', edgecolor='black')\n",
    "\n",
    "# Adding titles and labels\n",
    "plt.title('Histogram of recording depth')\n",
    "plt.xlabel('ROI Values')\n",
    "plt.ylabel('Num Sessions')\n",
    "plt.show()"
   ]
  },
  {
   "cell_type": "code",
   "execution_count": 36,
   "metadata": {},
   "outputs": [
    {
     "name": "stdout",
     "output_type": "stream",
     "text": [
      "24633950\n"
     ]
    }
   ],
   "source": [
    "print(np.sum(df['num_timepoints'].values))"
   ]
  },
  {
   "cell_type": "code",
   "execution_count": 38,
   "metadata": {},
   "outputs": [],
   "source": [
    "numbers = [\n",
    "    175, 175, 175, 20, 20, 20, 20, 20, 20,\n",
    "    175, 175, 175, 375, 375, 375, 75, 75, 75,\n",
    "    50, 50, 50, 50, 50, 50, 375, 375, 375,\n",
    "    20, 20, 20, 75, 75, 75, 20, 20, 20, 20, 20, 20, 20,\n",
    "    375, 375, 375, 375, 175, 175, 175, 175, 175, 175\n",
    "]\n",
    "\n",
    "OS_depths = np.array(numbers)"
   ]
  },
  {
   "cell_type": "code",
   "execution_count": 41,
   "metadata": {},
   "outputs": [
    {
     "data": {
      "image/png": "[encoded data removed]",
      "text/plain": [
       "<Figure size 640x480 with 1 Axes>"
      ]
     },
     "metadata": {},
     "output_type": "display_data"
    }
   ],
   "source": [
    "plt.hist(OS_depths, bins=20, alpha=0.75, color='blue', edgecolor='black')\n",
    "\n",
    "# Adding titles and labels\n",
    "plt.title('Histogram of recording depth')\n",
    "plt.xlabel('ROI Values')\n",
    "plt.ylabel('Num Sessions')\n",
    "plt.show()"
   ]
  },
  {
   "cell_type": "code",
   "execution_count": null,
   "metadata": {},
   "outputs": [],
   "source": []
  },
  {
   "cell_type": "markdown",
   "metadata": {},
   "source": [
    "## prepping for dataloader"
   ]
  },
  {
   "cell_type": "code",
   "execution_count": 3,
   "metadata": {},
   "outputs": [],
   "source": [
    "manifest_path = os.path.join(\"/home/mila/x/xuejing.pan/scratch\", \"manifest.json\")\n",
    "boc = BrainObservatoryCache(manifest_file=manifest_path)"
   ]
  },
  {
   "cell_type": "code",
   "execution_count": 4,
   "metadata": {},
   "outputs": [],
   "source": [
    "meta_df = pd.read_csv('/home/mila/x/xuejing.pan/POYO/project-kirby/data/scripts/allen_brain_observatory_calcium/AllenBOmeta.csv')\n",
    "sess_ids = meta_df[\"exp_id\"].values"
   ]
  },
  {
   "cell_type": "code",
   "execution_count": 5,
   "metadata": {},
   "outputs": [],
   "source": [
    "curr_sess_id = sess_ids[1]"
   ]
  },
  {
   "cell_type": "code",
   "execution_count": 6,
   "metadata": {},
   "outputs": [],
   "source": [
    "nwbfile = boc.get_ophys_experiment_data(curr_sess_id)"
   ]
  },
  {
   "cell_type": "code",
   "execution_count": 7,
   "metadata": {},
   "outputs": [],
   "source": [
    "curr_meta_sess = nwbfile.get_metadata()"
   ]
  },
  {
   "cell_type": "code",
   "execution_count": 8,
   "metadata": {},
   "outputs": [
    {
     "data": {
      "text/plain": [
       "{'sex': 'male',\n",
       " 'targeted_structure': 'VISrl',\n",
       " 'ophys_experiment_id': 604328043,\n",
       " 'experiment_container_id': 604328040,\n",
       " 'excitation_lambda': '910 nanometers',\n",
       " 'indicator': 'GCaMP6f',\n",
       " 'fov': '400x400 microns (512 x 512 pixels)',\n",
       " 'genotype': 'Slc17a7-IRES2-Cre/wt;Camk2a-tTA/wt;Ai93(TITL-GCaMP6f)/wt',\n",
       " 'session_start_time': datetime.datetime(2017, 7, 26, 8, 41, 51),\n",
       " 'session_type': 'three_session_A',\n",
       " 'specimen_name': 'Slc17a7-IRES2-Cre;Camk2a-tTA;Ai93-325932',\n",
       " 'cre_line': 'Slc17a7-IRES2-Cre/wt',\n",
       " 'imaging_depth_um': 375,\n",
       " 'age_days': 105,\n",
       " 'device': 'Nikon A1R-MP multiphoton microscope',\n",
       " 'device_name': 'CAM2P.2',\n",
       " 'pipeline_version': '3.0'}"
      ]
     },
     "execution_count": 8,
     "metadata": {},
     "output_type": "execute_result"
    }
   ],
   "source": [
    "curr_meta_sess"
   ]
  },
  {
   "cell_type": "code",
   "execution_count": 9,
   "metadata": {},
   "outputs": [
    {
     "data": {
      "text/plain": [
       "'20170726'"
      ]
     },
     "execution_count": 9,
     "metadata": {},
     "output_type": "execute_result"
    }
   ],
   "source": [
    "curr_meta_sess['session_start_time'].strftime(\"%Y%m%d\")"
   ]
  },
  {
   "cell_type": "code",
   "execution_count": 10,
   "metadata": {},
   "outputs": [],
   "source": [
    "curr_meta=boc.get_ophys_experiments(ids=[curr_sess_id])"
   ]
  },
  {
   "cell_type": "code",
   "execution_count": 11,
   "metadata": {},
   "outputs": [
    {
     "data": {
      "text/plain": [
       "[{'id': 604328043,\n",
       "  'imaging_depth': 375,\n",
       "  'targeted_structure': 'VISrl',\n",
       "  'cre_line': 'Slc17a7-IRES2-Cre',\n",
       "  'reporter_line': 'Ai93(TITL-GCaMP6f)',\n",
       "  'acquisition_age_days': 104,\n",
       "  'experiment_container_id': 604328040,\n",
       "  'session_type': 'three_session_A',\n",
       "  'donor_name': '325932',\n",
       "  'specimen_name': 'Slc17a7-IRES2-Cre;Camk2a-tTA;Ai93-325932',\n",
       "  'fail_eye_tracking': False}]"
      ]
     },
     "execution_count": 11,
     "metadata": {},
     "output_type": "execute_result"
    }
   ],
   "source": [
    "curr_meta"
   ]
  },
  {
   "cell_type": "code",
   "execution_count": 12,
   "metadata": {},
   "outputs": [],
   "source": [
    "subject_ids = meta_df[\"subject_id\"].values"
   ]
  },
  {
   "cell_type": "code",
   "execution_count": 13,
   "metadata": {},
   "outputs": [],
   "source": [
    "#traces: (num_ROIs, num_timepoints)\n",
    "#timestamps: (num_timepoints,)\n",
    "timestamps, traces = nwbfile.get_dff_traces()"
   ]
  },
  {
   "cell_type": "code",
   "execution_count": 14,
   "metadata": {},
   "outputs": [
    {
     "name": "stdout",
     "output_type": "stream",
     "text": [
      "[b'605077572' b'605077574' b'605077579' b'605077582' b'605077584'\n",
      " b'605077588' b'605077595' b'605077624' b'605077626' b'605077629'\n",
      " b'605077641' b'605077643' b'605077648' b'605077652' b'605077657'\n",
      " b'605077664' b'605077669' b'605077685' b'605077695' b'605077700'\n",
      " b'605077702' b'605077704' b'605077706' b'605077712' b'605077736'\n",
      " b'605077752' b'605077761' b'605077765' b'605077777' b'605077779'\n",
      " b'605077807' b'605077827' b'605077833' b'605077838' b'605077843'\n",
      " b'605077845' b'605077848' b'605077852' b'605077857' b'605077876'\n",
      " b'605077880' b'605077886' b'605077890' b'605077894' b'605077896'\n",
      " b'605077898' b'605077900' b'605077906' b'605077908' b'605077912'\n",
      " b'605077916' b'605077933']\n"
     ]
    }
   ],
   "source": [
    "ROI_ids = nwbfile.get_roi_ids()\n",
    "print(ROI_ids)"
   ]
  },
  {
   "cell_type": "code",
   "execution_count": 15,
   "metadata": {},
   "outputs": [],
   "source": [
    "num_ROIs = ROI_ids.shape[0]"
   ]
  },
  {
   "cell_type": "code",
   "execution_count": 16,
   "metadata": {},
   "outputs": [
    {
     "data": {
      "text/plain": [
       "array([ 0,  1,  2,  3,  4,  5,  6,  7,  8,  9, 10, 11, 12, 13, 14, 15, 16,\n",
       "       17, 18, 19, 20, 21, 22, 23, 24, 25, 26, 27, 28, 29, 30, 31, 32, 33,\n",
       "       34, 35, 36, 37, 38, 39, 40, 41, 42, 43, 44, 45, 46, 47, 48, 49, 50,\n",
       "       51], dtype=int16)"
      ]
     },
     "execution_count": 16,
     "metadata": {},
     "output_type": "execute_result"
    }
   ],
   "source": [
    "np.arange(0,num_ROIs).astype(np.int16)"
   ]
  },
  {
   "cell_type": "code",
   "execution_count": 17,
   "metadata": {},
   "outputs": [],
   "source": [
    "#ROI pos, height and width\n",
    "ROI_masks = nwbfile.get_roi_mask()"
   ]
  },
  {
   "cell_type": "code",
   "execution_count": 18,
   "metadata": {},
   "outputs": [],
   "source": [
    "master_stim_table = nwbfile.get_stimulus_table('drifting_gratings')"
   ]
  },
  {
   "cell_type": "code",
   "execution_count": 19,
   "metadata": {},
   "outputs": [
    {
     "data": {
      "text/html": [
       "<div>\n",
       "<style scoped>\n",
       "    .dataframe tbody tr th:only-of-type {\n",
       "        vertical-align: middle;\n",
       "    }\n",
       "\n",
       "    .dataframe tbody tr th {\n",
       "        vertical-align: top;\n",
       "    }\n",
       "\n",
       "    .dataframe thead th {\n",
       "        text-align: right;\n",
       "    }\n",
       "</style>\n",
       "<table border=\"1\" class=\"dataframe\">\n",
       "  <thead>\n",
       "    <tr style=\"text-align: right;\">\n",
       "      <th></th>\n",
       "      <th>temporal_frequency</th>\n",
       "      <th>orientation</th>\n",
       "      <th>blank_sweep</th>\n",
       "      <th>start</th>\n",
       "      <th>end</th>\n",
       "    </tr>\n",
       "  </thead>\n",
       "  <tbody>\n",
       "    <tr>\n",
       "      <th>0</th>\n",
       "      <td>15.0</td>\n",
       "      <td>90.0</td>\n",
       "      <td>0.0</td>\n",
       "      <td>744</td>\n",
       "      <td>804</td>\n",
       "    </tr>\n",
       "    <tr>\n",
       "      <th>1</th>\n",
       "      <td>4.0</td>\n",
       "      <td>0.0</td>\n",
       "      <td>0.0</td>\n",
       "      <td>835</td>\n",
       "      <td>894</td>\n",
       "    </tr>\n",
       "    <tr>\n",
       "      <th>2</th>\n",
       "      <td>2.0</td>\n",
       "      <td>225.0</td>\n",
       "      <td>0.0</td>\n",
       "      <td>925</td>\n",
       "      <td>985</td>\n",
       "    </tr>\n",
       "    <tr>\n",
       "      <th>3</th>\n",
       "      <td>4.0</td>\n",
       "      <td>90.0</td>\n",
       "      <td>0.0</td>\n",
       "      <td>1015</td>\n",
       "      <td>1075</td>\n",
       "    </tr>\n",
       "    <tr>\n",
       "      <th>4</th>\n",
       "      <td>1.0</td>\n",
       "      <td>225.0</td>\n",
       "      <td>0.0</td>\n",
       "      <td>1106</td>\n",
       "      <td>1165</td>\n",
       "    </tr>\n",
       "    <tr>\n",
       "      <th>...</th>\n",
       "      <td>...</td>\n",
       "      <td>...</td>\n",
       "      <td>...</td>\n",
       "      <td>...</td>\n",
       "      <td>...</td>\n",
       "    </tr>\n",
       "    <tr>\n",
       "      <th>623</th>\n",
       "      <td>2.0</td>\n",
       "      <td>135.0</td>\n",
       "      <td>0.0</td>\n",
       "      <td>114809</td>\n",
       "      <td>114869</td>\n",
       "    </tr>\n",
       "    <tr>\n",
       "      <th>624</th>\n",
       "      <td>1.0</td>\n",
       "      <td>270.0</td>\n",
       "      <td>0.0</td>\n",
       "      <td>114899</td>\n",
       "      <td>114959</td>\n",
       "    </tr>\n",
       "    <tr>\n",
       "      <th>625</th>\n",
       "      <td>4.0</td>\n",
       "      <td>0.0</td>\n",
       "      <td>0.0</td>\n",
       "      <td>114990</td>\n",
       "      <td>115049</td>\n",
       "    </tr>\n",
       "    <tr>\n",
       "      <th>626</th>\n",
       "      <td>2.0</td>\n",
       "      <td>225.0</td>\n",
       "      <td>0.0</td>\n",
       "      <td>115080</td>\n",
       "      <td>115140</td>\n",
       "    </tr>\n",
       "    <tr>\n",
       "      <th>627</th>\n",
       "      <td>1.0</td>\n",
       "      <td>45.0</td>\n",
       "      <td>0.0</td>\n",
       "      <td>115170</td>\n",
       "      <td>115230</td>\n",
       "    </tr>\n",
       "  </tbody>\n",
       "</table>\n",
       "<p>628 rows × 5 columns</p>\n",
       "</div>"
      ],
      "text/plain": [
       "     temporal_frequency  orientation  blank_sweep   start     end\n",
       "0                  15.0         90.0          0.0     744     804\n",
       "1                   4.0          0.0          0.0     835     894\n",
       "2                   2.0        225.0          0.0     925     985\n",
       "3                   4.0         90.0          0.0    1015    1075\n",
       "4                   1.0        225.0          0.0    1106    1165\n",
       "..                  ...          ...          ...     ...     ...\n",
       "623                 2.0        135.0          0.0  114809  114869\n",
       "624                 1.0        270.0          0.0  114899  114959\n",
       "625                 4.0          0.0          0.0  114990  115049\n",
       "626                 2.0        225.0          0.0  115080  115140\n",
       "627                 1.0         45.0          0.0  115170  115230\n",
       "\n",
       "[628 rows x 5 columns]"
      ]
     },
     "execution_count": 19,
     "metadata": {},
     "output_type": "execute_result"
    }
   ],
   "source": [
    "master_stim_table"
   ]
  },
  {
   "cell_type": "code",
   "execution_count": 30,
   "metadata": {},
   "outputs": [],
   "source": [
    "start_times = timestamps[master_stim_table['start']]\n",
    "end_times = timestamps[master_stim_table['end']]\n",
    "temp_freqs = master_stim_table['temporal_frequency']\n",
    "orientation = master_stim_table[\"orientation\"]"
   ]
  },
  {
   "cell_type": "code",
   "execution_count": 20,
   "metadata": {},
   "outputs": [],
   "source": [
    "stim_df = pd.DataFrame(master_stim_table)"
   ]
  },
  {
   "cell_type": "code",
   "execution_count": 24,
   "metadata": {},
   "outputs": [],
   "source": [
    "start_times = timestamps[stim_df.loc[(stim_df[\"blank_sweep\"]==0.0), 'start']]\n",
    "end_times = timestamps[stim_df.loc[(stim_df[\"blank_sweep\"]==0.0), 'end']]\n",
    "temp_freqs = stim_df.loc[(stim_df[\"blank_sweep\"]==0.0), 'temporal_frequency']\n",
    "orientations = stim_df.loc[(stim_df[\"blank_sweep\"]==0.0), 'orientation']"
   ]
  },
  {
   "cell_type": "code",
   "execution_count": 35,
   "metadata": {},
   "outputs": [
    {
     "data": {
      "text/plain": [
       "315.0"
      ]
     },
     "execution_count": 35,
     "metadata": {},
     "output_type": "execute_result"
    }
   ],
   "source": [
    "np.max(orientations.values)"
   ]
  },
  {
   "cell_type": "code",
   "execution_count": 43,
   "metadata": {},
   "outputs": [],
   "source": [
    "stimulus_epochs = nwbfile.get_stimulus_epoch_table()\n",
    "session_start, session_end = (\n",
    "    timestamps[stimulus_epochs.iloc[0][\"start\"]],\n",
    "    timestamps[stimulus_epochs.iloc[-1][\"end\"]],\n",
    ")"
   ]
  },
  {
   "cell_type": "code",
   "execution_count": 44,
   "metadata": {},
   "outputs": [
    {
     "data": {
      "text/plain": [
       "31.53391"
      ]
     },
     "execution_count": 44,
     "metadata": {},
     "output_type": "execute_result"
    }
   ],
   "source": [
    "session_start"
   ]
  },
  {
   "cell_type": "markdown",
   "metadata": {},
   "source": [
    "## getting all ROI sizes"
   ]
  },
  {
   "cell_type": "code",
   "execution_count": 3,
   "metadata": {},
   "outputs": [],
   "source": [
    "\n",
    "\n",
    "#Using a metadata file instead of dealing with filtering every single time\n",
    "meta_df = pd.read_csv('/home/mila/x/xuejing.pan/POYO/project-kirby/data/scripts/allen_brain_observatory_calcium/AllenBOmeta.csv')\n",
    "sess_ids = meta_df[\"exp_id\"].values\n",
    "subject_ids = meta_df[\"subject_id\"].values\n",
    "cre_lines = meta_df[\"cre_line\"].values\n"
   ]
  },
  {
   "cell_type": "code",
   "execution_count": 4,
   "metadata": {},
   "outputs": [],
   "source": [
    "roi_sizes = []\n",
    "roi_heights = []\n",
    "roi_widths = []\n"
   ]
  },
  {
   "cell_type": "code",
   "execution_count": 11,
   "metadata": {},
   "outputs": [
    {
     "name": "stdout",
     "output_type": "stream",
     "text": [
      "0\n",
      "1\n",
      "2\n",
      "3\n",
      "4\n",
      "5\n",
      "6\n",
      "7\n",
      "8\n",
      "9\n",
      "10\n",
      "11\n",
      "12\n",
      "13\n",
      "14\n",
      "15\n",
      "16\n",
      "17\n",
      "18\n",
      "19\n",
      "20\n",
      "21\n",
      "22\n",
      "23\n",
      "24\n",
      "25\n",
      "26\n",
      "27\n",
      "28\n",
      "29\n",
      "30\n",
      "31\n",
      "32\n",
      "33\n",
      "34\n",
      "35\n",
      "36\n",
      "37\n",
      "38\n",
      "39\n",
      "40\n",
      "41\n",
      "42\n",
      "43\n",
      "44\n",
      "45\n",
      "46\n",
      "47\n",
      "48\n",
      "49\n",
      "50\n",
      "51\n",
      "52\n",
      "53\n",
      "54\n",
      "55\n",
      "56\n",
      "57\n",
      "58\n",
      "59\n",
      "60\n",
      "61\n",
      "62\n",
      "63\n",
      "64\n",
      "65\n",
      "66\n",
      "67\n",
      "68\n",
      "69\n",
      "70\n",
      "71\n",
      "72\n",
      "73\n",
      "74\n",
      "75\n",
      "76\n",
      "77\n",
      "78\n",
      "79\n",
      "80\n",
      "81\n",
      "82\n",
      "83\n",
      "84\n",
      "85\n",
      "86\n",
      "87\n",
      "88\n",
      "89\n",
      "90\n",
      "91\n",
      "92\n",
      "93\n",
      "94\n",
      "95\n",
      "96\n",
      "97\n",
      "98\n",
      "99\n",
      "100\n",
      "101\n",
      "102\n",
      "103\n",
      "104\n",
      "105\n",
      "106\n",
      "107\n",
      "108\n",
      "109\n",
      "110\n",
      "111\n",
      "112\n",
      "113\n",
      "114\n",
      "115\n",
      "116\n",
      "117\n",
      "118\n",
      "119\n",
      "120\n",
      "121\n",
      "122\n",
      "123\n",
      "124\n",
      "125\n",
      "126\n",
      "127\n",
      "128\n",
      "129\n",
      "130\n",
      "131\n",
      "132\n",
      "133\n",
      "134\n",
      "135\n",
      "136\n",
      "137\n",
      "138\n",
      "139\n",
      "140\n",
      "141\n",
      "142\n",
      "143\n",
      "144\n",
      "145\n",
      "146\n",
      "147\n",
      "148\n",
      "149\n",
      "150\n",
      "151\n",
      "152\n",
      "153\n",
      "154\n",
      "155\n",
      "156\n",
      "157\n",
      "158\n",
      "159\n",
      "160\n",
      "161\n",
      "162\n",
      "163\n",
      "164\n",
      "165\n",
      "166\n",
      "167\n",
      "168\n",
      "169\n",
      "170\n",
      "171\n",
      "172\n",
      "173\n",
      "174\n",
      "175\n",
      "176\n",
      "177\n",
      "178\n",
      "179\n",
      "180\n",
      "181\n",
      "182\n",
      "183\n",
      "184\n",
      "185\n",
      "186\n",
      "187\n",
      "188\n",
      "189\n",
      "190\n",
      "191\n",
      "192\n",
      "193\n",
      "194\n",
      "195\n",
      "196\n",
      "197\n",
      "198\n",
      "199\n",
      "200\n",
      "201\n",
      "202\n",
      "203\n",
      "204\n",
      "205\n",
      "206\n",
      "207\n",
      "208\n",
      "209\n",
      "210\n",
      "211\n",
      "212\n",
      "213\n",
      "214\n",
      "215\n",
      "216\n",
      "217\n",
      "218\n",
      "219\n",
      "220\n",
      "221\n",
      "222\n",
      "223\n",
      "224\n",
      "225\n",
      "226\n",
      "227\n",
      "228\n",
      "229\n",
      "230\n",
      "231\n",
      "232\n",
      "233\n",
      "234\n",
      "235\n",
      "236\n",
      "237\n",
      "238\n",
      "239\n",
      "240\n",
      "241\n",
      "242\n",
      "243\n",
      "244\n",
      "245\n",
      "246\n",
      "247\n",
      "248\n",
      "249\n",
      "250\n",
      "251\n",
      "252\n",
      "253\n",
      "254\n",
      "255\n",
      "256\n",
      "257\n",
      "258\n",
      "259\n",
      "260\n",
      "261\n",
      "262\n",
      "263\n",
      "264\n",
      "265\n",
      "266\n",
      "267\n",
      "268\n",
      "269\n",
      "270\n",
      "271\n",
      "272\n",
      "273\n",
      "274\n",
      "275\n",
      "276\n",
      "277\n",
      "278\n",
      "279\n",
      "280\n",
      "281\n",
      "282\n",
      "283\n",
      "284\n",
      "285\n",
      "286\n",
      "287\n",
      "288\n",
      "289\n",
      "290\n",
      "291\n",
      "292\n",
      "293\n",
      "294\n",
      "295\n",
      "296\n",
      "297\n",
      "298\n",
      "299\n",
      "300\n",
      "301\n",
      "302\n",
      "303\n",
      "304\n",
      "305\n",
      "306\n",
      "307\n",
      "308\n",
      "309\n",
      "310\n",
      "311\n",
      "312\n",
      "313\n",
      "314\n",
      "315\n",
      "316\n",
      "317\n",
      "318\n",
      "319\n",
      "320\n",
      "321\n",
      "322\n",
      "323\n",
      "324\n",
      "325\n",
      "326\n",
      "327\n",
      "328\n",
      "329\n",
      "330\n",
      "331\n",
      "332\n",
      "333\n",
      "334\n",
      "335\n",
      "336\n",
      "337\n",
      "338\n",
      "339\n",
      "340\n",
      "341\n",
      "342\n",
      "343\n",
      "344\n",
      "345\n",
      "346\n",
      "347\n",
      "348\n",
      "349\n",
      "350\n",
      "351\n",
      "352\n",
      "353\n",
      "354\n",
      "355\n",
      "356\n",
      "357\n",
      "358\n",
      "359\n",
      "360\n",
      "361\n",
      "362\n",
      "363\n",
      "364\n",
      "365\n",
      "366\n",
      "367\n",
      "368\n",
      "369\n",
      "370\n",
      "371\n",
      "372\n",
      "373\n",
      "374\n",
      "375\n",
      "376\n",
      "377\n",
      "378\n",
      "379\n",
      "380\n",
      "381\n",
      "382\n",
      "383\n",
      "384\n",
      "385\n",
      "386\n",
      "387\n",
      "388\n",
      "389\n",
      "390\n",
      "391\n",
      "392\n",
      "393\n",
      "394\n",
      "395\n",
      "396\n",
      "397\n",
      "398\n",
      "399\n",
      "400\n",
      "401\n",
      "402\n",
      "403\n",
      "404\n",
      "405\n",
      "406\n",
      "407\n",
      "408\n",
      "409\n",
      "410\n",
      "411\n",
      "412\n",
      "413\n",
      "414\n",
      "415\n",
      "416\n",
      "417\n",
      "418\n",
      "419\n",
      "420\n",
      "421\n",
      "422\n",
      "423\n",
      "424\n",
      "425\n",
      "426\n",
      "427\n",
      "428\n",
      "429\n",
      "430\n",
      "431\n",
      "432\n"
     ]
    }
   ],
   "source": [
    "for count, curr_sess_id in enumerate(sess_ids):\n",
    "    nwbfile = boc.get_ophys_experiment_data(curr_sess_id)\n",
    "    ROI_masks = nwbfile.get_roi_mask()\n",
    "    print(count)\n",
    "\n",
    "    for i, mask_t in enumerate(ROI_masks):\n",
    "        mask = ROI_masks[i].get_mask_plane()\n",
    "        curr_area = np.count_nonzero(mask)\n",
    "\n",
    "        rows, cols = np.where(mask)\n",
    "        heights = np.max(rows) - np.min(rows) + 1\n",
    "        widths = np.max(cols) - np.min(cols) + 1\n",
    "\n",
    "        roi_sizes.append(curr_area)\n",
    "        roi_heights.append(heights)\n",
    "        roi_widths.append(widths)"
   ]
  },
  {
   "cell_type": "code",
   "execution_count": 12,
   "metadata": {},
   "outputs": [],
   "source": [
    "\n",
    "roi_sizes = np.array(roi_sizes)\n",
    "roi_heights = np.array(roi_heights)\n",
    "roi_widths = np.array(roi_widths)"
   ]
  },
  {
   "cell_type": "code",
   "execution_count": 16,
   "metadata": {},
   "outputs": [
    {
     "name": "stdout",
     "output_type": "stream",
     "text": [
      "101\n",
      "551\n",
      "8\n",
      "44\n",
      "9\n",
      "42\n"
     ]
    }
   ],
   "source": [
    "print(np.min(roi_sizes))\n",
    "print(np.max(roi_sizes))\n",
    "print(np.min(roi_heights))\n",
    "print(np.max(roi_heights))\n",
    "print(np.min(roi_widths))\n",
    "print(np.max(roi_widths))"
   ]
  },
  {
   "cell_type": "code",
   "execution_count": 5,
   "metadata": {},
   "outputs": [],
   "source": [
    "def min_max_scale(data, data_min, data_max):\n",
    "    return 2 * ((data - data_min) / (data_max - data_min)) - 1\n"
   ]
  },
  {
   "cell_type": "code",
   "execution_count": 6,
   "metadata": {},
   "outputs": [],
   "source": [
    "from sklearn.preprocessing import MinMaxScaler\n",
    "\n",
    "for count, curr_sess_id in enumerate(sess_ids):\n",
    "    nwbfile = boc.get_ophys_experiment_data(curr_sess_id)\n",
    "    ROI_masks = nwbfile.get_roi_mask()\n",
    "\n",
    "    _, traces= nwbfile.get_dff_traces()\n",
    "    num_rois = traces.shape[0]\n",
    "\n",
    "    areas = np.zeros(num_rois)\n",
    "    heights = np.zeros(num_rois)\n",
    "    widths = np.zeros(num_rois)\n",
    "\n",
    "    for count, curr in enumerate(ROI_masks):\n",
    "        mask = ROI_masks[count].get_mask_plane()\n",
    "        areas[count] = np.count_nonzero(mask)\n",
    "\n",
    "        rows, cols = np.where(mask)\n",
    "        heights[count] = np.max(rows) - np.min(rows) + 1\n",
    "        widths[count] = np.max(cols) - np.min(cols) + 1\n",
    "\n",
    "    normalized_areas = min_max_scale(areas, 101.0, 551.0)\n",
    "    normalized_heights = min_max_scale(heights, 8.0, 44.0)\n",
    "    normalized_widths = min_max_scale(widths, 9.0, 42.0)\n",
    "\n",
    "    break"
   ]
  },
  {
   "cell_type": "code",
   "execution_count": 15,
   "metadata": {},
   "outputs": [],
   "source": [
    "feats = np.stack((normalized_heights,normalized_areas,normalized_widths))"
   ]
  },
  {
   "cell_type": "code",
   "execution_count": 17,
   "metadata": {},
   "outputs": [
    {
     "data": {
      "text/plain": [
       "(26, 3)"
      ]
     },
     "execution_count": 17,
     "metadata": {},
     "output_type": "execute_result"
    }
   ],
   "source": [
    "np.swapaxes(feats,0,1).shape"
   ]
  },
  {
   "cell_type": "code",
   "execution_count": 22,
   "metadata": {},
   "outputs": [
    {
     "data": {
      "text/plain": [
       "array([-0.55555556, -0.38888889, -0.72222222, -0.55555556, -0.66666667,\n",
       "       -0.77777778, -0.5       , -0.55555556, -0.38888889, -0.77777778,\n",
       "       -0.61111111, -0.66666667, -0.66666667, -0.5       , -0.72222222,\n",
       "       -0.55555556, -0.44444444, -0.61111111, -0.83333333, -0.77777778,\n",
       "       -0.61111111, -0.72222222, -0.61111111, -0.72222222, -0.72222222,\n",
       "       -0.5       ])"
      ]
     },
     "execution_count": 22,
     "metadata": {},
     "output_type": "execute_result"
    }
   ],
   "source": [
    "normalized_heights"
   ]
  },
  {
   "cell_type": "code",
   "execution_count": 23,
   "metadata": {},
   "outputs": [
    {
     "data": {
      "text/plain": [
       "array([-0.63636364, -0.75757576, -0.27272727, -0.81818182, -0.27272727,\n",
       "       -0.81818182, -0.57575758, -0.33333333, -0.45454545, -0.6969697 ,\n",
       "       -0.57575758, -0.63636364, -0.33333333, -0.93939394, -0.6969697 ,\n",
       "       -0.75757576, -0.33333333, -0.51515152, -0.45454545, -0.45454545,\n",
       "       -0.63636364, -0.51515152, -0.6969697 , -0.33333333, -0.39393939,\n",
       "       -0.75757576])"
      ]
     },
     "execution_count": 23,
     "metadata": {},
     "output_type": "execute_result"
    }
   ],
   "source": [
    "normalized_widths"
   ]
  },
  {
   "cell_type": "code",
   "execution_count": null,
   "metadata": {},
   "outputs": [],
   "source": []
  }
 ],
 "metadata": {
  "kernelspec": {
   "display_name": "Python 3",
   "language": "python",
   "name": "python3"
  },
  "language_info": {
   "codemirror_mode": {
    "name": "ipython",
    "version": 3
   },
   "file_extension": ".py",
   "mimetype": "text/x-python",
   "name": "python",
   "nbconvert_exporter": "python",
   "pygments_lexer": "ipython3",
   "version": "3.9.6"
  }
 },
 "nbformat": 4,
 "nbformat_minor": 2
}
