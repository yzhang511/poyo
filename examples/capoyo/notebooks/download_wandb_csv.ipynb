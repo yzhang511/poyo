{
 "cells": [
  {
   "cell_type": "code",
   "execution_count": 2,
   "metadata": {},
   "outputs": [],
   "source": [
    "import wandb\n",
    "import pandas as pd\n",
    "import numpy as np"
   ]
  },
  {
   "cell_type": "code",
   "execution_count": 3,
   "metadata": {},
   "outputs": [],
   "source": [
    "api = wandb.Api()\n",
    "run = api.run(\"neuro-galaxy/allen_bo_calcium/d86bm2vj\") #You can find this in the \"overview\" tab of the runs. Specifically \"Run path\" section"
   ]
  },
  {
   "cell_type": "code",
   "execution_count": 6,
   "metadata": {},
   "outputs": [],
   "source": [
    "#the code snippit I use to get from a meta file soI don't have to format each one.\n",
    "#change to your own path\n",
    "meta_file_path = \"/home/mila/x/xuejing.pan/POYO/results/allen_BO/AllenBOmeta_updated.csv\"\n",
    "meta_df = pd.read_csv(meta_file_path)"
   ]
  },
  {
   "cell_type": "markdown",
   "metadata": {},
   "source": [
    "## GETTING SESSION IDS"
   ]
  },
  {
   "cell_type": "code",
   "execution_count": 7,
   "metadata": {},
   "outputs": [],
   "source": [
    "#These are the heldout session ids\n",
    "excluded_session_ids = np.array([512326618,\n",
    "712178511,\n",
    "562536153,\n",
    "595263154,\n",
    "611658482,\n",
    "652737678,\n",
    "555042467,\n",
    "539487468,\n",
    "669233895,\n",
    "689388034,\n",
    "671164733,\n",
    "676503588,\n",
    "502962794,\n",
    "649401936,\n",
    "505695962,\n",
    "654532828,\n",
    "541290571,\n",
    "547388708,\n",
    "637669284,\n",
    "670721589,\n",
    "581153070,\n",
    "603763073,\n",
    "637671554,\n",
    "649938038,\n",
    "649409874,\n",
    "691197571])"
   ]
  },
  {
   "cell_type": "code",
   "execution_count": 8,
   "metadata": {},
   "outputs": [],
   "source": [
    "all_session_ids = meta_df[\"exp_id\"].values\n",
    "# Finding elements in all_session_ids that are not in excluded_session_ids\n",
    "training_session_ids= all_session_ids[~np.isin(all_session_ids, excluded_session_ids)]\n",
    "training_session_ids = np.sort(training_session_ids, axis=0)"
   ]
  },
  {
   "cell_type": "markdown",
   "metadata": {},
   "source": [
    "## GETTING WANDB RESULTS"
   ]
  },
  {
   "cell_type": "code",
   "execution_count": 20,
   "metadata": {},
   "outputs": [],
   "source": [
    "#getting all column names so wandb knows which one to fetch\n",
    "def get_table_names(session_ids):\n",
    "    table_names = []\n",
    "\n",
    "    for sess in session_ids:\n",
    "        #depends on what table you're getting. It's the names of the performance tables you see on wandb\n",
    "        curr_name = \"val_allen_brain_observatory_calcium/{}_drifting_gratings_accuracy\".format(str(sess))\n",
    "        table_names.append(curr_name)\n",
    "\n",
    "    return table_names"
   ]
  },
  {
   "cell_type": "code",
   "execution_count": 21,
   "metadata": {},
   "outputs": [],
   "source": [
    "#Your session ids go here, here I'm using an example of a run with 7 sessions. For all training session runs, simply use the training_session_ids array we defined above/\n",
    "column_names = get_table_names(np.array([611658482,623347352,637998955,639932847,643592303, 652737678, 674679019]))"
   ]
  },
  {
   "cell_type": "code",
   "execution_count": 23,
   "metadata": {},
   "outputs": [],
   "source": [
    "#Getting wandb data\n",
    "history_df = run.history(keys=column_names, x_axis=\"epoch\", pandas=True)"
   ]
  },
  {
   "cell_type": "code",
   "execution_count": null,
   "metadata": {},
   "outputs": [],
   "source": [
    "# Save the DataFrame as a CSV file\n",
    "#change to your own file path\n",
    "save_file_path=\"/home/mila/x/xuejing.pan/POYO/results/cross_sess/val/roi_embed_vals_cont.csv\"\n",
    "history_df.to_csv(save_file_path, index=False)"
   ]
  },
  {
   "cell_type": "markdown",
   "metadata": {},
   "source": [
    " and voila! "
   ]
  }
 ],
 "metadata": {
  "kernelspec": {
   "display_name": "Python 3",
   "language": "python",
   "name": "python3"
  },
  "language_info": {
   "codemirror_mode": {
    "name": "ipython",
    "version": 3
   },
   "file_extension": ".py",
   "mimetype": "text/x-python",
   "name": "python",
   "nbconvert_exporter": "python",
   "pygments_lexer": "ipython3",
   "version": "3.9.19"
  }
 },
 "nbformat": 4,
 "nbformat_minor": 2
}
